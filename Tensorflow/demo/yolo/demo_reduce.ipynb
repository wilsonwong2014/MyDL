{
 "cells": [
  {
   "cell_type": "markdown",
   "metadata": {},
   "source": [
    "http://www.runoob.com/python/python-func-reduce.html\n",
    "\n",
    "## 描述\n",
    "\n",
    "reduce() 函数会对参数序列中元素进行累积。\n",
    "\n",
    "函数将一个数据集合（链表，元组等）中的所有数据进行下列操作：用传给 reduce 中的函数 function（有两个参数）先对集合中的第 1、2 个元素进行操作，得到的结果再与第三个数据用 function 函数运算，最后得到一个结果。\n",
    "## 语法\n",
    "\n",
    "reduce() 函数语法：\n",
    "\n",
    "reduce(function, iterable[, initializer])\n",
    "\n",
    "## 参数\n",
    "\n",
    "    function -- 函数，有两个参数\n",
    "    iterable -- 可迭代对象\n",
    "    initializer -- 可选，初始参数\n",
    "\n",
    "## 返回值\n",
    "\n",
    "返回函数计算结果。\n"
   ]
  },
  {
   "cell_type": "code",
   "execution_count": 3,
   "metadata": {},
   "outputs": [
    {
     "name": "stdout",
     "output_type": "stream",
     "text": [
      "v1= 15\n",
      "v2= 15\n"
     ]
    }
   ],
   "source": [
    "from functools import reduce\n",
    "\n",
    "\n",
    "def add(x, y) :            # 两数相加\n",
    "    return x + y\n",
    "\n",
    "\n",
    "v1=reduce(add, [1,2,3,4,5])               # 计算列表和：1+2+3+4+5\n",
    "v2=reduce(lambda x, y: x+y, [1,2,3,4,5])  # 使用 lambda 匿名函数\n",
    "print('v1=',v1)\n",
    "print('v2=',v2)\n"
   ]
  },
  {
   "cell_type": "code",
   "execution_count": 13,
   "metadata": {},
   "outputs": [
    {
     "name": "stdout",
     "output_type": "stream",
     "text": [
      "f(1)= 7\n",
      "f(1)= 8\n"
     ]
    }
   ],
   "source": [
    "def f1(x):\n",
    "    return x+1\n",
    "\n",
    "def f2(x):\n",
    "    return x+2\n",
    "\n",
    "def f3(x):\n",
    "    return x+3\n",
    "\n",
    "f=reduce(lambda f,g:lambda x:g(f(x)),[f1,f2,f3])\n",
    "print('f(1)=',f(1))\n",
    "f=reduce(lambda f,g:lambda x:g(f(x)),[f1,f2,f3],f1)\n",
    "print('f(1)=',f(1))"
   ]
  },
  {
   "cell_type": "code",
   "execution_count": null,
   "metadata": {},
   "outputs": [],
   "source": []
  }
 ],
 "metadata": {
  "kernelspec": {
   "display_name": "Python 3",
   "language": "python",
   "name": "python3"
  },
  "language_info": {
   "codemirror_mode": {
    "name": "ipython",
    "version": 3
   },
   "file_extension": ".py",
   "mimetype": "text/x-python",
   "name": "python",
   "nbconvert_exporter": "python",
   "pygments_lexer": "ipython3",
   "version": "3.5.2"
  }
 },
 "nbformat": 4,
 "nbformat_minor": 2
}
