{
 "cells": [
  {
   "cell_type": "markdown",
   "metadata": {},
   "source": [
    "## 描述\n",
    "\n",
    "map() 会根据提供的函数对指定序列做映射。\n",
    "\n",
    "第一个参数 function 以参数序列中的每一个元素调用 function 函数，返回包含每次 function 函数返回值的新列表。\n",
    "## 语法\n",
    "\n",
    "map() 函数语法：\n",
    "\n",
    "map(function, iterable, ...)\n",
    "\n",
    "## 参数\n",
    "\n",
    "    function -- 函数\n",
    "    iterable -- 一个或多个序列\n",
    "\n",
    "## 返回值\n",
    "\n",
    "Python 2.x 返回列表。\n",
    "\n",
    "Python 3.x 返回迭代器。"
   ]
  },
  {
   "cell_type": "code",
   "execution_count": 8,
   "metadata": {},
   "outputs": [
    {
     "name": "stdout",
     "output_type": "stream",
     "text": [
      "m1:\n",
      "[1, 4, 9, 16, 25]\n",
      "m2:\n",
      "[1, 4, 9, 16, 25]\n",
      "m3:\n",
      "[3, 7, 11, 15, 19]\n"
     ]
    }
   ],
   "source": [
    "def square(x) :            # 计算平方数\n",
    "    return x ** 2\n",
    "\n",
    "m1=map(square, [1,2,3,4,5])   # 计算列表各个元素的平方\n",
    "m2=map(lambda x: x ** 2, [1, 2, 3, 4, 5])  # 使用 lambda 匿名函数\n",
    " \n",
    "# 提供了两个列表，对相同位置的列表数据进行相加\n",
    "m3=map(lambda x, y: x + y, [1, 3, 5, 7, 9], [2, 4, 6, 8, 10])\n",
    "\n",
    "print('m1:')\n",
    "print([x for x in m1])\n",
    "print('m2:')\n",
    "print([x for x in m2])\n",
    "print('m3:')\n",
    "print([x for x in m3])"
   ]
  },
  {
   "cell_type": "code",
   "execution_count": null,
   "metadata": {},
   "outputs": [],
   "source": []
  }
 ],
 "metadata": {
  "kernelspec": {
   "display_name": "Python 3",
   "language": "python",
   "name": "python3"
  },
  "language_info": {
   "codemirror_mode": {
    "name": "ipython",
    "version": 3
   },
   "file_extension": ".py",
   "mimetype": "text/x-python",
   "name": "python",
   "nbconvert_exporter": "python",
   "pygments_lexer": "ipython3",
   "version": "3.5.2"
  }
 },
 "nbformat": 4,
 "nbformat_minor": 2
}
