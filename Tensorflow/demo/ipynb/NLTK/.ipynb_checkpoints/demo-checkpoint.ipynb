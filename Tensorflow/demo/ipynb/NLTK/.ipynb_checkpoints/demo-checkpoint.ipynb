{
 "cells": [
  {
   "cell_type": "markdown",
   "metadata": {},
   "source": [
    "# PYTHON自然语言处理中文翻译 NLTK 中文版 \n",
    "    http://www.nltk.org/"
   ]
  },
  {
   "cell_type": "markdown",
   "metadata": {},
   "source": [
    "## 查找单词"
   ]
  },
  {
   "cell_type": "code",
   "execution_count": 3,
   "metadata": {},
   "outputs": [
    {
     "name": "stdout",
     "output_type": "stream",
     "text": [
      "working\n"
     ]
    }
   ],
   "source": [
    "#查找单词\n",
    "\n",
    "import os\n",
    "\n",
    "tmp_file='%s/work/temp/temp.txt'%os.getenv('HOME')\n",
    "\n",
    "with open(tmp_file,'w') as f:\n",
    "    f.write(\"I'm working now!\")\n",
    "    f.write(\"so,I can't go follow you!\")\n",
    "\n",
    "for line in open(tmp_file,'r'):\n",
    "    for word in line.split():\n",
    "        if word.endswith('ing'):\n",
    "            print(word)\n",
    "    "
   ]
  },
  {
   "cell_type": "code",
   "execution_count": null,
   "metadata": {},
   "outputs": [
    {
     "name": "stdout",
     "output_type": "stream",
     "text": [
      "showing info https://raw.githubusercontent.com/nltk/nltk_data/gh-pages/index.xml\n",
      "showing info https://raw.githubusercontent.com/nltk/nltk_data/gh-pages/index.xml\n"
     ]
    },
    {
     "name": "stderr",
     "output_type": "stream",
     "text": [
      "Exception in Tkinter callback\n",
      "Traceback (most recent call last):\n",
      "  File \"/usr/lib/python3.5/tkinter/__init__.py\", line 1553, in __call__\n",
      "    return self.func(*args)\n",
      "  File \"/usr/lib/python3.5/tkinter/__init__.py\", line 599, in callit\n",
      "    func(*args)\n",
      "  File \"/usr/local/lib/python3.5/dist-packages/nltk/downloader.py\", line 2165, in _monitor_message_queue\n",
      "    self._select(msg.package.id)\n",
      "AttributeError: 'str' object has no attribute 'id'\n"
     ]
    }
   ],
   "source": [
    "#资源下载\n",
    "#from nltk.corpus import wordnet as wn\n",
    "#import nltk\n",
    "#nltk.download()"
   ]
  },
  {
   "cell_type": "markdown",
   "metadata": {},
   "source": [
    "## 加载《PYTHON自然语言处理中文翻译 NLTK 中文版 》书中例程所用到的数据\n",
    "    *** Introductory Examples for the NLTK Book ***\n",
    "    Loading text1, ..., text9 and sent1, ..., sent9\n",
    "    Type the name of the text or sentence to view it.\n",
    "    Type: 'texts()' or 'sents()' to list the materials.\n",
    "    text1: Moby Dick by Herman Melville 1851\n",
    "    text2: Sense and Sensibility by Jane Austen 1811\n",
    "    text3: The Book of Genesis\n",
    "    text4: Inaugural Address Corpus\n",
    "    text5: Chat Corpus\n",
    "    text6: Monty Python and the Holy Grail\n",
    "    text7: Wall Street Journal\n",
    "    text8: Personals Corpus\n",
    "    text9: The Man Who Was Thursday by G . K . Chesterton 1908"
   ]
  },
  {
   "cell_type": "code",
   "execution_count": 1,
   "metadata": {},
   "outputs": [
    {
     "name": "stdout",
     "output_type": "stream",
     "text": [
      "*** Introductory Examples for the NLTK Book ***\n",
      "Loading text1, ..., text9 and sent1, ..., sent9\n",
      "Type the name of the text or sentence to view it.\n",
      "Type: 'texts()' or 'sents()' to list the materials.\n",
      "text1: Moby Dick by Herman Melville 1851\n",
      "text2: Sense and Sensibility by Jane Austen 1811\n",
      "text3: The Book of Genesis\n",
      "text4: Inaugural Address Corpus\n",
      "text5: Chat Corpus\n",
      "text6: Monty Python and the Holy Grail\n",
      "text7: Wall Street Journal\n",
      "text8: Personals Corpus\n",
      "text9: The Man Who Was Thursday by G . K . Chesterton 1908\n"
     ]
    }
   ],
   "source": [
    "#《PYTHON自然语言处理中文翻译 NLTK 中文版 》书中例程所用到的数据\n",
    "from nltk.book import *"
   ]
  },
  {
   "cell_type": "code",
   "execution_count": null,
   "metadata": {},
   "outputs": [],
   "source": []
  }
 ],
 "metadata": {
  "kernelspec": {
   "display_name": "Python 3",
   "language": "python",
   "name": "python3"
  },
  "language_info": {
   "codemirror_mode": {
    "name": "ipython",
    "version": 3
   },
   "file_extension": ".py",
   "mimetype": "text/x-python",
   "name": "python",
   "nbconvert_exporter": "python",
   "pygments_lexer": "ipython3",
   "version": "3.5.2"
  }
 },
 "nbformat": 4,
 "nbformat_minor": 2
}
