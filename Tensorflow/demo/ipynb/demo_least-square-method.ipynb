{
 "cells": [
  {
   "cell_type": "markdown",
   "metadata": {},
   "source": [
    "# 最小二乘法\n",
    "#### 最小二乘法概念\n",
    "    最小二乘法（又称最小平方法）是一种数学优化技术。它通过最小化误差的平方和寻找数据的最佳函数匹配。利用最小二乘法可以简便地求得未知的数据，并使得这些求得的数据与实际数据之间误差的平方和为最小.\n",
    "    \n",
    "#### 公式推导\n",
    "给定函数 y=f(x),采集n个数据点$(x_{1},y_{1}),....,(x_{n},y_{n})$\n",
    "\n",
    "求k阶多项式 $p(x)=a_{0}+a_{1}*x+a_{2}*x^2+...+a_{k}*x^k$,使得\n",
    "\n",
    "$min=\\sum_{i=1}^n (p(x_{i})-y_{i})^2=\\sum_{i=1}^n (a_{0}+a_{1}*x_{i}+a_{2}*x_{i}^2+...+a_{k}*x_{i}^k-y_{i})^2$\n",
    "\n",
    "对$a_{i}$求偏导，得k+1个等式\n",
    "\n",
    "$2\\sum_{i=1}^n [(a_{0}+a_{1}*x_{i}+a_{2}*x_{i}^2+...+a_{k}*x_{i}^k-y_{i})]=0$\n",
    "\n",
    "$2\\sum_{i=1}^n [(a_{0}+a_{1}*x_{i}+a_{2}*x_{i}^2+...+a_{k}*x_{i}^k-y_{i})x_{i}]=0$\n",
    "\n",
    "$2\\sum_{i=1}^n [(a_{0}+a_{1}*x_{i}+a_{2}*x_{i}^2+...+a_{k}*x_{i}^k-y_{i})x_{i}^2]=0$\n",
    "\n",
    "......\n",
    "\n",
    "$2\\sum_{i=1}^n [(a_{0}+a_{1}*x_{i}+a_{2}*x_{i}^2+...+a_{k}*x_{i}^k-y_{i})x_{i}^k]=0$\n",
    "\n",
    "整理，得：\n",
    "\n",
    "$a_{0}\\sum_{i=1}^nx_{i}^0+a_{1}\\sum_{i=1}^nx_{i}^1+a_{2}\\sum_{i=1}^nx_{i}^2+...+a_{k}\\sum_{i=1}^nx_{i}^k=\\sum_{i=1}^nx_{i}^0y_{i}$\n",
    "\n",
    "$a_{0}\\sum_{i=1}^nx_{i}^1+a_{1}\\sum_{i=1}^nx_{i}^2+a_{2}\\sum_{i=1}^nx_{i}^3+...+a_{k}\\sum_{i=1}^nx_{i}^k=\\sum_{i=1}^nx_{i}^1y_{i}$\n",
    "\n",
    "$a_{0}\\sum_{i=1}^nx_{i}^2+a_{1}\\sum_{i=1}^nx_{i}^3+a_{2}\\sum_{i=1}^nx_{i}^4+...+a_{k}\\sum_{i=1}^nx_{i}^k=\\sum_{i=1}^nx_{i}^2y_{i}$\n",
    "\n",
    "......\n",
    "\n",
    "$a_{0}\\sum_{i=1}^nx_{i}^k+a_{1}\\sum_{i=1}^nx_{i}^{k+1}+a_{2}\\sum_{i=1}^nx_{i}^{k+2}+...+a_{k}\\sum_{i=1}^nx_{i}^2k=\\sum_{i=1}^nx_{i}^ky_{i}$\n",
    "\n",
    "以矩阵表示为：\n",
    "\n",
    "$\n",
    "\\left[ \\begin{array}{cccc}\n",
    "\\sum_i{i=1}^nx_{i}^0 & \\sum_{i=1}^nx_{i}^1 & \\ldots & \\sum_{i=1}^nx_{i}^k\\\\\n",
    "\\sum_i{i=1}^nx_{i}^1 & \\sum_{i=1}^nx_{i}^2 & \\ldots & \\sum_{i=1}^nx_{i}^{k+1}\\\\\n",
    "\\vdots & \\vdots & \\ddots & \\vdots\\\\\n",
    "\\sum_i{i=1}^nx_{i}^k & \\sum_{i=1}^nx_{i}^{k+1} & \\ldots & \\sum_{i=1}^nx_{i}^{2k}\\\\\n",
    "\\end{array} \\right]\n",
    "\\left[ \\begin{array}{cccc}\n",
    "a_{0}\\\\\n",
    "a_{1}\\\\\n",
    "\\vdots\\\\\n",
    "a_{k}\\\\\n",
    "\\end{array} \\right]\n",
    "=\n",
    "\\left[ \\begin{array}{cccc}\n",
    "\\sum_{i=1}^nx_{i}^0y_{i}\\\\\n",
    "\\sum_{i=1}^nx_{i}^1y_{i}\\\\\n",
    "\\vdots\\\\\n",
    "\\sum_{i=1}^nx_{i}^ky_{i}\\\\\n",
    "\\end{array} \\right]\n",
    "$\n",
    "\n",
    "解线性方程"
   ]
  },
  {
   "cell_type": "code",
   "execution_count": 38,
   "metadata": {},
   "outputs": [
    {
     "name": "stdout",
     "output_type": "stream",
     "text": [
      "len(x) 100\n",
      "len(y): 100\n"
     ]
    },
    {
     "data": {
      "text/plain": [
       "Text(0.5, 1.0, 'samples')"
      ]
     },
     "execution_count": 38,
     "metadata": {},
     "output_type": "execute_result"
    },
    {
     "data": {
      "image/png": "[encoded data removed]",
      "text/plain": [
       "<Figure size 432x288 with 1 Axes>"
      ]
     },
     "metadata": {
      "needs_background": "light"
     },
     "output_type": "display_data"
    }
   ],
   "source": [
    "%matplotlib inline\n",
    "import numpy as np \n",
    "import pandas as pd \n",
    "import matplotlib.pyplot as plt \n",
    "import math \n",
    "import random \n",
    "\n",
    "#多项式阶数\n",
    "order=100\n",
    "#生成曲线上的各个点 \n",
    "x = np.arange(-1,1,0.02) \n",
    "y = [((a*a-1)*(a*a-1)*(a*a-1)+0.5)*np.sin(a*2) for a in x] \n",
    "# 生成的曲线上的各个点偏移一下，并放入到xa,ya中去 \n",
    "i = 0 \n",
    "xa = [] \n",
    "ya = [] \n",
    "for xx in x: \n",
    "    yy = y[i] \n",
    "    d = float(random.randint(60, 140)) / 100 \n",
    "    i += 1 \n",
    "    xa.append(xx * d) \n",
    "    ya.append(yy * d)\n",
    "print('len(x)',len(x))\n",
    "print('len(y):',len(y))\n",
    "plt.plot(xa, ya, color='m', linestyle='', marker='.') \n",
    "plt.title('samples')"
   ]
  },
  {
   "cell_type": "code",
   "execution_count": 39,
   "metadata": {},
   "outputs": [
    {
     "name": "stdout",
     "output_type": "stream",
     "text": [
      "A.shape: (101, 101)\n"
     ]
    }
   ],
   "source": [
    "#求出等式左边的矩阵A \n",
    "matA=[] \n",
    "for i in range(0,order+1): \n",
    "    mat=[] \n",
    "    for j in range(0+i,order+1+i): \n",
    "        sumA=0 \n",
    "        for xx in xa: \n",
    "            sumA=sumA+xx**j \n",
    "        mat.append(sumA) \n",
    "    matA.append(mat) \n",
    "A=np.array(matA) \n",
    "print('A.shape:',A.shape)"
   ]
  },
  {
   "cell_type": "code",
   "execution_count": 40,
   "metadata": {},
   "outputs": [
    {
     "name": "stdout",
     "output_type": "stream",
     "text": [
      "B.shape: (101,)\n"
     ]
    }
   ],
   "source": [
    "# 求出右边的等式B \n",
    "matB=[] \n",
    "for j in range(0,order+1): \n",
    "    sumB=0 \n",
    "    for xx,yy in zip(xa,ya): \n",
    "        sumB=sumB+xx**j*yy \n",
    "    matB.append(sumB) \n",
    "B=np.array(matB) \n",
    "print('B.shape:',B.shape)"
   ]
  },
  {
   "cell_type": "code",
   "execution_count": 41,
   "metadata": {},
   "outputs": [
    {
     "name": "stdout",
     "output_type": "stream",
     "text": [
      "[ 2.38770587e-02 -1.04615131e+00 -3.54959685e+00  9.51050723e+00\n",
      "  9.67283029e+01 -1.60259154e+01 -8.54006097e+02 -4.36586258e+01\n",
      "  3.38419435e+03  1.30098865e+02 -6.77991766e+03  7.49022891e+02\n",
      "  7.39266388e+03 -4.24802042e+03 -6.27353017e+03  7.86940737e+03\n",
      "  7.26382828e+03 -4.99604666e+03 -5.07978826e+03 -2.06860705e+03\n",
      " -1.31388493e+03  3.56669457e+03  1.38745245e+03 -8.33418525e+02\n",
      "  2.33624798e+03  1.87812460e+02 -1.17132366e+03 -2.24928472e+02\n",
      " -5.79988154e+02 -2.14481208e+02  8.34676214e+01  7.86049118e+01\n",
      "  7.63385624e+01  7.80294268e+01  9.97983666e+00 -1.45526787e+01\n",
      "  2.11855244e+01 -2.00423614e+01  9.28425678e+00  1.35921953e+01\n",
      " -4.51917918e+00 -1.82291006e+00 -6.22278799e-01 -1.06456511e+00\n",
      "  6.89789490e-01  4.23665184e-01 -1.21631093e+00  8.87481314e-01\n",
      "  1.19652268e-01  5.13766884e-01  8.34543503e-02 -3.10744175e-01\n",
      " -1.07058457e-02  2.57455542e-02  2.85165805e-02 -6.91212958e-02\n",
      "  3.37725106e-02  4.74448113e-03 -5.43741250e-04  1.38940098e-03\n",
      "  4.64992269e-03  4.08148090e-03 -5.57437737e-04 -1.66010489e-03\n",
      "  2.37655528e-03  2.50471689e-03 -1.39109476e-03 -1.51354654e-03\n",
      " -3.91651046e-04  2.44818624e-04  1.59202216e-04 -5.74109025e-05\n",
      "  5.73229851e-05  2.80200963e-04 -6.03476383e-05  2.81215672e-05\n",
      " -6.27219320e-05 -4.82339969e-05  1.74207872e-05  2.20074530e-05\n",
      " -1.07222404e-05 -8.89819420e-06  5.48070850e-06 -3.83378204e-06\n",
      "  2.65291000e-06 -2.23015664e-06 -3.36520056e-06 -2.48713962e-06\n",
      " -1.81803873e-06 -5.19333891e-07  3.06477267e-07  3.83368314e-08\n",
      " -3.32948150e-07 -1.70454017e-07  1.16321252e-07  1.49756895e-07\n",
      "  2.59797024e-07  1.60184539e-07 -5.15451484e-08  7.77391964e-09\n",
      "  3.33986559e-08]\n"
     ]
    }
   ],
   "source": [
    "# 解线性方程 A*a=B\n",
    "a=np.linalg.solve(A,B)\n",
    "print(a)"
   ]
  },
  {
   "cell_type": "code",
   "execution_count": 51,
   "metadata": {},
   "outputs": [
    {
     "data": {
      "image/png": "[encoded data removed]",
      "text/plain": [
       "<Figure size 432x288 with 1 Axes>"
      ]
     },
     "metadata": {
      "needs_background": "light"
     },
     "output_type": "display_data"
    }
   ],
   "source": [
    "# 曲线拟合\n",
    "def fun_solve(x,a): \n",
    "    y=0 \n",
    "    for i in range(len(a)): \n",
    "        y+=a[i]*x**i \n",
    "    return y \n",
    "\n",
    "xxa= np.arange(-1,1.06,0.01) \n",
    "yya=[]\n",
    "for xxaa in xxa: \n",
    "    yya.append(fun_solve(xxaa,a)) \n",
    "\n",
    "plt.plot(x, y, color='b')     \n",
    "plt.plot(xa, ya, color='m', linestyle='', marker='.') \n",
    "plt.plot(xxa,yya,color='g',linestyle='-',marker='')\n",
    "plt.title('fit')\n",
    "plt.grid()"
   ]
  },
  {
   "cell_type": "code",
   "execution_count": null,
   "metadata": {},
   "outputs": [],
   "source": []
  },
  {
   "cell_type": "code",
   "execution_count": null,
   "metadata": {},
   "outputs": [],
   "source": []
  }
 ],
 "metadata": {
  "kernelspec": {
   "display_name": "Python 3",
   "language": "python",
   "name": "python3"
  },
  "language_info": {
   "codemirror_mode": {
    "name": "ipython",
    "version": 3
   },
   "file_extension": ".py",
   "mimetype": "text/x-python",
   "name": "python",
   "nbconvert_exporter": "python",
   "pygments_lexer": "ipython3",
   "version": "3.5.2"
  }
 },
 "nbformat": 4,
 "nbformat_minor": 2
}
