{
 "cells": [
  {
   "cell_type": "markdown",
   "metadata": {},
   "source": [
    "# tf.metrics\n",
    "Tensorflow指标算子\n",
    "\n",
    "## 参考\n",
    "    性能指标（模型评估）之mAP\n",
    "    https://blog.csdn.net/u014203453/article/details/77598997\n",
    "    \n",
    "## 概念\n",
    "* Positive:正类\n",
    "* Negative:负类\n",
    "* True positive:TP,如果一个实例是正类并且也被 预测成正类，即为真正类(True positive).\n",
    "* False positive:FP,如果实例是负类被预测成正类，称之为假正类（False positive）.\n",
    "* True negative:TN,如果实例是负类被预测成负类，称之为真负类（True negative）.\n",
    "* False negative:FN,正类被预测成负类则为假负类(False negative).\n",
    "* 混肴矩阵:\n",
    "   \n",
    "   1-正，0-反\n",
    "   \n",
    "$\\begin{array}{c|c|c|c|c}\n",
    "   真实情况 & 预测为正           & 预测为反  &  合计       & 召回率            \\\\\n",
    "   \\hline\n",
    "   正      & TP(真正)           & FN(假反) & TP+FN       & \\frac{TP}{TP+FN} \\\\\n",
    "   \\hline\n",
    "   反      & FP(假正)           & TN(真反) & FP+TN       &                  \\\\\n",
    "   \\hline\n",
    "   合计    & TP+FP              & FN+TN   & TP+FP+FN+TN &                   \\\\\n",
    "   \\hline\n",
    "   准确率  & \\frac{TP}{TP+FP}   &          &             &                  \\\\\n",
    "\\end{array}$\n",
    "\n",
    "* TPR:真正类率(灵敏度) TPR=$\\frac{TP}{TP+FN}$ ,分类器所识别出的 正实例占所有正实例的比例\n",
    "* FPR:假正类率(特异度) FPR=$\\frac{FP}{FP+TN}$ ,分类器错认为正类的负实例占所有负实例的比例\n",
    "* TNR:真负类率        TNR=$\\frac{TN}{FP+TN}$ = 1 - FPR。\n",
    "* Recall:召回率         R=$\\frac{TP}{TP+FN}$=TPR\n",
    "* Precision:准确率      P=$\\frac{TP}{TP+FP}$\n",
    "* ROC:\n",
    "     - 百度百科:https://baike.baidu.com/item/ROC%E6%9B%B2%E7%BA%BF/775606?fr=aladdin     \n",
    "     - 受试者工作特征曲线 （receiver operating characteristic curve，简称ROC曲线），又称为感受性曲线（sensitivity curve）。\n",
    "     - 受试者工作特征曲线就是以假阳性概率FPR（False positive rate）为横轴，真阳性TPR（True positive rate）为纵轴所组成的坐标图，和受试者在特定刺激条件下由于采用不同的判断标准得出的不同结果画出的曲线。\n",
    "* AUC:\n",
    "    AUC-AUC的全称是Area under the Curve of ROC，也就是ROC曲线下方的面积。常用来评估二分类模型的训练效果.\n",
    "\n"
   ]
  },
  {
   "cell_type": "code",
   "execution_count": 1,
   "metadata": {},
   "outputs": [],
   "source": [
    "import numpy as np\n",
    "import tensorflow as tf\n",
    "#创建会话\n",
    "sess=tf.InteractiveSession()"
   ]
  },
  {
   "cell_type": "markdown",
   "metadata": {},
   "source": [
    "## 构造测试数据"
   ]
  },
  {
   "cell_type": "code",
   "execution_count": 2,
   "metadata": {},
   "outputs": [
    {
     "name": "stdout",
     "output_type": "stream",
     "text": [
      "[[0.21578134 1.        ]\n",
      " [0.28954326 0.        ]\n",
      " [0.38596681 1.        ]\n",
      " [0.70304854 1.        ]\n",
      " [0.36974563 0.        ]\n",
      " [0.33001494 1.        ]\n",
      " [0.38077377 0.        ]\n",
      " [0.20717651 0.        ]\n",
      " [0.62806669 1.        ]\n",
      " [0.5652305  0.        ]\n",
      " [0.91273938 1.        ]\n",
      " [0.25093503 0.        ]\n",
      " [0.7101448  0.        ]\n",
      " [0.21007519 0.        ]\n",
      " [0.35734559 0.        ]\n",
      " [0.02958597 1.        ]\n",
      " [0.39668501 0.        ]\n",
      " [0.72967364 1.        ]\n",
      " [0.33962158 1.        ]\n",
      " [0.18520362 0.        ]]\n"
     ]
    }
   ],
   "source": [
    "#第一列为Confidence,#第二列为label\n",
    "data=np.array([[0.21578134, 1. ],\n",
    "               [0.28954326, 0. ],\n",
    "               [0.38596681, 1. ],\n",
    "               [0.70304854, 1. ],\n",
    "               [0.36974563, 0. ],\n",
    "               [0.33001494, 1. ],\n",
    "               [0.38077377, 0. ],\n",
    "               [0.20717651, 0. ],\n",
    "               [0.62806669, 1. ],\n",
    "               [0.5652305 , 0. ],\n",
    "               [0.91273938, 1. ],\n",
    "               [0.25093503, 0. ],\n",
    "               [0.7101448 , 0. ],\n",
    "               [0.21007519, 0. ],\n",
    "               [0.35734559, 0. ],\n",
    "               [0.02958597, 1. ],\n",
    "               [0.39668501, 0. ],\n",
    "               [0.72967364, 1. ],\n",
    "               [0.33962158, 1. ],\n",
    "               [0.18520362, 0. ]])\n",
    "#阈值\n",
    "threshold_Val=0.5\n",
    "\n",
    "print(data)\n"
   ]
  },
  {
   "cell_type": "markdown",
   "metadata": {},
   "source": [
    " ## 准确度\n",
    " tf.metrics.accuracy(\n",
    "    labels,\n",
    "    predictions,\n",
    "    weights=None,\n",
    "    metrics_collections=None,\n",
    "    updates_collections=None,\n",
    "    name=None\n",
    ")    "
   ]
  },
  {
   "cell_type": "code",
   "execution_count": 8,
   "metadata": {},
   "outputs": [
    {
     "name": "stdout",
     "output_type": "stream",
     "text": [
      "[1 0 0 1 1 1 2 0 1 1]\n",
      "[1 1 2 0 1 2 2 2 2 2]\n",
      "0.3\n"
     ]
    }
   ],
   "source": [
    "import numpy as np\n",
    "import tensorflow as tf\n",
    "\n",
    "sess=tf.InteractiveSession()\n",
    "\n",
    "#构造数据\n",
    "labels=np.random.randint(0,3,size=(10,1)) #标签值\n",
    "predicts=np.random.random((10,3))         #预测权重\n",
    "predicts=np.argmax(predicts,axis=1)       #预测权重转化为标签值\n",
    "predicts=predicts.reshape((10,))\n",
    "labels=labels.reshape((10,))\n",
    "print(labels)\n",
    "print(predicts)\n",
    "# Placeholders to take in batches onf data\n",
    "tf_label = tf.placeholder(dtype=tf.int32, shape=[None])\n",
    "tf_prediction = tf.placeholder(dtype=tf.int32, shape=[None])\n",
    "\n",
    "# Define the metric and update operations\n",
    "tf_metric, tf_metric_update = tf.metrics.accuracy(tf_label,\n",
    "                                                  tf_prediction,\n",
    "                                                  name=\"metric_accuracy\")\n",
    "\n",
    "#初始化变量\n",
    "# Isolate the variables stored behind the scenes by the metric operation\n",
    "running_vars = tf.get_collection(tf.GraphKeys.LOCAL_VARIABLES, scope=\"metric_accuracy\")\n",
    "# Define initializer to initialize/reset running variables\n",
    "running_vars_initializer = tf.variables_initializer(var_list=running_vars)\n",
    "\n",
    "#初始化全局变量\n",
    "sess.run(tf.global_variables_initializer())\n",
    "# initialize/reset the running variables\n",
    "sess.run(running_vars_initializer)\n",
    "sess.run(tf_metric_update,feed_dict={tf_prediction:predicts,tf_label:labels})\n",
    "acc=sess.run(tf_metric)\n",
    "\n",
    "print(acc)\n"
   ]
  },
  {
   "cell_type": "markdown",
   "metadata": {},
   "source": [
    "# AUC值\n",
    "    http://baijiahao.baidu.com/s?id=1597939133517926460&wfr=spider&for=pc\n",
    "    tf.metrics.auc(\n",
    "        labels,\n",
    "        predictions,\n",
    "        weights=None,\n",
    "        num_thresholds=200,\n",
    "        metrics_collections=None,\n",
    "        updates_collections=None,\n",
    "        curve='ROC',\n",
    "        name=None,\n",
    "        summation_method='trapezoidal'\n",
    "    )\n",
    "\n",
    "### 参考\n",
    "    机器学习备忘录 | AUC值的含义与计算方法\n",
    "    http://baijiahao.baidu.com/s?id=1597939133517926460&wfr=spider&for=pc"
   ]
  },
  {
   "cell_type": "code",
   "execution_count": 4,
   "metadata": {},
   "outputs": [
    {
     "name": "stdout",
     "output_type": "stream",
     "text": [
      "没有排序的auc: 0.63131315\n",
      "降序处理的auc: 0.63131315\n"
     ]
    }
   ],
   "source": [
    "# Placeholders\n",
    "tf_label = tf.placeholder(dtype=tf.int32, shape=[None])\n",
    "tf_prediction = tf.placeholder(dtype=tf.int32, shape=[None])\n",
    "\n",
    "# Define the metric and update operations\n",
    "tf_metric, tf_metric_update = tf.metrics.auc(tf_label,\n",
    "                                                  tf_prediction,\n",
    "                                                  name=\"metric_auc\")\n",
    "\n",
    "#----------------没有排序的auc值---------------\n",
    "#初始化变量\n",
    "# Isolate the variables stored behind the scenes by the metric operation\n",
    "running_vars = tf.get_collection(tf.GraphKeys.LOCAL_VARIABLES, scope=\"metric_auc\")\n",
    "# Define initializer to initialize/reset running variables\n",
    "running_vars_initializer = tf.variables_initializer(var_list=running_vars)\n",
    "\n",
    "#初始化全局变量\n",
    "sess.run(tf.global_variables_initializer())\n",
    "# initialize/reset the running variables\n",
    "sess.run(running_vars_initializer)\n",
    "sess.run(tf_metric_update,feed_dict={tf_prediction:data[:,0]>threshold_Val,tf_label:data[:,1]})\n",
    "auc=sess.run(tf_metric)\n",
    "\n",
    "#----------------降序处理的auc值---------------\n",
    "data_sort=data[np.argsort(data[:,0])[::-1]]\n",
    "#初始化变量\n",
    "# Isolate the variables stored behind the scenes by the metric operation\n",
    "running_vars = tf.get_collection(tf.GraphKeys.LOCAL_VARIABLES, scope=\"metric_auc\")\n",
    "# Define initializer to initialize/reset running variables\n",
    "running_vars_initializer = tf.variables_initializer(var_list=running_vars)\n",
    "\n",
    "#初始化全局变量\n",
    "sess.run(tf.global_variables_initializer())\n",
    "# initialize/reset the running variables\n",
    "sess.run(running_vars_initializer)\n",
    "sess.run(tf_metric_update,feed_dict={tf_prediction:data_sort[:,0]>threshold_Val,tf_label:data_sort[:,1]})\n",
    "auc_sort=sess.run(tf_metric)\n",
    "\n",
    "print('没有排序的auc:',auc)\n",
    "print('降序处理的auc:',auc_sort)"
   ]
  },
  {
   "cell_type": "markdown",
   "metadata": {},
   "source": [
    "# 真正\n",
    "    tf.metrics.true_positives(\n",
    "        labels,\n",
    "        predictions,\n",
    "        weights=None,\n",
    "        metrics_collections=None,\n",
    "        updates_collections=None,\n",
    "        name=None\n",
    "    )"
   ]
  },
  {
   "cell_type": "code",
   "execution_count": 15,
   "metadata": {},
   "outputs": [
    {
     "name": "stdout",
     "output_type": "stream",
     "text": [
      "TP: 4.0\n"
     ]
    }
   ],
   "source": [
    "# Placeholders\n",
    "tf_label = tf.placeholder(dtype=tf.int32, shape=[None])\n",
    "tf_prediction = tf.placeholder(dtype=tf.int32, shape=[None])\n",
    "\n",
    "# Define the metric and update operations\n",
    "tf_metric, tf_metric_update = tf.metrics.true_positives(tf_label,\n",
    "                                                   tf_prediction,\n",
    "                                                   name=\"metric_tp\")\n",
    "\n",
    "#初始化变量\n",
    "# Isolate the variables stored behind the scenes by the metric operation\n",
    "running_vars = tf.get_collection(tf.GraphKeys.LOCAL_VARIABLES, scope=\"metric_tp\")\n",
    "# Define initializer to initialize/reset running variables\n",
    "running_vars_initializer = tf.variables_initializer(var_list=running_vars)\n",
    "\n",
    "#初始化全局变量\n",
    "sess.run(tf.global_variables_initializer())\n",
    "# initialize/reset the running variables\n",
    "sess.run(running_vars_initializer)\n",
    "sess.run(tf_metric_update,feed_dict={tf_prediction:data[:,0]>threshold_Val,tf_label:data[:,1]})\n",
    "tp=sess.run(tf_metric)\n",
    "\n",
    "print('TP:',tp)"
   ]
  },
  {
   "cell_type": "markdown",
   "metadata": {},
   "source": [
    "# 假正\n",
    "    tf.metrics.false_positives(\n",
    "        labels,\n",
    "        predictions,\n",
    "        weights=None,\n",
    "        metrics_collections=None,\n",
    "        updates_collections=None,\n",
    "        name=None\n",
    "    )"
   ]
  },
  {
   "cell_type": "code",
   "execution_count": 16,
   "metadata": {},
   "outputs": [
    {
     "name": "stdout",
     "output_type": "stream",
     "text": [
      "FP: 2.0\n"
     ]
    }
   ],
   "source": [
    "# Placeholders\n",
    "tf_label = tf.placeholder(dtype=tf.int32, shape=[None])\n",
    "tf_prediction = tf.placeholder(dtype=tf.int32, shape=[None])\n",
    "\n",
    "# Define the metric and update operations\n",
    "tf_metric, tf_metric_update = tf.metrics.false_positives(tf_label,\n",
    "                                                   tf_prediction,\n",
    "                                                   name=\"metric_fp\")\n",
    "\n",
    "#初始化变量\n",
    "# Isolate the variables stored behind the scenes by the metric operation\n",
    "running_vars = tf.get_collection(tf.GraphKeys.LOCAL_VARIABLES, scope=\"metric_fp\")\n",
    "# Define initializer to initialize/reset running variables\n",
    "running_vars_initializer = tf.variables_initializer(var_list=running_vars)\n",
    "\n",
    "#初始化全局变量\n",
    "sess.run(tf.global_variables_initializer())\n",
    "# initialize/reset the running variables\n",
    "sess.run(running_vars_initializer)\n",
    "sess.run(tf_metric_update,feed_dict={tf_prediction:data[:,0]>threshold_Val,tf_label:data[:,1]})\n",
    "fp=sess.run(tf_metric)\n",
    "\n",
    "print('FP:',fp)"
   ]
  },
  {
   "cell_type": "markdown",
   "metadata": {},
   "source": [
    "# 假反\n",
    "    tf.metrics.false_negatives(\n",
    "        labels,\n",
    "        predictions,\n",
    "        weights=None,\n",
    "        metrics_collections=None,\n",
    "        updates_collections=None,\n",
    "        name=None\n",
    "    )"
   ]
  },
  {
   "cell_type": "code",
   "execution_count": 17,
   "metadata": {},
   "outputs": [
    {
     "name": "stdout",
     "output_type": "stream",
     "text": [
      "FN: 5.0\n"
     ]
    }
   ],
   "source": [
    "# Placeholders\n",
    "tf_label = tf.placeholder(dtype=tf.int32, shape=[None])\n",
    "tf_prediction = tf.placeholder(dtype=tf.int32, shape=[None])\n",
    "\n",
    "# Define the metric and update operations\n",
    "tf_metric, tf_metric_update = tf.metrics.false_negatives(tf_label,\n",
    "                                                   tf_prediction,\n",
    "                                                   name=\"metric_fn\")\n",
    "\n",
    "#初始化变量\n",
    "# Isolate the variables stored behind the scenes by the metric operation\n",
    "running_vars = tf.get_collection(tf.GraphKeys.LOCAL_VARIABLES, scope=\"metric_fn\")\n",
    "# Define initializer to initialize/reset running variables\n",
    "running_vars_initializer = tf.variables_initializer(var_list=running_vars)\n",
    "\n",
    "#初始化全局变量\n",
    "sess.run(tf.global_variables_initializer())\n",
    "# initialize/reset the running variables\n",
    "sess.run(running_vars_initializer)\n",
    "sess.run(tf_metric_update,feed_dict={tf_prediction:data[:,0]>threshold_Val,tf_label:data[:,1]})\n",
    "fn=sess.run(tf_metric)\n",
    "\n",
    "print('FN:',fn)"
   ]
  },
  {
   "cell_type": "markdown",
   "metadata": {},
   "source": [
    "# 真反\n",
    "    tf.metrics.true_negatives(\n",
    "        labels,\n",
    "        predictions,\n",
    "        weights=None,\n",
    "        metrics_collections=None,\n",
    "        updates_collections=None,\n",
    "        name=None\n",
    "    )"
   ]
  },
  {
   "cell_type": "code",
   "execution_count": 18,
   "metadata": {},
   "outputs": [
    {
     "name": "stdout",
     "output_type": "stream",
     "text": [
      "TN: 9.0\n"
     ]
    }
   ],
   "source": [
    "# Placeholders\n",
    "tf_label = tf.placeholder(dtype=tf.int32, shape=[None])\n",
    "tf_prediction = tf.placeholder(dtype=tf.int32, shape=[None])\n",
    "\n",
    "# Define the metric and update operations\n",
    "tf_metric, tf_metric_update = tf.metrics.true_negatives(tf_label,\n",
    "                                                   tf_prediction,\n",
    "                                                   name=\"metric_tn\")\n",
    "\n",
    "#初始化变量\n",
    "# Isolate the variables stored behind the scenes by the metric operation\n",
    "running_vars = tf.get_collection(tf.GraphKeys.LOCAL_VARIABLES, scope=\"metric_tn\")\n",
    "# Define initializer to initialize/reset running variables\n",
    "running_vars_initializer = tf.variables_initializer(var_list=running_vars)\n",
    "\n",
    "#初始化全局变量\n",
    "sess.run(tf.global_variables_initializer())\n",
    "# initialize/reset the running variables\n",
    "sess.run(running_vars_initializer)\n",
    "sess.run(tf_metric_update,feed_dict={tf_prediction:data[:,0]>threshold_Val,tf_label:data[:,1]})\n",
    "tn=sess.run(tf_metric)\n",
    "\n",
    "print('TN:',tn)"
   ]
  },
  {
   "cell_type": "markdown",
   "metadata": {},
   "source": [
    "# TP+FP+FN+TN"
   ]
  },
  {
   "cell_type": "code",
   "execution_count": 19,
   "metadata": {},
   "outputs": [
    {
     "name": "stdout",
     "output_type": "stream",
     "text": [
      "TP+FP+FN+TN: 20.0\n"
     ]
    }
   ],
   "source": [
    "print('TP+FP+FN+TN:',tp+fp+fn+tn)"
   ]
  },
  {
   "cell_type": "markdown",
   "metadata": {},
   "source": [
    "# 求均值\n",
    "    tf.metrics.mean(\n",
    "        values,\n",
    "        weights=None,\n",
    "        metrics_collections=None,\n",
    "        updates_collections=None,\n",
    "        name=None\n",
    "    )"
   ]
  },
  {
   "cell_type": "code",
   "execution_count": 23,
   "metadata": {},
   "outputs": [
    {
     "name": "stdout",
     "output_type": "stream",
     "text": [
      "mean: 0.4098679\n"
     ]
    }
   ],
   "source": [
    "# Placeholders\n",
    "tf_mean = tf.placeholder(dtype=tf.float32, shape=[None])\n",
    "\n",
    "# Define the metric and update operations\n",
    "tf_metric, tf_metric_update = tf.metrics.mean(tf_mean,\n",
    "                                                   name=\"metric_mean\")\n",
    "\n",
    "#初始化变量\n",
    "# Isolate the variables stored behind the scenes by the metric operation\n",
    "running_vars = tf.get_collection(tf.GraphKeys.LOCAL_VARIABLES, scope=\"metric_mean\")\n",
    "# Define initializer to initialize/reset running variables\n",
    "running_vars_initializer = tf.variables_initializer(var_list=running_vars)\n",
    "\n",
    "#初始化全局变量\n",
    "sess.run(tf.global_variables_initializer())\n",
    "# initialize/reset the running variables\n",
    "sess.run(running_vars_initializer)\n",
    "sess.run(tf_metric_update,feed_dict={tf_mean:data[:,0]})\n",
    "mean=sess.run(tf_metric)\n",
    "\n",
    "print('mean:',mean)"
   ]
  },
  {
   "cell_type": "markdown",
   "metadata": {},
   "source": [
    "# 绝对平均误差\n",
    "    tf.metrics.mean_absolute_error(\n",
    "        labels,\n",
    "        predictions,\n",
    "        weights=None,\n",
    "        metrics_collections=None,\n",
    "        updates_collections=None,\n",
    "        name=None\n",
    "    )\n"
   ]
  },
  {
   "cell_type": "code",
   "execution_count": 29,
   "metadata": {},
   "outputs": [
    {
     "name": "stdout",
     "output_type": "stream",
     "text": [
      "MAE 0.43241802\n"
     ]
    }
   ],
   "source": [
    "# Placeholders\n",
    "tf_label = tf.placeholder(dtype=tf.float32, shape=[None])\n",
    "tf_prediction = tf.placeholder(dtype=tf.float32, shape=[None])\n",
    "\n",
    "# Define the metric and update operations\n",
    "tf_metric, tf_metric_update = tf.metrics.mean_absolute_error(tf_label,\n",
    "                                                   tf_prediction,\n",
    "                                                   name=\"metric_mae\")\n",
    "\n",
    "#初始化变量\n",
    "# Isolate the variables stored behind the scenes by the metric operation\n",
    "running_vars = tf.get_collection(tf.GraphKeys.LOCAL_VARIABLES, scope=\"metric_mae\")\n",
    "# Define initializer to initialize/reset running variables\n",
    "running_vars_initializer = tf.variables_initializer(var_list=running_vars)\n",
    "\n",
    "#初始化全局变量\n",
    "sess.run(tf.global_variables_initializer())\n",
    "# initialize/reset the running variables\n",
    "sess.run(running_vars_initializer)\n",
    "sess.run(tf_metric_update,feed_dict={tf_prediction:data[:,0],tf_label:data[:,1]})\n",
    "mae=sess.run(tf_metric)\n",
    "\n",
    "print('MAE',mae)"
   ]
  },
  {
   "cell_type": "markdown",
   "metadata": {},
   "source": [
    "# mean_IOU\n",
    "    IOU is defined as follows: IOU = true_positive / (true_positive + false_positive + false_negative).\n",
    "    tf.metrics.mean_iou(\n",
    "        labels,\n",
    "        predictions,\n",
    "        num_classes,\n",
    "        weights=None,\n",
    "        metrics_collections=None,\n",
    "        updates_collections=None,\n",
    "        name=None\n",
    "    )"
   ]
  },
  {
   "cell_type": "code",
   "execution_count": null,
   "metadata": {},
   "outputs": [],
   "source": [
    "# Placeholders\n",
    "tf_label = tf.placeholder(dtype=tf.float32, shape=[None])\n",
    "tf_prediction = tf.placeholder(dtype=tf.float32, shape=[None])\n",
    "\n",
    "# Define the metric and update operations\n",
    "tf_metric, tf_metric_update = tf.metrics.mean_iou .mean_absolute_error(tf_label,\n",
    "                                                   tf_prediction,\n",
    "                                                   name=\"metric_mae\")\n",
    "\n",
    "#初始化变量\n",
    "# Isolate the variables stored behind the scenes by the metric operation\n",
    "running_vars = tf.get_collection(tf.GraphKeys.LOCAL_VARIABLES, scope=\"metric_mae\")\n",
    "# Define initializer to initialize/reset running variables\n",
    "running_vars_initializer = tf.variables_initializer(var_list=running_vars)\n",
    "\n",
    "#初始化全局变量\n",
    "sess.run(tf.global_variables_initializer())\n",
    "# initialize/reset the running variables\n",
    "sess.run(running_vars_initializer)\n",
    "sess.run(tf_metric_update,feed_dict={tf_prediction:data[:,0],tf_label:data[:,1]})\n",
    "mae=sess.run(tf_metric)\n",
    "\n",
    "print('MAE',mae)"
   ]
  },
  {
   "cell_type": "markdown",
   "metadata": {},
   "source": [
    "# 余弦距离--有疑问？\n",
    "    tf.metrics.mean_cosine_distance(\n",
    "        labels,\n",
    "        predictions,\n",
    "        dim,\n",
    "        weights=None,\n",
    "        metrics_collections=None,\n",
    "        updates_collections=None,\n",
    "        name=None\n",
    "    )"
   ]
  },
  {
   "cell_type": "code",
   "execution_count": 32,
   "metadata": {},
   "outputs": [
    {
     "name": "stdout",
     "output_type": "stream",
     "text": [
      "MCD -3.274499\n"
     ]
    }
   ],
   "source": [
    "# Placeholders\n",
    "tf_label = tf.placeholder(dtype=tf.float32, shape=[None])\n",
    "tf_prediction = tf.placeholder(dtype=tf.float32, shape=[None])\n",
    "\n",
    "# Define the metric and update operations\n",
    "tf_metric, tf_metric_update = tf.metrics.mean_cosine_distance(tf_label,\n",
    "                                                   tf_prediction,\n",
    "                                                   0,\n",
    "                                                   name=\"metric_mcd\")\n",
    "\n",
    "#初始化变量\n",
    "# Isolate the variables stored behind the scenes by the metric operation\n",
    "running_vars = tf.get_collection(tf.GraphKeys.LOCAL_VARIABLES, scope=\"metric_mcd\")\n",
    "# Define initializer to initialize/reset running variables\n",
    "running_vars_initializer = tf.variables_initializer(var_list=running_vars)\n",
    "\n",
    "#初始化全局变量\n",
    "sess.run(tf.global_variables_initializer())\n",
    "# initialize/reset the running variables\n",
    "sess.run(running_vars_initializer)\n",
    "sess.run(tf_metric_update,feed_dict={tf_prediction:data[:,0],tf_label:data[:,1]})\n",
    "mcd=sess.run(tf_metric)\n",
    "\n",
    "print('MCD',mcd)"
   ]
  },
  {
   "cell_type": "markdown",
   "metadata": {},
   "source": [
    "# 真正(带阈值)--有疑问？\n",
    "    tf.metrics.true_positives_at_thresholds(\n",
    "        labels,\n",
    "        predictions,\n",
    "        thresholds,\n",
    "        weights=None,\n",
    "        metrics_collections=None,\n",
    "        updates_collections=None,\n",
    "        name=None\n",
    "    )"
   ]
  },
  {
   "cell_type": "code",
   "execution_count": 9,
   "metadata": {},
   "outputs": [
    {
     "name": "stdout",
     "output_type": "stream",
     "text": [
      "[False False False  True False False False False  True  True  True False\n",
      "  True False False False False  True False False]\n",
      "[ True False  True  True False  True False False  True False  True False\n",
      " False False False  True False  True  True False]\n",
      "TP: [4.]\n"
     ]
    }
   ],
   "source": [
    "# Placeholders\n",
    "tf_label = tf.placeholder(dtype=tf.int32, shape=[None])\n",
    "tf_prediction = tf.placeholder(dtype=tf.int32, shape=[None])\n",
    "\n",
    "# Define the metric and update operations\n",
    "tf_metric, tf_metric_update = tf.metrics.true_positives_at_thresholds(tf_label,\n",
    "                                                   tf_prediction,\n",
    "                                                   [0.05],\n",
    "                                                   name=\"metric_tp_at_t\")\n",
    "\n",
    "#初始化变量\n",
    "# Isolate the variables stored behind the scenes by the metric operation\n",
    "running_vars = tf.get_collection(tf.GraphKeys.LOCAL_VARIABLES, scope=\"metric_tp_at_t\")\n",
    "# Define initializer to initialize/reset running variables\n",
    "running_vars_initializer = tf.variables_initializer(var_list=running_vars)\n",
    "\n",
    "#初始化全局变量\n",
    "sess.run(tf.global_variables_initializer())\n",
    "# initialize/reset the running variables\n",
    "sess.run(running_vars_initializer)\n",
    "sess.run(tf_metric_update\n",
    "         ,feed_dict={tf_prediction:data[:,0]>threshold_Val,tf_label:data[:,1]})\n",
    "tp=sess.run(tf_metric)\n",
    "\n",
    "print(data[:,0]>threshold_Val)\n",
    "print(data[:,1]>0)\n",
    "print('TP:',tp)"
   ]
  },
  {
   "cell_type": "code",
   "execution_count": null,
   "metadata": {},
   "outputs": [],
   "source": []
  },
  {
   "cell_type": "code",
   "execution_count": null,
   "metadata": {},
   "outputs": [],
   "source": []
  }
 ],
 "metadata": {
  "kernelspec": {
   "display_name": "Python 3",
   "language": "python",
   "name": "python3"
  },
  "language_info": {
   "codemirror_mode": {
    "name": "ipython",
    "version": 3
   },
   "file_extension": ".py",
   "mimetype": "text/x-python",
   "name": "python",
   "nbconvert_exporter": "python",
   "pygments_lexer": "ipython3",
   "version": "3.5.2"
  }
 },
 "nbformat": 4,
 "nbformat_minor": 2
}
