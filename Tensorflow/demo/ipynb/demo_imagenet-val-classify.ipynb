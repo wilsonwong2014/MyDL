{
 "cells": [
  {
   "cell_type": "markdown",
   "metadata": {},
   "source": [
    "# 把ImageNet官网的校验数据集 以WNID为目录分类存储\n",
    "    ImageNet官网提供的校验数据集，以单一目录统一存储，为了测试方便，重新以其所属WNID为目录分类存储\n",
    "    \n",
    "    ./"
   ]
  },
  {
   "cell_type": "code",
   "execution_count": 3,
   "metadata": {},
   "outputs": [],
   "source": [
    "import os\n",
    "from mylibs.data.ImageNetData import ImageNetData\n",
    "from mylibs.ProcessBar import ShowProcess\n",
    "\n",
    "path='%s/e/dataset_tiptical/image_net'%os.getenv('HOME')      #ImageNet目录\n",
    "data_path='%s/ILSVRC2012_devkit_t12/data'%path                #配置目录\n",
    "gt_file='%s/ILSVRC2012_validation_ground_truth.txt'%data_path #ground truth file\n",
    "val_path ='%s/ILSVRC2012_img_val'%path                        #校验数据\n",
    "val2_path='%s/ILSVRC2012_img_val2'%path                       #校验数据重新分类"
   ]
  },
  {
   "cell_type": "code",
   "execution_count": 12,
   "metadata": {},
   "outputs": [
    {
     "name": "stdout",
     "output_type": "stream",
     "text": [
      "Load files ......\n",
      "Load ground truth file ......\n",
      "symlinks ......\n",
      "50000\n",
      "50000\n",
      "Done!>>>>>>>>>>>>>>>>>>>>>>>>>>>>>>>>>>>>>>>>>>>>>-]49980/50000\n"
     ]
    }
   ],
   "source": [
    "#校验数据集分类存储\n",
    "def val_data_classify(src,dst,gt_file):\n",
    "    '''官网提供的校验数据集，统一存放在一个单一目录！\n",
    "    为了训练方便，把数据集以其所属WNID为目录，归类存储。\n",
    "\n",
    "    @param src     原单一目录\n",
    "    @param dst     归类存储目录\n",
    "    @param gt_file 数据ground truth文件，校验文件名按字母升序排序，gt_file每行与其一一对应\n",
    "    '''\n",
    "    pb = ShowProcess(100,'','', 'OK') \n",
    "    #for i in range(max_steps): \n",
    "    #    #DoSomthing\n",
    "    #    process_bar.show_process() \n",
    "    #    time.sleep(0.1)\n",
    "        \n",
    "    df=ImageNetData(data_path)\n",
    "    if os.path.exists(dst):\n",
    "        print('%s already exists, please del first!'%dst)\n",
    "    else:\n",
    "        #加载原始目录文件列表\n",
    "        print('Load files ......')\n",
    "        files=sorted(os.listdir(src))\n",
    "        #加载gt_file\n",
    "        print('Load ground truth file ......')\n",
    "        with open(gt_file,'r') as f:\n",
    "            ids=f.readlines()\n",
    "        #遍历列表，逐个匹配处理\n",
    "        print('symlinks ......')\n",
    "        count=len(ids)\n",
    "        print(len(ids))\n",
    "        print(len(files))\n",
    "        for i,ID in enumerate(ids):\n",
    "            #获取WNID\n",
    "            wnid=df.get_info_from_id(int(ID))['WNID']\n",
    "            #创建软链接\n",
    "            src_file='%s/%s'%(src,files[i])\n",
    "            dst_path='%s/%s'%(dst,wnid)\n",
    "            os.makedirs(dst_path) if not os.path.exists(dst_path) else ''\n",
    "            dst_file='%s/%s/%s'%(dst,wnid,files[i])\n",
    "            os.symlink(src_file,dst_file)\n",
    "            if i%20 == 0 :\n",
    "                pb.show_process((i*100.)/count,'','%d/%d'%(i,count))\n",
    "        print('Done!')\n",
    "        pb.show_process(100)\n",
    "#============================================        \n",
    "val_data_classify(val_path,val2_path,gt_file)"
   ]
  },
  {
   "cell_type": "code",
   "execution_count": null,
   "metadata": {},
   "outputs": [],
   "source": []
  }
 ],
 "metadata": {
  "kernelspec": {
   "display_name": "Python 3",
   "language": "python",
   "name": "python3"
  },
  "language_info": {
   "codemirror_mode": {
    "name": "ipython",
    "version": 3
   },
   "file_extension": ".py",
   "mimetype": "text/x-python",
   "name": "python",
   "nbconvert_exporter": "python",
   "pygments_lexer": "ipython3",
   "version": "3.5.2"
  }
 },
 "nbformat": 4,
 "nbformat_minor": 2
}
