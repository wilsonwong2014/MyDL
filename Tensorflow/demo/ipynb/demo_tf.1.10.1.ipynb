{
 "cells": [
  {
   "cell_type": "markdown",
   "metadata": {},
   "source": [
    "# TensorFlow 1.10.1版本测试范例\n",
    "    张量 Tensor(\"Const_7:0\", shape=(), dtype=int32) ，Const_7为节点名，0为输出序号\n",
    "* 判断变量是否存在\n",
    "* 打印所有变量\n",
    "* 获取模型所有可训练参数总量\n",
    "* Graph\n",
    "* Session\n",
    "* Tensorboard\n",
    "* constant\n",
    "* Variable\n",
    "* get_variable\n",
    "* 变量共享\n",
    "* 变量赋值\n",
    "* placeholder\n",
    "* K.shape 获取张量shape"
   ]
  },
  {
   "cell_type": "markdown",
   "metadata": {},
   "source": [
    "# 判断变量是否存在"
   ]
  },
  {
   "cell_type": "code",
   "execution_count": 36,
   "metadata": {},
   "outputs": [
    {
     "name": "stdout",
     "output_type": "stream",
     "text": [
      "False\n",
      "v1:0\n",
      "v2:0\n"
     ]
    }
   ],
   "source": [
    "import tensorflow as tf\n",
    "\n",
    "def is_exist_var(var_name):\n",
    "    for v in tf.global_variables():\n",
    "        if(v.name==var_name):\n",
    "            return True\n",
    "    return False\n",
    "\n",
    "tf.reset_default_graph()\n",
    "c1=tf.constant(1,name='c1')\n",
    "v1=tf.Variable(initial_value=tf.random_normal(()),name='v1')\n",
    "print(is_exist_var('v2:0'))\n",
    "if not is_exist_var('v2:0'):\n",
    "    v2=tf.get_variable(name='v2',shape=(1,))\n",
    "\n",
    "for v in tf.global_variables():\n",
    "    print(v.name)"
   ]
  },
  {
   "cell_type": "markdown",
   "metadata": {},
   "source": [
    "# 打印所有变量"
   ]
  },
  {
   "cell_type": "code",
   "execution_count": 24,
   "metadata": {},
   "outputs": [
    {
     "name": "stdout",
     "output_type": "stream",
     "text": [
      "<tf.Variable 'v1:0' shape=(1,) dtype=float32_ref>\n",
      "<tf.Variable 'v2:0' shape=(2,) dtype=float32_ref>\n",
      "<tf.Variable 'v1:0' shape=(1,) dtype=float32_ref>\n",
      "<tf.Variable 'v2:0' shape=(2,) dtype=float32_ref>\n"
     ]
    }
   ],
   "source": [
    "import tensorflow as tf\n",
    "\n",
    "#打印所有可训练的变量\n",
    "def print_all_trainable_vars():\n",
    "    for v in tf.trainable_variables():\n",
    "        print(v)    \n",
    "        \n",
    "#打印所有变量\n",
    "def print_all_vars():\n",
    "    for v in tf.global_variables():\n",
    "        print(v)\n",
    "        \n",
    "sess=tf.InteractiveSession()\n",
    "tf.reset_default_graph()\n",
    "v1=tf.get_variable('v1',shape=(1,))\n",
    "v2=tf.get_variable('v2',shape=(2,))\n",
    "\n",
    "print_all_trainable_vars()\n",
    "print_all_vars()\n",
    "\n",
    "sess.close()"
   ]
  },
  {
   "cell_type": "markdown",
   "metadata": {},
   "source": [
    "# 获取模型所有可训练参数总量"
   ]
  },
  {
   "cell_type": "code",
   "execution_count": 35,
   "metadata": {},
   "outputs": [
    {
     "name": "stdout",
     "output_type": "stream",
     "text": [
      "21\n"
     ]
    }
   ],
   "source": [
    "#tensorflow 获取模型所有参数总和数量\n",
    "from functools import reduce\n",
    "from operator import mul\n",
    "\n",
    "def get_num_params():\n",
    "    num_params = 0\n",
    "    for variable in tf.trainable_variables():\n",
    "        shape = variable.get_shape()\n",
    "        num_params += reduce(mul, [dim.value for dim in shape], 1)\n",
    "    return num_params\n",
    "\n",
    "tf.reset_default_graph()\n",
    "v1=tf.get_variable(name='v1',shape=(2,3))\n",
    "v2=tf.get_variable(name='v2',shape=(3,5))\n",
    "print(get_num_params())"
   ]
  },
  {
   "cell_type": "markdown",
   "metadata": {},
   "source": [
    "# Graph"
   ]
  },
  {
   "cell_type": "code",
   "execution_count": 8,
   "metadata": {},
   "outputs": [
    {
     "name": "stdout",
     "output_type": "stream",
     "text": [
      "<tensorflow.python.framework.ops.Graph object at 0x7f0660df0f98>\n",
      "<tensorflow.python.client.session.InteractiveSession object at 0x7f05a309ce80>\n",
      "Tensor(\"add_2:0\", shape=(), dtype=int32)\n",
      "7\n",
      "7\n",
      "11\n",
      "11\n"
     ]
    },
    {
     "name": "stderr",
     "output_type": "stream",
     "text": [
      "/usr/local/lib/python3.5/dist-packages/tensorflow/python/client/session.py:1645: UserWarning: An interactive session is already active. This can cause out-of-memory errors in some cases. You must explicitly call `InteractiveSession.close()` to release resources held by the other session(s).\n",
      "  warnings.warn('An interactive session is already active. This can '\n"
     ]
    }
   ],
   "source": [
    "import tensorflow as tf #创建默认计算图\n",
    "\n",
    "g=tf.get_default_graph()   #获取默认计算图，import tensorflow 即创建默认计算图\n",
    "s=tf.get_default_session() #获取默认会话，此时会话session初始化为None\n",
    "print(g)\n",
    "print(s)\n",
    "\n",
    "sess=tf.InteractiveSession() #创建并设置为默认会话\n",
    "\n",
    "#默认计算图\n",
    "a=tf.constant(1)\n",
    "b=tf.constant(2)\n",
    "c=a+b\n",
    "print(c)\n",
    "\n",
    "#新建计算图\n",
    "g1=tf.Graph()\n",
    "g1.as_default()  #设置为默认计算图\n",
    "a=tf.constant(3) #\n",
    "b=tf.constant(4) #\n",
    "c=a+b\n",
    "tf.global_variables_initializer().run() #初始化所有变量\n",
    "print(c.eval())                         #图计算\n",
    "print(sess.run(c))                      #图计算\n",
    "\n",
    "#创建会话并设置计算图\n",
    "with tf.Session(graph=g1) as sess:\n",
    "    a=tf.constant(5)\n",
    "    b=tf.constant(6)\n",
    "    c=a+b\n",
    "    tf.global_variables_initializer().run() #初始化所有变量\n",
    "    print(c.eval())                         #图计算\n",
    "    print(sess.run(c))                      #图计算\n"
   ]
  },
  {
   "cell_type": "markdown",
   "metadata": {},
   "source": [
    "# Session"
   ]
  },
  {
   "cell_type": "code",
   "execution_count": 18,
   "metadata": {},
   "outputs": [
    {
     "name": "stdout",
     "output_type": "stream",
     "text": [
      "3\n",
      "3\n"
     ]
    }
   ],
   "source": [
    "import tensorflow as tf\n",
    "sess=tf.InteractiveSession()\n",
    "\n",
    "a=tf.constant(1)\n",
    "b=tf.constant(2)\n",
    "c=a+b\n",
    "tf.global_variables_initializer().run()\n",
    "print(c.eval())\n",
    "print(sess.run(c))"
   ]
  },
  {
   "cell_type": "markdown",
   "metadata": {},
   "source": [
    "# Tensorboard"
   ]
  },
  {
   "cell_type": "code",
   "execution_count": null,
   "metadata": {},
   "outputs": [],
   "source": [
    "import tensorflow as tf"
   ]
  },
  {
   "cell_type": "markdown",
   "metadata": {},
   "source": [
    "# Constant\n",
    "    tf.constant(\n",
    "        value,               #常量值\n",
    "        dtype=None,          #常量类型\n",
    "        shape=None,\n",
    "        name='Const',\n",
    "        verify_shape=False\n",
    "    )\n",
    "\n",
    "    常量不可以修改"
   ]
  },
  {
   "cell_type": "code",
   "execution_count": 7,
   "metadata": {},
   "outputs": [
    {
     "name": "stdout",
     "output_type": "stream",
     "text": [
      "type(v1): <class 'tensorflow.python.framework.ops.Tensor'>\n",
      "v1: Tensor(\"Const_7:0\", shape=(), dtype=int32)\n",
      "v1.eval(): 1\n",
      "v1 is v1_share: True\n",
      "v2.eval():\n",
      " [[1 2]\n",
      " [3 4]]\n"
     ]
    }
   ],
   "source": [
    "import tensorflow as tf\n",
    "import numpy as np\n",
    "sess=tf.InteractiveSession()  #执行变量值，必须创建session\n",
    "#标量定义\n",
    "v1=tf.constant(1)             #定义常量\n",
    "v1_share=v1\n",
    "print('type(v1):',type(v1))   #类型：<class 'tensorflow.python.framework.ops.Tensor'>\n",
    "print('v1:',v1)               #对象:Tensor(\"Const_1:0\", shape=(), dtype=int32)\n",
    "print('v1.eval():',v1.eval()) #1\n",
    "print('v1 is v1_share:',v1 is v1_share)   #v1,v1_share共享对象，是同一个常量\n",
    "\n",
    "#数组定义\n",
    "v2=tf.constant([[1,2],[3,4]])\n",
    "print('v2.eval():\\n',v2.eval())\n",
    "\n",
    "sess.close()\n",
    "#tf.constant是否可以修改？不可以"
   ]
  },
  {
   "cell_type": "markdown",
   "metadata": {},
   "source": [
    "# Variable\n",
    "    每次调用都新建一个变量\n",
    "    tf.Variable:\n",
    "    __init__(\n",
    "        initial_value=None,   #初始值\n",
    "        trainable=True,       #是否可训练\n",
    "        collections=None,     #属于那个集合\n",
    "        validate_shape=True,\n",
    "        caching_device=None,\n",
    "        name=None,            #变量名称\n",
    "        variable_def=None,\n",
    "        dtype=None,           #数据类型\n",
    "        expected_shape=None,\n",
    "        import_scope=None,\n",
    "        constraint=None\n",
    "    )\n",
    "    \n",
    "    Properties\n",
    "        device\n",
    "            The name of the device on which this tensor will be produced, or None.\n",
    "        dtype\n",
    "            The DType of elements in this tensor.\n",
    "        graph\n",
    "            The Graph that contains this tensor.\n",
    "        name\n",
    "            The string name of this tensor.\n",
    "        op\n",
    "            The Operation that produces this tensor as an output.\n",
    "        shape\n",
    "            Returns the TensorShape that represents the shape of this tensor.    "
   ]
  },
  {
   "cell_type": "code",
   "execution_count": 10,
   "metadata": {},
   "outputs": [
    {
     "name": "stdout",
     "output_type": "stream",
     "text": [
      "v: <tf.Variable 'v_2:0' shape=(2, 3) dtype=float32_ref>\n",
      "v.eval(): [[ 0.43273774 -0.76179725  1.1159071 ]\n",
      " [-0.17345443 -1.2333782   1.4139394 ]]\n",
      "--------------------\n",
      "v.device: \n",
      "v.dtype: <dtype: 'float32_ref'>\n",
      "v.graph: <tensorflow.python.framework.ops.Graph object at 0x7fc475d22eb8>\n",
      "v.name: v_2:0\n",
      "v.op: name: \"v_2\"\n",
      "op: \"VariableV2\"\n",
      "attr {\n",
      "  key: \"container\"\n",
      "  value {\n",
      "    s: \"\"\n",
      "  }\n",
      "}\n",
      "attr {\n",
      "  key: \"dtype\"\n",
      "  value {\n",
      "    type: DT_FLOAT\n",
      "  }\n",
      "}\n",
      "attr {\n",
      "  key: \"shape\"\n",
      "  value {\n",
      "    shape {\n",
      "      dim {\n",
      "        size: 2\n",
      "      }\n",
      "      dim {\n",
      "        size: 3\n",
      "      }\n",
      "    }\n",
      "  }\n",
      "}\n",
      "attr {\n",
      "  key: \"shared_name\"\n",
      "  value {\n",
      "    s: \"\"\n",
      "  }\n",
      "}\n",
      "\n",
      "v.shape: (2, 3)\n"
     ]
    }
   ],
   "source": [
    "import tensorflow as tf\n",
    "import numpy as np\n",
    "\n",
    "sess=tf.InteractiveSession()\n",
    "v=tf.Variable(initial_value=tf.random_normal((2,3),mean=0.0,stddev=1.0),name='v')\n",
    "\n",
    "#初始化单个变量\n",
    "#sess.run(v.initializer) \n",
    "#初始化所有变量\n",
    "init = tf.global_variables_initializer()\n",
    "sess.run(init)\n",
    "\n",
    "print('v:',v)\n",
    "print('v.eval():',v.eval())\n",
    "print('--------------------')\n",
    "print('v.device:',v.device)\n",
    "print('v.dtype:',v.dtype)\n",
    "print('v.graph:',v.graph)\n",
    "print('v.name:',v.name)\n",
    "print('v.op:',v.op)\n",
    "print('v.shape:',v.shape)\n",
    "        \n"
   ]
  },
  {
   "cell_type": "markdown",
   "metadata": {},
   "source": [
    "## tf.get_variable\n",
    "    变量:如果变量已存在，将触发异常；可以提供共享变量机制。\n",
    "    tf.get_variable(\n",
    "        name,\n",
    "        shape=None,\n",
    "        dtype=None,\n",
    "        initializer=None,\n",
    "        regularizer=None,\n",
    "        trainable=None,\n",
    "        collections=None,\n",
    "        caching_device=None,\n",
    "        partitioner=None,\n",
    "        validate_shape=True,\n",
    "        use_resource=None,\n",
    "        custom_getter=None,\n",
    "        constraint=None,\n",
    "        synchronization=tf.VariableSynchronization.AUTO,\n",
    "        aggregation=tf.VariableAggregation.NONE\n",
    "    )"
   ]
  },
  {
   "cell_type": "code",
   "execution_count": 22,
   "metadata": {},
   "outputs": [
    {
     "name": "stdout",
     "output_type": "stream",
     "text": [
      "<tf.Variable 'v1:0' shape=(1,) dtype=float32_ref>\n"
     ]
    }
   ],
   "source": [
    "import tensorflow as tf\n",
    "import numpy as np\n",
    "\n",
    "sess=tf.InteractiveSession()\n",
    "\n",
    "tf.reset_default_graph()\n",
    "v1=tf.get_variable(name='v1',shape=(1,))\n",
    "print(v1)"
   ]
  },
  {
   "cell_type": "markdown",
   "metadata": {},
   "source": [
    "# 变量共享\n",
    "    tf.Variable 与 tf.get_variable的区别\n",
    "\n",
    "    使用tf.Variable时，如果检测到命名冲突，系统会自己处理。使用tf.get_variable()时，系统不会处理冲突，而会报错;\n",
    "    tf.Variable每次都会创建一个新变量,tf.get_variable一个已存在的变量时会触发异常;\n",
    "    tf.get_variable可以与tf.variable_scope配合使用共享变量"
   ]
  },
  {
   "cell_type": "code",
   "execution_count": 38,
   "metadata": {},
   "outputs": [
    {
     "name": "stdout",
     "output_type": "stream",
     "text": [
      "<tf.Variable 'v1:0' shape=(2, 2) dtype=float32_ref>\n",
      "<tf.Variable 'v2:0' shape=(1,) dtype=float32_ref>\n",
      "<tf.Variable 'scope1/v3:0' shape=(1,) dtype=float32_ref>\n",
      "<tf.Variable 'scope1/v4:0' shape=(2,) dtype=float32_ref>\n",
      "<tf.Variable 'v1:0' shape=(2, 2) dtype=float32_ref>\n",
      "<tf.Variable 'v2:0' shape=(1,) dtype=float32_ref>\n",
      "<tf.Variable 'scope1/v3:0' shape=(1,) dtype=float32_ref>\n",
      "<tf.Variable 'scope1/v4:0' shape=(2,) dtype=float32_ref>\n"
     ]
    }
   ],
   "source": [
    "import tensorflow as tf\n",
    "import numpy as np\n",
    "\n",
    "sess=tf.InteractiveSession()                                    #创建会话\n",
    "tf.reset_default_graph()                                        #重置图:清空所有节点变量\n",
    "#-----变量共享-----\n",
    "#定义变量\n",
    "with tf.variable_scope('scope1'):\n",
    "    v3=tf.get_variable(name='v3',shape=(1,))     #定义变量\n",
    "    v4=tf.get_variable(name='v4',shape=(2,))     #定义变量\n",
    "#变量共享,reuse=True\n",
    "with tf.variable_scope(\"scope1\",reuse=True):\n",
    "    v3=tf.get_variable(\"v3\", shape=(1,))         #共享变量\n",
    "    v4=tf.get_variable(\"v4\", shape=(2,))         #共享变量\n",
    "\n",
    "print_all_trainable_vars()    #输出所有可训练变量\n",
    "print_all_vars()              #输出所有变量\n",
    "\n",
    "sess.close()"
   ]
  },
  {
   "cell_type": "markdown",
   "metadata": {},
   "source": [
    "# 变量赋值"
   ]
  },
  {
   "cell_type": "code",
   "execution_count": 42,
   "metadata": {},
   "outputs": [
    {
     "name": "stdout",
     "output_type": "stream",
     "text": [
      "[[1. 2. 3.]\n",
      " [4. 5. 6.]]\n"
     ]
    }
   ],
   "source": [
    "import tensorflow as tf\n",
    "tf.reset_default_graph()\n",
    "sess=tf.InteractiveSession()\n",
    "\n",
    "var=tf.Variable(np.random.rand(2,3),dtype=tf.float32)\n",
    "var.initializer.run()\n",
    "sess.run(tf.assign(var,[[1.,2.,3.],[4.,5.,6.]]))\n",
    "print(var.eval())"
   ]
  },
  {
   "cell_type": "markdown",
   "metadata": {},
   "source": [
    "# placeholder\n",
    "x=tf.placeholder(tf.float32, shape=(None,2,3), name=None)\n",
    "*    dtype：表示tensorflow中的数据类型，如常用的tf.float32,tf.float64等数值类型;\n",
    "*    shape：表示数据类型，默认的None是一个一维的数值，shape=[None,5],表示行不定，列是5;\n",
    "*    name：张量名称;"
   ]
  },
  {
   "cell_type": "code",
   "execution_count": 39,
   "metadata": {},
   "outputs": [
    {
     "name": "stdout",
     "output_type": "stream",
     "text": [
      "[3.]\n",
      "[4.]\n",
      "[12.]\n"
     ]
    }
   ],
   "source": [
    "import tensorflow as tf\n",
    "tf.reset_default_graph()\n",
    "\n",
    "input1 = tf.placeholder(tf.float32)\n",
    "input2 = tf.placeholder(tf.float32)\n",
    " \n",
    "output = tf.multiply(input1, input2)\n",
    "\n",
    "with tf.Session() as sess:\n",
    "    print(sess.run(input1,feed_dict={input1:[3.]}))\n",
    "    print(sess.run(input2,feed_dict={input2:[4.]}))\n",
    "    print(sess.run(output, feed_dict = {input1:[3.], input2: [4.]}))"
   ]
  },
  {
   "cell_type": "markdown",
   "metadata": {},
   "source": [
    "## K.shape 获取张量shape,返回也是张量(一维张量)"
   ]
  },
  {
   "cell_type": "code",
   "execution_count": 7,
   "metadata": {},
   "outputs": [
    {
     "name": "stdout",
     "output_type": "stream",
     "text": [
      "Tensor(\"Shape:0\", shape=(3,), dtype=int32)\n",
      "[2 2 2]\n"
     ]
    }
   ],
   "source": [
    "import tensorflow as tf\n",
    "import keras.backend as K\n",
    "\n",
    "tf.reset_default_graph()\n",
    "sess=tf.InteractiveSession()\n",
    "c1=tf.constant([[[1,2],[4,5]],[[1,2],[4,5]]])\n",
    "v=K.shape(c1) #返回张量c1的shape\n",
    "tf.global_variables_initializer().run()\n",
    "print(v)\n",
    "print(v.eval())"
   ]
  },
  {
   "cell_type": "markdown",
   "metadata": {},
   "source": [
    "## K.tile(x,n) \n",
    "    将x在各个维度上重复n次，x为张量，n为与x维度数目相同的列表"
   ]
  },
  {
   "cell_type": "code",
   "execution_count": 13,
   "metadata": {},
   "outputs": [
    {
     "name": "stdout",
     "output_type": "stream",
     "text": [
      "Tensor(\"Const:0\", shape=(2, 3), dtype=int32)\n",
      "Tensor(\"Tile:0\", shape=(2, 3), dtype=int32)\n",
      "Tensor(\"Tile_1:0\", shape=(4, 3), dtype=int32)\n",
      "Tensor(\"Tile_2:0\", shape=(2, 6), dtype=int32)\n",
      "Tensor(\"Tile_3:0\", shape=(4, 6), dtype=int32)\n"
     ]
    }
   ],
   "source": [
    "import tensorflow as tf\n",
    "import keras.backend as K\n",
    "\n",
    "tf.reset_default_graph()\n",
    "sess=tf.InteractiveSession()\n",
    "\n",
    "c1=tf.constant([[1,2,3],[4,5,6]])\n",
    "t1=K.tile(c1,[1,1]) #没有重复，相当于不变\n",
    "t2=K.tile(c1,[2,1]) #第一维方向重复2次\n",
    "t3=K.tile(c1,[1,2]) #第二维方向重复2次\n",
    "t4=K.tile(c1,[2,2]) #第1维，第2维方向各重复2次\n",
    "print(c1)\n",
    "print(t1)\n",
    "print(t2)\n",
    "print(t3)\n",
    "print(t4)"
   ]
  },
  {
   "cell_type": "code",
   "execution_count": null,
   "metadata": {},
   "outputs": [],
   "source": []
  }
 ],
 "metadata": {
  "kernelspec": {
   "display_name": "Python 3",
   "language": "python",
   "name": "python3"
  },
  "language_info": {
   "codemirror_mode": {
    "name": "ipython",
    "version": 3
   },
   "file_extension": ".py",
   "mimetype": "text/x-python",
   "name": "python",
   "nbconvert_exporter": "python",
   "pygments_lexer": "ipython3",
   "version": "3.5.2"
  }
 },
 "nbformat": 4,
 "nbformat_minor": 2
}
