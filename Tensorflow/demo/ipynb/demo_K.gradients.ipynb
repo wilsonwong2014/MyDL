{
 "metadata": {
  "kernelspec": {
   "display_name": "Python 3",
   "language": "python",
   "name": "python3"
  },
  "language_info": {
   "codemirror_mode": {
    "name": "ipython",
    "version": 3
   },
   "file_extension": ".py",
   "mimetype": "text/x-python",
   "name": "python",
   "nbconvert_exporter": "python",
   "pygments_lexer": "ipython3",
   "version": "3.5.2"
  },
  "name": "",
  "signature": "sha256:35202658c611971381b81b0d23fd38664b910ac38069ca3a058108fcee419eb7"
 },
 "nbformat": 3,
 "nbformat_minor": 0,
 "worksheets": [
  {
   "cells": [
    {
     "cell_type": "markdown",
     "metadata": {},
     "source": [
      "# \u68af\u5ea6&\u77e9\u9635\u6c42\u5bfc\u5b9e\u9a8c(\u6709\u672a\u89e3\u51b3\u95ee\u9898-\u77e9\u9635\u6c42\u5bfc)\n",
      "\u539f\u6587:https://blog.csdn.net/C_chuxin/article/details/85269471 \n",
      "\n",
      "keras.backend.gradients\n",
      "gradients\n",
      "\n",
      "gradients(loss, variables)\n",
      "\n",
      "\u8fd4\u56deloss\u51fd\u6570\u5173\u4e8evariables\u7684\u68af\u5ea6\uff0cvariables\u4e3a\u5f20\u91cf\u53d8\u91cf\u7684\u5217\u8868\n",
      "\n",
      "\u6982\u8ff0\n",
      "\n",
      "K.gradients\uff08y\uff0cx\uff09\n",
      "\n",
      "\u3010\u529f\u80fd\u3011\u7528\u4e8e\u6c42y\u5173\u4e8ex \u7684\u5bfc\u6570\uff08\u68af\u5ea6\uff09\n",
      "\n",
      "\u3010\u8f93\u5165\u3011(y\u548cx\u53ef\u4ee5\u662f\u5f20\u91cftensor\u4e5f\u53ef\u4ee5\u662f\u5f20\u91cf\u5217\u8868\uff0c\u5f62\u5982 [tensor1, tensor2, \u2026, tensorn]\uff09\uff0c\n",
      "\n",
      "\u3010\u8fd4\u56de\u3011\u8fd4\u56de\u7684\u662f\u4e00\u4e2a\u5f20\u91cf\u5217\u8868\uff0c\u5217\u8868\u957f\u5ea6\u662f\u5f20\u91cf\u5217\u8868x\u7684\u957f\u5ea6\uff0c\u5217\u8868\u5143\u7d20\u662f\u4e0ex\u5177\u6709\u4e00\u6837shape\u7684\u5f20\u91cf\u3002\n",
      "\n",
      "     \u4e3e\u4e2a\u4f8b\u5b50\uff0c\u6bd4\u5982\uff1agrads = K.gradients(y\uff0c x),\u82e5y\u662f\uff082\uff0c2\uff09\u5f20\u91cf\uff0cx\u662f\uff081\uff0c7\uff0c7\uff0c512\uff09\u5f20\u91cf\uff0c\u90a3\u4e48\u8fd4\u56de\u7684grads\u662f\u53ea\u67091\u4e2a\u5143\u7d20\u7684\uff081\uff0c7\uff0c7\uff0c512\uff09\u5f20\u91cf\u5217\u8868\u3002\n",
      "\n",
      "    \u5177\u4f53\u800c\u8a00\uff1a\n",
      "\n",
      "    K.gradients()\u5b9e\u73b0y\u5bf9x\u6c42\u5bfc\n",
      "    \u6c42\u5bfc\u8fd4\u56de\u503c\u662f\u4e00\u4e2alist\uff0clist\u7684\u957f\u5ea6\u7b49\u4e8elen(x)\n",
      "    \u5047\u8bbe\u8fd4\u56de\u503c\u662f[grad1, grad2, grad3]\uff0cy=[y1, y2]\uff0cx=[x1, x2, x3]\u3002\u5219\uff0c\u771f\u5b9e\u7684\u8ba1\u7b97\u8fc7\u7a0b\u4e3a:\n",
      "![%E5%9B%BE%E7%89%87.png](attachment:%E5%9B%BE%E7%89%87.png)\n",
      "     \n",
      "\n",
      "    \u5176\u4e2dy1/x1\u8868\u793a\u6c42y1\u5173\u4e8ex1\u7684\u504f\u5bfc\u6570\u3002\n",
      "\n",
      "    tensorflow\u2014tf.gradients()\u7b80\u5355\u5b9e\u7528\u6559\u7a0b\n",
      "\n",
      "## \u672a\u89e3\u51b3\u95ee\u9898\n",
      "    numpy ,SciPy\u7528\u4e8e\u6c42\u89e3\u77e9\u9635\u5bfc\u6570\u7684\u65b9\u6cd5\u65b9\u6848?\n",
      "    \n",
      "    \n",
      "\n",
      "## \u53c2\u8003\n",
      "\n",
      "    keras\u4e2d\u7684K.gradients\uff08\uff09\u51fd\u6570\n",
      "    https://blog.csdn.net/C_chuxin/article/details/85269471\n",
      "    \n",
      "    tensorflow\u2014tf.gradients()\u7b80\u5355\u5b9e\u7528\u6559\u7a0b\n",
      "    https://blog.csdn.net/hustqb/article/details/80260002\n",
      "    \n",
      "    \u901a\u8fc7\u4e00\u4e2a\u4f8b\u5b50\u5feb\u901f\u4e0a\u624b\u77e9\u9635\u6c42\u5bfc\n",
      "    https://blog.csdn.net/nomadlx53/article/details/50849941\n",
      "    \n",
      "    \u77e9\u9635\u6c42\u5bfc\u4e0e\u5b9e\u4f8b\n",
      "    https://blog.csdn.net/young_gy/article/details/50008953\n",
      "    \n",
      "    \u77e9\u9635\u6c42\u5bfc\u516c\u5f0f\n",
      "    https://blog.csdn.net/weixin_34920941/article/details/82882602\n",
      "    \n",
      "    Deep Learning \u5b66\u4e60\u7b14\u8bb07\uff1a\u77e9\u9635\u6c42\u5bfc\u516c\u5f0f\u6c47\u603b\n",
      "    https://blog.csdn.net/WPR1991/article/details/82929843\n",
      "    \n",
      "    "
     ]
    },
    {
     "cell_type": "code",
     "collapsed": false,
     "input": [
      "import tensorflow as tf\n",
      "import keras.backend as K\n",
      "import numpy as np\n",
      "sess=tf.InteractiveSession()"
     ],
     "language": "python",
     "metadata": {},
     "outputs": [
      {
       "ename": "ImportError",
       "evalue": "No module named tensorflow",
       "output_type": "pyerr",
       "traceback": [
        "\u001b[0;31m---------------------------------------------------------------------------\u001b[0m\n\u001b[0;31mImportError\u001b[0m                               Traceback (most recent call last)",
        "\u001b[0;32m<ipython-input-3-200835441e52>\u001b[0m in \u001b[0;36m<module>\u001b[0;34m()\u001b[0m\n\u001b[0;32m----> 1\u001b[0;31m \u001b[0;32mimport\u001b[0m \u001b[0mtensorflow\u001b[0m \u001b[0;32mas\u001b[0m \u001b[0mtf\u001b[0m\u001b[0;34m\u001b[0m\u001b[0m\n\u001b[0m\u001b[1;32m      2\u001b[0m \u001b[0;32mimport\u001b[0m \u001b[0mkeras\u001b[0m\u001b[0;34m.\u001b[0m\u001b[0mbackend\u001b[0m \u001b[0;32mas\u001b[0m \u001b[0mK\u001b[0m\u001b[0;34m\u001b[0m\u001b[0m\n\u001b[1;32m      3\u001b[0m \u001b[0;32mimport\u001b[0m \u001b[0mnumpy\u001b[0m \u001b[0;32mas\u001b[0m \u001b[0mnp\u001b[0m\u001b[0;34m\u001b[0m\u001b[0m\n\u001b[1;32m      4\u001b[0m \u001b[0msess\u001b[0m\u001b[0;34m=\u001b[0m\u001b[0mtf\u001b[0m\u001b[0;34m.\u001b[0m\u001b[0mInteractiveSession\u001b[0m\u001b[0;34m(\u001b[0m\u001b[0;34m)\u001b[0m\u001b[0;34m\u001b[0m\u001b[0m\n",
        "\u001b[0;31mImportError\u001b[0m: No module named tensorflow"
       ]
      }
     ],
     "prompt_number": 3
    },
    {
     "cell_type": "code",
     "collapsed": false,
     "input": [
      "#\u8303\u4f8b1\n",
      "x = tf.get_variable('w1',shape=[1,2])\n",
      "tmp1=x[0,0]\n",
      "tmp2=2*x[0,1]\n",
      "y=tf.stack([tmp1,tmp2],0)  #y \u662f\u4e00\u4e2a\uff082,1\uff09\u7684\u5f20\u91cf\uff0cx \u662f\u4e00\u4e2a\uff081,2\uff09\u7684\u5f20\u91cf,\u800c\u4e14y=x[0,0]+2*x[0,1] \n",
      "grads = tf.gradients(y,[x]) \n",
      "tf.global_variables_initializer().run() \n",
      "re = sess.run(grads) \n",
      "print('tmp1:')\n",
      "print(tmp1.eval())\n",
      "print('tmp2:')\n",
      "print(tmp2.eval())\n",
      "print('y:')\n",
      "print(y.eval())\n",
      "print('x:')\n",
      "print(x.eval())\n",
      "print('the gradient of y=x[0,0]+2*x[0,1] for x is :',re)"
     ],
     "language": "python",
     "metadata": {},
     "outputs": [
      {
       "ename": "NameError",
       "evalue": "name 'tf' is not defined",
       "output_type": "pyerr",
       "traceback": [
        "\u001b[0;31m---------------------------------------------------------------------------\u001b[0m\n\u001b[0;31mNameError\u001b[0m                                 Traceback (most recent call last)",
        "\u001b[0;32m<ipython-input-2-259983e72b54>\u001b[0m in \u001b[0;36m<module>\u001b[0;34m()\u001b[0m\n\u001b[1;32m      1\u001b[0m \u001b[0;31m#\u8303\u4f8b1\u001b[0m\u001b[0;34m\u001b[0m\u001b[0;34m\u001b[0m\u001b[0m\n\u001b[0;32m----> 2\u001b[0;31m \u001b[0mx\u001b[0m \u001b[0;34m=\u001b[0m \u001b[0mtf\u001b[0m\u001b[0;34m.\u001b[0m\u001b[0mget_variable\u001b[0m\u001b[0;34m(\u001b[0m\u001b[0;34m'w1'\u001b[0m\u001b[0;34m,\u001b[0m\u001b[0mshape\u001b[0m\u001b[0;34m=\u001b[0m\u001b[0;34m[\u001b[0m\u001b[0;36m1\u001b[0m\u001b[0;34m,\u001b[0m\u001b[0;36m2\u001b[0m\u001b[0;34m]\u001b[0m\u001b[0;34m)\u001b[0m\u001b[0;34m\u001b[0m\u001b[0m\n\u001b[0m\u001b[1;32m      3\u001b[0m \u001b[0mtmp1\u001b[0m\u001b[0;34m=\u001b[0m\u001b[0mx\u001b[0m\u001b[0;34m[\u001b[0m\u001b[0;36m0\u001b[0m\u001b[0;34m,\u001b[0m\u001b[0;36m0\u001b[0m\u001b[0;34m]\u001b[0m\u001b[0;34m\u001b[0m\u001b[0m\n\u001b[1;32m      4\u001b[0m \u001b[0mtmp2\u001b[0m\u001b[0;34m=\u001b[0m\u001b[0;36m2\u001b[0m\u001b[0;34m*\u001b[0m\u001b[0mx\u001b[0m\u001b[0;34m[\u001b[0m\u001b[0;36m0\u001b[0m\u001b[0;34m,\u001b[0m\u001b[0;36m1\u001b[0m\u001b[0;34m]\u001b[0m\u001b[0;34m\u001b[0m\u001b[0m\n\u001b[1;32m      5\u001b[0m \u001b[0my\u001b[0m\u001b[0;34m=\u001b[0m\u001b[0mtf\u001b[0m\u001b[0;34m.\u001b[0m\u001b[0mstack\u001b[0m\u001b[0;34m(\u001b[0m\u001b[0;34m[\u001b[0m\u001b[0mtmp1\u001b[0m\u001b[0;34m,\u001b[0m\u001b[0mtmp2\u001b[0m\u001b[0;34m]\u001b[0m\u001b[0;34m,\u001b[0m\u001b[0;36m0\u001b[0m\u001b[0;34m)\u001b[0m  \u001b[0;31m#y \u662f\u4e00\u4e2a\uff082,1\uff09\u7684\u5f20\u91cf\uff0cx \u662f\u4e00\u4e2a\uff081,2\uff09\u7684\u5f20\u91cf,\u800c\u4e14y=x[0,0]+2*x[0,1]\u001b[0m\u001b[0;34m\u001b[0m\u001b[0m\n",
        "\u001b[0;31mNameError\u001b[0m: name 'tf' is not defined"
       ]
      }
     ],
     "prompt_number": 2
    },
    {
     "cell_type": "code",
     "collapsed": false,
     "input": [
      "#\u8303\u4f8b2\n",
      "x = tf.Variable(initial_value=np.random.rand(1,2),dtype=tf.float32,name='var1') \n",
      "tmp1=x[0,0]\n",
      "tmp2=2*x[0,1]\n",
      "#y=tf.stack([tmp1,tmp2],0)  #y \u662f\u4e00\u4e2a\uff082,1\uff09\u7684\u5f20\u91cf\uff0cx \u662f\u4e00\u4e2a\uff081,2\uff09\u7684\u5f20\u91cf,\u800c\u4e14y=x[0,0]+2*x[0,1] \n",
      "y=x\n",
      "grads = tf.gradients(y,[x]) \n",
      "\n",
      "tf.global_variables_initializer().run() \n",
      "re = sess.run(grads) \n",
      "print('tmp1:')\n",
      "print(tmp1.eval())\n",
      "print('tmp2:')\n",
      "print(tmp2.eval())\n",
      "print('y:')\n",
      "print(y.eval())\n",
      "print('x:')\n",
      "print(x.eval())\n",
      "print('the gradient of y=x[0,0]+2*x[0,1] for x is :',re)"
     ],
     "language": "python",
     "metadata": {},
     "outputs": [
      {
       "output_type": "stream",
       "stream": "stdout",
       "text": [
        "tmp1:\n",
        "0.10136671\n",
        "tmp2:\n",
        "1.8084109\n",
        "y:\n",
        "[[0.10136671 0.90420544]]\n",
        "x:\n",
        "[[0.10136671 0.90420544]]\n",
        "the gradient of y=x[0,0]+2*x[0,1] for x is : [array([[1., 1.]], dtype=float32)]\n"
       ]
      }
     ],
     "prompt_number": 3
    },
    {
     "cell_type": "code",
     "collapsed": false,
     "input": [
      "#\u8303\u4f8b3\n",
      "#w1 = tf.Variable([[1,2]])       #1x2\n",
      "#w2 = tf.Variable([[3,4]])       #1x2\n",
      "w1 = tf.Variable(initial_value=np.random.rand(1,2),dtype=tf.float32,name='var1') \n",
      "w2 = tf.Variable(initial_value=np.random.rand(3,4),dtype=tf.float32,name='var1') \n",
      "\n",
      "y = tf.matmul(w1,[[9.],[10.]])    #2x1\n",
      "#\u6c42w1\u7684\u68af\u5ea6\n",
      "grads = tf.gradients(y,w1)      #1x2\n",
      "\n",
      "sess.run(tf.global_variables_initializer())\n",
      "gradval = sess.run(grads)\n",
      "print(gradval)"
     ],
     "language": "python",
     "metadata": {},
     "outputs": [
      {
       "output_type": "stream",
       "stream": "stdout",
       "text": [
        "[array([[ 9., 10.]], dtype=float32)]\n"
       ]
      }
     ],
     "prompt_number": 4
    },
    {
     "cell_type": "markdown",
     "metadata": {},
     "source": [
      "# \u6807\u91cf\u5bf9\u6807\u91cf\u7684\u6c42\u5bfc \n",
      "x:\u6807\u91cf\n",
      "\n",
      "y=x\n",
      "\n",
      "$\\frac{dy}{dx}$=1"
     ]
    },
    {
     "cell_type": "code",
     "collapsed": false,
     "input": [
      "#\u6807\u91cf\u5bf9\u6807\u91cf\u7684\u6c42\u5bfc\n",
      "#  y=x => dy/dx\n",
      "x = tf.Variable(initial_value=np.random.rand(),dtype=tf.float32,name='var1') \n",
      "y = x\n",
      "tf.global_variables_initializer().run()\n",
      "grads=tf.gradients(y,x)\n",
      "grads_val=sess.run(grads)\n",
      "print(x)\n",
      "print(y)\n",
      "print(grads)\n",
      "print(grads_val)"
     ],
     "language": "python",
     "metadata": {},
     "outputs": [
      {
       "output_type": "stream",
       "stream": "stdout",
       "text": [
        "<tf.Variable 'var1_3:0' shape=() dtype=float32_ref>\n",
        "<tf.Variable 'var1_3:0' shape=() dtype=float32_ref>\n",
        "[<tf.Tensor 'gradients_3/Fill:0' shape=() dtype=float32>]\n",
        "[1.0]\n"
       ]
      }
     ],
     "prompt_number": 5
    },
    {
     "cell_type": "markdown",
     "metadata": {},
     "source": [
      "# \u5f20\u91cf\u5217\u8868\u6c42\u5bfc\n",
      "x:\u6807\u91cf\n",
      "\n",
      "x1=1,y1=x1\n",
      "\n",
      "x2=2,y2=x2\n",
      "\n",
      "x3=3,y3=x3\n",
      "\n",
      "x=[x1,x2,x3]\n",
      "\n",
      "y=[y1,y2,y3]\n",
      "\n",
      "$\\frac{\\text{dy}}{\\text{dx}}$\n",
      "=\n",
      "$\\left[\n",
      "\\begin{array}{ccc}\n",
      "\\frac{dy1}{dx1} + \\frac{dy2}{dx1} + \\frac{dy3}{dx1} \\\\\n",
      "\\frac{dy1}{dx2} + \\frac{dy2}{dx2} + \\frac{dy3}{dx2} \\\\\n",
      "\\frac{dy1}{dx3} + \\frac{dy2}{dx3} + \\frac{dy3}{dx3} \\\\\n",
      "\\end{array} \n",
      "\\right]$\n",
      "=[1.0,1.0,1.0]"
     ]
    },
    {
     "cell_type": "code",
     "collapsed": false,
     "input": [
      "#\u5f20\u91cf\u5217\u8868\u6c42\u5bfc\n",
      "#  y=[y1,y2]\n",
      "#  x=[x1,x2,x3]\n",
      "#  dy/dx=>[dy1/dx1+dy2/dx1, dy1/dx2+dy2/dx2, dy1/dx3+dy2/dx3]\n",
      "x1 = tf.Variable(initial_value=np.random.rand(),dtype=tf.float32) \n",
      "x2 = tf.Variable(initial_value=np.random.rand(),dtype=tf.float32) \n",
      "x3 = tf.Variable(initial_value=np.random.rand(),dtype=tf.float32) \n",
      "\n",
      "x1_op=tf.assign(x1,1.0)\n",
      "x2_op=tf.assign(x2,1.0)\n",
      "x3_op=tf.assign(x3,1.0)\n",
      "\n",
      "y1 = x1\n",
      "y2 = x2\n",
      "y3 = x3\n",
      "\n",
      "x=[x1,x2,x3]\n",
      "y=[y1,y2,y3]\n",
      "tf.global_variables_initializer().run()\n",
      "sess.run(x1_op)\n",
      "sess.run(x2_op)\n",
      "sess.run(x3_op)\n",
      "\n",
      "grads=tf.gradients(y,x)\n",
      "grads_val=sess.run(grads)\n",
      "\n",
      "print(x)\n",
      "print(y)\n",
      "print(grads)\n",
      "print(grads_val)\n"
     ],
     "language": "python",
     "metadata": {},
     "outputs": [
      {
       "output_type": "stream",
       "stream": "stdout",
       "text": [
        "[<tf.Variable 'Variable:0' shape=() dtype=float32_ref>, <tf.Variable 'Variable_1:0' shape=() dtype=float32_ref>, <tf.Variable 'Variable_2:0' shape=() dtype=float32_ref>]\n",
        "[<tf.Variable 'Variable:0' shape=() dtype=float32_ref>, <tf.Variable 'Variable_1:0' shape=() dtype=float32_ref>, <tf.Variable 'Variable_2:0' shape=() dtype=float32_ref>]\n",
        "[<tf.Tensor 'gradients_4/Fill:0' shape=() dtype=float32>, <tf.Tensor 'gradients_4/Fill_1:0' shape=() dtype=float32>, <tf.Tensor 'gradients_4/Fill_2:0' shape=() dtype=float32>]\n",
        "[1.0, 1.0, 1.0]\n"
       ]
      }
     ],
     "prompt_number": 6
    },
    {
     "cell_type": "markdown",
     "metadata": {},
     "source": [
      "# \u5f20\u91cf\u5217\u8868\u6c42\u5bfc\n",
      "x:\u6807\u91cf\n",
      "\n",
      "y=x\n",
      "\n",
      "$\\frac{\\text{d[y,y]}}{\\text{d[x,x,x]}}$\n",
      "=\n",
      "$\\left[\n",
      "\\begin{array}{c}\n",
      "\\frac{dy}{dx} + \\frac{dy}{dx} \\\\\n",
      "\\frac{dy}{dx} + \\frac{dy}{dx} \\\\\n",
      "\\frac{dy}{dx} + \\frac{dy}{dx} \\\\\n",
      "\\end{array} \n",
      "\\right]$\n",
      "=[2.0,2.0,2.0]"
     ]
    },
    {
     "cell_type": "code",
     "collapsed": false,
     "input": [
      "#\u5f20\u91cf\u5217\u8868\u6c42\u5bfc\n",
      "#  y=[y1,y2]\n",
      "#  x=[x1,x2,x3]\n",
      "#  dy/dx=>[dy1/dx1+dy2/dx1, dy1/dx2+dy2/dx2, dy1/dx3+dy2/dx3]\n",
      "x = tf.Variable(initial_value=np.random.rand(),dtype=tf.float32) \n",
      "x_op=tf.assign(x,1.0)\n",
      "y = x\n",
      "tf.global_variables_initializer().run()\n",
      "sess.run(x_op)\n",
      "\n",
      "grads=tf.gradients([y,y],[x,x,x])\n",
      "grads_val=sess.run(grads)\n",
      "\n",
      "print(x)\n",
      "print(y)\n",
      "print(grads)\n",
      "print(grads_val)"
     ],
     "language": "python",
     "metadata": {},
     "outputs": [
      {
       "output_type": "stream",
       "stream": "stdout",
       "text": [
        "<tf.Variable 'Variable_3:0' shape=() dtype=float32_ref>\n",
        "<tf.Variable 'Variable_3:0' shape=() dtype=float32_ref>\n",
        "[<tf.Tensor 'gradients_5/AddN:0' shape=() dtype=float32>, <tf.Tensor 'gradients_5/AddN:0' shape=() dtype=float32>, <tf.Tensor 'gradients_5/AddN:0' shape=() dtype=float32>]\n",
        "[2.0, 2.0, 2.0]\n"
       ]
      }
     ],
     "prompt_number": 7
    },
    {
     "cell_type": "markdown",
     "metadata": {},
     "source": [
      "# \u6807\u91cf\u5bf9\u5411\u91cf\u6c42\u5bfc\n",
      "x:\u5217\u5411\u91cf\n",
      "\n",
      "y:\u6807\u91cf\n",
      "\n",
      "$x$=\n",
      "$\\left[\n",
      "\\begin{array}{c}\n",
      " x_{1} \\\\\n",
      " x_{2} \\\\\n",
      " x_{3} \\\\\n",
      "\\end{array}\n",
      "\\right]$\n",
      "\n",
      "$a$=$\\left[a_{1},a_{2},a_{3} \\right]$\n",
      "\n",
      "y=$a\\cdot x$=\n",
      "$\\left[ a_{1}x_{1}+a_{2}x_{2}+a_{3}x_{3}\\right]$\n",
      "\n",
      "$\\frac{dy}{dx}$\n",
      "=\n",
      "$\\left[\n",
      "\\begin{array}{c}\n",
      "\\frac{d(a_{1}x_{1}+a_{2}x_{2}+a_{3}x_{3})}{d{x_{1}}} \\\\\n",
      "\\frac{d(a_{1}x_{1}+a_{2}x_{2}+a_{3}x_{3})}{d{x_{2}}} \\\\\n",
      "\\frac{d(a_{1}x_{1}+a_{2}x_{2}+a_{3}x_{3})}{d{x_{3}}} \n",
      "\\end{array}\n",
      "\\right]$\n",
      "=\n",
      "$\\left[\n",
      "\\begin{array}{c}\n",
      "a_{1} \\\\\n",
      "a_{2} \\\\\n",
      "a_{3} \n",
      "\\end{array}\n",
      "\\right]$\n",
      "=$a'$\n"
     ]
    },
    {
     "cell_type": "code",
     "collapsed": false,
     "input": [
      "#\u6807\u91cf\u5bf9\u5411\u91cf\u6c42\u5bfc\n",
      "a=tf.constant([[1.,2.,3.]],dtype=tf.float32)\n",
      "x=tf.Variable(initial_value=np.random.rand(3,1),dtype=tf.float32)\n",
      "x_op=tf.assign(x,[[1.],[2.],[3.]])\n",
      "y=tf.matmul(a,x)\n",
      "grads=tf.gradients(y,x)\n",
      "\n",
      "tf.global_variables_initializer().run()\n",
      "sess.run(x_op)\n",
      "grads_val=sess.run(grads)\n",
      "\n",
      "print('a=')\n",
      "print(a.eval())\n",
      "print('x=')\n",
      "print(x.eval())\n",
      "print('y=a*x=')\n",
      "print(y.eval())\n",
      "print('grads_val=')\n",
      "print(grads_val)"
     ],
     "language": "python",
     "metadata": {},
     "outputs": [
      {
       "output_type": "stream",
       "stream": "stdout",
       "text": [
        "a=\n",
        "[[1. 2. 3.]]\n",
        "x=\n",
        "[[1.]\n",
        " [2.]\n",
        " [3.]]\n",
        "y=a*x=\n",
        "[[14.]]\n",
        "grads_val=\n",
        "[array([[1.],\n",
        "       [2.],\n",
        "       [3.]], dtype=float32)]\n"
       ]
      }
     ],
     "prompt_number": 8
    },
    {
     "cell_type": "markdown",
     "metadata": {},
     "source": [
      "# \u6807\u91cf\u5bf9\u5411\u91cf\u6c42\u5bfc\n",
      "x:\u6a2a\u5411\u91cf\n",
      "\n",
      "y:\u6807\u91cf\n",
      "\n",
      "$x$=\n",
      "$\\left[ x_{1}  x_{2}  x_{3} \\right]$\n",
      "\n",
      "$a$=\n",
      "$\\left[\n",
      "\\begin{array}{c}\n",
      "a_{1} \\\\\n",
      "a_{2} \\\\\n",
      "a_{3} \n",
      "\\end{array}\n",
      "\\right]$\n",
      "\n",
      "y=$x\\cdot a$=\n",
      "$\\left[ a_{1}x_{1}+a_{2}x_{2}+a_{3}x_{3}\\right]$\n",
      "\n",
      "$\\frac{dy}{dx}$\n",
      "=\n",
      "$\\left[\n",
      "\\frac{d(a_{1}x_{1}+a_{2}x_{2}+a_{3}x_{3})}{d{x_{1}}} \\text{ }\n",
      "\\frac{d(a_{1}x_{1}+a_{2}x_{2}+a_{3}x_{3})}{d{x_{2}}} \\text{ }\n",
      "\\frac{d(a_{1}x_{1}+a_{2}x_{2}+a_{3}x_{3})}{d{x_{3}}} \\text{ }\n",
      "\\right]$\n",
      "=\n",
      "$\\left[\n",
      "\\begin{array}{ccc}\n",
      "a_{1} \\text{ }\n",
      "a_{2} \\text{ } \n",
      "a_{3} \\text{ }\n",
      "\\end{array}\n",
      "\\right]$\n",
      "=$a'$\n"
     ]
    },
    {
     "cell_type": "code",
     "collapsed": false,
     "input": [
      "#\u6807\u91cf\u5bf9\u6807\u91cf\u7684\u6c42\u5bfc\n",
      "#  x:\u6807\u91cf\n",
      "#    2.0\n",
      "#  y=x^3 => dy/dx\n",
      "\n",
      "x = tf.Variable(initial_value=np.random.rand(),dtype=tf.float32,name='var1') \n",
      "x_op=tf.assign(x,2.0)\n",
      "y=tf.pow(x,3)\n",
      "tf.global_variables_initializer().run()\n",
      "grads=tf.gradients(y,[x])\n",
      "sess.run(x_op)\n",
      "grads_val=sess.run(grads)\n",
      "print(x)\n",
      "print(y)\n",
      "print(grads)\n",
      "print(y.eval())\n",
      "print(sess.run(grads))"
     ],
     "language": "python",
     "metadata": {},
     "outputs": [
      {
       "output_type": "stream",
       "stream": "stdout",
       "text": [
        "<tf.Variable 'var1_4:0' shape=() dtype=float32_ref>\n",
        "Tensor(\"Pow:0\", shape=(), dtype=float32)\n",
        "[<tf.Tensor 'gradients_7/Pow_grad/Reshape:0' shape=() dtype=float32>]\n",
        "8.0\n",
        "[12.0]\n"
       ]
      }
     ],
     "prompt_number": 9
    },
    {
     "cell_type": "markdown",
     "metadata": {},
     "source": [
      "# \u5411\u91cf\u5bf9\u6807\u91cf\u6c42\u5bfc\n",
      "x:\u6807\u91cf\n",
      "\n",
      "y:\u5217\u5411\u91cf\n",
      "\n",
      "a=\n",
      "$\\left[\n",
      "\\begin{array}{c}\n",
      " a_{1} \\\\\n",
      " a_{2} \\\\\n",
      " a_{3} \\\\\n",
      "\\end{array}\n",
      "\\right]$\n",
      "\n",
      "y=$a\\cdot x$=\n",
      "$\\left[\n",
      "\\begin{array}{c}\n",
      "a_{1}x \\\\\n",
      "a_{2}x \\\\\n",
      "a_{3}x\n",
      "\\end{array}\n",
      "\\right]$\n",
      "\n",
      "$\\frac{dy}{dx}$\n",
      "=\n",
      "$\\left[\n",
      "\\begin{array}{c}\n",
      "\\frac{d(a_{1}x)}{dx} \\\\\n",
      "\\frac{d(a_{2}x)}{dx} \\\\\n",
      "\\frac{d(a_{3}x)}{dx} \n",
      "\\end{array}\n",
      "\\right]$\n",
      "=\n",
      "$\\left[\n",
      "\\begin{array}{c}\n",
      "a_{1} \\\\\n",
      "a_{2} \\\\\n",
      "a_{3} \n",
      "\\end{array}\n",
      "\\right]$\n",
      "=$a$\n",
      "\n",
      "???\n",
      "\n",
      "x:\u6807\u91cf\n",
      "\n",
      "y:\u5217\u5411\u91cf=>\u76f8\u5f53\u4e8e\u5f20\u91cf\u5217\u8868?\n",
      "\n",
      "a=\n",
      "$\\left[\n",
      "\\begin{array}{c}\n",
      " a_{1} \\\\\n",
      " a_{2} \\\\\n",
      " a_{3} \\\\\n",
      "\\end{array}\n",
      "\\right]$\n",
      "\n",
      "y=$a\\cdot x$=\n",
      "$\\left[\n",
      "\\begin{array}{c}\n",
      "a_{1}x \\\\\n",
      "a_{2}x \\\\\n",
      "a_{3}x\n",
      "\\end{array}\n",
      "\\right]$\n",
      "\n",
      "$\\frac{dy}{dx}$\n",
      "=\n",
      "$\\left[\n",
      "\\begin{array}{c}\n",
      "\\frac{d(a_{1}x)}{dx} + \\frac{d(a_{2}x)}{dx} + \\frac{d(a_{3}x)}{dx} \n",
      "\\end{array}\n",
      "\\right]$\n",
      "=\n",
      "$\\left[\n",
      "\\begin{array}{c}\n",
      "a_{1} + a_{2} + a_{3} \n",
      "\\end{array}\n",
      "\\right]$"
     ]
    },
    {
     "cell_type": "code",
     "collapsed": false,
     "input": [
      "#\u5411\u91cf\u5bf9\u6807\u91cf\u6c42\u5bfc\n",
      "a=tf.constant([[1.],[2.],[3.]],dtype=tf.float32)\n",
      "x=tf.Variable(initial_value=np.random.rand(1,1),dtype=tf.float32)\n",
      "x_op=tf.assign(x,[[1.0]])\n",
      "y=tf.matmul(a,x)\n",
      "y=tf.expand_dims(y,0)\n",
      "grads=tf.gradients(y,x)\n",
      "\n",
      "tf.global_variables_initializer().run()\n",
      "sess.run(x_op)\n",
      "grads_val=sess.run(grads)\n",
      "\n",
      "print('a=')\n",
      "print(a.eval())\n",
      "print('x=')\n",
      "print(x.eval())\n",
      "print('y=a*x=')\n",
      "print(y.eval())\n",
      "print('grads_val=')\n",
      "print(grads_val)"
     ],
     "language": "python",
     "metadata": {},
     "outputs": [
      {
       "output_type": "stream",
       "stream": "stdout",
       "text": [
        "a=\n",
        "[[1.]\n",
        " [2.]\n",
        " [3.]]\n",
        "x=\n",
        "[[1.]]\n",
        "y=a*x=\n",
        "[[[1.]\n",
        "  [2.]\n",
        "  [3.]]]\n",
        "grads_val=\n",
        "[array([[6.]], dtype=float32)]\n"
       ]
      }
     ],
     "prompt_number": 10
    },
    {
     "cell_type": "markdown",
     "metadata": {},
     "source": [
      "# \u5411\u91cf\u5bf9\u6807\u91cf\u6c42\u5bfc\n",
      "x:\u6807\u91cf\n",
      "\n",
      "y:\u6a2a\u5411\u91cf\n",
      "\n",
      "a=\n",
      "$\\left[\n",
      "\\begin{array}{c}\n",
      " a_{1}\\text{ }  a_{2}\\text{ }  a_{3}\\text{ } \n",
      "\\end{array}\n",
      "\\right]$\n",
      "\n",
      "y=$a\\cdot x$=\n",
      "$\\left[\n",
      "\\begin{array}{c}\n",
      "a_{1}x\\text{ } a_{2}x\\text{ } a_{3}x\\text{ }\n",
      "\\end{array}\n",
      "\\right]$\n",
      "\n",
      "$\\frac{dy}{dx}$\n",
      "=\n",
      "$\\left[\n",
      "\\begin{array}{c}\n",
      "\\frac{d(a_{1}x)}{dx}\\text{ } \\frac{d(a_{2}x)}{dx}\\text{ } \\frac{d(a_{3}x)}{dx}\\text{ } \n",
      "\\end{array}\n",
      "\\right]$\n",
      "=\n",
      "$\\left[\n",
      "\\begin{array}{c}\n",
      "a_{1}\\text{ } a_{2}\\text{ } a_{3}\\text{ } \n",
      "\\end{array}\n",
      "\\right]$\n",
      "=$a$\n",
      "\n",
      "\uff1f\uff1f\uff1f\uff1f\uff1f\uff1f\uff1f\uff1f\n",
      "\n",
      "x:\u6807\u91cf\n",
      "\n",
      "y:\u6a2a\u5411\u91cf=>\u76f8\u5f53\u4e8e\u5f20\u91cf\u5217\u8868?\n",
      "\n",
      "a=\n",
      "$\\left[\n",
      "\\begin{array}{c}\n",
      " a_{1}\\text{ } a_{2}\\text{ } a_{3} \n",
      "\\end{array}\n",
      "\\right]$\n",
      "\n",
      "y=$a\\cdot x$=\n",
      "$\\left[\n",
      "\\begin{array}{c}\n",
      "a_{1}x\\text{ } a_{2}x\\text{ } a_{3}x\n",
      "\\end{array}\n",
      "\\right]$\n",
      "\n",
      "$\\frac{dy}{dx}$\n",
      "=\n",
      "$\\left[\n",
      "\\begin{array}{c}\n",
      "\\frac{d(a_{1}x)}{dx} + \\frac{d(a_{2}x)}{dx} + \\frac{d(a_{3}x)}{dx} \n",
      "\\end{array}\n",
      "\\right]$\n",
      "=\n",
      "$\\left[\n",
      "\\begin{array}{c}\n",
      "a_{1} + a_{2} + a_{3} \n",
      "\\end{array}\n",
      "\\right]$"
     ]
    },
    {
     "cell_type": "code",
     "collapsed": false,
     "input": [
      "#\u5411\u91cf\u5bf9\u6807\u91cf\u6c42\u5bfc\n",
      "a=tf.constant([[1.,2.,3.]],dtype=tf.float32)\n",
      "x=tf.Variable(initial_value=np.random.rand(1,1),dtype=tf.float32)\n",
      "x_op=tf.assign(x,[[1.0]])\n",
      "y=tf.matmul(x,a)\n",
      "grads=tf.gradients(y,x)\n",
      "\n",
      "tf.global_variables_initializer().run()\n",
      "sess.run(x_op)\n",
      "grads_val=sess.run(grads)\n",
      "\n",
      "print('a=')\n",
      "print(a.eval())\n",
      "print('x=')\n",
      "print(x.eval())\n",
      "print('y=a*x=')\n",
      "print(y.eval())\n",
      "print('grads_val=')\n",
      "print(grads_val)"
     ],
     "language": "python",
     "metadata": {},
     "outputs": [
      {
       "output_type": "stream",
       "stream": "stdout",
       "text": [
        "a=\n",
        "[[1. 2. 3.]]\n",
        "x=\n",
        "[[1.]]\n",
        "y=a*x=\n",
        "[[1. 2. 3.]]\n",
        "grads_val=\n",
        "[array([[6.]], dtype=float32)]\n"
       ]
      }
     ],
     "prompt_number": 11
    },
    {
     "cell_type": "heading",
     "level": 1,
     "metadata": {},
     "source": [
      "\u6807\u91cf\u5bf9\u77e9\u9635\u6c42\u5bfc"
     ]
    },
    {
     "cell_type": "heading",
     "level": 1,
     "metadata": {},
     "source": [
      "\u77e9\u9635\u5bf9\u6807\u91cf\u6c42\u5bfc"
     ]
    },
    {
     "cell_type": "heading",
     "level": 1,
     "metadata": {},
     "source": [
      "\u77e9\u9635\u5bf9\u5217\u5411\u91cf\u6c42\u5bfc"
     ]
    },
    {
     "cell_type": "heading",
     "level": 1,
     "metadata": {},
     "source": [
      "\u5217\u5411\u91cf\u5bf9\u77e9\u9635\u6c42\u5bfc"
     ]
    },
    {
     "cell_type": "heading",
     "level": 1,
     "metadata": {},
     "source": [
      "\u77e9\u9635\u5bf9\u6a2a\u5411\u91cf\u6c42\u5bfc"
     ]
    },
    {
     "cell_type": "heading",
     "level": 1,
     "metadata": {},
     "source": [
      "\u6a2a\u5411\u91cf\u5bf9\u77e9\u9635\u6c42\u5bfc"
     ]
    },
    {
     "cell_type": "heading",
     "level": 1,
     "metadata": {},
     "source": [
      "Test"
     ]
    },
    {
     "cell_type": "code",
     "collapsed": false,
     "input": [
      "w1 = tf.get_variable('ww1', shape=[3])\n",
      "w2 = tf.get_variable('ww2', shape=[3])\n",
      "\n",
      "w3 = tf.get_variable('ww3', shape=[3])\n",
      "w4 = tf.get_variable('ww4', shape=[3])\n",
      "\n",
      "z1 = w1 + w2+ w3\n",
      "z2 = w3 + w4\n",
      "\n",
      "grads = tf.gradients([z1, z2], [w1, w2, w3, w4], grad_ys=[tf.convert_to_tensor([2.,2.,3.]),\n",
      "                                                          tf.convert_to_tensor([3.,2.,4.])])\n",
      "\n",
      "tf.global_variables_initializer().run()\n",
      "print(sess.run(grads))\n"
     ],
     "language": "python",
     "metadata": {},
     "outputs": [
      {
       "output_type": "stream",
       "stream": "stdout",
       "text": [
        "[array([2., 2., 3.], dtype=float32), array([2., 2., 3.], dtype=float32), array([5., 4., 7.], dtype=float32), array([3., 2., 4.], dtype=float32)]\n"
       ]
      }
     ],
     "prompt_number": 12
    },
    {
     "cell_type": "code",
     "collapsed": false,
     "input": [],
     "language": "python",
     "metadata": {},
     "outputs": [],
     "prompt_number": null
    }
   ],
   "metadata": {}
  }
 ]
}