{
 "cells": [
  {
   "cell_type": "markdown",
   "metadata": {},
   "source": [
    "# Python format 格式化函数\n",
    "    http://www.runoob.com/python/att-string-format.html\n",
    "    \n",
    "    Python2.6 开始，新增了一种格式化字符串的函数 str.format()，它增强了字符串格式化的功能。\n",
    "    基本语法是通过 {} 和 : 来代替以前的 % 。\n",
    "    format 函数可以接受不限个参数，位置可以不按顺序。\n",
    "    \n",
    "    数字         格式               输出          描述\n",
    "    -------------------------------------------------------------------------\n",
    "    3.1415926   {:.2f}             3.14         保留小数点后两位\n",
    "    3.1415926 \t{:+.2f}            +3.14        带符号保留小数点后两位\n",
    "    -1          {:+.2f}            -1.00        带符号保留小数点后两位\n",
    "    2.71828     {:.0f}             3            不带小数\n",
    "    5           {:0>2d}            05           数字补零 (填充左边, 宽度为2)\n",
    "    5           {:x<4d}            5xxx         数字补x (填充右边, 宽度为4)\n",
    "    10          {:x<4d}            10xx         数字补x (填充右边, 宽度为4)\n",
    "    1000000     {:,}               1,000,000    以逗号分隔的数字格式\n",
    "    0.25        {:.2%}             25.00%       百分比格式\n",
    "    1000000000  {:.2e}             1.00e+09     指数记法\n",
    "    13          {:10d}             13           右对齐 (默认, 宽度为10)\n",
    "    13          {:<10d}            13           左对齐 (宽度为10)\n",
    "    13          {:^10d}            13           中间对齐 (宽度为10)\n",
    "    11                                          进制\n",
    "                '{:b}'.format(11)  1011\n",
    "                '{:d}'.format(11)  11\n",
    "                '{:o}'.format(11)  13\n",
    "                '{:x}'.format(11)  b\n",
    "                '{:#x}'.format(11) 0xb\n",
    "                '{:#X}'.format(11) 0XB\n",
    "    --------------------------------------------------------------------------\n",
    "    ^, <, > 分别是居中、左对齐、右对齐，后面带宽度， : 号后面带填充的字符，只能是一个字符，不指定则默认是用空格填充。\n",
    "    + 表示在正数前显示 +，负数前显示 -；  （空格）表示在正数前加空格\n",
    "    b、d、o、x 分别是二进制、十进制、八进制、十六进制。"
   ]
  },
  {
   "cell_type": "markdown",
   "metadata": {},
   "source": [
    "## format 函数可以接受不限个参数，位置可以不按顺序。"
   ]
  },
  {
   "cell_type": "code",
   "execution_count": 1,
   "metadata": {},
   "outputs": [
    {
     "name": "stdout",
     "output_type": "stream",
     "text": [
      "hello world\n",
      "hello world\n",
      "world hello world\n"
     ]
    }
   ],
   "source": [
    "print(\"{} {}\".format(\"hello\", \"world\"))        # 不设置指定位置，按默认顺序\n",
    "print(\"{0} {1}\".format(\"hello\", \"world\"))      # 设置指定位置\n",
    "print(\"{1} {0} {1}\".format(\"hello\", \"world\"))  # 设置指定位置"
   ]
  },
  {
   "cell_type": "markdown",
   "metadata": {},
   "source": [
    "## 也可以设置参数"
   ]
  },
  {
   "cell_type": "code",
   "execution_count": 2,
   "metadata": {},
   "outputs": [
    {
     "name": "stdout",
     "output_type": "stream",
     "text": [
      "网站名：菜鸟教程, 地址 www.runoob.com\n",
      "网站名：菜鸟教程, 地址 www.runoob.com\n",
      "网站名：菜鸟教程, 地址 www.runoob.com\n"
     ]
    }
   ],
   "source": [
    "#通过命令关键字参数设置\n",
    "print(\"网站名：{name}, 地址 {url}\".format(name=\"菜鸟教程\", url=\"www.runoob.com\")) \n",
    "# 通过字典设置参数\n",
    "site = {\"name\": \"菜鸟教程\", \"url\": \"www.runoob.com\"}\n",
    "print(\"网站名：{name}, 地址 {url}\".format(**site)) \n",
    "# 通过列表索引设置参数\n",
    "my_list = ['菜鸟教程', 'www.runoob.com']\n",
    "print(\"网站名：{0[0]}, 地址 {0[1]}\".format(my_list))  # \"0\" 是必须的"
   ]
  },
  {
   "cell_type": "markdown",
   "metadata": {},
   "source": [
    "## 也可以向 str.format() 传入对象："
   ]
  },
  {
   "cell_type": "code",
   "execution_count": 3,
   "metadata": {},
   "outputs": [
    {
     "name": "stdout",
     "output_type": "stream",
     "text": [
      "value 为: 6\n"
     ]
    }
   ],
   "source": [
    "class AssignValue(object):\n",
    "    def __init__(self, value):\n",
    "        self.value = value\n",
    "my_value = AssignValue(6)\n",
    "print('value 为: {0.value}'.format(my_value))  # \"0\" 是可选的"
   ]
  },
  {
   "cell_type": "markdown",
   "metadata": {},
   "source": [
    "## 数字格式化"
   ]
  },
  {
   "cell_type": "code",
   "execution_count": 4,
   "metadata": {},
   "outputs": [
    {
     "name": "stdout",
     "output_type": "stream",
     "text": [
      "3.14\n"
     ]
    }
   ],
   "source": [
    "print(\"{:.2f}\".format(3.1415926))"
   ]
  },
  {
   "cell_type": "code",
   "execution_count": null,
   "metadata": {},
   "outputs": [],
   "source": []
  }
 ],
 "metadata": {
  "kernelspec": {
   "display_name": "Python 3",
   "language": "python",
   "name": "python3"
  },
  "language_info": {
   "codemirror_mode": {
    "name": "ipython",
    "version": 3
   },
   "file_extension": ".py",
   "mimetype": "text/x-python",
   "name": "python",
   "nbconvert_exporter": "python",
   "pygments_lexer": "ipython3",
   "version": "3.5.2"
  }
 },
 "nbformat": 4,
 "nbformat_minor": 2
}
