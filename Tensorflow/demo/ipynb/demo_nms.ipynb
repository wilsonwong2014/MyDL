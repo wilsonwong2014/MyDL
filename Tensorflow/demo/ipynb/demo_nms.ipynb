{
 "cells": [
  {
   "cell_type": "markdown",
   "metadata": {},
   "source": [
    "# 非极大值抑制算法(NMS)及python实现\n",
    "\n",
    "    https://blog.csdn.net/Blateyang/article/details/79113030\n",
    "    \n",
    "    已加入 mylibs.py_nms.py\n",
    "    \n",
    "    在目标检测中，常会利用非极大值抑制算法(NMS)对生成的大量候选框进行后处理，去除冗余的候选框，得到最具代表性的结果，以加快目标检测的效率。即如下图所示，消除多余的候选框，找到最佳的bbox。\n",
    "    \n",
    "<img src='images/nms.png' >\n",
    "\n",
    "## NMS算法过程\n",
    "\n",
    "根据候选框的类别分类概率做排序：A&lt;B&lt;C&lt;D&lt;E&lt;F\n",
    "\n",
    "A<B<C<D<E<F\n",
    "\n",
    "    先标记最大概率矩形框F是我们要保留下来的；\n",
    "    从最大概率矩形框F开始，分别判断A~E与F的重叠度IOU（两框的交并比）是否大于某个设定的阈值，假设B、D与F的重叠度超过阈值，那么就扔掉B、D；\n",
    "    从剩下的矩形框A、C、E中，选择概率最大的E，标记为要保留下来的，然后判读E与A、C的重叠度，扔掉重叠度超过设定阈值的矩形框\n",
    "\n",
    "就这样一直重复下去，直到剩下的矩形框没有了，标记完所有要保留下来的矩形框"
   ]
  },
  {
   "cell_type": "code",
   "execution_count": 37,
   "metadata": {},
   "outputs": [
    {
     "name": "stdout",
     "output_type": "stream",
     "text": [
      "[0, 2]\n",
      "[[ 50.   60.  200.  300.    1. ]\n",
      " [100.  120.  260.  360.    0.8]]\n"
     ]
    },
    {
     "data": {
      "text/plain": [
       "<matplotlib.image.AxesImage at 0x7eff691e2b70>"
      ]
     },
     "execution_count": 37,
     "metadata": {},
     "output_type": "execute_result"
    },
    {
     "data": {
      "image/png": "[encoded data removed]",
      "text/plain": [
       "<Figure size 1024x768 with 2 Axes>"
      ]
     },
     "metadata": {
      "needs_background": "light"
     },
     "output_type": "display_data"
    }
   ],
   "source": [
    "# python3 \n",
    "import numpy as np \n",
    "def py_nms(dets, thresh): \n",
    "    '''Pure Python NMS baseline.\n",
    "    dets   => [[x1,x1,x2,y2,score],......]\n",
    "    thresh => 0-1 ,float\n",
    "    \n",
    "    return [id1,....],保留的矩形框序号\n",
    "    '''\n",
    "    #x1、y1、x2、y2、以及score赋值 \n",
    "    x1 = dets[:, 0] \n",
    "    y1 = dets[:, 1] \n",
    "    x2 = dets[:, 2] \n",
    "    y2 = dets[:, 3] \n",
    "    scores = dets[:, 4] \n",
    "    \n",
    "    #每一个候选框的面积 \n",
    "    areas = (x2 - x1 + 1) * (y2 - y1 + 1) \n",
    "    #order是按照score降序排序的 \n",
    "    order = scores.argsort()[::-1] \n",
    "    keep = [] \n",
    "    while order.size > 0: \n",
    "        i = order[0] \n",
    "        keep.append(i) \n",
    "        #计算当前概率最大矩形框与其他矩形框的相交框的坐标，会用到numpy的broadcast机制，得到的是向量 \n",
    "        xx1 = np.maximum(x1[i], x1[order[1:]]) \n",
    "        yy1 = np.maximum(y1[i], y1[order[1:]]) \n",
    "        xx2 = np.minimum(x2[i], x2[order[1:]]) \n",
    "        yy2 = np.minimum(y2[i], y2[order[1:]]) \n",
    "        #计算相交框的面积,注意矩形框不相交时w或h算出来会是负数，用0代替 \n",
    "        w = np.maximum(0.0, xx2 - xx1 + 1) \n",
    "        h = np.maximum(0.0, yy2 - yy1 + 1) \n",
    "        inter = w * h \n",
    "        #计算重叠度IOU：重叠面积/（面积1+面积2-重叠面积） \n",
    "        ovr = inter / (areas[i] + areas[order[1:]] - inter) \n",
    "        #找到重叠度不高于阈值的矩形框索引 \n",
    "        inds = np.where(ovr <= thresh)[0] \n",
    "        #将order序列更新，由于前面得到的矩形框索引要比矩形框在原order序列中的索引小1，所以要把这个1加回来 \n",
    "        order = order[inds + 1] \n",
    "    return keep \n",
    "\n",
    "#========测试========\n",
    "# test \n",
    "#if __name__ == \"__main__\": \n",
    "#构造矩形框数据\n",
    "dets = np.array(\n",
    "        [[50, 60, 200, 300, 1], \n",
    "         [80, 90, 230, 330, 0.9], \n",
    "         [100, 120, 260, 360, 0.8], \n",
    "         [130, 150, 290, 390, 0.7]]) \n",
    "texts=['0','1','2','3']\n",
    "\n",
    "#阈值\n",
    "thresh = 0.5 \n",
    "#NMS检测\n",
    "keep_dets = py_nms(dets, thresh) \n",
    "#保留序号\n",
    "print(keep_dets) \n",
    "#保留矩形框\n",
    "print(dets[keep_dets])\n",
    "\n",
    "#结果图形化输出\n",
    "import numpy as np\n",
    "import cv2\n",
    "import matplotlib.pyplot as plt\n",
    "from mylibs.views.draw_boxs import draw_boxs\n",
    "img=np.zeros((600,800,3),dtype=np.uint8)\n",
    "img1=img.copy()\n",
    "img2=img.copy()\n",
    "img1=draw_boxs(img1,dets[:,0:4].astype(np.int),thickness=2,texts=['0','1','2','3'])\n",
    "img2=draw_boxs(img2,dets[keep_dets,0:4].astype(np.int),thickness=2,texts=[texts[i] for i in keep_dets])\n",
    "plt.figure(figsize=(1024/72.,768/72.))\n",
    "plt.subplot(1,2,1)\n",
    "plt.imshow(img1)  \n",
    "plt.subplot(1,2,2)\n",
    "plt.imshow(img2)"
   ]
  },
  {
   "cell_type": "code",
   "execution_count": null,
   "metadata": {},
   "outputs": [],
   "source": []
  }
 ],
 "metadata": {
  "kernelspec": {
   "display_name": "Python 3",
   "language": "python",
   "name": "python3"
  },
  "language_info": {
   "codemirror_mode": {
    "name": "ipython",
    "version": 3
   },
   "file_extension": ".py",
   "mimetype": "text/x-python",
   "name": "python",
   "nbconvert_exporter": "python",
   "pygments_lexer": "ipython3",
   "version": "3.5.2"
  }
 },
 "nbformat": 4,
 "nbformat_minor": 2
}
