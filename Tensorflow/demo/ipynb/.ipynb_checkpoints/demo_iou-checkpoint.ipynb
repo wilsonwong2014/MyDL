{
 "cells": [
  {
   "cell_type": "markdown",
   "metadata": {},
   "source": [
    "# 交并比（Intersection-over-Union，IoU）\n",
    "描述两个边框的重叠度，如下图所示\n",
    "<img src='images/IoU.png'>\n",
    "计算公式\n",
    "IoU=$\\frac{area(C)\\cap area(G)}{area(C)\\cup area(G)}$\n"
   ]
  },
  {
   "cell_type": "code",
   "execution_count": 1,
   "metadata": {},
   "outputs": [],
   "source": [
    "import numpy as np\n",
    "import matplotlib.pyplot as plt\n"
   ]
  },
  {
   "cell_type": "code",
   "execution_count": 2,
   "metadata": {},
   "outputs": [],
   "source": [
    "#示范代码\n",
    "def iou(bb_test,bb_gt):\n",
    "  \"\"\"\n",
    "  Computes IUO between two bboxes in the form [x1,y1,x2,y2]\n",
    "  \"\"\"\n",
    "  xx1 = np.maximum(bb_test[0], bb_gt[0])\n",
    "  yy1 = np.maximum(bb_test[1], bb_gt[1])\n",
    "  xx2 = np.minimum(bb_test[2], bb_gt[2])\n",
    "  yy2 = np.minimum(bb_test[3], bb_gt[3])\n",
    "  w = np.maximum(0., xx2 - xx1)\n",
    "  h = np.maximum(0., yy2 - yy1)\n",
    "  wh = w * h\n",
    "  o = wh / ((bb_test[2]-bb_test[0])*(bb_test[3]-bb_test[1])\n",
    "    + (bb_gt[2]-bb_gt[0])*(bb_gt[3]-bb_gt[1]) - wh)\n",
    "  return(o)"
   ]
  },
  {
   "cell_type": "code",
   "execution_count": 6,
   "metadata": {},
   "outputs": [
    {
     "name": "stdout",
     "output_type": "stream",
     "text": [
      "0.11446012972148036\n"
     ]
    }
   ],
   "source": [
    "bb_test=[1,1,50,30]\n",
    "bb_gt=[20,20,70,50]\n",
    "iou1=iou(bb_test,bb_gt)\n",
    "print(iou1)"
   ]
  },
  {
   "cell_type": "code",
   "execution_count": null,
   "metadata": {},
   "outputs": [],
   "source": []
  }
 ],
 "metadata": {
  "kernelspec": {
   "display_name": "Python 3",
   "language": "python",
   "name": "python3"
  },
  "language_info": {
   "codemirror_mode": {
    "name": "ipython",
    "version": 3
   },
   "file_extension": ".py",
   "mimetype": "text/x-python",
   "name": "python",
   "nbconvert_exporter": "python",
   "pygments_lexer": "ipython3",
   "version": "3.5.2"
  }
 },
 "nbformat": 4,
 "nbformat_minor": 1
}
