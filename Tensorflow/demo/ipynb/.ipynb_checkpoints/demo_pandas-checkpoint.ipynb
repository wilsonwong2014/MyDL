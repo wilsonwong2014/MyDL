{
 "cells": [
  {
   "cell_type": "markdown",
   "metadata": {},
   "source": [
    "# pandas使用范例"
   ]
  },
  {
   "cell_type": "markdown",
   "metadata": {},
   "source": [
    "## 参考资料\n",
    "pandas重要操作汇总\n",
    "\n",
    "十分钟搞定 pandas\n",
    "\n",
    "    原文：http://pandas.pydata.org/pandas-docs/stable/10min.html\n",
    "\n",
    "    译者：ChaoSimple\n",
    "\n",
    "    校对：飞龙\n",
    "\n",
    "官方网站上《10 Minutes to pandas》的一个简单的翻译，原文在这里。这篇文章是对 pandas 的一个简单的介绍，详细的介绍请参考：秘籍 。习惯上，我们会按下面格式引入所需要的包：\n",
    "\n",
    "In [1]: import pandas as pd\n",
    "\n",
    "In [2]: import numpy as np\n",
    "\n",
    "In [3]: import matplotlib.pyplot as plt\n",
    "\n",
    "## pandas中文教程\n",
    "\n",
    "    https://apachecn.github.io/pandas-doc-zh/\n",
    "  \n",
    "    (API)\n",
    "  \n",
    "    https://apachecn.github.io/pandas-doc-zh/api.html\n",
    "  \n",
    "## pandas.pdf\n",
    "\n",
    "    http://vdisk.weibo.com/s/aK8h8G1KA09CI?category_id=0...ref"
   ]
  },
  {
   "cell_type": "markdown",
   "metadata": {},
   "source": [
    "# 范例索引\n",
    "* <a href=\"#1.创建对象\"> 1.创建对象</a>\n",
    "* 1.1.可以通过传递一个list对象来创建一个Series，pandas 会默认创建整型索引\n",
    "* 1.2. 通过传递一个 numpyarray，时间索引以及列标签来创建一个DataFrame\n",
    "* 1.3. 通过传递一个能够被转换成类似序列结构的字典对象来创建一个DataFrame\n",
    "* 2.查看数据\n",
    "* 2.1. 查看DataFrame中头部和尾部的行\n",
    "* 2.2. 显示索引、列和底层的 numpy 数据\n",
    "* 2.3. describe()函数对于数据的快速统计汇总\n",
    "* 2.4. 对数据的转置\n",
    "* 2.5. 按轴进行排序\n",
    "* 2.6. 按值进行排序\n",
    "* 3. 选择\n",
    "* 3.1. 选择一个单独的列，这将会返回一个Series，等同于df.A"
   ]
  },
  {
   "cell_type": "markdown",
   "metadata": {},
   "source": [
    "## 引入库"
   ]
  },
  {
   "cell_type": "code",
   "execution_count": 1,
   "metadata": {},
   "outputs": [],
   "source": [
    "import pandas as pd\n",
    "import numpy as np\n",
    "import matplotlib.pyplot as plt"
   ]
  },
  {
   "cell_type": "markdown",
   "metadata": {},
   "source": [
    "## 1.创建对象\n",
    "#可以通过 数据结构入门 来查看有关该节内容的详细信息。\n",
    "\n"
   ]
  },
  {
   "cell_type": "markdown",
   "metadata": {},
   "source": [
    "### 创建时间索引\n",
    "- pandas.date_range(start=None, end=None, periods=None, freq=’D’, tz=None, normalize=False,\n",
    "    name=None, closed=None)\n",
    "        Return a fixed frequency datetime index, with day (calendar) as the default frequency\n",
    "    __Parameters__\n",
    "        start : string or datetime-like, default None\n",
    "            Left bound for generating dates\n",
    "        end : string or datetime-like, default None\n",
    "            Right bound for generating dates\n",
    "        periods : integer or None, default None\n",
    "            If None, must specify start and end\n",
    "        freq : string or DateOffset, default ‘D’ (calendar daily)\n",
    "            Frequency strings can have multiples, e.g. ‘5H’\n",
    "        tz : string or None\n",
    "            Time zone name for returning localized DatetimeIndex, for example\n",
    "            Asia/Hong_Kong\n",
    "        normalize : bool, default False\n",
    "            Normalize start/end dates to midnight before generating date range\n",
    "        name : str, default None\n",
    "            Name of the resulting index\n",
    "        closed : string or None, default None\n",
    "            Make the interval closed with respect to the given frequency to the ‘left’, ‘right’, or both\n",
    "            sides (None)\n",
    "    __Returns__\n",
    "        rng : DatetimeIndex"
   ]
  },
  {
   "cell_type": "code",
   "execution_count": 28,
   "metadata": {},
   "outputs": [
    {
     "name": "stdout",
     "output_type": "stream",
     "text": [
      "DatetimeIndex(['2019-01-01', '2019-01-02', '2019-01-03'], dtype='datetime64[ns]', freq='D')\n",
      "DatetimeIndex(['2019-01-31', '2019-02-28', '2019-03-31'], dtype='datetime64[ns]', freq='M')\n"
     ]
    }
   ],
   "source": [
    "import numpy as np\n",
    "import pandas as pd\n",
    "#参数freq:Y-年,M-月,D-日,H-时,T-分,S-秒,L-毫秒,N-纳秒\n",
    "d1=pd.date_range(start='20190101',periods=3)\n",
    "d2=pd.date_range(start='20190101',periods=3,freq='M')\n",
    "print(d1)\n",
    "print(d2)"
   ]
  },
  {
   "cell_type": "markdown",
   "metadata": {},
   "source": [
    "### Categorical类型\n",
    "    pandas.Categorical（values，categories = None，ordered = None，dtype = None，fastpath = False ）   "
   ]
  },
  {
   "cell_type": "code",
   "execution_count": 37,
   "metadata": {},
   "outputs": [
    {
     "name": "stdout",
     "output_type": "stream",
     "text": [
      "[a, b, c]\n",
      "Categories (3, object): [a, b, c]\n"
     ]
    }
   ],
   "source": [
    "import numpy as np\n",
    "import pandas as pd\n",
    "\n",
    "c=pd.Categorical(['a','b','c'])\n",
    "print(c)"
   ]
  },
  {
   "cell_type": "markdown",
   "metadata": {},
   "source": [
    "### 创建Series对象"
   ]
  },
  {
   "cell_type": "code",
   "execution_count": 39,
   "metadata": {},
   "outputs": [
    {
     "name": "stdout",
     "output_type": "stream",
     "text": [
      "1    1.0\n",
      "2    NaN\n",
      "3    6.0\n",
      "dtype: float64\n",
      "1    1\n",
      "2    1\n",
      "3    1\n",
      "dtype: int64\n"
     ]
    }
   ],
   "source": [
    "import numpy as np\n",
    "import pandas as pd\n",
    "s1 = pd.Series([1,np.nan,6],index=np.arange(1,4))\n",
    "s2 = pd.Series(1,index=np.arange(1,4))\n",
    "print(s1)\n",
    "print(s2)"
   ]
  },
  {
   "cell_type": "markdown",
   "metadata": {},
   "source": [
    "### 创建DataFrame对象"
   ]
  },
  {
   "cell_type": "code",
   "execution_count": 119,
   "metadata": {},
   "outputs": [
    {
     "name": "stdout",
     "output_type": "stream",
     "text": [
      "Empty DataFrame\n",
      "Columns: [A, B]\n",
      "Index: []\n",
      "Empty DataFrame\n",
      "Columns: [A, B, (0, A)]\n",
      "Index: []\n"
     ]
    }
   ],
   "source": [
    "#创建空的DataFrame对象\n",
    "import pandas as pd\n",
    "df=pd.DataFrame(columns=['A','B'])\n",
    "print(df)\n",
    "df[0,'A']=1\n",
    "print(df)"
   ]
  },
  {
   "cell_type": "code",
   "execution_count": 51,
   "metadata": {},
   "outputs": [
    {
     "name": "stdout",
     "output_type": "stream",
     "text": [
      "DatetimeIndex(['2013-01-01', '2013-01-02', '2013-01-03'], dtype='datetime64[ns]', freq='D')\n",
      "A    float64\n",
      "B    float64\n",
      "C    float64\n",
      "D    float64\n",
      "dtype: object\n",
      "-----------------------------------------------------------------\n",
      "                   A         B         C         D\n",
      "2013-01-01 -0.451279  1.032192  0.295717  0.618980\n",
      "2013-01-02 -1.100556 -1.844774  0.558600  0.284955\n",
      "2013-01-03  0.610354  1.970073 -0.462897  1.611019\n"
     ]
    }
   ],
   "source": [
    "#通过np.array创建DataFrame对象\n",
    "import pandas as pd\n",
    "dates = pd.date_range('20130101', periods=3)\n",
    "df = pd.DataFrame(np.random.randn(3,4), index=dates, columns=list('ABCD'))\n",
    "print(dates)     #查看索引\n",
    "print(df.dtypes) #查看数据类型\n",
    "print('-----------------------------------------------------------------')\n",
    "print(df)"
   ]
  },
  {
   "cell_type": "code",
   "execution_count": 50,
   "metadata": {},
   "outputs": [
    {
     "name": "stdout",
     "output_type": "stream",
     "text": [
      "     A          B    C    D  E  F  G\n",
      "0  1.0 2019-01-01  1.0  NaN  1  a  s\n",
      "1  1.0 2019-01-01  1.0  2.0  2  b  s\n",
      "2  1.0 2019-01-01  1.0  2.0  3  a  s\n",
      "3  1.0 2019-01-01  NaN  2.0  4  b  s\n",
      "     A          B    C    D  E  F  G\n",
      "2  1.0 2019-01-01  1.0  2.0  1  a  s\n",
      "3  1.0 2019-01-01  NaN  2.0  2  b  s\n",
      "4  1.0 2019-01-01  NaN  NaN  3  a  s\n",
      "5  1.0 2019-01-01  NaN  NaN  4  b  s\n"
     ]
    }
   ],
   "source": [
    "#通过字典创建DataFrame对象:标量值-重复，向量值-长度要求相同;未指定索引，合并Series的索引对象.\n",
    "import pandas as pd\n",
    "df1=pd.DataFrame({\n",
    "                'A':1.,\n",
    "                'B':pd.Timestamp('20190101'),\n",
    "                'C':pd.Series(1,index=np.arange(3)),\n",
    "                'D':pd.Series(2,index=np.arange(1,4)),\n",
    "                'E':np.array([1,2,3,4]),\n",
    "                'F':pd.Categorical(['a','b','a','b']),\n",
    "                'G':'s'\n",
    "                })\n",
    "df2=pd.DataFrame({\n",
    "                'A':1.,\n",
    "                'B':pd.Timestamp('20190101'),\n",
    "                'C':pd.Series(1,index=np.arange(3)),\n",
    "                'D':pd.Series(2,index=np.arange(1,4)),\n",
    "                'E':np.array([1,2,3,4]),\n",
    "                'F':pd.Categorical(['a','b','a','b']),\n",
    "                'G':'s'\n",
    "                },index=np.arange(2,6))\n",
    "print(df1)\n",
    "print(df2)"
   ]
  },
  {
   "cell_type": "markdown",
   "metadata": {},
   "source": [
    "## 2、 查看数据\n",
    "详情请参阅：基础。"
   ]
  },
  {
   "cell_type": "markdown",
   "metadata": {},
   "source": [
    "### 2.1.、 查看DataFrame中头部和尾部的行："
   ]
  },
  {
   "cell_type": "code",
   "execution_count": 80,
   "metadata": {},
   "outputs": [
    {
     "name": "stdout",
     "output_type": "stream",
     "text": [
      "                   A         B         C         D\n",
      "2013-01-01 -0.256222 -0.606978 -0.630070  0.434748\n",
      "2013-01-02  0.462570 -0.186958 -1.826822  0.365746\n",
      "2013-01-03 -0.823925  0.072821  0.628196  0.178499\n",
      "                   A         B         C         D\n",
      "2013-01-01 -0.256222 -0.606978 -0.630070  0.434748\n",
      "2013-01-02  0.462570 -0.186958 -1.826822  0.365746\n",
      "2013-01-03 -0.823925  0.072821  0.628196  0.178499\n"
     ]
    }
   ],
   "source": [
    "dates = pd.date_range('20130101', periods=3)\n",
    "df = pd.DataFrame(np.random.randn(3,4), index=dates, columns=list('ABCD'))\n",
    "\n",
    "print(df.head())\n",
    "print(df.tail(3))"
   ]
  },
  {
   "cell_type": "markdown",
   "metadata": {},
   "source": [
    "### 2.2.、 显示索引、列和底层的 numpy 数据："
   ]
  },
  {
   "cell_type": "code",
   "execution_count": 81,
   "metadata": {},
   "outputs": [
    {
     "name": "stdout",
     "output_type": "stream",
     "text": [
      "DatetimeIndex(['2013-01-01', '2013-01-02', '2013-01-03'], dtype='datetime64[ns]', freq='D')\n",
      "---------------------------------------------------\n",
      "Index(['A', 'B', 'C', 'D'], dtype='object')\n",
      "---------------------------------------------------\n",
      "[[-0.25622156 -0.60697801 -0.63006958  0.43474837]\n",
      " [ 0.4625696  -0.1869578  -1.82682174  0.36574638]\n",
      " [-0.82392539  0.07282079  0.62819562  0.17849904]]\n"
     ]
    }
   ],
   "source": [
    "print(df.index)\n",
    "print('---------------------------------------------------')\n",
    "print(df.columns)\n",
    "print('---------------------------------------------------')\n",
    "print(df.values)"
   ]
  },
  {
   "cell_type": "markdown",
   "metadata": {},
   "source": [
    "### 2.3.、 describe()函数对于数据的快速统计汇总："
   ]
  },
  {
   "cell_type": "code",
   "execution_count": 82,
   "metadata": {},
   "outputs": [
    {
     "name": "stdout",
     "output_type": "stream",
     "text": [
      "              A         B         C         D\n",
      "count  3.000000  3.000000  3.000000  3.000000\n",
      "mean  -0.205859 -0.240372 -0.609565  0.326331\n",
      "std    0.644724  0.343033  1.227637  0.132594\n",
      "min   -0.823925 -0.606978 -1.826822  0.178499\n",
      "25%   -0.540073 -0.396968 -1.228446  0.272123\n",
      "50%   -0.256222 -0.186958 -0.630070  0.365746\n",
      "75%    0.103174 -0.057069 -0.000937  0.400247\n",
      "max    0.462570  0.072821  0.628196  0.434748\n"
     ]
    }
   ],
   "source": [
    "print(df.describe())"
   ]
  },
  {
   "cell_type": "markdown",
   "metadata": {},
   "source": [
    "### 2.4.、 对数据的转置："
   ]
  },
  {
   "cell_type": "code",
   "execution_count": 83,
   "metadata": {},
   "outputs": [
    {
     "name": "stdout",
     "output_type": "stream",
     "text": [
      "   2013-01-01  2013-01-02  2013-01-03\n",
      "A   -0.256222    0.462570   -0.823925\n",
      "B   -0.606978   -0.186958    0.072821\n",
      "C   -0.630070   -1.826822    0.628196\n",
      "D    0.434748    0.365746    0.178499\n"
     ]
    }
   ],
   "source": [
    "print(df.T)"
   ]
  },
  {
   "cell_type": "markdown",
   "metadata": {},
   "source": [
    "### 2.5.、 按轴进行排序"
   ]
  },
  {
   "cell_type": "code",
   "execution_count": 84,
   "metadata": {},
   "outputs": [
    {
     "name": "stdout",
     "output_type": "stream",
     "text": [
      "                   D         C         B         A\n",
      "2013-01-01  0.434748 -0.630070 -0.606978 -0.256222\n",
      "2013-01-02  0.365746 -1.826822 -0.186958  0.462570\n",
      "2013-01-03  0.178499  0.628196  0.072821 -0.823925\n"
     ]
    }
   ],
   "source": [
    "print(df.sort_index(axis=1, ascending=False))"
   ]
  },
  {
   "cell_type": "markdown",
   "metadata": {},
   "source": [
    "### 2.6.、 按值进行排序"
   ]
  },
  {
   "cell_type": "code",
   "execution_count": 85,
   "metadata": {},
   "outputs": [
    {
     "name": "stdout",
     "output_type": "stream",
     "text": [
      "                   A         B         C         D\n",
      "2013-01-01 -0.256222 -0.606978 -0.630070  0.434748\n",
      "2013-01-02  0.462570 -0.186958 -1.826822  0.365746\n",
      "2013-01-03 -0.823925  0.072821  0.628196  0.178499\n"
     ]
    }
   ],
   "source": [
    "print(df.sort_values(by='B'))"
   ]
  },
  {
   "cell_type": "markdown",
   "metadata": {},
   "source": [
    "## 3.、 选择\n",
    "#虽然标准的 Python/Numpy 的选择和设置表达式都能够直接派上用场，但是作为工程使用的代码，我们推荐使用经过优化的 pandas 数据访问方式： .at, .iat, .loc, .iloc 和 .ix。详情请参阅索引和选取数据 和 多重索引/高级索引。\n",
    "#获取"
   ]
  },
  {
   "cell_type": "markdown",
   "metadata": {},
   "source": [
    "### 选择一个单独的列\n",
    "    返回一个Series，等同于df.A"
   ]
  },
  {
   "cell_type": "code",
   "execution_count": 87,
   "metadata": {},
   "outputs": [
    {
     "name": "stdout",
     "output_type": "stream",
     "text": [
      "2013-01-01    1.240156\n",
      "2013-01-02    0.404066\n",
      "2013-01-03    1.660073\n",
      "Freq: D, Name: A, dtype: float64\n"
     ]
    }
   ],
   "source": [
    "dates = pd.date_range('20130101', periods=3)\n",
    "df = pd.DataFrame(np.random.randn(3,4), index=dates, columns=list('ABCD'))\n",
    "\n",
    "print(df['A'])"
   ]
  },
  {
   "cell_type": "markdown",
   "metadata": {},
   "source": [
    "### 切片选择多行\n",
    "    这将会对行进行切片"
   ]
  },
  {
   "cell_type": "code",
   "execution_count": 88,
   "metadata": {},
   "outputs": [
    {
     "name": "stdout",
     "output_type": "stream",
     "text": [
      "                   A         B         C         D\n",
      "2013-01-01  1.240156 -0.833989  0.872351  0.508653\n",
      "2013-01-02  0.404066 -1.773963  0.043704 -0.862980\n",
      "2013-01-03  1.660073 -0.339340  0.061479 -0.004884\n",
      "                   A         B         C         D\n",
      "2013-01-02  0.404066 -1.773963  0.043704 -0.862980\n",
      "2013-01-03  1.660073 -0.339340  0.061479 -0.004884\n"
     ]
    }
   ],
   "source": [
    "print(df[0:3])\n",
    "print(df['20130102':'20130104'])"
   ]
  },
  {
   "cell_type": "markdown",
   "metadata": {},
   "source": [
    "### 通过标签选择"
   ]
  },
  {
   "cell_type": "code",
   "execution_count": 89,
   "metadata": {},
   "outputs": [
    {
     "name": "stdout",
     "output_type": "stream",
     "text": [
      "1、 使用标签来获取一个交叉的区域\n",
      "                   A         B         C         D\n",
      "2013-01-01  1.240156 -0.833989  0.872351  0.508653\n",
      "2013-01-02  0.404066 -1.773963  0.043704 -0.862980\n",
      "-------------------------------------------------\n",
      "2、 通过标签来在多个轴上进行选择\n",
      "                   A         B\n",
      "2013-01-01  1.240156 -0.833989\n",
      "2013-01-02  0.404066 -1.773963\n",
      "2013-01-03  1.660073 -0.339340\n",
      "-------------------------------------------------\n",
      "3、 标签切片\n",
      "                   A         B\n",
      "2013-01-02  0.404066 -1.773963\n",
      "2013-01-03  1.660073 -0.339340\n",
      "-------------------------------------------------\n",
      "4、 对于返回的对象进行维度缩减\n",
      "A    0.404066\n",
      "B   -1.773963\n",
      "Name: 2013-01-02 00:00:00, dtype: float64\n",
      "-------------------------------------------------\n",
      "5、 获取一个标量\n",
      "1.240156496829912\n",
      "-------------------------------------------------\n",
      "6、 快速访问一个标量（与上一个方法等价）\n",
      "1.240156496829912\n",
      "-------------------------------------------------\n"
     ]
    }
   ],
   "source": [
    "print('1、 使用标签来获取一个交叉的区域')\n",
    "dates=df.index\n",
    "print(df.loc[dates[0:2]]) #行选择，与 df[0:2]相同\n",
    "print('-------------------------------------------------')\n",
    "print('2、 通过标签来在多个轴上进行选择')\n",
    "print(df.loc[:,['A','B']])\n",
    "print('-------------------------------------------------')\n",
    "print('3、 标签切片')\n",
    "print(df.loc['20130102':'20130104',['A','B']])\n",
    "print('-------------------------------------------------')\n",
    "\n",
    "print('4、 对于返回的对象进行维度缩减')\n",
    "print(df.loc['20130102',['A','B']])\n",
    "print('-------------------------------------------------')\n",
    "\n",
    "print('5、 获取一个标量')\n",
    "print(df.loc[dates[0],'A'])\n",
    "print('-------------------------------------------------')\n",
    "\n",
    "print('6、 快速访问一个标量（与上一个方法等价）')\n",
    "print(df.at[dates[0],'A'])\n",
    "print('-------------------------------------------------')"
   ]
  },
  {
   "cell_type": "markdown",
   "metadata": {},
   "source": [
    "### 通过位置选择"
   ]
  },
  {
   "cell_type": "code",
   "execution_count": 94,
   "metadata": {},
   "outputs": [
    {
     "name": "stdout",
     "output_type": "stream",
     "text": [
      "1、 通过传递数值进行位置选择（选择的是行）\n",
      "A    0.404066\n",
      "B   -1.773963\n",
      "C    0.043704\n",
      "D   -0.862980\n",
      "Name: 2013-01-02 00:00:00, dtype: float64\n",
      "-------------------------------------------------\n",
      "2、 通过数值进行切片，与 numpy/python 中的情况类似\n",
      "                   A         B\n",
      "2013-01-01  1.240156 -0.833989\n",
      "2013-01-02  0.404066 -1.773963\n",
      "-------------------------------------------------\n",
      "3、 通过指定一个位置的列表，与 numpy/python 中的情况类似\n",
      "                   A         C\n",
      "2013-01-01  1.240156  0.872351\n",
      "2013-01-03  1.660073  0.061479\n",
      "-------------------------------------------------\n",
      "4、 对行进行切片\n",
      "                   A         B         C         D\n",
      "2013-01-02  0.404066 -1.773963  0.043704 -0.862980\n",
      "2013-01-03  1.660073 -0.339340  0.061479 -0.004884\n",
      "-------------------------------------------------\n",
      "5、 对列进行切片\n",
      "                   B         C\n",
      "2013-01-01 -0.833989  0.872351\n",
      "2013-01-02 -1.773963  0.043704\n",
      "2013-01-03 -0.339340  0.061479\n",
      "-------------------------------------------------\n",
      "6、 获取特定的值\n",
      "-1.7739633356141478\n",
      "-------------------------------------------------\n"
     ]
    }
   ],
   "source": [
    "print('1、 通过传递数值进行位置选择（选择的是行）')\n",
    "print( df.iloc[1])\n",
    "print('-------------------------------------------------')\n",
    "print('2、 通过数值进行切片，与 numpy/python 中的情况类似')\n",
    "print(df.iloc[0:2,0:2])\n",
    "print('-------------------------------------------------')\n",
    "print('3、 通过指定一个位置的列表，与 numpy/python 中的情况类似')\n",
    "print(df.iloc[[0,2],[0,2]])\n",
    "print('-------------------------------------------------')\n",
    "print('4、 对行进行切片')\n",
    "print(df.iloc[1:3,:])\n",
    "print('-------------------------------------------------')\n",
    "print('5、 对列进行切片')\n",
    "print(df.iloc[:,1:3])\n",
    "print('-------------------------------------------------')\n",
    "print('6、 获取特定的值')\n",
    "print(df.iloc[1,1])\n",
    "print('-------------------------------------------------')"
   ]
  },
  {
   "cell_type": "markdown",
   "metadata": {},
   "source": [
    "### 快速访问标量（等同于前一个方法）："
   ]
  },
  {
   "cell_type": "code",
   "execution_count": 95,
   "metadata": {},
   "outputs": [
    {
     "name": "stdout",
     "output_type": "stream",
     "text": [
      "-1.7739633356141478\n"
     ]
    }
   ],
   "source": [
    "print(df.iat[1,1])\n",
    "#Out[38]: -0.17321464905330858"
   ]
  },
  {
   "cell_type": "markdown",
   "metadata": {},
   "source": [
    "### 布尔索引"
   ]
  },
  {
   "cell_type": "code",
   "execution_count": 101,
   "metadata": {},
   "outputs": [
    {
     "name": "stdout",
     "output_type": "stream",
     "text": [
      "1、 使用一个单独列的值来选择数据：\n",
      "                   A         B         C         D\n",
      "2013-01-01  1.240156 -0.833989  0.872351  0.508653\n",
      "2013-01-03  1.660073 -0.339340  0.061479 -0.004884\n",
      "-------------------------------------------------\n",
      "2、 使用where操作来选择数据：\n",
      "                   A   B         C         D\n",
      "2013-01-01  1.240156 NaN  0.872351  0.508653\n",
      "2013-01-02  0.404066 NaN  0.043704       NaN\n",
      "2013-01-03  1.660073 NaN  0.061479       NaN\n",
      "-------------------------------------------------\n",
      "3、 使用isin()方法来过滤：\n",
      "                   A         B         C    D\n",
      "2013-01-01  1.240156 -0.833989  0.872351  one\n",
      "2013-01-02  0.404066 -1.773963  0.043704  one\n",
      "2013-01-03  1.660073 -0.339340  0.061479  two\n",
      "-------------------------------------------------\n",
      "                   A        B         C    D\n",
      "2013-01-03  1.660073 -0.33934  0.061479  two\n"
     ]
    }
   ],
   "source": [
    "print('1、 使用一个单独列的值来选择数据：')\n",
    "print(df[df.A > 0.5])\n",
    "print('-------------------------------------------------')\n",
    "print('2、 使用where操作来选择数据：')\n",
    "print(df[df > 0])\n",
    "print('-------------------------------------------------')\n",
    "print('3、 使用isin()方法来过滤：')\n",
    "df2 = df.copy()\n",
    "df2['D'] = ['one', 'one','two']\n",
    "print(df2)\n",
    "print('-------------------------------------------------')\n",
    "print(df2[df2['D'].isin(['two','four'])])"
   ]
  },
  {
   "cell_type": "markdown",
   "metadata": {},
   "source": [
    "### 添加/删除/修改"
   ]
  },
  {
   "cell_type": "code",
   "execution_count": 150,
   "metadata": {},
   "outputs": [
    {
     "name": "stdout",
     "output_type": "stream",
     "text": [
      "-------------------------------------------------\n",
      "#0、 创建空DataFrame：\n",
      "Empty DataFrame\n",
      "Columns: [A, B, C]\n",
      "Index: []\n",
      "-------------------------------------------------\n",
      "#1、 添加一行：\n",
      "   A  B    C\n",
      "0  a  1  2.0\n",
      "1  a  1  2.0\n",
      "-------------------------------------------------\n",
      "#2、 删除一行：\n",
      "   A  B    C\n",
      "1  a  1  2.0\n",
      "-------------------------------------------------\n",
      "#3、 添加一列：\n",
      "   A  B    C  D\n",
      "1  a  1  2.0  d\n",
      "   A  B    C  D  E\n",
      "1  a  1  2.0  d  1\n",
      "-------------------------------------------------\n",
      "#4、 删除一列：\n",
      "   A  B    C  D\n",
      "1  a  1  2.0  d\n",
      "-------------------------------------------------\n",
      "#5、 通过标签修改值：\n",
      "   A  B    C  D\n",
      "1  a  0  2.0  d\n",
      "-------------------------------------------------\n",
      "#6、 通过位置修改值：\n",
      "   A    B    C  D\n",
      "1  a  100  2.0  d\n",
      "-------------------------------------------------\n",
      "#7、 通过array设置一组新值：\n",
      "   A    B  C  D\n",
      "1  a  100  5  d\n",
      "-------------------------------------------------\n",
      "#8、 通过条件设值：\n"
     ]
    },
    {
     "ename": "TypeError",
     "evalue": "'(slice(None, None, None), 'B')' is an invalid key",
     "output_type": "error",
     "traceback": [
      "\u001b[0;31m---------------------------------------------------------------------------\u001b[0m",
      "\u001b[0;31mTypeError\u001b[0m                                 Traceback (most recent call last)",
      "\u001b[0;32m<ipython-input-150-decfe74e8d53>\u001b[0m in \u001b[0;36m<module>\u001b[0;34m\u001b[0m\n\u001b[1;32m     76\u001b[0m \u001b[0mprint\u001b[0m\u001b[0;34m(\u001b[0m\u001b[0;34m'-------------------------------------------------'\u001b[0m\u001b[0;34m)\u001b[0m\u001b[0;34m\u001b[0m\u001b[0m\n\u001b[1;32m     77\u001b[0m \u001b[0mprint\u001b[0m\u001b[0;34m(\u001b[0m\u001b[0;34m'#8、 通过条件设值：'\u001b[0m\u001b[0;34m)\u001b[0m\u001b[0;34m\u001b[0m\u001b[0m\n\u001b[0;32m---> 78\u001b[0;31m \u001b[0mdf\u001b[0m\u001b[0;34m[\u001b[0m\u001b[0mdf\u001b[0m\u001b[0;34m[\u001b[0m\u001b[0;34m:\u001b[0m\u001b[0;34m,\u001b[0m\u001b[0;34m'B'\u001b[0m\u001b[0;34m]\u001b[0m\u001b[0;34m>\u001b[0m\u001b[0;36m0\u001b[0m\u001b[0;34m]\u001b[0m \u001b[0;34m=\u001b[0m \u001b[0;34m-\u001b[0m\u001b[0mdf\u001b[0m\u001b[0;34m[\u001b[0m\u001b[0;34m:\u001b[0m\u001b[0;34m,\u001b[0m\u001b[0;34m'B'\u001b[0m\u001b[0;34m]\u001b[0m\u001b[0;34m\u001b[0m\u001b[0m\n\u001b[0m",
      "\u001b[0;32m/usr/local/lib/python3.5/dist-packages/pandas/core/frame.py\u001b[0m in \u001b[0;36m__getitem__\u001b[0;34m(self, key)\u001b[0m\n\u001b[1;32m   2925\u001b[0m             \u001b[0;32mif\u001b[0m \u001b[0mself\u001b[0m\u001b[0;34m.\u001b[0m\u001b[0mcolumns\u001b[0m\u001b[0;34m.\u001b[0m\u001b[0mnlevels\u001b[0m \u001b[0;34m>\u001b[0m \u001b[0;36m1\u001b[0m\u001b[0;34m:\u001b[0m\u001b[0;34m\u001b[0m\u001b[0m\n\u001b[1;32m   2926\u001b[0m                 \u001b[0;32mreturn\u001b[0m \u001b[0mself\u001b[0m\u001b[0;34m.\u001b[0m\u001b[0m_getitem_multilevel\u001b[0m\u001b[0;34m(\u001b[0m\u001b[0mkey\u001b[0m\u001b[0;34m)\u001b[0m\u001b[0;34m\u001b[0m\u001b[0m\n\u001b[0;32m-> 2927\u001b[0;31m             \u001b[0mindexer\u001b[0m \u001b[0;34m=\u001b[0m \u001b[0mself\u001b[0m\u001b[0;34m.\u001b[0m\u001b[0mcolumns\u001b[0m\u001b[0;34m.\u001b[0m\u001b[0mget_loc\u001b[0m\u001b[0;34m(\u001b[0m\u001b[0mkey\u001b[0m\u001b[0;34m)\u001b[0m\u001b[0;34m\u001b[0m\u001b[0m\n\u001b[0m\u001b[1;32m   2928\u001b[0m             \u001b[0;32mif\u001b[0m \u001b[0mis_integer\u001b[0m\u001b[0;34m(\u001b[0m\u001b[0mindexer\u001b[0m\u001b[0;34m)\u001b[0m\u001b[0;34m:\u001b[0m\u001b[0;34m\u001b[0m\u001b[0m\n\u001b[1;32m   2929\u001b[0m                 \u001b[0mindexer\u001b[0m \u001b[0;34m=\u001b[0m \u001b[0;34m[\u001b[0m\u001b[0mindexer\u001b[0m\u001b[0;34m]\u001b[0m\u001b[0;34m\u001b[0m\u001b[0m\n",
      "\u001b[0;32m/usr/local/lib/python3.5/dist-packages/pandas/core/indexes/base.py\u001b[0m in \u001b[0;36mget_loc\u001b[0;34m(self, key, method, tolerance)\u001b[0m\n\u001b[1;32m   2654\u001b[0m                                  'backfill or nearest lookups')\n\u001b[1;32m   2655\u001b[0m             \u001b[0;32mtry\u001b[0m\u001b[0;34m:\u001b[0m\u001b[0;34m\u001b[0m\u001b[0m\n\u001b[0;32m-> 2656\u001b[0;31m                 \u001b[0;32mreturn\u001b[0m \u001b[0mself\u001b[0m\u001b[0;34m.\u001b[0m\u001b[0m_engine\u001b[0m\u001b[0;34m.\u001b[0m\u001b[0mget_loc\u001b[0m\u001b[0;34m(\u001b[0m\u001b[0mkey\u001b[0m\u001b[0;34m)\u001b[0m\u001b[0;34m\u001b[0m\u001b[0m\n\u001b[0m\u001b[1;32m   2657\u001b[0m             \u001b[0;32mexcept\u001b[0m \u001b[0mKeyError\u001b[0m\u001b[0;34m:\u001b[0m\u001b[0;34m\u001b[0m\u001b[0m\n\u001b[1;32m   2658\u001b[0m                 \u001b[0;32mreturn\u001b[0m \u001b[0mself\u001b[0m\u001b[0;34m.\u001b[0m\u001b[0m_engine\u001b[0m\u001b[0;34m.\u001b[0m\u001b[0mget_loc\u001b[0m\u001b[0;34m(\u001b[0m\u001b[0mself\u001b[0m\u001b[0;34m.\u001b[0m\u001b[0m_maybe_cast_indexer\u001b[0m\u001b[0;34m(\u001b[0m\u001b[0mkey\u001b[0m\u001b[0;34m)\u001b[0m\u001b[0;34m)\u001b[0m\u001b[0;34m\u001b[0m\u001b[0m\n",
      "\u001b[0;32mpandas/_libs/index.pyx\u001b[0m in \u001b[0;36mpandas._libs.index.IndexEngine.get_loc\u001b[0;34m()\u001b[0m\n",
      "\u001b[0;32mpandas/_libs/index.pyx\u001b[0m in \u001b[0;36mpandas._libs.index.IndexEngine.get_loc\u001b[0;34m()\u001b[0m\n",
      "\u001b[0;31mTypeError\u001b[0m: '(slice(None, None, None), 'B')' is an invalid key"
     ]
    }
   ],
   "source": [
    "\"\"\"\n",
    "print('1、 添加一个新的列：')\n",
    "s1 = pd.Series([1,2,3,4,5,6], index=pd.date_range('20130102', periods=6))\n",
    "print(s1)\n",
    "print('-------------------------------------------------')\n",
    "df['E'] = s1 #超出索引的值被截断\n",
    "print(df)\n",
    "print('-------------------------------------------------')\n",
    "print('#2、 通过标签修改值：')\n",
    "df.at[dates[0],'A'] = 0\n",
    "print(df)\n",
    "print('-------------------------------------------------')\n",
    "print('#3、 通过位置修改值：')\n",
    "df.iat[0,1] = 0\n",
    "print(df)\n",
    "print('-------------------------------------------------')\n",
    "print('#4、 通过一个numpy数组设置一组新值：')\n",
    "df.loc[:,'D'] = np.array([5] * len(df))\n",
    "print(df)\n",
    "print('-------------------------------------------------')\n",
    "print('#5、 通过where操作来设置新的值：')\n",
    "df2 = df.copy()\n",
    "df2[df2 > 0] = -df2\n",
    "print(df2)\n",
    "\"\"\"\n",
    "#inplace=False ：对原表进行操作\n",
    "\n",
    "import pandas as pd\n",
    "import numpy as np\n",
    "print('-------------------------------------------------')\n",
    "print('#0、 创建空DataFrame：')\n",
    "df=pd.DataFrame(columns=['A','B','C'])\n",
    "print(df)\n",
    "print('-------------------------------------------------')\n",
    "print('#1、 添加一行：')\n",
    "df_new=pd.DataFrame({\n",
    "                    'A':'a',\n",
    "                    'B':1,\n",
    "                    'C':2.\n",
    "                    },index=[len(df)]) #标量添加必须指定index\n",
    "df=df.append(df_new) #ignore_index=True\n",
    "df_new=pd.DataFrame({\n",
    "                    'A':['a'],\n",
    "                    'B':[1],\n",
    "                    'C':[2.]\n",
    "                    }) #向量添加\n",
    "df=df.append(df_new,ignore_index=True) #向量添加可启用索引自增\n",
    "print(df)\n",
    "print('-------------------------------------------------')\n",
    "print('#2、 删除一行：')\n",
    "df=df.drop(0,axis=0) #删除第0行\n",
    "print(df)\n",
    "print('-------------------------------------------------')\n",
    "print('#3、 添加一列：')\n",
    "df['D']=['d'] #长度必须匹配\n",
    "print(df)\n",
    "s_add=pd.Series(np.arange(4),index=np.arange(4)) #添加带索引的序列，超出df索引值自动截断\n",
    "df['E']=s_add\n",
    "print(df)\n",
    "print('-------------------------------------------------')\n",
    "print('#4、 删除一列：')\n",
    "df.drop('E',axis=1,inplace=True)\n",
    "print(df)\n",
    "print('-------------------------------------------------')\n",
    "print('#5、 通过标签修改值：')\n",
    "df.at[1,'B'] = 0\n",
    "print(df)\n",
    "print('-------------------------------------------------')\n",
    "print('#6、 通过位置修改值：')\n",
    "df.iat[0,1] = 100\n",
    "print(df)\n",
    "print('-------------------------------------------------')\n",
    "print('#7、 通过array设置一组新值：')\n",
    "df.loc[:,'C'] = np.array([5] * len(df))\n",
    "print(df)\n",
    "print('-------------------------------------------------')\n",
    "#print('#8、 通过条件设值：')\n",
    "#df[df[:,'B']>0] = -df[:,'B']\n"
   ]
  },
  {
   "cell_type": "markdown",
   "metadata": {},
   "source": [
    "## 4.、 缺失值处理\n",
    "#在 pandas 中，使用np.nan来代替缺失值，这些值将默认不会包含在计算中，详情请参阅：缺失的数据。"
   ]
  },
  {
   "cell_type": "markdown",
   "metadata": {},
   "source": [
    "### 4.1、 reindex()方法可以对指定轴上的索引进行改变/增加/删除操作，这将返回原始数据的一个拷贝："
   ]
  },
  {
   "cell_type": "code",
   "execution_count": 110,
   "metadata": {},
   "outputs": [
    {
     "name": "stdout",
     "output_type": "stream",
     "text": [
      "                   A         B         C  D    E    E\n",
      "2013-01-01  0.000000  0.000000  0.872351  5  1.0  1.0\n",
      "2013-01-02  0.404066 -1.773963  0.043704  5  1.0  1.0\n",
      "2013-01-03  1.660073 -0.339340  0.061479  5  2.0  2.0\n"
     ]
    }
   ],
   "source": [
    "df1 = df.reindex(index=dates[0:4], columns=list(df.columns) + ['E'])\n",
    "df1.loc[dates[0]:dates[1],'E'] = 1\n",
    "print(df1)"
   ]
  },
  {
   "cell_type": "markdown",
   "metadata": {},
   "source": [
    "### 4.2、 去掉包含缺失值的行："
   ]
  },
  {
   "cell_type": "code",
   "execution_count": 111,
   "metadata": {},
   "outputs": [
    {
     "name": "stdout",
     "output_type": "stream",
     "text": [
      "                   A         B         C  D    E    E\n",
      "2013-01-01  0.000000  0.000000  0.872351  5  1.0  1.0\n",
      "2013-01-02  0.404066 -1.773963  0.043704  5  1.0  1.0\n",
      "2013-01-03  1.660073 -0.339340  0.061479  5  2.0  2.0\n"
     ]
    }
   ],
   "source": [
    "print(df1.dropna(how='any'))"
   ]
  },
  {
   "cell_type": "markdown",
   "metadata": {},
   "source": [
    "### 4.3、 对缺失值进行填充："
   ]
  },
  {
   "cell_type": "code",
   "execution_count": 112,
   "metadata": {},
   "outputs": [
    {
     "name": "stdout",
     "output_type": "stream",
     "text": [
      "                   A         B         C  D    E    E\n",
      "2013-01-01  0.000000  0.000000  0.872351  5  1.0  1.0\n",
      "2013-01-02  0.404066 -1.773963  0.043704  5  1.0  1.0\n",
      "2013-01-03  1.660073 -0.339340  0.061479  5  2.0  2.0\n"
     ]
    }
   ],
   "source": [
    "print(df1.fillna(value=5))"
   ]
  },
  {
   "cell_type": "markdown",
   "metadata": {},
   "source": [
    "### 4.4.、 对数据进行布尔填充："
   ]
  },
  {
   "cell_type": "code",
   "execution_count": 113,
   "metadata": {},
   "outputs": [
    {
     "name": "stdout",
     "output_type": "stream",
     "text": [
      "                A      B      C      D      E      E\n",
      "2013-01-01  False  False  False  False  False  False\n",
      "2013-01-02  False  False  False  False  False  False\n",
      "2013-01-03  False  False  False  False  False  False\n"
     ]
    }
   ],
   "source": [
    "print(pd.isnull(df1))"
   ]
  },
  {
   "cell_type": "markdown",
   "metadata": {},
   "source": [
    "## 5.、 相关操作\n",
    "#详情请参与 基本的二进制操作\n",
    "#统计（相关操作通常情况下不包括缺失值）"
   ]
  },
  {
   "cell_type": "markdown",
   "metadata": {},
   "source": [
    "### 5.1.、 执行描述性统计："
   ]
  },
  {
   "cell_type": "code",
   "execution_count": 114,
   "metadata": {},
   "outputs": [
    {
     "name": "stdout",
     "output_type": "stream",
     "text": [
      "A    0.688046\n",
      "B   -0.704434\n",
      "C    0.325845\n",
      "D    5.000000\n",
      "E    1.500000\n",
      "dtype: float64\n"
     ]
    }
   ],
   "source": [
    "print(df.mean())"
   ]
  },
  {
   "cell_type": "markdown",
   "metadata": {},
   "source": [
    "### 5.2.、 在其他轴上进行相同的操作："
   ]
  },
  {
   "cell_type": "code",
   "execution_count": 115,
   "metadata": {},
   "outputs": [
    {
     "name": "stdout",
     "output_type": "stream",
     "text": [
      "2013-01-01    1.468088\n",
      "2013-01-02    0.934761\n",
      "2013-01-03    1.676442\n",
      "Freq: D, dtype: float64\n"
     ]
    }
   ],
   "source": [
    "print(df.mean(1))"
   ]
  },
  {
   "cell_type": "markdown",
   "metadata": {},
   "source": [
    "### 5.3.、 对于拥有不同维度，需要对齐的对象进行操作。Pandas 会自动的沿着指定的维度进行广播："
   ]
  },
  {
   "cell_type": "code",
   "execution_count": 116,
   "metadata": {},
   "outputs": [
    {
     "ename": "ValueError",
     "evalue": "Length of passed values is 6, index implies 3",
     "output_type": "error",
     "traceback": [
      "\u001b[0;31m---------------------------------------------------------------------------\u001b[0m",
      "\u001b[0;31mValueError\u001b[0m                                Traceback (most recent call last)",
      "\u001b[0;32m<ipython-input-116-0aea391f6023>\u001b[0m in \u001b[0;36m<module>\u001b[0;34m\u001b[0m\n\u001b[0;32m----> 1\u001b[0;31m \u001b[0ms\u001b[0m \u001b[0;34m=\u001b[0m \u001b[0mpd\u001b[0m\u001b[0;34m.\u001b[0m\u001b[0mSeries\u001b[0m\u001b[0;34m(\u001b[0m\u001b[0;34m[\u001b[0m\u001b[0;36m1\u001b[0m\u001b[0;34m,\u001b[0m\u001b[0;36m3\u001b[0m\u001b[0;34m,\u001b[0m\u001b[0;36m5\u001b[0m\u001b[0;34m,\u001b[0m\u001b[0mnp\u001b[0m\u001b[0;34m.\u001b[0m\u001b[0mnan\u001b[0m\u001b[0;34m,\u001b[0m\u001b[0;36m6\u001b[0m\u001b[0;34m,\u001b[0m\u001b[0;36m8\u001b[0m\u001b[0;34m]\u001b[0m\u001b[0;34m,\u001b[0m \u001b[0mindex\u001b[0m\u001b[0;34m=\u001b[0m\u001b[0mdates\u001b[0m\u001b[0;34m)\u001b[0m\u001b[0;34m.\u001b[0m\u001b[0mshift\u001b[0m\u001b[0;34m(\u001b[0m\u001b[0;36m2\u001b[0m\u001b[0;34m)\u001b[0m\u001b[0;34m\u001b[0m\u001b[0m\n\u001b[0m\u001b[1;32m      2\u001b[0m \u001b[0mprint\u001b[0m\u001b[0;34m(\u001b[0m\u001b[0ms\u001b[0m\u001b[0;34m)\u001b[0m\u001b[0;34m\u001b[0m\u001b[0m\n\u001b[1;32m      3\u001b[0m \u001b[0mprint\u001b[0m\u001b[0;34m(\u001b[0m\u001b[0;34m'-------------------------------------------------'\u001b[0m\u001b[0;34m)\u001b[0m\u001b[0;34m\u001b[0m\u001b[0m\n\u001b[1;32m      4\u001b[0m \u001b[0mprint\u001b[0m\u001b[0;34m(\u001b[0m\u001b[0mdf\u001b[0m\u001b[0;34m.\u001b[0m\u001b[0msub\u001b[0m\u001b[0;34m(\u001b[0m\u001b[0ms\u001b[0m\u001b[0;34m,\u001b[0m \u001b[0maxis\u001b[0m\u001b[0;34m=\u001b[0m\u001b[0;34m'index'\u001b[0m\u001b[0;34m)\u001b[0m\u001b[0;34m)\u001b[0m\u001b[0;34m\u001b[0m\u001b[0m\n",
      "\u001b[0;32m/usr/local/lib/python3.5/dist-packages/pandas/core/series.py\u001b[0m in \u001b[0;36m__init__\u001b[0;34m(self, data, index, dtype, name, copy, fastpath)\u001b[0m\n\u001b[1;32m    247\u001b[0m                             \u001b[0;34m'Length of passed values is {val}, '\u001b[0m\u001b[0;34m\u001b[0m\u001b[0m\n\u001b[1;32m    248\u001b[0m                             \u001b[0;34m'index implies {ind}'\u001b[0m\u001b[0;34m\u001b[0m\u001b[0m\n\u001b[0;32m--> 249\u001b[0;31m                             .format(val=len(data), ind=len(index)))\n\u001b[0m\u001b[1;32m    250\u001b[0m                 \u001b[0;32mexcept\u001b[0m \u001b[0mTypeError\u001b[0m\u001b[0;34m:\u001b[0m\u001b[0;34m\u001b[0m\u001b[0m\n\u001b[1;32m    251\u001b[0m                     \u001b[0;32mpass\u001b[0m\u001b[0;34m\u001b[0m\u001b[0m\n",
      "\u001b[0;31mValueError\u001b[0m: Length of passed values is 6, index implies 3"
     ]
    }
   ],
   "source": [
    "s = pd.Series([1,3,5,np.nan,6,8], index=dates).shift(2)\n",
    "print(s)\n",
    "print('-------------------------------------------------')\n",
    "print(df.sub(s, axis='index'))"
   ]
  },
  {
   "cell_type": "markdown",
   "metadata": {},
   "source": [
    "### 5.4.Apply\n",
    "#1、 对数据应用函数："
   ]
  },
  {
   "cell_type": "code",
   "execution_count": null,
   "metadata": {},
   "outputs": [],
   "source": [
    "print(df.apply(np.cumsum))\n",
    "print('-------------------------------------------------')\n",
    "print(df.apply(lambda x: x.max() - x.min()))"
   ]
  },
  {
   "cell_type": "markdown",
   "metadata": {},
   "source": [
    "### 5.5. 直方图"
   ]
  },
  {
   "cell_type": "code",
   "execution_count": 31,
   "metadata": {},
   "outputs": [
    {
     "name": "stdout",
     "output_type": "stream",
     "text": [
      "0    1\n",
      "1    1\n",
      "2    4\n",
      "3    2\n",
      "4    3\n",
      "5    1\n",
      "6    5\n",
      "7    1\n",
      "8    0\n",
      "9    6\n",
      "dtype: int64\n",
      "-------------------------------------------------\n",
      "1    4\n",
      "6    1\n",
      "5    1\n",
      "4    1\n",
      "3    1\n",
      "2    1\n",
      "0    1\n",
      "dtype: int64\n",
      "-------------------------------------------------\n",
      "0       a\n",
      "1       b\n",
      "2       c\n",
      "3    aaba\n",
      "4    baca\n",
      "5     NaN\n",
      "6    caba\n",
      "7     dog\n",
      "8     cat\n",
      "dtype: object\n"
     ]
    }
   ],
   "source": [
    "#具体请参照：直方图和离散化。\n",
    "s = pd.Series(np.random.randint(0, 7, size=10))\n",
    "print(s)\n",
    "print('-------------------------------------------------')\n",
    "print(s.value_counts())\n",
    "print('-------------------------------------------------')\n",
    "#字符串方法\n",
    "#Series对象在其str属性中配备了一组字符串处理方法，可以很容易的应用到数组中的每个元素，如下段代码所示。更多详情请参考：字符串向量化方法。\n",
    "s = pd.Series(['A', 'B', 'C', 'Aaba', 'Baca', np.nan, 'CABA', 'dog', 'cat'])\n",
    "print(s.str.lower())"
   ]
  },
  {
   "cell_type": "markdown",
   "metadata": {},
   "source": [
    "## 6.、 合并\n",
    "#Pandas 提供了大量的方法能够轻松的对Series，DataFrame和Panel对象进行各种符合各种逻辑关系的合并操作。具体请参阅：合并。"
   ]
  },
  {
   "cell_type": "code",
   "execution_count": 32,
   "metadata": {},
   "outputs": [
    {
     "name": "stdout",
     "output_type": "stream",
     "text": [
      "#Concat\n",
      "df:\n",
      "          0         1         2         3\n",
      "0 -0.158815 -0.356721 -0.203464 -0.920680\n",
      "1 -1.027968 -0.463637 -0.326509  0.556179\n",
      "2 -0.776265 -0.179554  0.228495 -0.890103\n",
      "3  0.320784  0.526054  0.601181 -1.004041\n",
      "4 -0.902466 -1.117010  0.058724 -0.199735\n",
      "5  0.022849  0.428414  0.749988  0.138386\n",
      "6 -0.389760  0.129609  0.636642 -0.688056\n",
      "7  0.276393  1.473957  0.405519  1.790425\n",
      "8  0.074328 -0.654320 -1.697090 -1.085447\n",
      "9  0.859968 -0.446283  1.327566 -1.510340\n",
      "-------------------------------------------------\n",
      "# break it into pieces\n",
      "          0         1         2         3\n",
      "0 -0.158815 -0.356721 -0.203464 -0.920680\n",
      "1 -1.027968 -0.463637 -0.326509  0.556179\n",
      "2 -0.776265 -0.179554  0.228495 -0.890103\n",
      "3  0.320784  0.526054  0.601181 -1.004041\n",
      "4 -0.902466 -1.117010  0.058724 -0.199735\n",
      "5  0.022849  0.428414  0.749988  0.138386\n",
      "6 -0.389760  0.129609  0.636642 -0.688056\n",
      "7  0.276393  1.473957  0.405519  1.790425\n",
      "8  0.074328 -0.654320 -1.697090 -1.085447\n",
      "9  0.859968 -0.446283  1.327566 -1.510340\n"
     ]
    }
   ],
   "source": [
    "print('#Concat')\n",
    "df = pd.DataFrame(np.random.randn(10, 4))\n",
    "print('df:')\n",
    "print(df)\n",
    "print('-------------------------------------------------')\n",
    "print('# break it into pieces')\n",
    "pieces = [df[:3], df[3:7], df[7:]]\n",
    "print(pd.concat(pieces))"
   ]
  },
  {
   "cell_type": "code",
   "execution_count": 34,
   "metadata": {},
   "outputs": [
    {
     "name": "stdout",
     "output_type": "stream",
     "text": [
      "-------------------left----------------------------\n",
      "   key  lval\n",
      "0  foo     1\n",
      "1  foo     2\n",
      "-------------------right---------------------------\n",
      "   key  rval\n",
      "0  foo     4\n",
      "1  foo     5\n",
      "-------------------merge----------------------------\n",
      "   key  lval  rval\n",
      "0  foo     1     4\n",
      "1  foo     1     5\n",
      "2  foo     2     4\n",
      "3  foo     2     5\n"
     ]
    }
   ],
   "source": [
    "#Join\n",
    "#类似于 SQL 类型的合并，具体请参阅：数据库风格的连接\n",
    "left = pd.DataFrame({'key': ['foo', 'foo'], 'lval': [1, 2]})\n",
    "right = pd.DataFrame({'key': ['foo', 'foo'], 'rval': [4, 5]})\n",
    "print('-------------------left----------------------------')\n",
    "print(left)\n",
    "print('-------------------right---------------------------')\n",
    "print(right)\n",
    "print('-------------------merge----------------------------')\n",
    "print(pd.merge(left, right, on='key'))"
   ]
  },
  {
   "cell_type": "code",
   "execution_count": 35,
   "metadata": {},
   "outputs": [
    {
     "name": "stdout",
     "output_type": "stream",
     "text": [
      "---------------------left--------------------------\n",
      "   key  lval\n",
      "0  foo     1\n",
      "1  bar     2\n",
      "---------------------right-------------------------\n",
      "   key  rval\n",
      "0  foo     4\n",
      "1  bar     5\n",
      "---------------------merge-------------------------\n",
      "   key  lval  rval\n",
      "0  foo     1     4\n",
      "1  bar     2     5\n"
     ]
    }
   ],
   "source": [
    "#另一个例子：\n",
    "left = pd.DataFrame({'key': ['foo', 'bar'], 'lval': [1, 2]})\n",
    "right = pd.DataFrame({'key': ['foo', 'bar'], 'rval': [4, 5]})\n",
    "print('---------------------left--------------------------')\n",
    "print(left)\n",
    "print('---------------------right-------------------------')\n",
    "print(right)\n",
    "print('---------------------merge-------------------------')\n",
    "print(pd.merge(left, right, on='key'))"
   ]
  },
  {
   "cell_type": "code",
   "execution_count": 36,
   "metadata": {},
   "outputs": [
    {
     "name": "stdout",
     "output_type": "stream",
     "text": [
      "----------------------df-------------------------\n",
      "          A         B         C         D\n",
      "0  0.326401 -0.316387 -0.540427  0.759409\n",
      "1 -0.368352  0.267653 -1.253325 -1.240401\n",
      "2 -2.465577 -1.005599 -0.586420 -0.725142\n",
      "3 -0.557657 -0.953635  1.362087  0.105596\n",
      "4 -1.182497 -0.355106 -0.721871  0.294613\n",
      "5 -0.770976  0.202559 -0.668162 -0.011174\n",
      "6 -1.344268 -0.356829  0.499860  0.600583\n",
      "7 -2.080357 -0.373936  1.001734 -0.464605\n",
      "----------------------append---------------------\n",
      "          A         B         C         D\n",
      "0  0.326401 -0.316387 -0.540427  0.759409\n",
      "1 -0.368352  0.267653 -1.253325 -1.240401\n",
      "2 -2.465577 -1.005599 -0.586420 -0.725142\n",
      "3 -0.557657 -0.953635  1.362087  0.105596\n",
      "4 -1.182497 -0.355106 -0.721871  0.294613\n",
      "5 -0.770976  0.202559 -0.668162 -0.011174\n",
      "6 -1.344268 -0.356829  0.499860  0.600583\n",
      "7 -2.080357 -0.373936  1.001734 -0.464605\n",
      "8 -0.557657 -0.953635  1.362087  0.105596\n"
     ]
    }
   ],
   "source": [
    "#Append\n",
    "#将一行连接到一个DataFrame上，具体请参阅附加：\n",
    "df = pd.DataFrame(np.random.randn(8, 4), columns=['A','B','C','D'])\n",
    "print('----------------------df-------------------------')\n",
    "print(df)\n",
    "s = df.iloc[3]\n",
    "print('----------------------append---------------------')\n",
    "print(df.append(s, ignore_index=True))"
   ]
  },
  {
   "cell_type": "markdown",
   "metadata": {},
   "source": [
    "## 7.、 分组"
   ]
  },
  {
   "cell_type": "code",
   "execution_count": 38,
   "metadata": {},
   "outputs": [
    {
     "name": "stdout",
     "output_type": "stream",
     "text": [
      "----------------------df-------------------------\n",
      "     A      B         C         D\n",
      "0  foo    one  0.285453  1.069811\n",
      "1  bar    one -1.136999 -0.169452\n",
      "2  foo    two  1.294638 -0.892481\n",
      "3  bar  three  0.547598 -1.340339\n",
      "4  foo    two  0.486706 -0.673972\n",
      "5  bar    two -0.813026 -1.101378\n",
      "6  foo    one  0.608060  0.372277\n",
      "7  foo  three  1.547817  1.851851\n",
      "---------#1、 分组并对每个分组执行sum函数：----------\n",
      "            C         D\n",
      "A                      \n",
      "bar -1.402427 -2.611169\n",
      "foo  4.222675  1.727486\n",
      "---------#2、 通过多个列进行分组形成一个层次索引，然后执行函数：---\n",
      "                  C         D\n",
      "A   B                        \n",
      "bar one   -1.136999 -0.169452\n",
      "    three  0.547598 -1.340339\n",
      "    two   -0.813026 -1.101378\n",
      "foo one    0.893513  1.442089\n",
      "    three  1.547817  1.851851\n",
      "    two    1.781344 -1.566453\n"
     ]
    }
   ],
   "source": [
    "#对于”group by”操作，我们通常是指以下一个或多个操作步骤：\n",
    "#    （Splitting）按照一些规则将数据分为不同的组；\n",
    "#    （Applying）对于每组数据分别执行一个函数；\n",
    "#    （Combining）将结果组合到一个数据结构中；\n",
    "#详情请参阅：Grouping section\n",
    "df = pd.DataFrame({'A' : ['foo', 'bar', 'foo', 'bar',\n",
    "                           'foo', 'bar', 'foo', 'foo'],\n",
    "                   'B' : ['one', 'one', 'two', 'three',\n",
    "                          'two', 'two', 'one', 'three'],\n",
    "                   'C' : np.random.randn(8),\n",
    "                   'D' : np.random.randn(8)})\n",
    "print('----------------------df-------------------------')\n",
    "print(df)\n",
    "print('---------#1、 分组并对每个分组执行sum函数：----------')\n",
    "print(df.groupby('A').sum())\n",
    "print('---------#2、 通过多个列进行分组形成一个层次索引，然后执行函数：---')\n",
    "print(df.groupby(['A','B']).sum())"
   ]
  },
  {
   "cell_type": "markdown",
   "metadata": {},
   "source": [
    "## 8.、 改变形状\n",
    "#详情请参阅 层次索引 和 改变形状。"
   ]
  },
  {
   "cell_type": "code",
   "execution_count": 40,
   "metadata": {},
   "outputs": [
    {
     "name": "stdout",
     "output_type": "stream",
     "text": [
      "----------------------df-------------------------\n",
      "                     A         B\n",
      "first second                    \n",
      "bar   one    -0.049464 -0.417896\n",
      "      two     0.091839  0.034667\n",
      "baz   one     0.506695 -1.293280\n",
      "      two    -0.599423 -0.904374\n",
      "foo   one    -0.646858 -1.332314\n",
      "      two    -1.026602  0.196939\n",
      "qux   one     1.366047  0.059073\n",
      "      two    -0.689464  1.020158\n",
      "----------------------df2-------------------------\n",
      "                     A         B\n",
      "first second                    \n",
      "bar   one    -0.049464 -0.417896\n",
      "      two     0.091839  0.034667\n",
      "baz   one     0.506695 -1.293280\n",
      "      two    -0.599423 -0.904374\n",
      "----------------------stacked=df2.stack()-----------------\n",
      "first  second   \n",
      "bar    one     A   -0.049464\n",
      "               B   -0.417896\n",
      "       two     A    0.091839\n",
      "               B    0.034667\n",
      "baz    one     A    0.506695\n",
      "               B   -1.293280\n",
      "       two     A   -0.599423\n",
      "               B   -0.904374\n",
      "dtype: float64\n",
      "----------------------stacked.unstack()-------------------------\n",
      "                     A         B\n",
      "first second                    \n",
      "bar   one    -0.049464 -0.417896\n",
      "      two     0.091839  0.034667\n",
      "baz   one     0.506695 -1.293280\n",
      "      two    -0.599423 -0.904374\n",
      "----------------------stacked.unstack(1)-------------------------\n",
      "second        one       two\n",
      "first                      \n",
      "bar   A -0.049464  0.091839\n",
      "      B -0.417896  0.034667\n",
      "baz   A  0.506695 -0.599423\n",
      "      B -1.293280 -0.904374\n",
      "----------------------stacked.unstack(0)-------------------------\n",
      "first          bar       baz\n",
      "second                      \n",
      "one    A -0.049464  0.506695\n",
      "       B -0.417896 -1.293280\n",
      "two    A  0.091839 -0.599423\n",
      "       B  0.034667 -0.904374\n"
     ]
    }
   ],
   "source": [
    "#Stack\n",
    "tuples = list(zip(*[['bar', 'bar', 'baz', 'baz',\n",
    "                     'foo', 'foo', 'qux', 'qux'],\n",
    "                    ['one', 'two', 'one', 'two',\n",
    "                     'one', 'two', 'one', 'two']]))\n",
    "index = pd.MultiIndex.from_tuples(tuples, names=['first', 'second'])\n",
    "df = pd.DataFrame(np.random.randn(8, 2), index=index, columns=['A', 'B'])\n",
    "df2 = df[:4]\n",
    "print('----------------------df-------------------------')\n",
    "print(df)\n",
    "print('----------------------df2-------------------------')\n",
    "print(df2)\n",
    "print('----------------------stacked=df2.stack()-----------------')\n",
    "stacked = df2.stack()\n",
    "print(stacked)\n",
    "print('----------------------stacked.unstack()-------------------------')\n",
    "print(stacked.unstack())\n",
    "print('----------------------stacked.unstack(1)-------------------------')\n",
    "print(stacked.unstack(1))\n",
    "print('----------------------stacked.unstack(0)-------------------------')\n",
    "print(stacked.unstack(0))"
   ]
  },
  {
   "cell_type": "code",
   "execution_count": 42,
   "metadata": {},
   "outputs": [
    {
     "name": "stdout",
     "output_type": "stream",
     "text": [
      "-----------------------df------------------------\n",
      "        A  B    C         D         E\n",
      "0     one  A  foo -0.367025 -0.210153\n",
      "1     one  B  foo  1.646895  0.026560\n",
      "2     two  C  foo -0.127281  0.334862\n",
      "3   three  A  bar -2.936848  1.520800\n",
      "4     one  B  bar  0.129238 -0.423897\n",
      "5     one  C  bar  0.195829  0.707344\n",
      "6     two  A  foo -0.749130  0.360796\n",
      "7   three  B  foo -0.300612  0.070588\n",
      "8     one  C  foo  0.680711  0.268179\n",
      "9     one  A  bar -1.257538 -0.656573\n",
      "10    two  B  bar  0.335065  0.616315\n",
      "11  three  C  bar  0.753053  1.685605\n",
      "------print(pd.pivot_table(df, values='D', index=['A', 'B'], columns=['C']))--------------\n",
      "C             bar       foo\n",
      "A     B                    \n",
      "one   A -1.257538 -0.367025\n",
      "      B  0.129238  1.646895\n",
      "      C  0.195829  0.680711\n",
      "three A -2.936848       NaN\n",
      "      B       NaN -0.300612\n",
      "      C  0.753053       NaN\n",
      "two   A       NaN -0.749130\n",
      "      B  0.335065       NaN\n",
      "      C       NaN -0.127281\n"
     ]
    }
   ],
   "source": [
    "#数据透视表\n",
    "#详情请参阅：数据透视表.\n",
    "df = pd.DataFrame({'A' : ['one', 'one', 'two', 'three'] * 3,\n",
    "                   'B' : ['A', 'B', 'C'] * 4,\n",
    "                   'C' : ['foo', 'foo', 'foo', 'bar', 'bar', 'bar'] * 2,\n",
    "                   'D' : np.random.randn(12),\n",
    "                   'E' : np.random.randn(12)})\n",
    "print('-----------------------df------------------------')\n",
    "print(df)\n",
    "#可以从这个数据中轻松的生成数据透视表：\n",
    "print(\"------print(pd.pivot_table(df, values='D', index=['A', 'B'], columns=['C']))--------------\")\n",
    "print(pd.pivot_table(df, values='D', index=['A', 'B'], columns=['C']))"
   ]
  },
  {
   "cell_type": "markdown",
   "metadata": {},
   "source": [
    "## 9.、 时间序列"
   ]
  },
  {
   "cell_type": "code",
   "execution_count": 43,
   "metadata": {},
   "outputs": [
    {
     "name": "stdout",
     "output_type": "stream",
     "text": [
      "2012-03-06   -0.964400\n",
      "2012-03-07   -0.189287\n",
      "2012-03-08    0.747346\n",
      "2012-03-09   -0.620024\n",
      "2012-03-10    0.436655\n",
      "Freq: D, dtype: float64\n",
      "2012-03-06 00:00:00+00:00   -0.964400\n",
      "2012-03-07 00:00:00+00:00   -0.189287\n",
      "2012-03-08 00:00:00+00:00    0.747346\n",
      "2012-03-09 00:00:00+00:00   -0.620024\n",
      "2012-03-10 00:00:00+00:00    0.436655\n",
      "Freq: D, dtype: float64\n",
      "2012-03-05 19:00:00-05:00   -0.964400\n",
      "2012-03-06 19:00:00-05:00   -0.189287\n",
      "2012-03-07 19:00:00-05:00    0.747346\n",
      "2012-03-08 19:00:00-05:00   -0.620024\n",
      "2012-03-09 19:00:00-05:00    0.436655\n",
      "Freq: D, dtype: float64\n",
      "2012-01-31    1.277733\n",
      "2012-02-29   -1.242984\n",
      "2012-03-31    1.449305\n",
      "2012-04-30    1.148236\n",
      "2012-05-31    1.133325\n",
      "Freq: M, dtype: float64\n",
      "2012-01    1.277733\n",
      "2012-02   -1.242984\n",
      "2012-03    1.449305\n",
      "2012-04    1.148236\n",
      "2012-05    1.133325\n",
      "Freq: M, dtype: float64\n",
      "2012-01-01    1.277733\n",
      "2012-02-01   -1.242984\n",
      "2012-03-01    1.449305\n",
      "2012-04-01    1.148236\n",
      "2012-05-01    1.133325\n",
      "Freq: MS, dtype: float64\n",
      "1990-03-01 09:00   -0.722781\n",
      "1990-06-01 09:00    1.088969\n",
      "1990-09-01 09:00    1.463276\n",
      "1990-12-01 09:00    0.857646\n",
      "1991-03-01 09:00    1.824247\n",
      "Freq: H, dtype: float64\n"
     ]
    }
   ],
   "source": [
    "#Pandas 在对频率转换进行重新采样时拥有简单、强大且高效的功能（如将按秒采样的数据转换为按5分钟为单位进行采样的数据）。这种操作在金融领域非常常见。具体参考：时间序列。\n",
    "rng = pd.date_range('1/1/2012', periods=100, freq='S')\n",
    "ts = pd.Series(np.random.randint(0, 500, len(rng)), index=rng)\n",
    "ts.resample('5Min').sum()\n",
    "#Out[110]: \n",
    "#2012-01-01    25083\n",
    "#Freq: 5T, dtype: int64\n",
    "\n",
    "#1、 时区表示：\n",
    "rng = pd.date_range('3/6/2012 00:00', periods=5, freq='D')\n",
    "ts = pd.Series(np.random.randn(len(rng)), rng)\n",
    "print(ts)\n",
    "#Out[113]: \n",
    "#2012-03-06    0.464000\n",
    "#2012-03-07    0.227371\n",
    "#2012-03-08   -0.496922\n",
    "#2012-03-09    0.306389\n",
    "#2012-03-10   -2.290613\n",
    "#Freq: D, dtype: float64\n",
    "\n",
    "ts_utc = ts.tz_localize('UTC')\n",
    "print(ts_utc)\n",
    "#Out[115]: \n",
    "#2012-03-06 00:00:00+00:00    0.464000\n",
    "#2012-03-07 00:00:00+00:00    0.227371\n",
    "#2012-03-08 00:00:00+00:00   -0.496922\n",
    "#2012-03-09 00:00:00+00:00    0.306389\n",
    "#2012-03-10 00:00:00+00:00   -2.290613\n",
    "#Freq: D, dtype: float64\n",
    "\n",
    "#2、 时区转换：\n",
    "print(ts_utc.tz_convert('US/Eastern'))\n",
    "#Out[116]: \n",
    "#2012-03-05 19:00:00-05:00    0.464000\n",
    "#2012-03-06 19:00:00-05:00    0.227371\n",
    "#2012-03-07 19:00:00-05:00   -0.496922\n",
    "#2012-03-08 19:00:00-05:00    0.306389\n",
    "#2012-03-09 19:00:00-05:00   -2.290613\n",
    "#Freq: D, dtype: float64\n",
    "\n",
    "#3、 时间跨度转换：\n",
    "rng = pd.date_range('1/1/2012', periods=5, freq='M')\n",
    "ts = pd.Series(np.random.randn(len(rng)), index=rng)\n",
    "print(ts)\n",
    "#Out[119]: \n",
    "#2012-01-31   -1.134623\n",
    "#2012-02-29   -1.561819\n",
    "#2012-03-31   -0.260838\n",
    "#2012-04-30    0.281957\n",
    "#2012-05-31    1.523962\n",
    "#Freq: M, dtype: float64\n",
    "\n",
    "ps = ts.to_period()\n",
    "print(ps)\n",
    "#Out[121]: \n",
    "#2012-01   -1.134623\n",
    "#2012-02   -1.561819\n",
    "#2012-03   -0.260838\n",
    "#2012-04    0.281957\n",
    "#2012-05    1.523962\n",
    "#Freq: M, dtype: float64\n",
    "\n",
    "print(ps.to_timestamp())\n",
    "#Out[122]: \n",
    "#2012-01-01   -1.134623\n",
    "#2012-02-01   -1.561819\n",
    "#2012-03-01   -0.260838\n",
    "#2012-04-01    0.281957\n",
    "#2012-05-01    1.523962\n",
    "#Freq: MS, dtype: float64\n",
    "\n",
    "#4、 时期和时间戳之间的转换使得可以使用一些方便的算术函数。\n",
    "prng = pd.period_range('1990Q1', '2000Q4', freq='Q-NOV')\n",
    "ts = pd.Series(np.random.randn(len(prng)), prng)\n",
    "ts.index = (prng.asfreq('M', 'e') + 1).asfreq('H', 's') + 9\n",
    "print(ts.head())\n",
    "#Out[126]: \n",
    "#1990-03-01 09:00   -0.902937\n",
    "#1990-06-01 09:00    0.068159\n",
    "#1990-09-01 09:00   -0.057873\n",
    "#1990-12-01 09:00   -0.368204\n",
    "#1991-03-01 09:00   -1.144073\n",
    "#Freq: H, dtype: float64"
   ]
  },
  {
   "cell_type": "code",
   "execution_count": 44,
   "metadata": {},
   "outputs": [
    {
     "name": "stdout",
     "output_type": "stream",
     "text": [
      "0    a\n",
      "1    b\n",
      "2    b\n",
      "3    a\n",
      "4    a\n",
      "5    e\n",
      "Name: grade, dtype: category\n",
      "Categories (3, object): [a, b, e]\n",
      "0    very good\n",
      "1         good\n",
      "2         good\n",
      "3    very good\n",
      "4    very good\n",
      "5     very bad\n",
      "Name: grade, dtype: category\n",
      "Categories (5, object): [very bad, bad, medium, good, very good]\n",
      "   id raw_grade      grade\n",
      "5   6         e   very bad\n",
      "1   2         b       good\n",
      "2   3         b       good\n",
      "0   1         a  very good\n",
      "3   4         a  very good\n",
      "4   5         a  very good\n",
      "grade\n",
      "very bad     1\n",
      "bad          0\n",
      "medium       0\n",
      "good         2\n",
      "very good    3\n",
      "dtype: int64\n"
     ]
    }
   ],
   "source": [
    "#十、 Categorical\n",
    "#从 0.15 版本开始，pandas 可以在DataFrame中支持 Categorical 类型的数据，详细 介绍参看：Categorical 简介和API documentation。\n",
    "df = pd.DataFrame({\"id\":[1,2,3,4,5,6], \"raw_grade\":['a', 'b', 'b', 'a', 'a', 'e']})\n",
    "\n",
    "#1、 将原始的grade转换为 Categorical 数据类型：\n",
    "df[\"grade\"] = df[\"raw_grade\"].astype(\"category\")\n",
    "print(df[\"grade\"])\n",
    "#Out[129]: \n",
    "#0    a\n",
    "#1    b\n",
    "#2    b\n",
    "#3    a\n",
    "#4    a\n",
    "#5    e\n",
    "#Name: grade, dtype: category\n",
    "#Categories (3, object): [a, b, e]\n",
    "\n",
    "#2、 将 Categorical 类型数据重命名为更有意义的名称：\n",
    "df[\"grade\"].cat.categories = [\"very good\", \"good\", \"very bad\"]\n",
    "\n",
    "#3、 对类别进行重新排序，增加缺失的类别：\n",
    "df[\"grade\"] = df[\"grade\"].cat.set_categories([\"very bad\", \"bad\", \"medium\", \"good\", \"very good\"])\n",
    "print(df[\"grade\"])\n",
    "#Out[132]: \n",
    "#0    very good\n",
    "#1         good\n",
    "#2         good\n",
    "#3    very good\n",
    "#4    very good\n",
    "#5     very bad\n",
    "#Name: grade, dtype: category\n",
    "#Categories (5, object): [very bad, bad, medium, good, very good]\n",
    "\n",
    "#4、 排序是按照 Categorical 的顺序进行的而不是按照字典顺序进行：\n",
    "print(df.sort_values(by=\"grade\"))\n",
    "#Out[133]: \n",
    "#   id raw_grade      grade\n",
    "#5   6         e   very bad\n",
    "#1   2         b       good\n",
    "#2   3         b       good\n",
    "#0   1         a  very good\n",
    "#3   4         a  very good\n",
    "#4   5         a  very good\n",
    "\n",
    "#5、 对 Categorical 列进行排序时存在空的类别：\n",
    "print(df.groupby(\"grade\").size())\n",
    "#Out[134]: \n",
    "#grade\n",
    "#very bad     1\n",
    "#bad          0\n",
    "#medium       0\n",
    "#good         2\n",
    "#very good    3\n",
    "#dtype: int64"
   ]
  },
  {
   "cell_type": "code",
   "execution_count": 45,
   "metadata": {},
   "outputs": [
    {
     "name": "stdout",
     "output_type": "stream",
     "text": [
      "     Unnamed: 0          A          B          C          D\n",
      "0    2000-01-01  -0.597573  -0.007966   0.882037  -3.168169\n",
      "1    2000-01-02   0.390949   1.859065   2.462589  -2.246281\n",
      "2    2000-01-03  -0.321627   3.925726   1.787410  -1.571049\n",
      "3    2000-01-04  -1.468065   3.962879   2.142782  -2.958954\n",
      "4    2000-01-05  -0.831111   3.266768   2.477833  -2.928654\n",
      "5    2000-01-06  -1.086217   3.587081   2.418366  -1.109657\n",
      "6    2000-01-07  -0.918153   4.107128   4.028273  -1.001732\n",
      "7    2000-01-08  -1.762737   5.119725   2.323274  -0.968336\n",
      "8    2000-01-09  -1.715761   5.469970   1.807665  -1.229686\n",
      "9    2000-01-10  -1.263463   4.865975   1.350686  -2.400260\n",
      "10   2000-01-11  -2.371396   7.513476  -0.411789  -3.677164\n",
      "11   2000-01-12  -2.813428   8.131490  -0.451302  -3.469849\n",
      "12   2000-01-13  -2.037168   7.959194  -2.309513  -3.072793\n",
      "13   2000-01-14  -2.377694   7.603341  -3.096668  -3.091405\n",
      "14   2000-01-15  -4.803782   6.861185  -2.460060  -2.190570\n",
      "15   2000-01-16  -4.928755   7.538308  -3.149464  -2.182137\n",
      "16   2000-01-17  -5.194454   6.844692  -1.869141  -2.745775\n",
      "17   2000-01-18  -3.595991   7.652431  -2.332438  -1.523646\n",
      "18   2000-01-19  -3.460179   5.997279  -1.743724  -1.324572\n",
      "19   2000-01-20  -1.930752   4.259875  -0.656437  -1.318526\n",
      "20   2000-01-21  -0.843812   4.994513  -1.119315  -3.216763\n",
      "21   2000-01-22  -0.841506   5.600784   1.096545  -2.486831\n",
      "22   2000-01-23   0.233165   6.091479   1.066530  -2.723594\n",
      "23   2000-01-24   1.072524   8.201530   3.317499  -1.971829\n",
      "24   2000-01-25   1.038385   6.830760   3.731615  -1.962417\n",
      "25   2000-01-26   0.310799   6.724684   3.357934  -2.052921\n",
      "26   2000-01-27   1.088222   7.829605   2.759544  -1.626792\n",
      "27   2000-01-28   0.046782   5.530774   2.112533  -2.408409\n",
      "28   2000-01-29  -1.698087   5.043852   2.288549  -3.667374\n",
      "29   2000-01-30   0.105257   4.834927   0.395167  -4.769602\n",
      "..          ...        ...        ...        ...        ...\n",
      "970  2002-08-28 -20.365015  49.598591  11.491057  34.173588\n",
      "971  2002-08-29 -19.099333  48.776822  10.659545  35.042694\n",
      "972  2002-08-30 -17.793429  48.610062   9.825793  34.403318\n",
      "973  2002-08-31 -16.458903  49.925366   8.478548  35.644572\n",
      "974  2002-09-01 -18.227263  50.085397   9.506876  36.949773\n",
      "975  2002-09-02 -18.620228  50.847865   8.642882  37.808908\n",
      "976  2002-09-03 -18.249362  50.208707   9.384204  37.752751\n",
      "977  2002-09-04 -20.260729  49.773877   9.557211  38.058874\n",
      "978  2002-09-05 -23.081259  49.942838   9.110756  38.621490\n",
      "979  2002-09-06 -23.182553  50.852785   8.771666  38.260852\n",
      "980  2002-09-07 -22.481635  51.199282   7.644584  39.615674\n",
      "981  2002-09-08 -20.718190  52.727162   7.702634  37.883748\n",
      "982  2002-09-09 -20.867656  52.792748   7.304246  37.380520\n",
      "983  2002-09-10 -20.811381  52.712989   7.221890  38.412830\n",
      "984  2002-09-11 -21.891155  52.207130   7.426950  38.303978\n",
      "985  2002-09-12 -21.755077  53.818113   7.161194  36.286454\n",
      "986  2002-09-13 -21.160916  53.766159   7.628050  37.354072\n",
      "987  2002-09-14 -23.170276  55.443999   9.074750  37.181540\n",
      "988  2002-09-15 -22.361301  54.548064   7.570754  37.319170\n",
      "989  2002-09-16 -21.578205  52.843359   9.714645  36.995766\n",
      "990  2002-09-17 -20.744141  52.185356  10.065878  33.966781\n",
      "991  2002-09-18 -21.585313  51.702859  10.260359  34.199561\n",
      "992  2002-09-19 -22.113683  52.731031  10.727769  33.723385\n",
      "993  2002-09-20 -21.453933  55.167745  10.254071  34.602461\n",
      "994  2002-09-21 -22.219424  54.945609   9.088717  34.725745\n",
      "995  2002-09-22 -22.963818  54.649713   8.227788  35.685848\n",
      "996  2002-09-23 -21.940444  55.762198   8.692628  35.851705\n",
      "997  2002-09-24 -22.119270  54.916136   6.567316  36.227484\n",
      "998  2002-09-25 -21.438956  55.245031   6.968311  35.870499\n",
      "999  2002-09-26 -23.012471  54.824430   5.395211  36.730102\n",
      "\n",
      "[1000 rows x 5 columns]\n",
      "                    A          B          C          D\n",
      "2000-01-01  -0.597573  -0.007966   0.882037  -3.168169\n",
      "2000-01-02   0.390949   1.859065   2.462589  -2.246281\n",
      "2000-01-03  -0.321627   3.925726   1.787410  -1.571049\n",
      "2000-01-04  -1.468065   3.962879   2.142782  -2.958954\n",
      "2000-01-05  -0.831111   3.266768   2.477833  -2.928654\n",
      "2000-01-06  -1.086217   3.587081   2.418366  -1.109657\n",
      "2000-01-07  -0.918153   4.107128   4.028273  -1.001732\n",
      "2000-01-08  -1.762737   5.119725   2.323274  -0.968336\n",
      "2000-01-09  -1.715761   5.469970   1.807665  -1.229686\n",
      "2000-01-10  -1.263463   4.865975   1.350686  -2.400260\n",
      "2000-01-11  -2.371396   7.513476  -0.411789  -3.677164\n",
      "2000-01-12  -2.813428   8.131490  -0.451302  -3.469849\n",
      "2000-01-13  -2.037168   7.959194  -2.309513  -3.072793\n",
      "2000-01-14  -2.377694   7.603341  -3.096668  -3.091405\n",
      "2000-01-15  -4.803782   6.861185  -2.460060  -2.190570\n",
      "2000-01-16  -4.928755   7.538308  -3.149464  -2.182137\n",
      "2000-01-17  -5.194454   6.844692  -1.869141  -2.745775\n",
      "2000-01-18  -3.595991   7.652431  -2.332438  -1.523646\n",
      "2000-01-19  -3.460179   5.997279  -1.743724  -1.324572\n",
      "2000-01-20  -1.930752   4.259875  -0.656437  -1.318526\n",
      "2000-01-21  -0.843812   4.994513  -1.119315  -3.216763\n",
      "2000-01-22  -0.841506   5.600784   1.096545  -2.486831\n",
      "2000-01-23   0.233165   6.091479   1.066530  -2.723594\n",
      "2000-01-24   1.072524   8.201530   3.317499  -1.971829\n",
      "2000-01-25   1.038385   6.830760   3.731615  -1.962417\n",
      "2000-01-26   0.310799   6.724684   3.357934  -2.052921\n",
      "2000-01-27   1.088222   7.829605   2.759544  -1.626792\n",
      "2000-01-28   0.046782   5.530774   2.112533  -2.408409\n",
      "2000-01-29  -1.698087   5.043852   2.288549  -3.667374\n",
      "2000-01-30   0.105257   4.834927   0.395167  -4.769602\n",
      "...               ...        ...        ...        ...\n",
      "2002-08-28 -20.365015  49.598591  11.491057  34.173588\n",
      "2002-08-29 -19.099333  48.776822  10.659545  35.042694\n",
      "2002-08-30 -17.793429  48.610062   9.825793  34.403318\n",
      "2002-08-31 -16.458903  49.925366   8.478548  35.644572\n",
      "2002-09-01 -18.227263  50.085397   9.506876  36.949773\n",
      "2002-09-02 -18.620228  50.847865   8.642882  37.808908\n",
      "2002-09-03 -18.249362  50.208707   9.384204  37.752751\n",
      "2002-09-04 -20.260729  49.773877   9.557211  38.058874\n",
      "2002-09-05 -23.081259  49.942838   9.110756  38.621490\n",
      "2002-09-06 -23.182553  50.852785   8.771666  38.260852\n",
      "2002-09-07 -22.481635  51.199282   7.644584  39.615674\n",
      "2002-09-08 -20.718190  52.727162   7.702634  37.883748\n",
      "2002-09-09 -20.867656  52.792748   7.304246  37.380520\n",
      "2002-09-10 -20.811381  52.712989   7.221890  38.412830\n",
      "2002-09-11 -21.891155  52.207130   7.426950  38.303978\n",
      "2002-09-12 -21.755077  53.818113   7.161194  36.286454\n",
      "2002-09-13 -21.160916  53.766159   7.628050  37.354072\n",
      "2002-09-14 -23.170276  55.443999   9.074750  37.181540\n",
      "2002-09-15 -22.361301  54.548064   7.570754  37.319170\n",
      "2002-09-16 -21.578205  52.843359   9.714645  36.995766\n",
      "2002-09-17 -20.744141  52.185356  10.065878  33.966781\n",
      "2002-09-18 -21.585313  51.702859  10.260359  34.199561\n",
      "2002-09-19 -22.113683  52.731031  10.727769  33.723385\n",
      "2002-09-20 -21.453933  55.167745  10.254071  34.602461\n",
      "2002-09-21 -22.219424  54.945609   9.088717  34.725745\n",
      "2002-09-22 -22.963818  54.649713   8.227788  35.685848\n",
      "2002-09-23 -21.940444  55.762198   8.692628  35.851705\n",
      "2002-09-24 -22.119270  54.916136   6.567316  36.227484\n",
      "2002-09-25 -21.438956  55.245031   6.968311  35.870499\n",
      "2002-09-26 -23.012471  54.824430   5.395211  36.730102\n",
      "\n",
      "[1000 rows x 4 columns]\n"
     ]
    },
    {
     "data": {
      "image/png": "[encoded data removed]",
      "text/plain": [
       "<Figure size 432x288 with 1 Axes>"
      ]
     },
     "metadata": {
      "needs_background": "light"
     },
     "output_type": "display_data"
    },
    {
     "data": {
      "text/plain": [
       "<Figure size 432x288 with 0 Axes>"
      ]
     },
     "metadata": {},
     "output_type": "display_data"
    },
    {
     "data": {
      "image/png": "[encoded data removed]",
      "text/plain": [
       "<Figure size 432x288 with 1 Axes>"
      ]
     },
     "metadata": {
      "needs_background": "light"
     },
     "output_type": "display_data"
    }
   ],
   "source": [
    "#十一、 画图\n",
    "#具体文档参看：绘图文档。\n",
    "ts = pd.Series(np.random.randn(1000), index=pd.date_range('1/1/2000', periods=1000))\n",
    "ts = ts.cumsum()\n",
    "ts.plot()\n",
    "#Out[137]: <matplotlib.axes._subplots.AxesSubplot at 0x7ff2ab2af550>\n",
    "\n",
    "#对于DataFrame来说，plot是一种将所有列及其标签进行绘制的简便方法：\n",
    "df = pd.DataFrame(np.random.randn(1000, 4), index=ts.index,\n",
    "                  columns=['A', 'B', 'C', 'D'])\n",
    "df = df.cumsum()\n",
    "plt.figure(); df.plot(); plt.legend(loc='best')\n",
    "#Out[140]: <matplotlib.legend.Legend at 0x7ff29c8163d0>\n",
    "\n",
    "#十二、 导入和保存数据\n",
    "#CSV\n",
    "#参考：写入 CSV 文件。\n",
    "#1、 写入 csv 文件：\n",
    "df.to_csv('foo.csv')\n",
    "\n",
    "#2、 从 csv 文件中读取：\n",
    "print(pd.read_csv('foo.csv'))\n",
    "#Out[142]: \n",
    "#     Unnamed: 0          A          B         C          D\n",
    "#0    2000-01-01   0.266457  -0.399641 -0.219582   1.186860\n",
    "#1    2000-01-02  -1.170732  -0.345873  1.653061  -0.282953\n",
    "#2    2000-01-03  -1.734933   0.530468  2.060811  -0.515536\n",
    "#3    2000-01-04  -1.555121   1.452620  0.239859  -1.156896\n",
    "#4    2000-01-05   0.578117   0.511371  0.103552  -2.428202\n",
    "#5    2000-01-06   0.478344   0.449933 -0.741620  -1.962409\n",
    "#6    2000-01-07   1.235339  -0.091757 -1.543861  -1.084753\n",
    "#..          ...        ...        ...       ...        ...\n",
    "#993  2002-09-20 -10.628548  -9.153563 -7.883146  28.313940\n",
    "#994  2002-09-21 -10.390377  -8.727491 -6.399645  30.914107\n",
    "#995  2002-09-22  -8.985362  -8.485624 -4.669462  31.367740\n",
    "#996  2002-09-23  -9.558560  -8.781216 -4.499815  30.518439\n",
    "#997  2002-09-24  -9.902058  -9.340490 -4.386639  30.105593\n",
    "#998  2002-09-25 -10.216020  -9.480682 -3.933802  29.758560\n",
    "#999  2002-09-26 -11.856774 -10.671012 -3.216025  29.369368\n",
    "#\n",
    "#[1000 rows x 5 columns]\n",
    "\n",
    "#HDF5\n",
    "#参考：HDF5 存储\n",
    "#1、 写入 HDF5 存储：\n",
    "df.to_hdf('foo.h5','df')\n",
    "\n",
    "#2、 从 HDF5 存储中读取：\n",
    "print(pd.read_hdf('foo.h5','df'))\n",
    "#Out[144]: \n",
    "#                    A          B         C          D\n",
    "#2000-01-01   0.266457  -0.399641 -0.219582   1.186860\n",
    "#2000-01-02  -1.170732  -0.345873  1.653061  -0.282953\n",
    "#2000-01-03  -1.734933   0.530468  2.060811  -0.515536\n",
    "#2000-01-04  -1.555121   1.452620  0.239859  -1.156896\n",
    "#2000-01-05   0.578117   0.511371  0.103552  -2.428202\n",
    "#2000-01-06   0.478344   0.449933 -0.741620  -1.962409\n",
    "#2000-01-07   1.235339  -0.091757 -1.543861  -1.084753\n",
    "#...               ...        ...       ...        ...\n",
    "#2002-09-20 -10.628548  -9.153563 -7.883146  28.313940\n",
    "#2002-09-21 -10.390377  -8.727491 -6.399645  30.914107\n",
    "#2002-09-22  -8.985362  -8.485624 -4.669462  31.367740\n",
    "#2002-09-23  -9.558560  -8.781216 -4.499815  30.518439\n",
    "#2002-09-24  -9.902058  -9.340490 -4.386639  30.105593\n",
    "#2002-09-25 -10.216020  -9.480682 -3.933802  29.758560\n",
    "#2002-09-26 -11.856774 -10.671012 -3.216025  29.369368\n",
    "#\n",
    "#[1000 rows x 4 columns]\n",
    "\n",
    "#Excel\n",
    "#参考：MS Excel\n",
    "#1、 写入excel文件：\n",
    "df.to_excel('foo.xlsx', sheet_name='Sheet1')\n",
    "\n",
    "#2、 从excel文件中读取：\n",
    "#print(pd.read_excel('foo.xlsx', 'Sheet1', index_col=None, na_values=['NA']))\n",
    "#Out[146]: \n",
    "#                    A          B         C          D\n",
    "#2000-01-01   0.266457  -0.399641 -0.219582   1.186860\n",
    "#2000-01-02  -1.170732  -0.345873  1.653061  -0.282953\n",
    "#2000-01-03  -1.734933   0.530468  2.060811  -0.515536\n",
    "#2000-01-04  -1.555121   1.452620  0.239859  -1.156896\n",
    "#2000-01-05   0.578117   0.511371  0.103552  -2.428202\n",
    "#2000-01-06   0.478344   0.449933 -0.741620  -1.962409\n",
    "#2000-01-07   1.235339  -0.091757 -1.543861  -1.084753\n",
    "#...               ...        ...       ...        ...\n",
    "#2002-09-20 -10.628548  -9.153563 -7.883146  28.313940\n",
    "#2002-09-21 -10.390377  -8.727491 -6.399645  30.914107\n",
    "#2002-09-22  -8.985362  -8.485624 -4.669462  31.367740\n",
    "#2002-09-23  -9.558560  -8.781216 -4.499815  30.518439\n",
    "#2002-09-24  -9.902058  -9.340490 -4.386639  30.105593\n",
    "#2002-09-25 -10.216020  -9.480682 -3.933802  29.758560\n",
    "#2002-09-26 -11.856774 -10.671012 -3.216025  29.369368\n",
    "#\n",
    "#[1000 rows x 4 columns]\n",
    "\n",
    "#十三、陷阱\n",
    "#如果你尝试某个操作并且看到如下异常：\n",
    "#>>> if pd.Series([False, True, False]):\n",
    "#    print(\"I was true\")\n",
    "#Traceback\n",
    "#   ...\n",
    "#ValueError: The truth value of an array is ambiguous. Use a.empty, a.any() or a.all().\n",
    "#解释及处理方式请见比较。\n",
    "#\n",
    "#同时请见陷阱。"
   ]
  },
  {
   "cell_type": "code",
   "execution_count": null,
   "metadata": {},
   "outputs": [],
   "source": []
  }
 ],
 "metadata": {
  "kernelspec": {
   "display_name": "Python 3",
   "language": "python",
   "name": "python3"
  },
  "language_info": {
   "codemirror_mode": {
    "name": "ipython",
    "version": 3
   },
   "file_extension": ".py",
   "mimetype": "text/x-python",
   "name": "python",
   "nbconvert_exporter": "python",
   "pygments_lexer": "ipython3",
   "version": "3.5.2"
  }
 },
 "nbformat": 4,
 "nbformat_minor": 2
}
