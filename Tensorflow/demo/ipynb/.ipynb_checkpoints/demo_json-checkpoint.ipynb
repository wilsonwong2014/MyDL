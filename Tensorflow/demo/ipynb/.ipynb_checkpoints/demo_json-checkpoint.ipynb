{
 "cells": [
  {
   "cell_type": "markdown",
   "metadata": {},
   "source": [
    "# json文件范例"
   ]
  },
  {
   "cell_type": "code",
   "execution_count": 3,
   "metadata": {},
   "outputs": [
    {
     "name": "stdout",
     "output_type": "stream",
     "text": [
      "json_file: /home/hjw/work/data/gtest/1.json\n",
      "lst: [{'src': 0, 'dst': 0}, {'src': 1, 'dst': 10}, {'src': 2, 'dst': 20}, {'src': 3, 'dst': 30}, {'src': 4, 'dst': 40}, {'src': 5, 'dst': 50}, {'src': 6, 'dst': 60}, {'src': 7, 'dst': 70}, {'src': 8, 'dst': 80}, {'src': 9, 'dst': 90}]\n",
      "lst2: [{'src': 0, 'dst': 0}, {'src': 1, 'dst': 10}, {'src': 2, 'dst': 20}, {'src': 3, 'dst': 30}, {'src': 4, 'dst': 40}, {'src': 5, 'dst': 50}, {'src': 6, 'dst': 60}, {'src': 7, 'dst': 70}, {'src': 8, 'dst': 80}, {'src': 9, 'dst': 90}]\n"
     ]
    }
   ],
   "source": [
    "''' json序列化与序列化范例\n",
    "        http://www.runoob.com/python/python-json.html\n",
    "    使用 JSON 函数需要导入 json 库：import json。\n",
    "        json.dumps \t将 Python 对象编码成 JSON 字符串\n",
    "        json.loads\t将已编码的 JSON 字符串解码为 Python 对象\n",
    "'''\n",
    "\n",
    "import os\n",
    "import sys\n",
    "import json\n",
    "\n",
    "#json文件\n",
    "json_file='%s/work/data/gtest/1.json'%(os.getenv('HOME'))\n",
    "print('json_file:',json_file)\n",
    "\n",
    "#构造对象\n",
    "lst=[]\n",
    "for n in range(10):\n",
    "    dic={'src':n,'dst':n*10}\n",
    "    lst.append(dic)\n",
    "\n",
    "#json编码\n",
    "json.dump(lst,open(json_file,'w'))\n",
    "#json解码\n",
    "lst2=json.load(open(json_file,'r'))\n",
    "\n",
    "print('lst:',lst)\n",
    "print('lst2:',lst2)"
   ]
  },
  {
   "cell_type": "code",
   "execution_count": 10,
   "metadata": {},
   "outputs": [],
   "source": [
    "#测试json存储容量\n",
    "import os\n",
    "import numpy as np\n",
    "import json\n",
    "json_file='%s/work/temp/temp_big.json'%os.getenv('HOME')\n",
    "N1=100000\n",
    "N2=1000\n",
    "dic={}\n",
    "for i in range(N1):\n",
    "    dic['n%d'%(i)]=np.random.rand(1,N2).tolist()\n",
    "#编码\n",
    "json.dump(dic,open(json_file,'w')) \n",
    "#解码\n",
    "dic2=json.load(open(json_file,'r'))\n"
   ]
  },
  {
   "cell_type": "code",
   "execution_count": null,
   "metadata": {},
   "outputs": [],
   "source": []
  }
 ],
 "metadata": {
  "kernelspec": {
   "display_name": "Python 3",
   "language": "python",
   "name": "python3"
  },
  "language_info": {
   "codemirror_mode": {
    "name": "ipython",
    "version": 3
   },
   "file_extension": ".py",
   "mimetype": "text/x-python",
   "name": "python",
   "nbconvert_exporter": "python",
   "pygments_lexer": "ipython3",
   "version": "3.5.2"
  }
 },
 "nbformat": 4,
 "nbformat_minor": 2
}
