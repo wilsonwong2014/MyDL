{
 "cells": [
  {
   "cell_type": "markdown",
   "metadata": {},
   "source": [
    "# 批量构造几何图案\n",
    "    已加入模块 mylibs.data.gen_gemotry\n",
    "    \n",
    "* 直线\n",
    "    - 生成大小、类型、长度随机的直线        \n",
    "* 多边形\n",
    "    - 在半径为R的圆上随机选择N个点，并在圆心射线随机产生偏移量，构造多边形\n",
    "* 圆形\n",
    "    - 构造半径随机的圆\n",
    "* 椭圆\n",
    "    - 构造参数随机的椭圆"
   ]
  },
  {
   "cell_type": "code",
   "execution_count": 1,
   "metadata": {},
   "outputs": [],
   "source": [
    "import os\n",
    "import numpy as np\n",
    "import cv2\n",
    "import matplotlib.pyplot as plt"
   ]
  },
  {
   "cell_type": "code",
   "execution_count": 48,
   "metadata": {},
   "outputs": [
    {
     "data": {
      "text/plain": [
       "<matplotlib.image.AxesImage at 0x7f78d84cd320>"
      ]
     },
     "execution_count": 48,
     "metadata": {},
     "output_type": "execute_result"
    },
    {
     "data": {
      "image/png": "[encoded data removed]",
      "text/plain": [
       "<Figure size 432x288 with 1 Axes>"
      ]
     },
     "metadata": {
      "needs_background": "light"
     },
     "output_type": "display_data"
    }
   ],
   "source": [
    "#构造直线\n",
    "def gen_line(imgsize=(224,224,3)):\n",
    "    w=imgsize[1]\n",
    "    h=imgsize[0]\n",
    "    img=np.zeros(imgsize,dtype=np.uint8)\n",
    "    pt1=(np.random.randint(0,w//2-w//4),np.random.randint(0,h))\n",
    "    pt2=(np.random.randint(w//2+w//4),np.random.randint(0,h))\n",
    "    thickness=np.random.randint(1,10)\n",
    "    #cv2.line(img=img,pt1=pt1,pt2=pt2,color=(255,0,0),thickness=thickness)\n",
    "    cv2.line(img=img,pt1=pt1,pt2=pt2,color=(255,0,0),thickness=thickness)\n",
    "    return img\n",
    "\n",
    "img=gen_line()\n",
    "plt.figure\n",
    "plt.imshow(img)"
   ]
  },
  {
   "cell_type": "code",
   "execution_count": 37,
   "metadata": {},
   "outputs": [
    {
     "data": {
      "text/plain": [
       "<matplotlib.image.AxesImage at 0x7f78e4f62978>"
      ]
     },
     "execution_count": 37,
     "metadata": {},
     "output_type": "execute_result"
    },
    {
     "data": {
      "image/png": "[encoded data removed]",
      "text/plain": [
       "<Figure size 432x288 with 1 Axes>"
      ]
     },
     "metadata": {
      "needs_background": "light"
     },
     "output_type": "display_data"
    }
   ],
   "source": [
    "#构造多边形\n",
    "def gen_poly(imgsize=(224,224,3),N=3,fill=False):\n",
    "    w=imgsize[1]\n",
    "    h=imgsize[0]\n",
    "    #构建初始图形\n",
    "    img=np.zeros(imgsize,dtype=np.uint8) \n",
    "    #随机设置线条大小\n",
    "    thickness=np.random.randint(1,10) \n",
    "    #随机半径选择\n",
    "    R=w//2 if w<h else h//2\n",
    "    R=np.random.randint(10,R-10)\n",
    "    #在半径为R的圆上随机选择N个点\n",
    "    theta_step=2*np.pi/N\n",
    "    thetas=[i*theta_step for i in range(N)]\n",
    "    thetas=[theta + np.random.randint(-30,30)*theta_step/100.0 for theta in thetas]\n",
    "    pts=[(R*np.cos(theta),R*np.sin(theta)) for theta in thetas]\n",
    "    pts=np.array(pts).astype(np.int32)\n",
    "    pts[:,0]+=w//2\n",
    "    pts[:,1]+=h//2\n",
    "    pts=pts.reshape((-1,1,2))\n",
    "    '''这里 reshape 的第一个参数为-1, 表明这一维的长度是根据后面的维度的计算出来的。\n",
    "       如果第三个参数是 False，我们得到的多边形是不闭合的（首尾不相连）。\n",
    "    ''' \n",
    "    if fill:\n",
    "        #填充\n",
    "        cv2.fillPoly(img,[pts],color=(255,0,0))\n",
    "    cv2.polylines(img,[pts],True,(255,0,0),thickness=thickness) # 图像，点集，是否闭合，颜色，线条粗细\n",
    "    return img\n",
    "\n",
    "img=gen_poly()\n",
    "plt.figure\n",
    "plt.imshow(img)"
   ]
  },
  {
   "cell_type": "code",
   "execution_count": 43,
   "metadata": {},
   "outputs": [
    {
     "data": {
      "text/plain": [
       "<matplotlib.image.AxesImage at 0x7f78d8618198>"
      ]
     },
     "execution_count": 43,
     "metadata": {},
     "output_type": "execute_result"
    },
    {
     "data": {
      "image/png": "[encoded data removed]",
      "text/plain": [
       "<Figure size 432x288 with 1 Axes>"
      ]
     },
     "metadata": {
      "needs_background": "light"
     },
     "output_type": "display_data"
    }
   ],
   "source": [
    "#构造圆\n",
    "def gen_circle(imgsize=(224,224,3),fill=False):\n",
    "    w=imgsize[1]\n",
    "    h=imgsize[0]\n",
    "    thickness=np.random.randint(1,10)\n",
    "    R=np.random.randint(10,w//2-10) if w<h else np.random.randint(10,h//2-10)\n",
    "    img=np.zeros(imgsize,dtype=np.uint8)\n",
    "    if fill:\n",
    "        thickness=-1\n",
    "    cv2.circle(img=img,center=(w//2,h//2),radius=R,color=(255,0,0),thickness=thickness)\n",
    "    return img\n",
    "\n",
    "img=gen_circle()    \n",
    "plt.figure\n",
    "plt.imshow(img)"
   ]
  },
  {
   "cell_type": "code",
   "execution_count": 47,
   "metadata": {},
   "outputs": [
    {
     "data": {
      "text/plain": [
       "<matplotlib.image.AxesImage at 0x7f78d850cf28>"
      ]
     },
     "execution_count": 47,
     "metadata": {},
     "output_type": "execute_result"
    },
    {
     "data": {
      "image/png": "[encoded data removed]",
      "text/plain": [
       "<Figure size 432x288 with 1 Axes>"
      ]
     },
     "metadata": {
      "needs_background": "light"
     },
     "output_type": "display_data"
    }
   ],
   "source": [
    "#构造椭圆\n",
    "def gen_ellipse(imgsize=(224,224,3),fill=False):\n",
    "    w=imgsize[1]\n",
    "    h=imgsize[0]\n",
    "    thickness=np.random.randint(1,10)\n",
    "    if fill:\n",
    "        thickness=-1\n",
    "    a=np.random.randint(10,w//2-10)\n",
    "    b=np.random.randint(10,h//2-10)\n",
    "    angle=np.random.randint(0,260)\n",
    "    img=np.zeros(imgsize,dtype=np.uint8)\n",
    "    cv2.ellipse(img=img,center=(w//2,h//2),axes=(a,b),angle=angle,startAngle=0,endAngle=360,color=(255,0,0),thickness=thickness)\n",
    "    return img\n",
    "\n",
    "img=gen_ellipse()\n",
    "plt.figure\n",
    "plt.imshow(img)"
   ]
  },
  {
   "cell_type": "markdown",
   "metadata": {},
   "source": [
    "## 构造训练样本\n",
    "* 图像大小:224x224\n",
    "* 单类样本大小:3000,train-1000,valid-1000,test-1000\n",
    "* 样本类别：直线，多边形，圆，椭圆"
   ]
  },
  {
   "cell_type": "code",
   "execution_count": 52,
   "metadata": {},
   "outputs": [],
   "source": [
    "import os\n",
    "import numpy as np\n",
    "import cv2\n",
    "import matplotlib.pyplot as plt\n",
    "from mylibs.data.gen_gemotry import *\n",
    "#输出目录\n",
    "to_path='%s/work/data/gtest/gemotry'%os.getenv('HOME')\n",
    "#图像大小\n",
    "imgsize=(224,224,3)\n",
    "#是否填充\n",
    "fill=False\n",
    "#样本大小\n",
    "samples={'train':10,'valid':10,'test':10}\n",
    "#构造样本\n",
    "for k,v in samples.items():\n",
    "    #构造直线样本\n",
    "    tmp_path='%s/%s/line'%(to_path,k)\n",
    "    os.makedirs(tmp_path) if not os.path.exists(tmp_path) else ''\n",
    "    for i in range(v):\n",
    "        sfile='%s/%d.jpg'%(tmp_path,i)\n",
    "        img=gen_line(imgsize)\n",
    "        cv2.imwrite(sfile,img)\n",
    "    #构造圆形样本\n",
    "    tmp_path='%s/%s/circle'%(to_path,k)\n",
    "    os.makedirs(tmp_path) if not os.path.exists(tmp_path) else ''\n",
    "    for i in range(v):\n",
    "        sfile='%s/%d.jpg'%(tmp_path,i)\n",
    "        img=gen_circle(imgsize)\n",
    "        cv2.imwrite(sfile,img)    \n",
    "    #构造椭圆样本\n",
    "    tmp_path='%s/%s/ellipse'%(to_path,k)\n",
    "    os.makedirs(tmp_path) if not os.path.exists(tmp_path) else ''\n",
    "    for i in range(v):\n",
    "        sfile='%s/%d.jpg'%(tmp_path,i)\n",
    "        img=gen_ellipse(imgsize)\n",
    "        cv2.imwrite(sfile,img)            \n",
    "    #构造多边形样本\n",
    "    for n in range(3,10):\n",
    "        tmp_path='%s/%s/poly%d'%(to_path,k,n)\n",
    "        os.makedirs(tmp_path) if not os.path.exists(tmp_path) else ''\n",
    "        for i in range(v):\n",
    "            sfile='%s/%d.jpg'%(tmp_path,i)\n",
    "            img=gen_poly(imgsize,n)\n",
    "            cv2.imwrite(sfile,img)            \n"
   ]
  },
  {
   "cell_type": "code",
   "execution_count": null,
   "metadata": {},
   "outputs": [],
   "source": []
  }
 ],
 "metadata": {
  "kernelspec": {
   "display_name": "Python 3",
   "language": "python",
   "name": "python3"
  },
  "language_info": {
   "codemirror_mode": {
    "name": "ipython",
    "version": 3
   },
   "file_extension": ".py",
   "mimetype": "text/x-python",
   "name": "python",
   "nbconvert_exporter": "python",
   "pygments_lexer": "ipython3",
   "version": "3.5.2"
  }
 },
 "nbformat": 4,
 "nbformat_minor": 2
}
