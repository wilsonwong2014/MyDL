{
 "cells": [
  {
   "cell_type": "markdown",
   "metadata": {},
   "source": [
    "# python3 常用范例\n",
    "* 检索文件列表\n",
    "* 计算程序运行时间\n",
    "* sleep()\n",
    "* list"
   ]
  },
  {
   "cell_type": "markdown",
   "metadata": {},
   "source": [
    "## 检索文件列表"
   ]
  },
  {
   "cell_type": "code",
   "execution_count": 1,
   "metadata": {},
   "outputs": [
    {
     "name": "stdout",
     "output_type": "stream",
     "text": [
      "/home/hjw/work/data/gtest/jpg10/9.jpg\n",
      "/home/hjw/work/data/gtest/jpg10/2.jpg\n",
      "/home/hjw/work/data/gtest/jpg10/1.jpg\n",
      "/home/hjw/work/data/gtest/jpg10/0.jpg\n",
      "/home/hjw/work/data/gtest/jpg10/5.jpg\n",
      "/home/hjw/work/data/gtest/jpg10/4.jpg\n",
      "/home/hjw/work/data/gtest/jpg10/8.jpg\n",
      "/home/hjw/work/data/gtest/jpg10/7.jpg\n",
      "/home/hjw/work/data/gtest/jpg10/3.jpg\n",
      "/home/hjw/work/data/gtest/jpg10/6.jpg\n"
     ]
    }
   ],
   "source": [
    "#获取文件列表\n",
    "import os\n",
    "path='%s/work/data/gtest/jpg10'%os.getenv('HOME')\n",
    "\n",
    "items=os.listdir(path)\n",
    "for sfile in items:\n",
    "    temp_path=os.path.join(path,sfile)\n",
    "    if not os.path.isdir(temp_path):\n",
    "        print(temp_path)"
   ]
  },
  {
   "cell_type": "markdown",
   "metadata": {},
   "source": [
    "## 计算程序运行时间\n",
    "* 方法1和方法2都包含了其他程序使用CPU的时间，是程序开始到程序结束的运行时间。\n",
    "* 方法3算只计算了程序运行的CPU时间"
   ]
  },
  {
   "cell_type": "code",
   "execution_count": 3,
   "metadata": {},
   "outputs": [
    {
     "name": "stdout",
     "output_type": "stream",
     "text": [
      "0\n",
      "3.9577484130859375e-05\n",
      "4.199999999998649e-05\n"
     ]
    }
   ],
   "source": [
    "#方法1\n",
    "import datetime\n",
    "import time\n",
    "starttime = datetime.datetime.now()\n",
    "#long running\n",
    "endtime = datetime.datetime.now()\n",
    "print((endtime - starttime).seconds)\n",
    "\n",
    "#方法 2\n",
    "start = time.time()\n",
    "#run_fun()\n",
    "end = time.time()\n",
    "print(end-start)\n",
    "\n",
    "#方法3\n",
    "start = time.clock()\n",
    "#run_fun()\n",
    "end = time.clock()\n",
    "print(end-start)\n"
   ]
  },
  {
   "cell_type": "markdown",
   "metadata": {},
   "source": [
    "## sleep"
   ]
  },
  {
   "cell_type": "code",
   "execution_count": 4,
   "metadata": {},
   "outputs": [
    {
     "name": "stdout",
     "output_type": "stream",
     "text": [
      "0\n",
      "1\n"
     ]
    }
   ],
   "source": [
    "import time\n",
    "for i in range(2):\n",
    "    print(i)\n",
    "    time.sleep(1) #秒"
   ]
  },
  {
   "cell_type": "markdown",
   "metadata": {},
   "source": [
    "## list\n",
    "    可以添加，删除，修改"
   ]
  },
  {
   "cell_type": "code",
   "execution_count": 2,
   "metadata": {},
   "outputs": [
    {
     "name": "stdout",
     "output_type": "stream",
     "text": [
      "100\n",
      "3\n"
     ]
    }
   ],
   "source": [
    "#定义\n",
    "lst1=[1,2,3]                   #[1,2,3]\n",
    "#添加\n",
    "lst1.append(4)                 #[1,2,3,4]\n",
    "#删除\n",
    "lst1.pop()  #最后一个           #[1,2,3]\n",
    "lst1.pop(1) #指定序号,序号从0开始 #[1,3]\n",
    "#修改\n",
    "lst1[0]=100                    #[100,3]\n",
    "#遍历\n",
    "for v in lst1:\n",
    "    print(v)"
   ]
  },
  {
   "cell_type": "markdown",
   "metadata": {},
   "source": [
    "## tuple\n",
    "    不可以修改"
   ]
  },
  {
   "cell_type": "code",
   "execution_count": 3,
   "metadata": {},
   "outputs": [
    {
     "name": "stdout",
     "output_type": "stream",
     "text": [
      "1\n",
      "2\n",
      "3\n"
     ]
    }
   ],
   "source": [
    "#定义\n",
    "tup1=(1,2,3)\n",
    "#遍历\n",
    "for v in tup1:\n",
    "    print(v)"
   ]
  },
  {
   "cell_type": "markdown",
   "metadata": {},
   "source": [
    "## dict"
   ]
  },
  {
   "cell_type": "code",
   "execution_count": 7,
   "metadata": {},
   "outputs": [
    {
     "name": "stdout",
     "output_type": "stream",
     "text": [
      "a:100\n",
      "b:2\n"
     ]
    }
   ],
   "source": [
    "#定义\n",
    "dic1={'a':1,'b':2}\n",
    "#添加\n",
    "dic1['c']=3\n",
    "#删除\n",
    "dic1.pop('c')\n",
    "#修改\n",
    "dic1['a']=100\n",
    "#遍历\n",
    "for k,v in dic1.items():\n",
    "    print('%s:%s'%(k,v))"
   ]
  },
  {
   "cell_type": "markdown",
   "metadata": {},
   "source": [
    "## zip\n",
    "    zip函数使用范例:http://www.runoob.com/python/python-func-zip.html\n",
    "\n",
    "    打包为元组的列表\n",
    "        a=[1,2,3]\n",
    "        b=[4,5,6]\n",
    "\n",
    "        zipped=zip(a,b) # =>[(1,4),(2,5),(3,6)]\n",
    "\n",
    "        如果两个列表的长度不等，元素个数与最短列表保持一致\n",
    "        a=[1,2,3]\n",
    "        b=[4,5,6,7,8]\n",
    "        zipped=zip(a,b) # =>[(1,4),(2,5),(3,6)]\n",
    "\n",
    "    解压元组的列表\n",
    "        zipped=[(1,4),(2,5),(3,6)]\n",
    "        unzipped=list(zip(*zipped)) =>[(1,2,3),(4,5,6)]\n",
    "\n"
   ]
  },
  {
   "cell_type": "code",
   "execution_count": 13,
   "metadata": {},
   "outputs": [
    {
     "name": "stdout",
     "output_type": "stream",
     "text": [
      "[('a', 1), ('b', 2), ('c', 3)]\n",
      "[('a', 'b', 'c'), (1, 2, 3)]\n"
     ]
    }
   ],
   "source": [
    "#打包为元组的列表\n",
    "a=['a','b','c']\n",
    "b=[1,2,3]\n",
    "zipped=zip(a,b)             #=>[('a',1),('b',2),('c',3)]\n",
    "lst1=[v for v in zipped]\n",
    "print(lst1)\n",
    "\n",
    "#解压元组的列表\n",
    "unzipped=list(zip(*lst1))   #=>[('a','b','c'),(1,2,3)]\n",
    "print(unzipped)"
   ]
  },
  {
   "cell_type": "code",
   "execution_count": null,
   "metadata": {},
   "outputs": [],
   "source": []
  }
 ],
 "metadata": {
  "kernelspec": {
   "display_name": "Python 3",
   "language": "python",
   "name": "python3"
  },
  "language_info": {
   "codemirror_mode": {
    "name": "ipython",
    "version": 3
   },
   "file_extension": ".py",
   "mimetype": "text/x-python",
   "name": "python",
   "nbconvert_exporter": "python",
   "pygments_lexer": "ipython3",
   "version": "3.5.2"
  }
 },
 "nbformat": 4,
 "nbformat_minor": 2
}
