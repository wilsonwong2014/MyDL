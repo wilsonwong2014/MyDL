{
 "cells": [
  {
   "attachments": {
    "%E5%9B%BE%E7%89%87.png": {
     "image/png": "[encoded data removed]"
    }
   },
   "cell_type": "markdown",
   "metadata": {},
   "source": [
    "# 梯度&矩阵求导实验(有未解决问题-矩阵求导)\n",
    "原文:https://blog.csdn.net/C_chuxin/article/details/85269471 \n",
    "\n",
    "keras.backend.gradients\n",
    "gradients\n",
    "\n",
    "gradients(loss, variables)\n",
    "\n",
    "返回loss函数关于variables的梯度，variables为张量变量的列表\n",
    "\n",
    "概述\n",
    "\n",
    "K.gradients（y，x）\n",
    "\n",
    "【功能】用于求y关于x 的导数（梯度）\n",
    "\n",
    "【输入】(y和x可以是张量tensor也可以是张量列表，形如 [tensor1, tensor2, …, tensorn]），\n",
    "\n",
    "【返回】返回的是一个张量列表，列表长度是张量列表x的长度，列表元素是与x具有一样shape的张量。\n",
    "\n",
    "     举个例子，比如：grads = K.gradients(y， x),若y是（2，2）张量，x是（1，7，7，512）张量，那么返回的grads是只有1个元素的（1，7，7，512）张量列表。\n",
    "\n",
    "    具体而言：\n",
    "\n",
    "    K.gradients()实现y对x求导\n",
    "    求导返回值是一个list，list的长度等于len(x)\n",
    "    假设返回值是[grad1, grad2, grad3]，y=[y1, y2]，x=[x1, x2, x3]。则，真实的计算过程为:\n",
    "![%E5%9B%BE%E7%89%87.png](attachment:%E5%9B%BE%E7%89%87.png)\n",
    "     \n",
    "\n",
    "    其中y1/x1表示求y1关于x1的偏导数。\n",
    "\n",
    "    tensorflow—tf.gradients()简单实用教程\n",
    "\n",
    "## 未解决问题\n",
    "    numpy ,SciPy用于求解矩阵导数的方法方案?\n",
    "    \n",
    "    \n",
    "\n",
    "## 参考\n",
    "\n",
    "    keras中的K.gradients（）函数\n",
    "    https://blog.csdn.net/C_chuxin/article/details/85269471\n",
    "    \n",
    "    tensorflow—tf.gradients()简单实用教程\n",
    "    https://blog.csdn.net/hustqb/article/details/80260002\n",
    "    \n",
    "    通过一个例子快速上手矩阵求导\n",
    "    https://blog.csdn.net/nomadlx53/article/details/50849941\n",
    "    \n",
    "    矩阵求导与实例\n",
    "    https://blog.csdn.net/young_gy/article/details/50008953\n",
    "    \n",
    "    矩阵求导公式\n",
    "    https://blog.csdn.net/weixin_34920941/article/details/82882602\n",
    "    \n",
    "    Deep Learning 学习笔记7：矩阵求导公式汇总\n",
    "    https://blog.csdn.net/WPR1991/article/details/82929843\n",
    "    \n",
    "    "
   ]
  },
  {
   "cell_type": "code",
   "execution_count": 1,
   "metadata": {},
   "outputs": [
    {
     "name": "stderr",
     "output_type": "stream",
     "text": [
      "Using TensorFlow backend.\n"
     ]
    }
   ],
   "source": [
    "import tensorflow as tf\n",
    "import keras.backend as K\n",
    "import numpy as np\n",
    "sess=tf.InteractiveSession()"
   ]
  },
  {
   "cell_type": "code",
   "execution_count": 2,
   "metadata": {},
   "outputs": [
    {
     "name": "stdout",
     "output_type": "stream",
     "text": [
      "tmp1:\n",
      "-0.57129544\n",
      "tmp2:\n",
      "-0.5470154\n",
      "y:\n",
      "[-0.57129544 -0.5470154 ]\n",
      "x:\n",
      "[[-0.57129544 -0.2735077 ]]\n",
      "the gradient of y=x[0,0]+2*x[0,1] for x is : [array([[1., 2.]], dtype=float32)]\n"
     ]
    }
   ],
   "source": [
    "#范例1\n",
    "x = tf.get_variable('w1',shape=[1,2])\n",
    "tmp1=x[0,0]\n",
    "tmp2=2*x[0,1]\n",
    "y=tf.stack([tmp1,tmp2],0)  #y 是一个（2,1）的张量，x 是一个（1,2）的张量,而且y=x[0,0]+2*x[0,1] \n",
    "grads = tf.gradients(y,[x]) \n",
    "tf.global_variables_initializer().run() \n",
    "re = sess.run(grads) \n",
    "print('tmp1:')\n",
    "print(tmp1.eval())\n",
    "print('tmp2:')\n",
    "print(tmp2.eval())\n",
    "print('y:')\n",
    "print(y.eval())\n",
    "print('x:')\n",
    "print(x.eval())\n",
    "print('the gradient of y=x[0,0]+2*x[0,1] for x is :',re)"
   ]
  },
  {
   "cell_type": "code",
   "execution_count": 3,
   "metadata": {},
   "outputs": [
    {
     "name": "stdout",
     "output_type": "stream",
     "text": [
      "tmp1:\n",
      "0.10136671\n",
      "tmp2:\n",
      "1.8084109\n",
      "y:\n",
      "[[0.10136671 0.90420544]]\n",
      "x:\n",
      "[[0.10136671 0.90420544]]\n",
      "the gradient of y=x[0,0]+2*x[0,1] for x is : [array([[1., 1.]], dtype=float32)]\n"
     ]
    }
   ],
   "source": [
    "#范例2\n",
    "x = tf.Variable(initial_value=np.random.rand(1,2),dtype=tf.float32,name='var1') \n",
    "tmp1=x[0,0]\n",
    "tmp2=2*x[0,1]\n",
    "#y=tf.stack([tmp1,tmp2],0)  #y 是一个（2,1）的张量，x 是一个（1,2）的张量,而且y=x[0,0]+2*x[0,1] \n",
    "y=x\n",
    "grads = tf.gradients(y,[x]) \n",
    "\n",
    "tf.global_variables_initializer().run() \n",
    "re = sess.run(grads) \n",
    "print('tmp1:')\n",
    "print(tmp1.eval())\n",
    "print('tmp2:')\n",
    "print(tmp2.eval())\n",
    "print('y:')\n",
    "print(y.eval())\n",
    "print('x:')\n",
    "print(x.eval())\n",
    "print('the gradient of y=x[0,0]+2*x[0,1] for x is :',re)"
   ]
  },
  {
   "cell_type": "code",
   "execution_count": 4,
   "metadata": {},
   "outputs": [
    {
     "name": "stdout",
     "output_type": "stream",
     "text": [
      "[array([[ 9., 10.]], dtype=float32)]\n"
     ]
    }
   ],
   "source": [
    "#范例3\n",
    "#w1 = tf.Variable([[1,2]])       #1x2\n",
    "#w2 = tf.Variable([[3,4]])       #1x2\n",
    "w1 = tf.Variable(initial_value=np.random.rand(1,2),dtype=tf.float32,name='var1') \n",
    "w2 = tf.Variable(initial_value=np.random.rand(3,4),dtype=tf.float32,name='var1') \n",
    "\n",
    "y = tf.matmul(w1,[[9.],[10.]])    #2x1\n",
    "#求w1的梯度\n",
    "grads = tf.gradients(y,w1)      #1x2\n",
    "\n",
    "sess.run(tf.global_variables_initializer())\n",
    "gradval = sess.run(grads)\n",
    "print(gradval)"
   ]
  },
  {
   "cell_type": "markdown",
   "metadata": {},
   "source": [
    "# 标量对标量的求导 \n",
    "x:标量\n",
    "\n",
    "y=x\n",
    "\n",
    "$\\frac{dy}{dx}$=1"
   ]
  },
  {
   "cell_type": "code",
   "execution_count": 5,
   "metadata": {},
   "outputs": [
    {
     "name": "stdout",
     "output_type": "stream",
     "text": [
      "<tf.Variable 'var1_3:0' shape=() dtype=float32_ref>\n",
      "<tf.Variable 'var1_3:0' shape=() dtype=float32_ref>\n",
      "[<tf.Tensor 'gradients_3/Fill:0' shape=() dtype=float32>]\n",
      "[1.0]\n"
     ]
    }
   ],
   "source": [
    "#标量对标量的求导\n",
    "#  y=x => dy/dx\n",
    "x = tf.Variable(initial_value=np.random.rand(),dtype=tf.float32,name='var1') \n",
    "y = x\n",
    "tf.global_variables_initializer().run()\n",
    "grads=tf.gradients(y,x)\n",
    "grads_val=sess.run(grads)\n",
    "print(x)\n",
    "print(y)\n",
    "print(grads)\n",
    "print(grads_val)"
   ]
  },
  {
   "cell_type": "markdown",
   "metadata": {},
   "source": [
    "# 张量列表求导\n",
    "x:标量\n",
    "\n",
    "x1=1,y1=x1\n",
    "\n",
    "x2=2,y2=x2\n",
    "\n",
    "x3=3,y3=x3\n",
    "\n",
    "x=[x1,x2,x3]\n",
    "\n",
    "y=[y1,y2,y3]\n",
    "\n",
    "$\\frac{\\text{dy}}{\\text{dx}}$\n",
    "=\n",
    "$\\left[\n",
    "\\begin{array}{ccc}\n",
    "\\frac{dy1}{dx1} + \\frac{dy2}{dx1} + \\frac{dy3}{dx1} \\\\\n",
    "\\frac{dy1}{dx2} + \\frac{dy2}{dx2} + \\frac{dy3}{dx2} \\\\\n",
    "\\frac{dy1}{dx3} + \\frac{dy2}{dx3} + \\frac{dy3}{dx3} \\\\\n",
    "\\end{array} \n",
    "\\right]$\n",
    "=[1.0,1.0,1.0]"
   ]
  },
  {
   "cell_type": "code",
   "execution_count": 6,
   "metadata": {},
   "outputs": [
    {
     "name": "stdout",
     "output_type": "stream",
     "text": [
      "[<tf.Variable 'Variable:0' shape=() dtype=float32_ref>, <tf.Variable 'Variable_1:0' shape=() dtype=float32_ref>, <tf.Variable 'Variable_2:0' shape=() dtype=float32_ref>]\n",
      "[<tf.Variable 'Variable:0' shape=() dtype=float32_ref>, <tf.Variable 'Variable_1:0' shape=() dtype=float32_ref>, <tf.Variable 'Variable_2:0' shape=() dtype=float32_ref>]\n",
      "[<tf.Tensor 'gradients_4/Fill:0' shape=() dtype=float32>, <tf.Tensor 'gradients_4/Fill_1:0' shape=() dtype=float32>, <tf.Tensor 'gradients_4/Fill_2:0' shape=() dtype=float32>]\n",
      "[1.0, 1.0, 1.0]\n"
     ]
    }
   ],
   "source": [
    "#张量列表求导\n",
    "#  y=[y1,y2]\n",
    "#  x=[x1,x2,x3]\n",
    "#  dy/dx=>[dy1/dx1+dy2/dx1, dy1/dx2+dy2/dx2, dy1/dx3+dy2/dx3]\n",
    "x1 = tf.Variable(initial_value=np.random.rand(),dtype=tf.float32) \n",
    "x2 = tf.Variable(initial_value=np.random.rand(),dtype=tf.float32) \n",
    "x3 = tf.Variable(initial_value=np.random.rand(),dtype=tf.float32) \n",
    "\n",
    "x1_op=tf.assign(x1,1.0)\n",
    "x2_op=tf.assign(x2,1.0)\n",
    "x3_op=tf.assign(x3,1.0)\n",
    "\n",
    "y1 = x1\n",
    "y2 = x2\n",
    "y3 = x3\n",
    "\n",
    "x=[x1,x2,x3]\n",
    "y=[y1,y2,y3]\n",
    "tf.global_variables_initializer().run()\n",
    "sess.run(x1_op)\n",
    "sess.run(x2_op)\n",
    "sess.run(x3_op)\n",
    "\n",
    "grads=tf.gradients(y,x)\n",
    "grads_val=sess.run(grads)\n",
    "\n",
    "print(x)\n",
    "print(y)\n",
    "print(grads)\n",
    "print(grads_val)\n"
   ]
  },
  {
   "cell_type": "markdown",
   "metadata": {},
   "source": [
    "# 张量列表求导\n",
    "x:标量\n",
    "\n",
    "y=x\n",
    "\n",
    "$\\frac{\\text{d[y,y]}}{\\text{d[x,x,x]}}$\n",
    "=\n",
    "$\\left[\n",
    "\\begin{array}{c}\n",
    "\\frac{dy}{dx} + \\frac{dy}{dx} \\\\\n",
    "\\frac{dy}{dx} + \\frac{dy}{dx} \\\\\n",
    "\\frac{dy}{dx} + \\frac{dy}{dx} \\\\\n",
    "\\end{array} \n",
    "\\right]$\n",
    "=[2.0,2.0,2.0]"
   ]
  },
  {
   "cell_type": "code",
   "execution_count": 7,
   "metadata": {},
   "outputs": [
    {
     "name": "stdout",
     "output_type": "stream",
     "text": [
      "<tf.Variable 'Variable_3:0' shape=() dtype=float32_ref>\n",
      "<tf.Variable 'Variable_3:0' shape=() dtype=float32_ref>\n",
      "[<tf.Tensor 'gradients_5/AddN:0' shape=() dtype=float32>, <tf.Tensor 'gradients_5/AddN:0' shape=() dtype=float32>, <tf.Tensor 'gradients_5/AddN:0' shape=() dtype=float32>]\n",
      "[2.0, 2.0, 2.0]\n"
     ]
    }
   ],
   "source": [
    "#张量列表求导\n",
    "#  y=[y1,y2]\n",
    "#  x=[x1,x2,x3]\n",
    "#  dy/dx=>[dy1/dx1+dy2/dx1, dy1/dx2+dy2/dx2, dy1/dx3+dy2/dx3]\n",
    "x = tf.Variable(initial_value=np.random.rand(),dtype=tf.float32) \n",
    "x_op=tf.assign(x,1.0)\n",
    "y = x\n",
    "tf.global_variables_initializer().run()\n",
    "sess.run(x_op)\n",
    "\n",
    "grads=tf.gradients([y,y],[x,x,x])\n",
    "grads_val=sess.run(grads)\n",
    "\n",
    "print(x)\n",
    "print(y)\n",
    "print(grads)\n",
    "print(grads_val)"
   ]
  },
  {
   "cell_type": "markdown",
   "metadata": {},
   "source": [
    "# 标量对向量求导\n",
    "x:列向量\n",
    "\n",
    "y:标量\n",
    "\n",
    "$x$=\n",
    "$\\left[\n",
    "\\begin{array}{c}\n",
    " x_{1} \\\\\n",
    " x_{2} \\\\\n",
    " x_{3} \\\\\n",
    "\\end{array}\n",
    "\\right]$\n",
    "\n",
    "$a$=$\\left[a_{1},a_{2},a_{3} \\right]$\n",
    "\n",
    "y=$a\\cdot x$=\n",
    "$\\left[ a_{1}x_{1}+a_{2}x_{2}+a_{3}x_{3}\\right]$\n",
    "\n",
    "$\\frac{dy}{dx}$\n",
    "=\n",
    "$\\left[\n",
    "\\begin{array}{c}\n",
    "\\frac{d(a_{1}x_{1}+a_{2}x_{2}+a_{3}x_{3})}{d{x_{1}}} \\\\\n",
    "\\frac{d(a_{1}x_{1}+a_{2}x_{2}+a_{3}x_{3})}{d{x_{2}}} \\\\\n",
    "\\frac{d(a_{1}x_{1}+a_{2}x_{2}+a_{3}x_{3})}{d{x_{3}}} \n",
    "\\end{array}\n",
    "\\right]$\n",
    "=\n",
    "$\\left[\n",
    "\\begin{array}{c}\n",
    "a_{1} \\\\\n",
    "a_{2} \\\\\n",
    "a_{3} \n",
    "\\end{array}\n",
    "\\right]$\n",
    "=$a'$\n"
   ]
  },
  {
   "cell_type": "code",
   "execution_count": 8,
   "metadata": {},
   "outputs": [
    {
     "name": "stdout",
     "output_type": "stream",
     "text": [
      "a=\n",
      "[[1. 2. 3.]]\n",
      "x=\n",
      "[[1.]\n",
      " [2.]\n",
      " [3.]]\n",
      "y=a*x=\n",
      "[[14.]]\n",
      "grads_val=\n",
      "[array([[1.],\n",
      "       [2.],\n",
      "       [3.]], dtype=float32)]\n"
     ]
    }
   ],
   "source": [
    "#标量对向量求导\n",
    "a=tf.constant([[1.,2.,3.]],dtype=tf.float32)\n",
    "x=tf.Variable(initial_value=np.random.rand(3,1),dtype=tf.float32)\n",
    "x_op=tf.assign(x,[[1.],[2.],[3.]])\n",
    "y=tf.matmul(a,x)\n",
    "grads=tf.gradients(y,x)\n",
    "\n",
    "tf.global_variables_initializer().run()\n",
    "sess.run(x_op)\n",
    "grads_val=sess.run(grads)\n",
    "\n",
    "print('a=')\n",
    "print(a.eval())\n",
    "print('x=')\n",
    "print(x.eval())\n",
    "print('y=a*x=')\n",
    "print(y.eval())\n",
    "print('grads_val=')\n",
    "print(grads_val)"
   ]
  },
  {
   "cell_type": "markdown",
   "metadata": {},
   "source": [
    "# 标量对向量求导\n",
    "x:横向量\n",
    "\n",
    "y:标量\n",
    "\n",
    "$x$=\n",
    "$\\left[ x_{1}  x_{2}  x_{3} \\right]$\n",
    "\n",
    "$a$=\n",
    "$\\left[\n",
    "\\begin{array}{c}\n",
    "a_{1} \\\\\n",
    "a_{2} \\\\\n",
    "a_{3} \n",
    "\\end{array}\n",
    "\\right]$\n",
    "\n",
    "y=$x\\cdot a$=\n",
    "$\\left[ a_{1}x_{1}+a_{2}x_{2}+a_{3}x_{3}\\right]$\n",
    "\n",
    "$\\frac{dy}{dx}$\n",
    "=\n",
    "$\\left[\n",
    "\\frac{d(a_{1}x_{1}+a_{2}x_{2}+a_{3}x_{3})}{d{x_{1}}} \\text{ }\n",
    "\\frac{d(a_{1}x_{1}+a_{2}x_{2}+a_{3}x_{3})}{d{x_{2}}} \\text{ }\n",
    "\\frac{d(a_{1}x_{1}+a_{2}x_{2}+a_{3}x_{3})}{d{x_{3}}} \\text{ }\n",
    "\\right]$\n",
    "=\n",
    "$\\left[\n",
    "\\begin{array}{ccc}\n",
    "a_{1} \\text{ }\n",
    "a_{2} \\text{ } \n",
    "a_{3} \\text{ }\n",
    "\\end{array}\n",
    "\\right]$\n",
    "=$a'$\n"
   ]
  },
  {
   "cell_type": "code",
   "execution_count": 9,
   "metadata": {},
   "outputs": [
    {
     "name": "stdout",
     "output_type": "stream",
     "text": [
      "<tf.Variable 'var1_4:0' shape=() dtype=float32_ref>\n",
      "Tensor(\"Pow:0\", shape=(), dtype=float32)\n",
      "[<tf.Tensor 'gradients_7/Pow_grad/Reshape:0' shape=() dtype=float32>]\n",
      "8.0\n",
      "[12.0]\n"
     ]
    }
   ],
   "source": [
    "#标量对标量的求导\n",
    "#  x:标量\n",
    "#    2.0\n",
    "#  y=x^3 => dy/dx\n",
    "\n",
    "x = tf.Variable(initial_value=np.random.rand(),dtype=tf.float32,name='var1') \n",
    "x_op=tf.assign(x,2.0)\n",
    "y=tf.pow(x,3)\n",
    "tf.global_variables_initializer().run()\n",
    "grads=tf.gradients(y,[x])\n",
    "sess.run(x_op)\n",
    "grads_val=sess.run(grads)\n",
    "print(x)\n",
    "print(y)\n",
    "print(grads)\n",
    "print(y.eval())\n",
    "print(sess.run(grads))"
   ]
  },
  {
   "cell_type": "markdown",
   "metadata": {},
   "source": [
    "# 向量对标量求导\n",
    "x:标量\n",
    "\n",
    "y:列向量\n",
    "\n",
    "a=\n",
    "$\\left[\n",
    "\\begin{array}{c}\n",
    " a_{1} \\\\\n",
    " a_{2} \\\\\n",
    " a_{3} \\\\\n",
    "\\end{array}\n",
    "\\right]$\n",
    "\n",
    "y=$a\\cdot x$=\n",
    "$\\left[\n",
    "\\begin{array}{c}\n",
    "a_{1}x \\\\\n",
    "a_{2}x \\\\\n",
    "a_{3}x\n",
    "\\end{array}\n",
    "\\right]$\n",
    "\n",
    "$\\frac{dy}{dx}$\n",
    "=\n",
    "$\\left[\n",
    "\\begin{array}{c}\n",
    "\\frac{d(a_{1}x)}{dx} \\\\\n",
    "\\frac{d(a_{2}x)}{dx} \\\\\n",
    "\\frac{d(a_{3}x)}{dx} \n",
    "\\end{array}\n",
    "\\right]$\n",
    "=\n",
    "$\\left[\n",
    "\\begin{array}{c}\n",
    "a_{1} \\\\\n",
    "a_{2} \\\\\n",
    "a_{3} \n",
    "\\end{array}\n",
    "\\right]$\n",
    "=$a$\n",
    "\n",
    "???\n",
    "\n",
    "x:标量\n",
    "\n",
    "y:列向量=>相当于张量列表?\n",
    "\n",
    "a=\n",
    "$\\left[\n",
    "\\begin{array}{c}\n",
    " a_{1} \\\\\n",
    " a_{2} \\\\\n",
    " a_{3} \\\\\n",
    "\\end{array}\n",
    "\\right]$\n",
    "\n",
    "y=$a\\cdot x$=\n",
    "$\\left[\n",
    "\\begin{array}{c}\n",
    "a_{1}x \\\\\n",
    "a_{2}x \\\\\n",
    "a_{3}x\n",
    "\\end{array}\n",
    "\\right]$\n",
    "\n",
    "$\\frac{dy}{dx}$\n",
    "=\n",
    "$\\left[\n",
    "\\begin{array}{c}\n",
    "\\frac{d(a_{1}x)}{dx} + \\frac{d(a_{2}x)}{dx} + \\frac{d(a_{3}x)}{dx} \n",
    "\\end{array}\n",
    "\\right]$\n",
    "=\n",
    "$\\left[\n",
    "\\begin{array}{c}\n",
    "a_{1} + a_{2} + a_{3} \n",
    "\\end{array}\n",
    "\\right]$"
   ]
  },
  {
   "cell_type": "code",
   "execution_count": 10,
   "metadata": {},
   "outputs": [
    {
     "name": "stdout",
     "output_type": "stream",
     "text": [
      "a=\n",
      "[[1.]\n",
      " [2.]\n",
      " [3.]]\n",
      "x=\n",
      "[[1.]]\n",
      "y=a*x=\n",
      "[[[1.]\n",
      "  [2.]\n",
      "  [3.]]]\n",
      "grads_val=\n",
      "[array([[6.]], dtype=float32)]\n"
     ]
    }
   ],
   "source": [
    "#向量对标量求导\n",
    "a=tf.constant([[1.],[2.],[3.]],dtype=tf.float32)\n",
    "x=tf.Variable(initial_value=np.random.rand(1,1),dtype=tf.float32)\n",
    "x_op=tf.assign(x,[[1.0]])\n",
    "y=tf.matmul(a,x)\n",
    "y=tf.expand_dims(y,0)\n",
    "grads=tf.gradients(y,x)\n",
    "\n",
    "tf.global_variables_initializer().run()\n",
    "sess.run(x_op)\n",
    "grads_val=sess.run(grads)\n",
    "\n",
    "print('a=')\n",
    "print(a.eval())\n",
    "print('x=')\n",
    "print(x.eval())\n",
    "print('y=a*x=')\n",
    "print(y.eval())\n",
    "print('grads_val=')\n",
    "print(grads_val)"
   ]
  },
  {
   "cell_type": "markdown",
   "metadata": {},
   "source": [
    "# 向量对标量求导\n",
    "x:标量\n",
    "\n",
    "y:横向量\n",
    "\n",
    "a=\n",
    "$\\left[\n",
    "\\begin{array}{c}\n",
    " a_{1}\\text{ }  a_{2}\\text{ }  a_{3}\\text{ } \n",
    "\\end{array}\n",
    "\\right]$\n",
    "\n",
    "y=$a\\cdot x$=\n",
    "$\\left[\n",
    "\\begin{array}{c}\n",
    "a_{1}x\\text{ } a_{2}x\\text{ } a_{3}x\\text{ }\n",
    "\\end{array}\n",
    "\\right]$\n",
    "\n",
    "$\\frac{dy}{dx}$\n",
    "=\n",
    "$\\left[\n",
    "\\begin{array}{c}\n",
    "\\frac{d(a_{1}x)}{dx}\\text{ } \\frac{d(a_{2}x)}{dx}\\text{ } \\frac{d(a_{3}x)}{dx}\\text{ } \n",
    "\\end{array}\n",
    "\\right]$\n",
    "=\n",
    "$\\left[\n",
    "\\begin{array}{c}\n",
    "a_{1}\\text{ } a_{2}\\text{ } a_{3}\\text{ } \n",
    "\\end{array}\n",
    "\\right]$\n",
    "=$a$\n",
    "\n",
    "？？？？？？？？\n",
    "\n",
    "x:标量\n",
    "\n",
    "y:横向量=>相当于张量列表?\n",
    "\n",
    "a=\n",
    "$\\left[\n",
    "\\begin{array}{c}\n",
    " a_{1}\\text{ } a_{2}\\text{ } a_{3} \n",
    "\\end{array}\n",
    "\\right]$\n",
    "\n",
    "y=$a\\cdot x$=\n",
    "$\\left[\n",
    "\\begin{array}{c}\n",
    "a_{1}x\\text{ } a_{2}x\\text{ } a_{3}x\n",
    "\\end{array}\n",
    "\\right]$\n",
    "\n",
    "$\\frac{dy}{dx}$\n",
    "=\n",
    "$\\left[\n",
    "\\begin{array}{c}\n",
    "\\frac{d(a_{1}x)}{dx} + \\frac{d(a_{2}x)}{dx} + \\frac{d(a_{3}x)}{dx} \n",
    "\\end{array}\n",
    "\\right]$\n",
    "=\n",
    "$\\left[\n",
    "\\begin{array}{c}\n",
    "a_{1} + a_{2} + a_{3} \n",
    "\\end{array}\n",
    "\\right]$"
   ]
  },
  {
   "cell_type": "code",
   "execution_count": 11,
   "metadata": {},
   "outputs": [
    {
     "name": "stdout",
     "output_type": "stream",
     "text": [
      "a=\n",
      "[[1. 2. 3.]]\n",
      "x=\n",
      "[[1.]]\n",
      "y=a*x=\n",
      "[[1. 2. 3.]]\n",
      "grads_val=\n",
      "[array([[6.]], dtype=float32)]\n"
     ]
    }
   ],
   "source": [
    "#向量对标量求导\n",
    "a=tf.constant([[1.,2.,3.]],dtype=tf.float32)\n",
    "x=tf.Variable(initial_value=np.random.rand(1,1),dtype=tf.float32)\n",
    "x_op=tf.assign(x,[[1.0]])\n",
    "y=tf.matmul(x,a)\n",
    "grads=tf.gradients(y,x)\n",
    "\n",
    "tf.global_variables_initializer().run()\n",
    "sess.run(x_op)\n",
    "grads_val=sess.run(grads)\n",
    "\n",
    "print('a=')\n",
    "print(a.eval())\n",
    "print('x=')\n",
    "print(x.eval())\n",
    "print('y=a*x=')\n",
    "print(y.eval())\n",
    "print('grads_val=')\n",
    "print(grads_val)"
   ]
  },
  {
   "cell_type": "markdown",
   "metadata": {},
   "source": [
    "# 标量对矩阵求导"
   ]
  },
  {
   "cell_type": "markdown",
   "metadata": {},
   "source": [
    "# 矩阵对标量求导"
   ]
  },
  {
   "cell_type": "markdown",
   "metadata": {},
   "source": [
    "# 矩阵对列向量求导"
   ]
  },
  {
   "cell_type": "markdown",
   "metadata": {},
   "source": [
    "# 列向量对矩阵求导"
   ]
  },
  {
   "cell_type": "markdown",
   "metadata": {},
   "source": [
    "# 矩阵对横向量求导"
   ]
  },
  {
   "cell_type": "markdown",
   "metadata": {},
   "source": [
    "# 横向量对矩阵求导"
   ]
  },
  {
   "cell_type": "markdown",
   "metadata": {},
   "source": [
    "# Test"
   ]
  },
  {
   "cell_type": "code",
   "execution_count": 12,
   "metadata": {},
   "outputs": [
    {
     "name": "stdout",
     "output_type": "stream",
     "text": [
      "[array([2., 2., 3.], dtype=float32), array([2., 2., 3.], dtype=float32), array([5., 4., 7.], dtype=float32), array([3., 2., 4.], dtype=float32)]\n"
     ]
    }
   ],
   "source": [
    "w1 = tf.get_variable('ww1', shape=[3])\n",
    "w2 = tf.get_variable('ww2', shape=[3])\n",
    "\n",
    "w3 = tf.get_variable('ww3', shape=[3])\n",
    "w4 = tf.get_variable('ww4', shape=[3])\n",
    "\n",
    "z1 = w1 + w2+ w3\n",
    "z2 = w3 + w4\n",
    "\n",
    "grads = tf.gradients([z1, z2], [w1, w2, w3, w4], grad_ys=[tf.convert_to_tensor([2.,2.,3.]),\n",
    "                                                          tf.convert_to_tensor([3.,2.,4.])])\n",
    "\n",
    "tf.global_variables_initializer().run()\n",
    "print(sess.run(grads))\n"
   ]
  },
  {
   "cell_type": "code",
   "execution_count": null,
   "metadata": {},
   "outputs": [],
   "source": []
  }
 ],
 "metadata": {
  "kernelspec": {
   "display_name": "Python 3",
   "language": "python",
   "name": "python3"
  },
  "language_info": {
   "codemirror_mode": {
    "name": "ipython",
    "version": 3
   },
   "file_extension": ".py",
   "mimetype": "text/x-python",
   "name": "python",
   "nbconvert_exporter": "python",
   "pygments_lexer": "ipython3",
   "version": "3.5.2"
  }
 },
 "nbformat": 4,
 "nbformat_minor": 2
}
