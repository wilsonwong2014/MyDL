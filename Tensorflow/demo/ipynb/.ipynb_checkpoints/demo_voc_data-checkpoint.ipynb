{
 "cells": [
  {
   "cell_type": "markdown",
   "metadata": {},
   "source": [
    "# VOC数据集分析"
   ]
  },
  {
   "cell_type": "code",
   "execution_count": 1,
   "metadata": {},
   "outputs": [],
   "source": [
    "import os\n",
    "import sys\n",
    "import numpy as np\n",
    "import pandas as pd\n",
    "\n",
    "import xml.etree.ElementTree as ET\n",
    "\n",
    "from mylibs.ProcessBar import ShowProcess"
   ]
  },
  {
   "cell_type": "markdown",
   "metadata": {},
   "source": [
    "## 参数"
   ]
  },
  {
   "cell_type": "code",
   "execution_count": 2,
   "metadata": {},
   "outputs": [],
   "source": [
    "data_path='%s/e/dataset_tiptical/VOCdevkit/VOC2012'%(os.getenv('HOME'))#数据集根目录\n",
    "image_set_file = '%s/ImageSets/Main/val.txt'%(data_path)               #图片数据集\n",
    "annopath='%s/Annotations'%(data_path)                                  #标注目录\n",
    "images_path='%s/JPEGImages'%(data_path)                                #图片目录\n",
    "classes_file='%s/model_data/voc_classes.txt'%(data_path)               #类别文件"
   ]
  },
  {
   "cell_type": "markdown",
   "metadata": {},
   "source": [
    "## 基本信息统计\n",
    "* 图片数据集文件个数\n",
    "* 标注文件个数\n",
    "* 原始图片个数\n",
    "* 分类数目"
   ]
  },
  {
   "cell_type": "code",
   "execution_count": 3,
   "metadata": {},
   "outputs": [
    {
     "name": "stdout",
     "output_type": "stream",
     "text": [
      "图片数据集数目: 5823\n",
      "标记文件数目: 17125\n",
      "原始图片数目: 17125\n"
     ]
    }
   ],
   "source": [
    "#加载图片数据集\n",
    "image_ids=[]\n",
    "with open(image_set_file,'r') as f:\n",
    "    image_ids=[x.strip() for x in f.readlines()]\n",
    "print('图片数据集数目:',len(image_ids))\n",
    "\n",
    "#统计标记文件个数\n",
    "items=os.listdir(annopath)\n",
    "print('标记文件数目:',len(items))\n",
    "\n",
    "#统计原始文件个数\n",
    "items=os.listdir(images_path)\n",
    "print('原始图片数目:',len(items))\n",
    "\n",
    "#检测类别\n",
    "if os.path.exists(classes_file):\n",
    "    with open(classes_file,'r') as f:\n",
    "        classes=[x.strip() for x in f.readlines()]\n",
    "        print('检测类别：',classes)"
   ]
  },
  {
   "cell_type": "markdown",
   "metadata": {},
   "source": [
    "## 标注目录信息统计：\n",
    "    类别名称: =============********** 文件数/目标数"
   ]
  },
  {
   "cell_type": "code",
   "execution_count": 18,
   "metadata": {},
   "outputs": [],
   "source": [
    "#读取标注的xml文件\n",
    "def parse_rec(filename): \n",
    "    \"\"\" Parse a PASCAL VOC xml file \"\"\"\n",
    "    tree = ET.parse(filename)\n",
    "    objects = []\n",
    "    for obj in tree.findall('object'):\n",
    "        obj_struct = {}\n",
    "        obj_struct['name'] = obj.find('name').text\n",
    "        obj_struct['pose'] = obj.find('pose').text\n",
    "        obj_struct['truncated'] = int(obj.find('truncated').text) if obj.find('truncated') else 0\n",
    "        obj_struct['difficult'] = int(obj.find('difficult').text)\n",
    "        bbox = obj.find('bndbox')\n",
    "        obj_struct['bbox'] = [int(float(bbox.find('xmin').text)),\n",
    "                              int(float(bbox.find('ymin').text)),\n",
    "                              int(float(bbox.find('xmax').text)),\n",
    "                              int(float(bbox.find('ymax').text))]\n",
    "        objects.append(obj_struct)\n",
    " \n",
    "    return objects\n",
    "\n",
    "\n",
    "#收集标注信息\n",
    "def voc_data_gather_annos(annopath,image_ids):\n",
    "    '''收集标注信息, 以DataFrame格式返回\n",
    "    @param annopath  [str ]标注目录\n",
    "    @param image_ids [list]图片ID列表\n",
    "    @return df\n",
    "        df=pd.DataFrame(columns=['classname','filename','xmin','ymin','xmax','ymax','pose','truncated','difficult'])\n",
    "    '''\n",
    "    pb = ShowProcess(100,'','', '收集标注信息完成') \n",
    "    num_images=len(image_ids)\n",
    "    df=pd.DataFrame(columns=['classname','filename','xmin','ymin','xmax','ymax','pose','truncated','difficult'])\n",
    "    key_index=0\n",
    "    for i,image_id in enumerate(image_ids):\n",
    "        sfile='%s/%s.xml'%(annopath,image_id)\n",
    "        objs=parse_rec(sfile)\n",
    "        for obj in objs:\n",
    "            rd=pd.DataFrame({\n",
    "                'classname':obj['name'],\n",
    "                'filename':image_id,\n",
    "                'xmin':obj['bbox'][0],\n",
    "                'ymin':obj['bbox'][1],\n",
    "                'xmax':obj['bbox'][2],\n",
    "                'ymax':obj['bbox'][3],\n",
    "                'pose':obj['pose'],\n",
    "                'truncated':obj['truncated'],\n",
    "                'difficult':obj['difficult']\n",
    "                },index=[key_index])\n",
    "            key_index+=1\n",
    "            df=df.append(rd)\n",
    "        pb.show_process(int(100. * i / num_images),'','%d/%d'%(i,num_images)) \n",
    "        \n",
    "    pb.show_process(100,'','%d/%d'%(num_images,num_images)) \n",
    "    return df\n",
    "\n",
    "\n",
    "#分析标注信息\n",
    "def voc_data_statistics_annos(df):\n",
    "    '''分析标注信息\n",
    "    @param df  标注信息DataFrame数据格式\n",
    "        df=pd.DataFrame(columns=['classname','filename','xmin','ymin','xmax','ymax','pose','truncated','difficult'])\n",
    "    @return classes_info\n",
    "        [dict{\"classname\":[file_num,obj_num]}]\n",
    "    '''\n",
    "    pb = ShowProcess(100,'','', '分析标注信息完成') \n",
    "    index=df.index\n",
    "    #统计类别数\n",
    "    sets_class=set()\n",
    "    for n in range(df.shape[0]):\n",
    "        sets_class.add(df.loc[index[n],'classname'])\n",
    "    #检测类别统计\n",
    "    classes_info={}\n",
    "    num_classes=len(sets_class)\n",
    "    for i,classname in enumerate(sets_class):\n",
    "        #类别筛选\n",
    "        df_cls=df[df['classname']==classname]\n",
    "        #目标数目统计\n",
    "        obj_num=df_cls.shape[0] \n",
    "        #文件数目统计\n",
    "        sets_file=set()\n",
    "        index_cls=df_cls.index\n",
    "        for n in range(df_cls.shape[0]):\n",
    "            sets_file.add(df_cls.loc[index_cls[n],'filename'])\n",
    "        file_num=len(sets_file) #文件数目统计\n",
    "        classes_info[classname]=[file_num,obj_num]\n",
    "        pb.show_process(int(100. * i / num_classes),'','%d/%d'%(i,num_classes)) \n",
    "        \n",
    "    pb.show_process(100,'','%d/%d'%(num_classes,num_classes)) \n",
    "    return classes_info\n",
    "\n",
    "#标注目录统计\n",
    "def voc_data_statistics_annopath(annopath):\n",
    "    '''标注目录统计\n",
    "    @param annopath 标注目录\n",
    "    @return classes_info\n",
    "        [dict{\"classname\":[file_num,obj_num]}]\n",
    "    '''\n",
    "    image_ids=[os.path.splitext(os.path.split(x)[1])[0] for x in os.listdir(annopath)]\n",
    "    df=voc_data_gather_annos(annopath,image_ids[:1000])\n",
    "    return voc_data_statistics_annos(df)\n",
    "\n",
    "#图片集统计\n",
    "def voc_data_statistics_imagesetfile(annopath,sfile):\n",
    "    '''图片集统计\n",
    "    @param sfile 图片集文件，文本文件，每行一个图片id，不含扩展名，如:\n",
    "        2008_000001\n",
    "        2008_000002\n",
    "    @return classes_info\n",
    "        [dict{\"classname\":[file_num,obj_num]}]    \n",
    "    '''\n",
    "    with open(sfile,'r') as f:\n",
    "        image_ids=[x.strip() for x in f.readlines()]\n",
    "    df=voc_data_gather_annos(annopath,image_ids)\n",
    "    return voc_data_statistics_annos(df) "
   ]
  },
  {
   "cell_type": "code",
   "execution_count": 19,
   "metadata": {},
   "outputs": [
    {
     "name": "stdout",
     "output_type": "stream",
     "text": [
      "[>>>>>>>>>>>>>>>>>>>>>>>>>>>>>>>>>>>>>>>>>>>>>>>>>>]1000/1000\n",
      "收集标注信息完成\n",
      "[>>>>>>>>>>>>>>>>>>>>>>>>>>>>>>>>>>>>>>>>>>>>>>>>>>]20/20\n",
      "分析标注信息完成\n"
     ]
    }
   ],
   "source": [
    "classes_info=voc_data_statistics_annopath(annopath)"
   ]
  },
  {
   "cell_type": "code",
   "execution_count": 23,
   "metadata": {},
   "outputs": [
    {
     "name": "stdout",
     "output_type": "stream",
     "text": [
      "train:[34, 41]\n",
      "aeroplane:[45, 59]\n",
      "cow:[20, 46]\n",
      "bird:[38, 48]\n",
      "cat:[68, 78]\n",
      "tvmonitor:[34, 40]\n",
      "bus:[29, 44]\n",
      "horse:[32, 39]\n",
      "sofa:[45, 54]\n",
      "dog:[78, 92]\n",
      "boat:[29, 56]\n",
      "chair:[83, 183]\n",
      "diningtable:[39, 44]\n",
      "pottedplant:[19, 53]\n",
      "sheep:[25, 76]\n",
      "bicycle:[26, 39]\n",
      "person:[569, 1013]\n",
      "car:[79, 169]\n",
      "motorbike:[32, 48]\n",
      "bottle:[54, 126]\n"
     ]
    }
   ],
   "source": [
    "#统计文件总数\n",
    "#统计对象总数\n",
    "#类别:文件数/对象数\n",
    "\n",
    "for k,v in classes_info.items():\n",
    "    print('%s:%s'%(k,v))"
   ]
  },
  {
   "cell_type": "code",
   "execution_count": null,
   "metadata": {},
   "outputs": [],
   "source": [
    "#df=pd.DataFrame(columns=['classname','filename','xmin','ymin','xmax','ymax','pose','truncated','difficult'],\n",
    "#               dtype={'classname':np.str,'filename':np.str,\n",
    "#                      'xmin':np.int32,'ymin':np.int32,'xmax':np.int32,'ymax':np.int32,\n",
    "#                      'pose':np.int32,'truncated':np.int32,'difficult':np.int32})\n",
    "df=pd.DataFrame(columns=['classname','filename','xmin','ymin','xmax','ymax','pose','truncated','difficult'])\n",
    "key_index=0\n",
    "items=os.listdir(annopath)\n",
    "for image_id in items:\n",
    "    sfile='%s/%s'%(annopath,image_id)\n",
    "    objs=parse_rec(sfile)\n",
    "    for obj in objs:\n",
    "        rd=pd.DataFrame({\n",
    "            'classname':obj['name'],\n",
    "            'filename':image_id,\n",
    "            'xmin':obj['bbox'][0],\n",
    "            'ymin':obj['bbox'][1],\n",
    "            'xmax':obj['bbox'][2],\n",
    "            'ymax':obj['bbox'][3],\n",
    "            'pose':obj['pose'],\n",
    "            'truncated':obj['truncated'],\n",
    "            'difficult':obj['difficult']\n",
    "            },index=[key_index])\n",
    "        key_index+=1\n",
    "        df=df.append(rd)"
   ]
  },
  {
   "cell_type": "code",
   "execution_count": 24,
   "metadata": {},
   "outputs": [
    {
     "name": "stdout",
     "output_type": "stream",
     "text": [
      "[>>>>>>>>>>>>>>>>>>>>>>>>>>>>>>>>>>>>>>>>>>>>>>>>>>]5823/5823\n",
      "收集标注信息完成\n",
      "[>>>>>>>>>>>>>>>>>>>>>>>>>>>>>>>>>>>>>>>>>>>>>>>>>>]20/20\n",
      "分析标注信息完成\n"
     ]
    }
   ],
   "source": [
    "classes_info2=voc_data_statistics_imagesetfile(annopath,image_set_file)"
   ]
  },
  {
   "cell_type": "code",
   "execution_count": 25,
   "metadata": {},
   "outputs": [
    {
     "name": "stdout",
     "output_type": "stream",
     "text": [
      "sheep:[155, 485]\n",
      "pottedplant:[279, 542]\n",
      "aeroplane:[348, 484]\n",
      "cow:[154, 347]\n",
      "bird:[374, 629]\n",
      "cat:[544, 618]\n",
      "tvmonitor:[296, 414]\n",
      "bus:[211, 320]\n",
      "horse:[245, 373]\n",
      "sofa:[336, 387]\n",
      "dog:[661, 773]\n",
      "boat:[252, 491]\n",
      "chair:[642, 1449]\n",
      "diningtable:[323, 374]\n",
      "train:[275, 329]\n",
      "motorbike:[262, 376]\n",
      "car:[608, 1173]\n",
      "person:[2232, 5110]\n",
      "bicycle:[290, 380]\n",
      "bottle:[369, 733]\n"
     ]
    }
   ],
   "source": [
    "for k,v in classes_info2.items():\n",
    "    print('%s:%s'%(k,v))"
   ]
  },
  {
   "cell_type": "code",
   "execution_count": 75,
   "metadata": {},
   "outputs": [
    {
     "name": "stdout",
     "output_type": "stream",
     "text": [
      "共 {40138} 记录\n",
      "检测类别{20}:{'chair', 'cat', 'sofa', 'diningtable', 'bicycle', 'cow', 'train', 'car', 'bottle', 'boat', 'person', 'pottedplant', 'bird', 'sheep', 'tvmonitor', 'dog', 'aeroplane', 'horse', 'bus', 'motorbike'}\n",
      "{'chair', 'cat', 'sofa', 'diningtable', 'bicycle', 'cow', 'train', 'car', 'bottle', 'boat', 'person', 'pottedplant', 'bird', 'sheep', 'tvmonitor', 'dog', 'aeroplane', 'horse', 'bus', 'motorbike'}\n",
      "chair:1366/3056\n",
      "cat:1128/1277\n",
      "sofa:742/841\n",
      "diningtable:691/800\n",
      "bicycle:603/837\n",
      "cow:340/771\n",
      "train:589/704\n",
      "car:1284/2492\n",
      "bottle:812/1561\n",
      "boat:549/1059\n",
      "person:9583/17401\n",
      "pottedplant:613/1202\n",
      "bird:811/1271\n",
      "sheep:357/1084\n",
      "tvmonitor:645/893\n",
      "dog:1341/1598\n",
      "aeroplane:716/1002\n",
      "horse:526/803\n",
      "bus:467/685\n",
      "motorbike:575/801\n"
     ]
    }
   ],
   "source": [
    "index=df.index\n",
    "print('共 {%d} 记录'%(df.shape[0]))\n",
    "#统计类别数\n",
    "sets_class=set()\n",
    "for n in range(df.shape[0]):\n",
    "    sets_class.add(df.loc[index[n],'classname'])\n",
    "print('检测类别{%d}:%s'%(len(sets_class),sets_class))\n",
    "print(sets_class)\n",
    "#检测类别统计\n",
    "class_static={}\n",
    "for classname in sets_class:\n",
    "    #类别筛选\n",
    "    df_cls=df[df['classname']==classname]\n",
    "    #目标数目统计\n",
    "    obj_num=df_cls.shape[0] \n",
    "    #文件数目统计\n",
    "    sets_file=set()\n",
    "    index_cls=df_cls.index\n",
    "    for n in range(df_cls.shape[0]):\n",
    "        sets_file.add(df_cls.loc[index_cls[n],'filename'])\n",
    "    file_num=len(sets_file) #文件数目统计\n",
    "    print('%s:%d/%d'%(classname,file_num,obj_num))\n"
   ]
  },
  {
   "cell_type": "code",
   "execution_count": null,
   "metadata": {},
   "outputs": [],
   "source": []
  }
 ],
 "metadata": {
  "kernelspec": {
   "display_name": "Python 3",
   "language": "python",
   "name": "python3"
  },
  "language_info": {
   "codemirror_mode": {
    "name": "ipython",
    "version": 3
   },
   "file_extension": ".py",
   "mimetype": "text/x-python",
   "name": "python",
   "nbconvert_exporter": "python",
   "pygments_lexer": "ipython3",
   "version": "3.5.2"
  }
 },
 "nbformat": 4,
 "nbformat_minor": 2
}
