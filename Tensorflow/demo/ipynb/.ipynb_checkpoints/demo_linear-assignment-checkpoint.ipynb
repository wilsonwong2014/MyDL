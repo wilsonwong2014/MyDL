{
 "cells": [
  {
   "cell_type": "markdown",
   "metadata": {},
   "source": [
    "# 任务分配问题（匈牙利算法）\n",
    "    https://blog.csdn.net/qq_25945437/article/details/70835157\n",
    "    问题描述：N个人分配N项任务，一个人只能分配一项任务，一项任务只能分配给一个人，将一项任务分配给一个人是需要支付报酬，如何分配任务，保证支付的报酬总数最小。\n",
    "    范例(成本矩阵)：\n",
    "$\\begin{array}{c|c}\n",
    "        & work1 & work2 & work3 \\\\\n",
    "\\hline\n",
    "person1 & 250   & 400   & 350   \\\\\n",
    "\\hline\n",
    "person1 & 400   & 600   & 350   \\\\\n",
    "\\hline\n",
    "person1 & 200   & 400   & 250   \\\\\n",
    "\\end{array}$\n",
    "\n",
    "\n",
    "# linear_assignment\n",
    "    from sklearn.utils.linear_assignment_ import linear_assignment\n",
    "    "
   ]
  },
  {
   "cell_type": "code",
   "execution_count": 1,
   "metadata": {},
   "outputs": [
    {
     "name": "stdout",
     "output_type": "stream",
     "text": [
      "cost matrix:\n",
      "[[ 90.  75.  75.  80.]\n",
      " [ 35.  85.  55.  65.]\n",
      " [125.  95.  90. 105.]\n",
      " [ 45. 110.  95. 115.]]\n",
      "matched_indices[first column is person,second column is work]:\n",
      "[[0 3]\n",
      " [1 2]\n",
      " [2 1]\n",
      " [3 0]]\n"
     ]
    }
   ],
   "source": [
    "from sklearn.utils.linear_assignment_ import linear_assignment\n",
    "import numpy as np\n",
    "\n",
    "#成本矩阵\n",
    "cost=np.array([[90, 75, 75, 80],\n",
    "               [35, 85, 55, 65],\n",
    "               [125,95, 90, 105],\n",
    "               [45, 110, 95, 115]],dtype=np.float32)\n",
    "#指派结果\n",
    "matched_indices = linear_assignment(cost)\n",
    "print('cost matrix:')\n",
    "print(cost)\n",
    "print('matched_indices[first column is person,second column is work]:')\n",
    "print(matched_indices)"
   ]
  },
  {
   "cell_type": "code",
   "execution_count": null,
   "metadata": {},
   "outputs": [],
   "source": []
  }
 ],
 "metadata": {
  "kernelspec": {
   "display_name": "Python 3",
   "language": "python",
   "name": "python3"
  },
  "language_info": {
   "codemirror_mode": {
    "name": "ipython",
    "version": 3
   },
   "file_extension": ".py",
   "mimetype": "text/x-python",
   "name": "python",
   "nbconvert_exporter": "python",
   "pygments_lexer": "ipython3",
   "version": "3.5.2"
  }
 },
 "nbformat": 4,
 "nbformat_minor": 2
}
