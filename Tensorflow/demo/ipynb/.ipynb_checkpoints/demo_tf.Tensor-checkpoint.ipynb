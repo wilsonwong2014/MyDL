{
 "cells": [
  {
   "cell_type": "markdown",
   "metadata": {},
   "source": [
    "# Tensorflow张量及衍生类型使用方法汇总\n",
    "## tf.Tensor及衍生类型汇总\n",
    "*    tf.Tensor -----张量，为计算图提供数据存储范式，本身不存储数据值，但可以通过session计算\n",
    "*    tf.Constant ---特殊形式张量\n",
    "*    tf.Varianet ---特殊形式张量\n",
    "\n",
    "### Properties\n",
    "*    device:\n",
    "        The name of the device on which this tensor will be produced, or None.\n",
    "*    dtype:\n",
    "        The DType of elements in this tensor.\n",
    "*    graph:\n",
    "        The Graph that contains this tensor.\n",
    "*    name:\n",
    "        The string name of this tensor.\n",
    "*    op:\n",
    "        The Operation that produces this tensor as an output.\n",
    "*    shape:\n",
    "        Returns the TensorShape that represents the shape of this tensor.\n",
    "\n",
    "### tf.random_normal\n",
    "    tf.random_normal(shape,\n",
    "        mean=0.0,\n",
    "        stddev=1.0,\n",
    "        dtype=tf.float32,\n",
    "        seed=None,\n",
    "        name=None\n",
    "        )\n",
    "\n",
    "### tf.constant\n",
    "    tf.constant(\n",
    "        value,\n",
    "        dtype=None,\n",
    "        shape=None,\n",
    "        name='Const',\n",
    "        verify_shape=False\n",
    "    )\n",
    "#### Args:\n",
    "    value: A constant value (or list) of output type dtype.\n",
    "    dtype: The type of the elements of the resulting tensor.\n",
    "    shape: Optional dimensions of resulting tensor.\n",
    "    name: Optional name for the tensor.\n",
    "    verify_shape: Boolean that enables verification of a shape of values.\n",
    "\n",
    "\n",
    "### tf.Variable\n",
    "    __init__(\n",
    "        initial_value=None,\n",
    "        trainable=True,\n",
    "        collections=None,\n",
    "        validate_shape=True,\n",
    "        caching_device=None,\n",
    "        name=None,\n",
    "        variable_def=None,\n",
    "        dtype=None,\n",
    "        expected_shape=None,\n",
    "        import_scope=None,\n",
    "        constraint=None\n",
    "    )\n",
    "#### Args:\n",
    "\n",
    "*    initial_value: A Tensor, or Python object convertible to a Tensor, which is the initial value for the Variable. \n",
    "        The initial value must have a shape specified unless validate_shape is set to False. \n",
    "        Can also be a callable with no argument that returns the initial value when called. \n",
    "        In that case, dtype must be specified. (Note that initializer functions from init_ops.py must first be bound to a shape before being used here.)\n",
    "*    trainable: If True, the default, also adds the variable to the graph collection GraphKeys.TRAINABLE_VARIABLES. \n",
    "        This collection is used as the default list of variables to use by the Optimizer classes.\n",
    "    collections: List of graph collections keys. The new variable is added to these collections. Defaults to [GraphKeys.GLOBAL_VARIABLES].\n",
    "*    validate_shape: If False, allows the variable to be initialized with a value of unknown shape. If True, the default, the shape of initial_value must be known.\n",
    "*    caching_device: Optional device string describing where the Variable should be cached for reading. \n",
    "        Defaults to the Variable's device. If not None, caches on another device. \n",
    "        Typical use is to cache on the device where the Ops using the Variable reside, to deduplicate copying through Switch and other conditional statements.\n",
    "    name: Optional name for the variable. Defaults to 'Variable' and gets uniquified automatically.\n",
    "*    variable_def: VariableDef protocol buffer. \n",
    "        If not None, recreates the Variable object with its contents, referencing the variable's nodes in the graph, which must already exist. The graph is not changed. \n",
    "        variable_def and the other arguments are mutually exclusive.\n",
    "*    dtype: If set, initial_value will be converted to the given type. \n",
    "        If None, either the datatype will be kept (if initial_value is a Tensor), or convert_to_tensor will decide.\n",
    "*    expected_shape: A TensorShape. If set, initial_value is expected to have this shape.\n",
    "    import_scope: Optional string. Name scope to add to the Variable. Only used when initializing from protocol buffer.\n",
    "*    constraint: An optional projection function to be applied to the variable after being updated by an Optimizer (e.g. used to implement norm constraints or value constraints for layer weights). \n",
    "        The function must take as input the unprojected Tensor representing the value of the variable and return the Tensor for the projected value (which must have the same shape). \n",
    "        Constraints are not safe to use when doing asynchronous distributed training.\n",
    "\n",
    "### tf.get_variable\n",
    "    tf.get_variable(\n",
    "        name,\n",
    "        shape=None,\n",
    "        dtype=None,\n",
    "        initializer=None,\n",
    "        regularizer=None,\n",
    "        trainable=None,\n",
    "        collections=None,\n",
    "        caching_device=None,\n",
    "        partitioner=None,\n",
    "        validate_shape=True,\n",
    "        use_resource=None,\n",
    "        custom_getter=None,\n",
    "        constraint=None,\n",
    "        synchronization=tf.VariableSynchronization.AUTO,\n",
    "        aggregation=tf.VariableAggregation.NONE\n",
    "    )\n",
    "\n",
    "#### Args:\n",
    "\n",
    "*    name: The name of the new or existing variable.\n",
    "*    shape: Shape of the new or existing variable.\n",
    "*    dtype: Type of the new or existing variable (defaults to DT_FLOAT).\n",
    "*    initializer: Initializer for the variable if one is created. Can either be an initializer object or a Tensor. If it's a Tensor, its shape must be known unless validate_shape is False.\n",
    "*    regularizer: A (Tensor -> Tensor or None) function; the result of applying it on a newly created variable will be added to the collection tf.GraphKeys.REGULARIZATION_LOSSES and can be used for regularization.\n",
    "*    trainable: If True also add the variable to the graph collection GraphKeys.TRAINABLE_VARIABLES (see tf.Variable).\n",
    "*    collections: List of graph collections keys to add the Variable to. Defaults to [GraphKeys.GLOBAL_VARIABLES] (see tf.Variable).\n",
    "*    caching_device: Optional device string or function describing where the Variable should be cached for reading. Defaults to the Variable's device. If not None, caches on another device. Typical use is to cache on the device where the Ops using the Variable reside, to deduplicate copying through Switch and other conditional statements.\n",
    "*    partitioner: Optional callable that accepts a fully defined TensorShape and dtype of the Variable to be created, and returns a list of partitions for each axis (currently only one axis can be partitioned).\n",
    "*    validate_shape: If False, allows the variable to be initialized with a value of unknown shape. If True, the default, the shape of initial_value must be known. For this to be used the initializer must be a Tensor and not an initializer object.\n",
    "*    use_resource: If False, creates a regular Variable. If true, creates an experimental ResourceVariable instead with well-defined semantics. Defaults to False (will later change to True). When eager execution is enabled this argument is always forced to be True.\n",
    "\n",
    "*    custom_getter: Callable that takes as a first argument the true getter, and allows overwriting the internal get_variable method. The signature of custom_getter should match that of this method, but the most future-proof version will allow for changes: def custom_getter(getter, *args, **kwargs). Direct access to all get_variable parameters is also allowed: def custom_getter(getter, name, *args, **kwargs). A simple identity custom getter that simply creates variables with modified names is:\n",
    "\n",
    "    def custom_getter(getter, name, *args, **kwargs):\n",
    "      return getter(name + '_suffix', *args, **kwargs)\n",
    "\n",
    "#### Returns:\n",
    "\n",
    "The created or existing Variable (or PartitionedVariable, if a partitioner was used).\n",
    "Raises:\n",
    "\n",
    "####    ValueError:\n",
    "when creating a new variable and shape is not declared, when violating reuse during variable creation, or when initializer dtype and dtype don't match. Reuse is set inside variable_scope.\n",
    "\n",
    "\n",
    "### tf.placeholder\n",
    "    tf.placeholder(\n",
    "        dtype,\n",
    "        shape=None,\n",
    "        name=None\n",
    "    )\n",
    "#### Args:\n",
    "*    dtype: The type of elements in the tensor to be fed.\n",
    "*    shape: The shape of the tensor to be fed (optional). If the shape is not specified, you can feed a tensor of any shape.\n",
    "*    name: A name for the operation (optional).\n",
    "\n",
    "## random Tensor\n",
    "可用于赋值给tf.Variable()的第一个参数\n",
    "* tf.random_normal(shape, mean=0.0, stddev=1.0, dtype=tf.float32, seed=None, name=None)\n",
    "* tf.truncated_normal(shape, mean=0.0, stddev=1.0, dtype=tf.float32, seed=None, name=None)\n",
    "* tf.random_uniform(shape, minval=0, maxval=None, dtype=tf.float32, seed=None, name=None)\n",
    "* tf.random_shuffle(value, seed=None, name=None)\n",
    "* tf.random_crop(value, size, seed=None, name=None)\n",
    "* tf.multinomial(logits, num_samples, seed=None, name=None)\n",
    "* tf.random_gamma(shape, alpha, beta=None, dtype=tf.float32, seed=None, name=None)\n",
    "* tf.set_random_seed(seed)\n",
    "\n",
    "## constant value tensor\n",
    "* tf.zeros(shape, dtype=tf.float32, name=None)\n",
    "* tf.zeros_like(tensor, dtype=None, name=None)\n",
    "* tf.ones(shape, dtype=tf.float32, name=None)\n",
    "* tf.ones_like(tensor, dtype=None, name=None)\n",
    "* tf.fill(dims, value, name=None)\n",
    "* tf.constant(value, dtype=None, shape=None, name='Const')\n",
    "\n",
    "## initializer\n",
    "* tf.constant_initializer(value=0, dtype=tf.float32)\n",
    "* tf.random_normal_initializer(mean=0.0, stddev=1.0, seed=None, dtype=tf.float32)\n",
    "* tf.truncated_normal_initializer(mean=0.0, stddev=1.0, seed=None, dtype=tf.float32)\n",
    "* tf.random_uniform_initializer(minval=0, maxval=None, seed=None, dtype=tf.float32)\n",
    "* tf.uniform_unit_scaling_initializer(factor=1.0, seed=None, dtype=tf.float32)\n",
    "* tf.zeros_initializer(shape, dtype=tf.float32, partition_info=None)\n",
    "* tf.ones_initializer(dtype=tf.float32, partition_info=None)\n",
    "* tf.orthogonal_initializer(gain=1.0, dtype=tf.float32, seed=None)"
   ]
  },
  {
   "cell_type": "code",
   "execution_count": 1,
   "metadata": {},
   "outputs": [],
   "source": [
    "import tensorflow as tf\n",
    "import numpy as np\n",
    "sess=tf.InteractiveSession()"
   ]
  },
  {
   "cell_type": "markdown",
   "metadata": {},
   "source": [
    "# tf.random_normal\n",
    "生成正态分布随机数\n",
    "tf.random_normal(shape, mean=0.0, stddev=1.0, dtype=tf.float32, seed=None, name=None )"
   ]
  },
  {
   "cell_type": "code",
   "execution_count": 2,
   "metadata": {},
   "outputs": [
    {
     "name": "stdout",
     "output_type": "stream",
     "text": [
      "Tensor(\"random_normal_v1:0\", shape=(2, 3), dtype=float32)\n",
      "[[-0.57588625 -0.09619022  0.32753915]\n",
      " [-0.16389519 -1.6075222  -2.7061887 ]]\n"
     ]
    }
   ],
   "source": [
    "val=tf.random_normal((2,3),mean=0.0,stddev=1.0,dtype=tf.float32,name='random_normal_v1')\n",
    "print(val)\n",
    "print(val.eval())"
   ]
  },
  {
   "cell_type": "markdown",
   "metadata": {},
   "source": [
    "# tf.constant\n",
    "常量\n",
    "tf.constant(\n",
    "    value,\n",
    "    dtype=None,\n",
    "    shape=None,\n",
    "    name='Const',\n",
    "    verify_shape=False\n",
    ")"
   ]
  },
  {
   "cell_type": "code",
   "execution_count": 3,
   "metadata": {},
   "outputs": [
    {
     "name": "stdout",
     "output_type": "stream",
     "text": [
      "Tensor(\"constant_v1:0\", shape=(2, 3), dtype=float32)\n",
      "[[1. 2. 3.]\n",
      " [4. 5. 6.]]\n"
     ]
    }
   ],
   "source": [
    "val=tf.constant([[1,2,3],[4,5,6]],dtype=tf.float32,name='constant_v1')\n",
    "print(val)\n",
    "print(val.eval())"
   ]
  },
  {
   "cell_type": "markdown",
   "metadata": {},
   "source": [
    "# 变量初始化"
   ]
  },
  {
   "cell_type": "code",
   "execution_count": 4,
   "metadata": {},
   "outputs": [
    {
     "name": "stdout",
     "output_type": "stream",
     "text": [
      "[[0.01847514 0.641097   0.31832308]\n",
      " [0.38131234 0.10361908 0.66325253]]\n"
     ]
    }
   ],
   "source": [
    "var=tf.Variable(initial_value=np.random.rand(2,3),dtype=tf.float32,name='var1')\n",
    "#当个变量初始化\n",
    "var.initializer.run()\n",
    "#或\n",
    "sess.run(var.initializer)\n",
    "#初始化所有变量\n",
    "tf.global_variables_initializer().run()\n",
    "#或\n",
    "sess.run(tf.global_variables_initializer())\n",
    "\n",
    "print(var.eval())"
   ]
  },
  {
   "cell_type": "markdown",
   "metadata": {},
   "source": [
    "# tf.Variable\n",
    "变量:每次调用都新建一个变量\n",
    "\n",
    "    __init__(\n",
    "            initial_value=None,\n",
    "            trainable=True,\n",
    "            collections=None,\n",
    "            validate_shape=True,\n",
    "            caching_device=None,\n",
    "            name=None,\n",
    "            variable_def=None,\n",
    "            dtype=None,\n",
    "            expected_shape=None,\n",
    "            import_scope=None,\n",
    "            constraint=None\n",
    "        )\n",
    "    "
   ]
  },
  {
   "cell_type": "code",
   "execution_count": 5,
   "metadata": {},
   "outputs": [
    {
     "name": "stdout",
     "output_type": "stream",
     "text": [
      "<tf.Variable 'variable_v1:0' shape=(2, 3) dtype=float32_ref>\n",
      "[[0.2477379  0.17573714 0.33353743]\n",
      " [0.47178575 0.36507756 0.5453572 ]]\n"
     ]
    }
   ],
   "source": [
    "var=tf.Variable(initial_value=np.random.rand(2,3),dtype=tf.float32,name='variable_v1')\n",
    "var.initializer.run()\n",
    "print(var)\n",
    "print(var.eval())"
   ]
  },
  {
   "cell_type": "markdown",
   "metadata": {},
   "source": [
    "# tf.get_variable\n",
    "变量:如果变量已存在，将触发异常；可以提供共享变量机制。\n",
    "\n",
    "    tf.get_variable(\n",
    "            name,\n",
    "            shape=None,\n",
    "            dtype=None,\n",
    "            initializer=None,\n",
    "            regularizer=None,\n",
    "            trainable=None,\n",
    "            collections=None,\n",
    "            caching_device=None,\n",
    "            partitioner=None,\n",
    "            validate_shape=True,\n",
    "            use_resource=None,\n",
    "            custom_getter=None,\n",
    "            constraint=None,\n",
    "            synchronization=tf.VariableSynchronization.AUTO,\n",
    "            aggregation=tf.VariableAggregation.NONE\n",
    "        )\n"
   ]
  },
  {
   "cell_type": "code",
   "execution_count": 6,
   "metadata": {},
   "outputs": [],
   "source": [
    "#var=tf.get_variable('variable_v2',shape=(2,3),dtype=tf.float32\n",
    "#                    ,initializer=tf.random_normal_initializer(mean=0.0, stddev=1.0, seed=None, dtype=tf.float32))\n",
    "#print(var) \n",
    "#var.initializer.run()\n",
    "#print(var.eval())\n",
    "\n",
    "#<tf.Variable 'variable_v2:0' shape=(2, 3) dtype=float32_ref>\n",
    "#[[-1.9549031  -0.03274832  0.2438553 ]\n",
    "# [ 0.15138444  1.5698885  -1.3047556 ]]"
   ]
  },
  {
   "cell_type": "markdown",
   "metadata": {},
   "source": [
    "# tf.Variable 与 tf.get_variable的区别\n",
    "\n",
    "    使用tf.Variable时，如果检测到命名冲突，系统会自己处理。使用tf.get_variable()时，系统不会处理冲突，而会报错;\n",
    "    tf.Variable每次都会创建一个新变量,tf.get_variable一个已存在的变量时会触发异常;\n",
    "    tf.get_variable可以与tf.variable_scope配合使用共享变量"
   ]
  },
  {
   "cell_type": "code",
   "execution_count": 9,
   "metadata": {},
   "outputs": [
    {
     "name": "stdout",
     "output_type": "stream",
     "text": [
      "<tf.Variable 'Variable_v1_5:0' shape=(2, 3) dtype=float32_ref>\n",
      "<tf.Variable 'Variable_v1_6:0' shape=(2, 3) dtype=float32_ref>\n"
     ]
    },
    {
     "data": {
      "text/plain": [
       "'\\nvar3=tf.get_variable(\\'get_variable_v1\\',shape=(2,3),dtype=tf.float32\\n                    ,initializer=tf.random_normal_initializer())\\nprint(var3)\\nvar4=tf.get_variable(\\'get_variable_v1\\',shape=(2,3),dtype=tf.float32\\n                    ,initializer=tf.random_normal_initializer()) #=>触发异常\\nprint(var4)\\nvar5=tf.get_variable(\\'Variable_v1\\',shape=(2,3),dtype=tf.float32\\n                    ,initializer=tf.random_normal_initializer()) #=>触发异常\\nprint(var5)\\n\\n#变量共享演示\\nwith tf.variable_scope(\"scope1\"):\\n    w1 = tf.get_variable(\"w1\", shape=[])\\n    w2 = tf.Variable(0.0, name=\"w2\")\\nwith tf.variable_scope(\"scope1\", reuse=True):\\n    w1_p = tf.get_variable(\"w1\", shape=[])\\n    w2_p = tf.Variable(1.0, name=\"w2\")\\nprint(w1)\\nprint(w2)\\nprint(w1_p)\\nprint(w2_p)\\nprint(w1 is w1_p, w2 is w2_p)\\n'"
      ]
     },
     "execution_count": 9,
     "metadata": {},
     "output_type": "execute_result"
    }
   ],
   "source": [
    "#变量冲突演示\n",
    "#tf.Variable每次都会自动创建一个新变量\n",
    "var1=tf.Variable(np.random.rand(2,3),dtype=tf.float32,name='Variable_v1')\n",
    "print(var1)\n",
    "var2=tf.Variable(np.random.rand(2,3),dtype=tf.float32,name='Variable_v1')\n",
    "print(var2)\n",
    "#tf.get_variable一个已存在的变量时触发异常\n",
    "'''\n",
    "var3=tf.get_variable('get_variable_v1',shape=(2,3),dtype=tf.float32\n",
    "                    ,initializer=tf.random_normal_initializer())\n",
    "print(var3)\n",
    "var4=tf.get_variable('get_variable_v1',shape=(2,3),dtype=tf.float32\n",
    "                    ,initializer=tf.random_normal_initializer()) #=>触发异常\n",
    "print(var4)\n",
    "var5=tf.get_variable('Variable_v1',shape=(2,3),dtype=tf.float32\n",
    "                    ,initializer=tf.random_normal_initializer()) #=>触发异常\n",
    "print(var5)\n",
    "\n",
    "#变量共享演示\n",
    "with tf.variable_scope(\"scope1\"):\n",
    "    w1 = tf.get_variable(\"w1\", shape=[])\n",
    "    w2 = tf.Variable(0.0, name=\"w2\")\n",
    "with tf.variable_scope(\"scope1\", reuse=True):\n",
    "    w1_p = tf.get_variable(\"w1\", shape=[])\n",
    "    w2_p = tf.Variable(1.0, name=\"w2\")\n",
    "print(w1)\n",
    "print(w2)\n",
    "print(w1_p)\n",
    "print(w2_p)\n",
    "print(w1 is w1_p, w2 is w2_p)\n",
    "'''\n",
    "\n",
    "#<tf.Variable 'Variable_v1_3:0' shape=(2, 3) dtype=float32_ref>\n",
    "#<tf.Variable 'Variable_v1_4:0' shape=(2, 3) dtype=float32_ref>\n",
    "#<tf.Variable 'scope1/w1:0' shape=() dtype=float32_ref>\n",
    "#<tf.Variable 'scope1_1/w2:0' shape=() dtype=float32_ref>\n",
    "#<tf.Variable 'scope1/w1:0' shape=() dtype=float32_ref>\n",
    "#<tf.Variable 'scope1_2/w2:0' shape=() dtype=float32_ref>\n",
    "#True False"
   ]
  },
  {
   "cell_type": "markdown",
   "metadata": {},
   "source": [
    "# 变量赋值"
   ]
  },
  {
   "cell_type": "code",
   "execution_count": 10,
   "metadata": {},
   "outputs": [
    {
     "name": "stdout",
     "output_type": "stream",
     "text": [
      "[[1. 2. 3.]\n",
      " [4. 5. 6.]]\n"
     ]
    }
   ],
   "source": [
    "var=tf.Variable(np.random.rand(2,3),dtype=tf.float32)\n",
    "var.initializer.run()\n",
    "sess.run(tf.assign(var,[[1.,2.,3.],[4.,5.,6.]]))\n",
    "print(var.eval())"
   ]
  },
  {
   "cell_type": "markdown",
   "metadata": {},
   "source": [
    "# 遍历变量"
   ]
  },
  {
   "cell_type": "code",
   "execution_count": 16,
   "metadata": {},
   "outputs": [
    {
     "name": "stdout",
     "output_type": "stream",
     "text": [
      "['var1:0', 'variable_v1:0', 'Variable_v1_1:0', 'Variable_v1_2:0', 'Variable_v1_3:0', 'Variable_v1_4:0', 'scope1/w1:0', 'scope1_1/w2:0', 'scope1_2/w2:0', 'Variable_v1_5:0', 'Variable_v1_6:0', 'Variable:0']\n"
     ]
    },
    {
     "data": {
      "text/plain": [
       "True"
      ]
     },
     "execution_count": 16,
     "metadata": {},
     "output_type": "execute_result"
    }
   ],
   "source": [
    "vars_name=[var.name for var in tf.global_variables()]\n",
    "print(vars_name)\n",
    "'var1:0' in vars_name"
   ]
  },
  {
   "cell_type": "markdown",
   "metadata": {},
   "source": [
    "# tf.placeholder\n",
    "x=tf.placeholder(tf.float32, shape=(None,2,3), name=None)\n",
    "*    dtype：表示tensorflow中的数据类型，如常用的tf.float32,tf.float64等数值类型;\n",
    "*    shape：表示数据类型，默认的None是一个一维的数值，shape=[None,5],表示行不定，列是5;\n",
    "*    name：张量名称;"
   ]
  },
  {
   "cell_type": "code",
   "execution_count": 17,
   "metadata": {},
   "outputs": [
    {
     "name": "stdout",
     "output_type": "stream",
     "text": [
      "[3.]\n",
      "[4.]\n",
      "[12.]\n"
     ]
    }
   ],
   "source": [
    "input1 = tf.placeholder(tf.float32)\n",
    "input2 = tf.placeholder(tf.float32)\n",
    " \n",
    "output = tf.multiply(input1, input2)\n",
    " \n",
    "with tf.Session() as sess:\n",
    "    print(sess.run(input1,feed_dict={input1:[3.]}))\n",
    "    print(sess.run(input2,feed_dict={input2:[4.]}))\n",
    "    print(sess.run(output, feed_dict = {input1:[3.], input2: [4.]}))\n"
   ]
  },
  {
   "cell_type": "code",
   "execution_count": null,
   "metadata": {},
   "outputs": [],
   "source": []
  },
  {
   "cell_type": "code",
   "execution_count": null,
   "metadata": {},
   "outputs": [],
   "source": []
  }
 ],
 "metadata": {
  "kernelspec": {
   "display_name": "Python 3",
   "language": "python",
   "name": "python3"
  },
  "language_info": {
   "codemirror_mode": {
    "name": "ipython",
    "version": 3
   },
   "file_extension": ".py",
   "mimetype": "text/x-python",
   "name": "python",
   "nbconvert_exporter": "python",
   "pygments_lexer": "ipython3",
   "version": "3.5.2"
  }
 },
 "nbformat": 4,
 "nbformat_minor": 2
}
