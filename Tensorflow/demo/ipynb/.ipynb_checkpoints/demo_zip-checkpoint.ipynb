{
 "cells": [
  {
   "cell_type": "markdown",
   "metadata": {},
   "source": [
    "# zip函数使用范例\n",
    "    http://www.runoob.com/python/python-func-zip.html\n",
    "    \n",
    "* 打包为元组的列表\n",
    "    - a=[1,2,3]\n",
    "    - b=[4,5,6]\n",
    "    - zipped=zip(a,b) # =>[(1,4),(2,5),(3,6)]\n",
    "    \n",
    "    - 如果两个列表的长度不等，元素个数与最短列表保持一致\n",
    "    - a=[1,2,3]\n",
    "    - b=[4,5,6,7,8]\n",
    "    - zipped=zip(a,b) # =>[(1,4),(2,5),(3,6)]\n",
    "    \n",
    "* 解压元组的列表\n",
    "    - zipped=[(1,4),(2,5),(3,6)]\n",
    "    - unzipped=list(zip(*zipped)) =>[(1,2,3),(4,5,6)]"
   ]
  },
  {
   "cell_type": "code",
   "execution_count": 19,
   "metadata": {},
   "outputs": [
    {
     "name": "stdout",
     "output_type": "stream",
     "text": [
      "zipped_ab_val:\n",
      "[(1, 4), (2, 5), (3, 6)]\n",
      "unzipped_ab_val:\n",
      "[(1, 2, 3), (4, 5, 6)]\n",
      "zipped_ac_val:\n",
      "[(1, 4), (2, 5), (3, 6)]\n"
     ]
    }
   ],
   "source": [
    "'''zip函数使用范例\n",
    "   http://www.runoob.com/python/python-func-zip.html\n",
    "'''\n",
    "\n",
    "a = [1,2,3]\n",
    "b = [4,5,6]\n",
    "c = [4,5,6,7,8]\n",
    "zipped_ab = zip(a,b)                       # 打包为元组的列表\n",
    "zipped_ab_val=list(zipped_ab)\n",
    "unzipped_ab_val=list(zip(*zipped_ab_val))  # 解压元组的列表\n",
    "\n",
    "zipped_ac = zip(a,c)                       # 两个列表长度不一致，元素个数与最短列表保持一致\n",
    "zipped_ac_val=list(zipped_ac)\n",
    "\n",
    "print('zipped_ab_val:')\n",
    "print(zipped_ab_val)\n",
    "print('unzipped_ab_val:')\n",
    "print(unzipped_ab_val)\n",
    "print('zipped_ac_val:')\n",
    "print(zipped_ac_val)\n"
   ]
  },
  {
   "cell_type": "code",
   "execution_count": null,
   "metadata": {},
   "outputs": [],
   "source": []
  },
  {
   "cell_type": "code",
   "execution_count": null,
   "metadata": {},
   "outputs": [],
   "source": []
  }
 ],
 "metadata": {
  "kernelspec": {
   "display_name": "Python 3",
   "language": "python",
   "name": "python3"
  },
  "language_info": {
   "codemirror_mode": {
    "name": "ipython",
    "version": 3
   },
   "file_extension": ".py",
   "mimetype": "text/x-python",
   "name": "python",
   "nbconvert_exporter": "python",
   "pygments_lexer": "ipython3",
   "version": "3.5.2"
  }
 },
 "nbformat": 4,
 "nbformat_minor": 2
}
