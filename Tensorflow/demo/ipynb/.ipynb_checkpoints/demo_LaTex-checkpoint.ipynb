{
 "cells": [
  {
   "cell_type": "markdown",
   "metadata": {},
   "source": [
    "# LaTex范例"
   ]
  },
  {
   "cell_type": "markdown",
   "metadata": {},
   "source": [
    "## 空白距离"
   ]
  },
  {
   "cell_type": "markdown",
   "metadata": {},
   "source": [
    "It does not matter whether you\n",
    "enter one or several     spaces\n",
    "after a word.\n",
    "\n",
    "\n",
    "An empty line starts a new\n",
    "paragraph."
   ]
  },
  {
   "cell_type": "markdown",
   "metadata": {},
   "source": [
    "# 特殊字符"
   ]
  },
  {
   "cell_type": "markdown",
   "metadata": {},
   "source": [
    "\\#  \\$  \\%  \\^  \\&  \\_  \\{  \\}  \\~  \\\\"
   ]
  },
  {
   "cell_type": "markdown",
   "metadata": {},
   "source": [
    "# 命令"
   ]
  },
  {
   "cell_type": "markdown",
   "metadata": {},
   "source": [
    "LATEX命令（commands）是大小写敏感的并有下面两种格式：\n",
    "* 以一反斜线\\开始，加上只包含字母字符命令名组成。命令名后的空格符、数字或其它非字母字符标志该命令的结束。\n",
    "* 由一反斜线和一特殊字符组成。\n",
    "\n",
    "LATEX忽略命令后面的空格。如果你希望在命令后面得到一空格，可以在命令后面加上{}和一个空格，或者加上一个特殊的空白距离命令。{}将阻止LATEX吞噬掉命令后面的空格。\n",
    "\n",
    "试试命令$\\backslash$，它将生成\\。\n"
   ]
  },
  {
   "cell_type": "markdown",
   "metadata": {},
   "source": [
    "# 注释"
   ]
  },
  {
   "cell_type": "markdown",
   "metadata": {},
   "source": [
    "这是一个注释\n",
    "\\begin{comment}\n",
    "非常笨拙的，然而却很有效。\n",
    "\\end{comment}\n",
    "的例子"
   ]
  },
  {
   "cell_type": "markdown",
   "metadata": {},
   "source": [
    "# 数学公式排版"
   ]
  },
  {
   "cell_type": "markdown",
   "metadata": {},
   "source": [
    "Add $a$ squared and $b$ squared\n",
    "to get $c$ squared. Or, using\n",
    "a more mathematical approach:\n",
    "$c^{2}=a^{2}+b^{2}$"
   ]
  },
  {
   "cell_type": "markdown",
   "metadata": {},
   "source": [
    "TeX is pronounced as\n",
    "$\\tau\\epsilon\\chi$.\n",
    "\n",
    "100~m$^{3}$ of water.\n",
    "\n",
    "This comes from my $\\heartsuit$"
   ]
  },
  {
   "cell_type": "markdown",
   "metadata": {},
   "source": [
    "$\\lim_{n \\to \\infty}\n",
    "\\sum_{k=1}^n \\frac{1}{k^2}\n",
    "= \\frac{\\pi^2}{6}$"
   ]
  },
  {
   "cell_type": "markdown",
   "metadata": {},
   "source": [
    "$\\lim_{n \\to \\infty}\n",
    "\\sum_{k=1}^n \\frac{1}{k^2}\n",
    "= \\frac{\\pi^2}{6}$"
   ]
  },
  {
   "cell_type": "markdown",
   "metadata": {},
   "source": [
    "$\\forall x \\in \\mathbf{R}:\n",
    "\\qquad x^{2} \\geq 0$"
   ]
  },
  {
   "cell_type": "markdown",
   "metadata": {},
   "source": [
    "$x^{2} \\geq 0\\qquad\n",
    "\\textrm{for all }x\\in\\mathbf{R}$"
   ]
  },
  {
   "cell_type": "markdown",
   "metadata": {},
   "source": [
    "$x^{2} \\geq 0\\qquad\n",
    "\\textrm{for all }x\\in\\mathbb{R}$"
   ]
  },
  {
   "cell_type": "markdown",
   "metadata": {},
   "source": [
    "\\begin{equation}\n",
    "a^x+y \\neq a^{x+y}\n",
    "\\end{equation}"
   ]
  },
  {
   "cell_type": "markdown",
   "metadata": {},
   "source": [
    "$\\lambda,\\xi,\\pi,\\mu,\\Phi,\\Omega$"
   ]
  },
  {
   "cell_type": "markdown",
   "metadata": {},
   "source": [
    "$a_{1}$ $\\qquad$ $x^{2}$ $\\qquad$\n",
    "$e^{-\\alpha t}$ $\\qquad$\n",
    "$a^{3}_{ij}$ \n",
    "\n",
    "$e^{x^2} \\neq {e^x}^2$"
   ]
  },
  {
   "cell_type": "markdown",
   "metadata": {},
   "source": [
    "$\\sqrt{x}$ $\\qquad$ $\\sqrt{ x^{2}+\\sqrt{y} }$  $\\qquad$ $\\sqrt[3]{2}$\n",
    "\n",
    "$\\surd[x^2 + y^2]$"
   ]
  },
  {
   "cell_type": "markdown",
   "metadata": {},
   "source": [
    "$\\overline{m+n}$ $\\qquad$\n",
    "$\\underline{m+n}$"
   ]
  },
  {
   "cell_type": "markdown",
   "metadata": {},
   "source": [
    "$\\underbrace{ a+b+\\cdots+z }_{26}$"
   ]
  },
  {
   "cell_type": "markdown",
   "metadata": {},
   "source": [
    "$y=x^{2}\\qquad y’=2x\\qquad y’’=2$"
   ]
  },
  {
   "cell_type": "markdown",
   "metadata": {},
   "source": [
    "$\\vec a\\quad\\overrightarrow{AB}$"
   ]
  },
  {
   "cell_type": "markdown",
   "metadata": {},
   "source": [
    "$v = {\\sigma}_1 \\cdot {\\sigma}_2\n",
    "{\\tau}_1 \\cdot {\\tau}_2$"
   ]
  },
  {
   "cell_type": "markdown",
   "metadata": {},
   "source": [
    "函数名\n",
    "\n",
    "$\\arccos  \\cos   \\csc  \\exp   \\ker     \\limsup  \\min\n",
    "\\arcsin  \\cosh  \\deg  \\gcd   \\lg      \\ln      \\Pr\n",
    "\\arctan  \\cot   \\det  \\hom   \\lim     \\log     \\sec\n",
    "\\arg     \\coth  \\dim  \\inf   \\liminf  \\max     \\sin\n",
    "\\sinh    \\sup   \\tan  \\tanh$"
   ]
  },
  {
   "cell_type": "markdown",
   "metadata": {},
   "source": [
    "$lim_{x \\rightarrow 0}\n",
    "\\frac{\\sin x}{x}=1$"
   ]
  },
  {
   "cell_type": "markdown",
   "metadata": {},
   "source": [
    "$1\\frac{1}{2}$~hours\n",
    "\n",
    "$\\frac{ x^{2} }{ k+1 }\\qquad\n",
    "x^{ \\frac{2}{k+1} }\\qquad\n",
    "x^{ 1/2 }$"
   ]
  },
  {
   "cell_type": "markdown",
   "metadata": {},
   "source": [
    "${n \\choose k}\\qquad {x \\atop y+2}$\n",
    "\n",
    "${n \\choose k}{x \\atop y+2}$"
   ]
  },
  {
   "cell_type": "markdown",
   "metadata": {},
   "source": [
    "$\\int f_N(x) \\stackrel{!}{=} 1$"
   ]
  },
  {
   "cell_type": "markdown",
   "metadata": {},
   "source": [
    "$\\sum_{i=1}^{n} \\qquad\n",
    "\\int_{0}^{\\frac{\\pi}{2}} \\qquad\n",
    "\\prod_\\epsilon$"
   ]
  },
  {
   "cell_type": "markdown",
   "metadata": {},
   "source": [
    "${a,b,c}\\neq\\{a,b,c\\}$"
   ]
  },
  {
   "cell_type": "markdown",
   "metadata": {},
   "source": [
    "$1 + \\left( \\frac{1}{ 1-x^{2} }\n",
    "\\right) ^3$"
   ]
  },
  {
   "cell_type": "markdown",
   "metadata": {},
   "source": [
    "$\\Big( (x+1) (x-1) \\Big) ^{2}$\n",
    "\n",
    "$\\big(\\Big(\\bigg(\\Bigg($ $\\quad$\n",
    "$\\big\\}\\Big\\}\\bigg\\}\\Bigg\\}$ $\\quad$\n",
    "$\\big\\|\\Big\\|\\bigg\\|\\Bigg\\|$"
   ]
  },
  {
   "cell_type": "markdown",
   "metadata": {},
   "source": [
    "$x_{1},\\ldots,x_{n} \\qquad\n",
    "x_{1}+\\cdots+x_{n}$"
   ]
  },
  {
   "cell_type": "markdown",
   "metadata": {},
   "source": [
    "$\\int\\!\\!\\!\\int_{D} g(x,y)\n",
    "\\, \\ud x\\, \\ud y$\n",
    "\n",
    "$\\int\\int_{D} g(x,y)dx \\, dy$\n",
    "\n",
    "$\\iint_{D} \\, dx \\, dy$"
   ]
  },
  {
   "cell_type": "markdown",
   "metadata": {},
   "source": [
    "$\\mathbf{X} =\n",
    "\\left( \\begin{array}{ccc}\n",
    "x_{11} & x_{12} & \\ldots \\\\\n",
    "x_{21} & x_{22} & \\ldots \\\\\n",
    "\\vdots & \\vdots & \\ddots\n",
    "\\end{array} \\right)$"
   ]
  },
  {
   "cell_type": "markdown",
   "metadata": {},
   "source": [
    "$y = \\left\\{ \\begin{array}{ll}\n",
    "a & \\textrm{if $d>c$}\\\\\n",
    "b+x & \\textrm{in the morning}\\\\\n",
    "l & \\textrm{all day long}\n",
    "\\end{array} \\right.$"
   ]
  },
  {
   "cell_type": "markdown",
   "metadata": {},
   "source": [
    "$\\left(\\begin{array}{c|c}\n",
    "1 & 2 \\\\\n",
    "\\hline\n",
    "3 & 4\n",
    "\\end{array}\\right)$\n",
    "\n",
    "$\\left(\\begin{array}{cc}\n",
    "1 & 2 \\\\\n",
    "\\hline\n",
    "3 & 4\n",
    "\\end{array}\\right)$\n",
    "\n",
    "$\\left(\\begin{array}{c|cc}\n",
    "1 & 2 & 3 \\\\\n",
    "\\hline\n",
    "3 & 4 & 5 \\\\\n",
    "3 & 4 & 5\n",
    "\\end{array}\\right)$"
   ]
  },
  {
   "cell_type": "markdown",
   "metadata": {},
   "source": [
    "f(x)  =  $\\cos x$ \n",
    "\n",
    "$f’(x)$   =  -$\\sin x$\n",
    "\n",
    "$\\int_{0}^{x} f(y)dy =  \\sin x$"
   ]
  },
  {
   "cell_type": "markdown",
   "metadata": {},
   "source": [
    "$\\sin x$  =  x -$\\frac{x^{3}}{3!}$\n",
    "+$\\frac{x^{5}}{5!} - \\frac{x^{7}}{7!}+{}\\cdots$"
   ]
  },
  {
   "cell_type": "markdown",
   "metadata": {},
   "source": [
    "$\\cos x$= 1-$\\frac{x^{2}}{2!}$+$\\frac{x^{4}}{4!}$-$\\frac{x^{6}}{6!}+{}\\cdots$"
   ]
  },
  {
   "cell_type": "markdown",
   "metadata": {},
   "source": [
    "${}^{12}_{\\phantom{1}6}\\textrm{C}\n",
    "\\qquad \\textrm{versus} \\qquad\n",
    "{}^{12}_{6}\\textrm{C}$"
   ]
  },
  {
   "cell_type": "markdown",
   "metadata": {},
   "source": [
    "$\\Gamma_{ij}^{\\phantom{ij}k}\n",
    "\\qquad \\textrm{versus} \\qquad\n",
    "\\Gamma_{ij}^{k}$"
   ]
  },
  {
   "cell_type": "markdown",
   "metadata": {},
   "source": [
    "$2^{\\textrm{nd}} \\quad\n",
    "2^{\\mathrm{nd}}$"
   ]
  },
  {
   "cell_type": "markdown",
   "metadata": {},
   "source": [
    "$\\mathop{\\mathrm{corr}}(X,Y)=\n",
    "\\frac{\\displaystyle\n",
    "\\sum_{i=1}^n(x_i-\\overline x)\n",
    "(y_i-\\overline y)}\n",
    "{\\displaystyle\\biggl[\n",
    "\\sum_{i=1}^n(x_i-\\overline x)^2\n",
    "\\sum_{i=1}^n(y_i-\\overline y)^2\n",
    "\\biggr]^{1/2}}$"
   ]
  },
  {
   "cell_type": "markdown",
   "metadata": {},
   "source": [
    "# 数学符号表"
   ]
  },
  {
   "cell_type": "markdown",
   "metadata": {},
   "source": [
    "## 数学模式重音符"
   ]
  },
  {
   "cell_type": "markdown",
   "metadata": {},
   "source": [
    "$\\hat{a}$   $\\qquad$  $\\check{a}$ $\\qquad$ $\\tilde{a}$   $\\qquad$ $\\acute{a}$\n",
    "\n",
    "$\\grave{a}$ $\\qquad$  $\\dot{a}$   $\\qquad$ $\\ddot{a}$    $\\qquad$ $\\breve{a}$\n",
    "\n",
    "$\\bar{a}$   $\\qquad$  $\\vec{a}$   $\\qquad$ $\\widehat{A}$ $\\qquad$ $\\widetilde{A}$"
   ]
  },
  {
   "cell_type": "markdown",
   "metadata": {},
   "source": [
    "## 小写希腊字母"
   ]
  },
  {
   "cell_type": "markdown",
   "metadata": {},
   "source": [
    "$\\alpha$    $\\qquad$  $\\theta$    $\\qquad$  $\\upsilon$  $\\qquad$  $\\beta$   $\\qquad$  $\\vartheta$   $\\qquad$ \n",
    "\n",
    "$\\pi$       $\\qquad$  $\\phi$      $\\qquad$  $\\gamma$    $\\qquad$  $\\iota$   $\\qquad$  $\\varpi$      $\\qquad$\n",
    "\n",
    "$\\varphi$   $\\qquad$  $\\delta$    $\\qquad$  $\\kappa$    $\\qquad$  $\\rho$    $\\qquad$ $\\chi$         $\\qquad$\n",
    "\n",
    "$\\epsilon$  $\\qquad$  $\\lambda$   $\\qquad$  $\\varrho$   $\\qquad$  $\\psi$    $\\qquad$  $\\varepsilon$ $\\qquad$\n",
    "\n",
    "$\\mu$       $\\qquad$  $\\sigma$    $\\qquad$  $\\omega$    $\\qquad$  $\\zeta$   $\\qquad$  $\\nu$         $\\qquad$\n",
    "\n",
    "$\\varsigma$ $\\qquad$  $\\eta$      $\\qquad$  $\\xi$       $\\qquad$  $\\tau$    $\\qquad$"
   ]
  },
  {
   "cell_type": "markdown",
   "metadata": {},
   "source": [
    "## 大写希腊字母"
   ]
  },
  {
   "cell_type": "markdown",
   "metadata": {},
   "source": [
    "$\\Gamma$   $\\qquad$  $\\Lambda$ $\\qquad$  $\\Sigma$ $\\qquad$  $\\Psi$ $\\qquad$  $\\Delta$ $\\qquad$  $\\Xi$ $\\qquad$\n",
    "\n",
    "$\\Upsilon$ $\\qquad$  $\\Omega$  $\\qquad$  $\\Theta$ $\\qquad$  $\\Pi$  $\\qquad$  $\\Phi$   $\\qquad$\n"
   ]
  },
  {
   "cell_type": "markdown",
   "metadata": {},
   "source": [
    "## 二元关系符"
   ]
  },
  {
   "cell_type": "markdown",
   "metadata": {},
   "source": [
    "$<$         $\\qquad$ $>$           $\\qquad$  $=$          $\\qquad$ $\\leq$      $\\qquad$ $\\le$       $\\qquad$  \n",
    "\n",
    "$\\geq$      $\\qquad$ $\\ge$         $\\qquad$  $\\equiv$     $\\qquad$ $\\ll$       $\\qquad$ $\\gg$       $\\qquad$ \n",
    "\n",
    "$\\doteq$    $\\qquad$ $\\prec$       $\\qquad$  $\\succ$      $\\qquad$ $\\sim$      $\\qquad$ $\\preceq$   $\\qquad$ \n",
    "\n",
    "$\\succeq$   $\\qquad$ $\\simeq$      $\\qquad$ $\\subset$     $\\qquad$ $\\supset$   $\\qquad$ $\\approx$   $\\qquad$\n",
    "\n",
    "$\\subseteq$ $\\qquad$ $\\supseteq$   $\\qquad$ $\\cong$       $\\qquad$ $\\sqsubset$ $\\qquad$ $\\sqsupset$ $\\qquad$\n",
    "\n",
    "$\\Join$     $\\qquad$ $\\sqsubseteq$ $\\qquad$ $\\sqsupseteq$ $\\qquad$ $\\bowtie$   $\\qquad$ $\\in$       $\\qquad$ \n",
    "\n",
    "$\\ni$       $\\qquad$ $\\owns$       $\\qquad$ $\\propto$     $\\qquad$ $\\vdash$    $\\qquad$ $\\dashv$    $\\qquad$ \n",
    "\n",
    "$\\models$   $\\qquad$ $\\mid$        $\\qquad$ $\\parallel$   $\\qquad$ $\\perp$     $\\qquad$ $\\smile$    $\\qquad$ \n",
    "\n",
    "$\\frown$    $\\qquad$ $\\asymp$      $\\qquad$ $:$           $\\qquad$ $\\notin$    $\\qquad$ $\\neq$      $\\qquad$\n",
    "\n",
    "$\\ne$       $\\qquad$"
   ]
  },
  {
   "cell_type": "markdown",
   "metadata": {},
   "source": [
    "## 二元运算符"
   ]
  },
  {
   "cell_type": "markdown",
   "metadata": {},
   "source": [
    "$+$      $\\qquad$ $-$              $\\qquad$ $\\pm$              $\\qquad$ $\\mp$     $\\qquad$ $\\triangleleft$ $\\qquad$\n",
    "\n",
    "$\\cdot$  $\\qquad$ $\\div$           $\\qquad$ $\\triangleright$   $\\qquad$ $\\times$  $\\qquad$ $\\setminus$     $\\qquad$\n",
    "\n",
    "$\\star$  $\\qquad$ $\\cup$           $\\qquad$ $\\cap$             $\\qquad$ $\\ast$    $\\qquad$ $\\sqcup$        $\\qquad$\n",
    "\n",
    "$\\sqcap$ $\\qquad$ $\\circ$          $\\qquad$ $\\vee$             $\\qquad$ $\\lor$    $\\qquad$ $\\wedge$        $\\qquad$\n",
    "\n",
    "$\\land$  $\\qquad$ $\\bullet$        $\\qquad$ $\\oplus$           $\\qquad$ $\\ominus$ $\\qquad$ $\\diamond$      $\\qquad$\n",
    "\n",
    "$\\odot$  $\\qquad$ $\\oslash$        $\\qquad$ $\\uplus$           $\\qquad$ $\\otimes$ $\\qquad$ $\\bigcirc$      $\\qquad$\n",
    "\n",
    "$\\amalg$ $\\qquad$ $\\bigtriangleup$ $\\qquad$ $\\bigtriangledown$ $\\qquad$ $\\dagger$ $\\qquad$ $\\lhd$          $\\qquad$\n",
    "\n",
    "$\\rhd$   $\\qquad$ $\\ddagger$       $\\qquad$ $\\unlhd$           $\\qquad$ $\\unrhd$  $\\qquad$ $\\wr$           $\\qquad$"
   ]
  },
  {
   "cell_type": "markdown",
   "metadata": {},
   "source": [
    "## 大尺寸运算符"
   ]
  },
  {
   "cell_type": "markdown",
   "metadata": {},
   "source": [
    "$\\sum$     $\\qquad$ $\\bigcup$   $\\qquad$ $\\bigvee$    $\\qquad$ $\\bigoplus$ $\\qquad$ $\\prod$     $\\qquad$\n",
    "\n",
    "$\\bigcap$  $\\qquad$ $\\bigwedge$ $\\qquad$ $\\bigotimes$ $\\qquad$ $\\coprod$   $\\qquad$ $\\bigsqcup$ $\\qquad$\n",
    "\n",
    "$\\bigodot$ $\\qquad$ $\\int$      $\\qquad$ $\\oint$      $\\qquad$ $\\biguplus$ $\\qquad$"
   ]
  },
  {
   "cell_type": "markdown",
   "metadata": {},
   "source": [
    "## 箭头"
   ]
  },
  {
   "cell_type": "markdown",
   "metadata": {},
   "source": [
    "$\\leftarrow$          $\\qquad$ $\\gets$        $\\qquad$ $\\longleftarrow$     $\\qquad$ \n",
    "\n",
    "$\\uparrow$            $\\qquad$ $\\rightarrow$  $\\qquad$ $\\to$                $\\qquad$ \n",
    "\n",
    "$\\longrightarrow$     $\\qquad$ $\\downarrow$   $\\qquad$ $\\leftrightarrow$    $\\qquad$\n",
    "\n",
    "$\\longleftrightarrow$ $\\qquad$ $\\updownarrow$ $\\qquad$ $\\Leftarrow$         $\\qquad$\n",
    "\n",
    "$\\Longleftarrow$      $\\qquad$ $\\Uparrow$     $\\qquad$ $\\Rightarrow$        $\\qquad$ \n",
    "\n",
    "$\\Longrightarrow$     $\\qquad$ $\\Downarrow$   $\\qquad$ $\\Leftrightarrow$    $\\qquad$ \n",
    "\n",
    "$\\Longleftrightarrow$ $\\qquad$ $\\Updownarrow$ $\\qquad$ $\\mapsto$            $\\qquad$ \n",
    "\n",
    "$\\longmapsto$         $\\qquad$ $\\nearrow$     $\\qquad$ $\\hookleftarrow$     $\\qquad$ \n",
    "\n",
    "$\\hookrightarrow$     $\\qquad$ $\\searrow$     $\\qquad$ $\\leftharpoonup$     $\\qquad$ \n",
    "\n",
    "$\\rightharpoonup$     $\\qquad$ $\\swarrow$     $\\qquad$ $\\leftharpoondown$   $\\qquad$ \n",
    "\n",
    "$\\rightharpoondown$   $\\qquad$ $\\nwarrow$     $\\qquad$ $\\rightleftharpoons$ $\\qquad$\n",
    "\n",
    "$\\iff$                $\\qquad$ $\\leadsto$     $\\qquad$"
   ]
  },
  {
   "cell_type": "markdown",
   "metadata": {},
   "source": [
    "## 定界符"
   ]
  },
  {
   "cell_type": "markdown",
   "metadata": {},
   "source": [
    "$($          $\\qquad$ $)$          $\\qquad$ $\\uparrow$    $\\qquad$ $\\Uparrow$      $\\qquad$\n",
    "\n",
    "$[$          $\\qquad$ $\\lbrack$    $\\qquad$ $]$            $\\qquad$ $\\rbrack$      $\\qquad$\n",
    "\n",
    "$\\downarrow$ $\\qquad$ $\\Downarrow$ $\\qquad$ $\\{$           $\\qquad$ $\\lbrace$      $\\qquad$\n",
    "\n",
    "$\\}$         $\\qquad$ $\\rbrace$    $\\qquad$ $\\updownarrow$ $\\qquad$ $\\Updownarrow$ $\\qquad$\n",
    "\n",
    "$\\langle$    $\\qquad$ $\\rangle$    $\\qquad$ $|$            $\\qquad$ $\\vert$        $\\qquad$\n",
    "\n",
    "$\\|$         $\\qquad$ $\\Vert$      $\\qquad$ $\\lfloor$      $\\qquad$ $\\rfloor$      $\\qquad$\n",
    "\n",
    "$\\lceil$     $\\qquad$ $\\rceil$     $\\qquad$ $/$            $\\qquad$ $\\backslash$   $\\qquad$"
   ]
  },
  {
   "cell_type": "markdown",
   "metadata": {},
   "source": [
    "## 大尺寸定界符"
   ]
  },
  {
   "cell_type": "markdown",
   "metadata": {},
   "source": [
    "$\\lgroup$    $\\qquad$ $\\rgroup$    $\\qquad$ $\\lmoustache$ $\\qquad$ $\\rmoustache$ $\\qquad$\n",
    "\n",
    "$\\arrowvert$ $\\qquad$ $\\Arrowvert$ $\\qquad$ $\\bracevert$  $\\qquad$"
   ]
  },
  {
   "cell_type": "markdown",
   "metadata": {},
   "source": [
    "## 其它符号"
   ]
  },
  {
   "cell_type": "markdown",
   "metadata": {},
   "source": [
    "$\\dots$        $\\qquad$ $\\cdots$     $\\qquad$ $\\vdots$    $\\qquad$ $\\ddots$     $\\qquad$\n",
    "\n",
    "$\\hbar$        $\\qquad$ $\\imath$     $\\qquad$ $\\jmath$    $\\qquad$ $\\ell$       $\\qquad$\n",
    "\n",
    "$\\Re$          $\\qquad$ $\\Im$        $\\qquad$ $\\aleph$    $\\qquad$ $\\wp$        $\\qquad$\n",
    "\n",
    "$\\forall$      $\\qquad$ $\\exists$    $\\qquad$ $\\mho$      $\\qquad$ $\\partial$   $\\qquad$\n",
    "\n",
    "$′$            $\\qquad$ $\\prime$     $\\qquad$ $\\emptyset$ $\\qquad$ $\\infty$     $\\qquad$\n",
    "\n",
    "$\\nabla$       $\\qquad$ $\\triangle$  $\\qquad$ $\\Box$      $\\qquad$ $\\Diamond$   $\\qquad$\n",
    "\n",
    "$\\bot$         $\\qquad$ $\\top$       $\\qquad$ $\\angle$    $\\qquad$ $\\surd$      $\\qquad$\n",
    "\n",
    "$\\diamondsuit$ $\\qquad$ $\\heartsuit$ $\\qquad$ $\\clubsuit$ $\\qquad$ $\\spadesuit$ $\\qquad$\n",
    "\n",
    "$\\neg$         $\\qquad$ $\\lnot$      $\\qquad$ $\\flat$     $\\qquad$ $\\natural$   $\\qquad$\n",
    "\n",
    "$\\sharp$       $\\qquad$\n"
   ]
  },
  {
   "cell_type": "markdown",
   "metadata": {},
   "source": [
    "## 非数学符号"
   ]
  },
  {
   "cell_type": "markdown",
   "metadata": {},
   "source": [
    "## AMS定界符"
   ]
  },
  {
   "cell_type": "markdown",
   "metadata": {},
   "source": [
    "$\\ulcorner$ $\\qquad$ $\\urcorner$ $\\qquad$ $\\llcorner$ $\\qquad$ $\\lrcorner$ $\\qquad$\n",
    "\n",
    "$\\lvert$    $\\qquad$ $\\rvert$    $\\qquad$ $\\lVert$    $\\qquad$ $\\rVert$    $\\qquad$"
   ]
  },
  {
   "cell_type": "markdown",
   "metadata": {},
   "source": [
    "## AMS希腊和希伯来字母"
   ]
  },
  {
   "cell_type": "markdown",
   "metadata": {},
   "source": [
    "$\\digamma$  $\\qquad$ $\\varkappa$  $\\qquad$ $\\beth$  $\\qquad$ $\\daleth$  $\\qquad$ $\\gimel$  $\\qquad$"
   ]
  },
  {
   "cell_type": "markdown",
   "metadata": {},
   "source": [
    "## AMS二元关系符"
   ]
  },
  {
   "cell_type": "markdown",
   "metadata": {},
   "source": [
    "$\\lessdot$       $\\qquad$ $\\gtrdot$        $\\qquad$ $\\doteqdot$      $\\qquad$ $\\Doteq$           $\\qquad$\n",
    "\n",
    "$\\leqslant$      $\\qquad$ $\\geqslant$      $\\qquad$ $\\risingdotseq$  $\\qquad$ $\\eqslantless$     $\\qquad$\n",
    "\n",
    "$\\eqslantgtr$    $\\qquad$ $\\fallingdotseq$ $\\qquad$ $\\leqq$          $\\qquad$ $\\geqq$            $\\qquad$\n",
    "\n",
    "$\\eqcirc$        $\\qquad$ $\\lll$ $\\qquad$  $\\llless$ $\\qquad$        $\\ggg$                      $\\qquad$\n",
    "\n",
    "$\\gggtr$         $\\qquad$ $\\circeq$        $\\qquad$ $\\lesssim$       $\\qquad$ $\\gtrsim$          $\\qquad$\n",
    "\n",
    "$\\triangleq$     $\\qquad$ $\\lessapprox$    $\\qquad$ $\\gtrapprox$     $\\qquad$ $\\bumpeq$          $\\qquad$\n",
    "\n",
    "$\\lessgtr$       $\\qquad$ $\\gtrless$       $\\qquad$ $\\Bumpeq$        $\\qquad$ $\\lesseqgtr$       $\\qquad$\n",
    "\n",
    "$\\gtreqless$     $\\qquad$ $\\thicksim$      $\\qquad$ $\\lesseqqgtr$    $\\qquad$ $\\gtreqqless$      $\\qquad$\n",
    "\n",
    "$\\thickapprox$   $\\qquad$ $\\preccurlyeq$   $\\qquad$ $\\succcurlyeq$   $\\qquad$ $\\approxeq$        $\\qquad$\n",
    "\n",
    "$\\curlyeqprec$   $\\qquad$ $\\curlyeqsucc$   $\\qquad$ $\\backsim$       $\\qquad$ $\\precsim$         $\\qquad$\n",
    "\n",
    "$\\succsim$       $\\qquad$ $\\backsimeq$     $\\qquad$ $\\precapprox$    $\\qquad$ $\\succapprox$      $\\qquad$\n",
    "\n",
    "$\\vDash$         $\\qquad$ $\\subseteqq$     $\\qquad$ $\\supseteqq$     $\\qquad$ $\\Vdash$           $\\qquad$\n",
    "\n",
    "$\\Subset$        $\\qquad$ $\\Supset$        $\\qquad$ $\\Vvdash$        $\\qquad$ $\\sqsubset$        $\\qquad$\n",
    "\n",
    "$\\sqsupset$      $\\qquad$ $\\backepsilon$   $\\qquad$ $\\therefore$     $\\qquad$ $\\because$         $\\qquad$\n",
    "\n",
    "$\\varpropto$     $\\qquad$ $\\shortmid$      $\\qquad$ $\\shortparallel$ $\\qquad$ $\\between$         $\\qquad$\n",
    "\n",
    "$\\smallsmile$    $\\qquad$ $\\smallfrown$    $\\qquad$ $\\pitchfork$     $\\qquad$ $\\vartriangleleft$ $\\qquad$\n",
    "\n",
    "$\\vartriangleright$   $\\qquad$ $\\blacktriangleleft$ $\\qquad$ $\\trianglelefteq$ $\\qquad$ $\\trianglerighteq$ $\\qquad$\n",
    "\n",
    "$\\blacktriangleright$ $\\qquad$"
   ]
  },
  {
   "cell_type": "markdown",
   "metadata": {},
   "source": [
    "## AMS箭头"
   ]
  },
  {
   "cell_type": "markdown",
   "metadata": {},
   "source": [
    "$\\dashleftarrow$     $\\qquad$ $\\dashrightarrow$    $\\qquad$ $\\multimap$            $\\qquad$\n",
    "\n",
    "$\\leftleftarrows$    $\\qquad$ $\\rightrightarrows$  $\\qquad$ $\\upuparrows$          $\\qquad$\n",
    "\n",
    "$\\leftrightarrows$   $\\qquad$ $\\rightleftarrows$   $\\qquad$ $\\downdownarrows$      $\\qquad$\n",
    "\n",
    "$\\Lleftarrow$        $\\qquad$ $\\Rrightarrow$       $\\qquad$ $\\upharpoonleft$       $\\qquad$\n",
    "\n",
    "$\\twoheadleftarrow$  $\\qquad$ $\\twoheadrightarrow$ $\\qquad$ $\\upharpoonright$      $\\qquad$\n",
    "\n",
    "$\\leftarrowtail$     $\\qquad$ $\\rightarrowtail$    $\\qquad$ $\\downharpoonleft$     $\\qquad$\n",
    " \n",
    "$\\leftrightharpoons$ $\\qquad$ $\\rightleftharpoons$ $\\qquad$ $\\downharpoonright$    $\\qquad$\n",
    "\n",
    "$\\Lsh$               $\\qquad$ $\\Rsh$               $\\qquad$ $\\rightsquigarrow$     $\\qquad$\n",
    "\n",
    "$\\looparrowleft$     $\\qquad$ $\\looparrowright$    $\\qquad$ $\\leftrightsquigarrow$ $\\qquad$\n",
    "\n",
    "$\\curvearrowleft$    $\\qquad$ $\\curvearrowright$   $\\qquad$ $\\circlearrowleft$     $\\qquad$\n",
    "\n",
    "$\\circlearrowright$  $\\qquad$"
   ]
  },
  {
   "cell_type": "markdown",
   "metadata": {},
   "source": [
    "## AMS二元否定关系符和箭头"
   ]
  },
  {
   "cell_type": "markdown",
   "metadata": {},
   "source": [
    "$\\nless$        $\\qquad$ $\\ngtr$         $\\qquad$ $\\varsubsetneqq$    $\\qquad$\n",
    "\n",
    "$\\lneq$         $\\qquad$ $\\gneq$         $\\qquad$ $\\varsupsetneqq$    $\\qquad$\n",
    "\n",
    "$\\nleq$         $\\qquad$ $\\ngeq$         $\\qquad$ $\\nsubseteqq$       $\\qquad$\n",
    "\n",
    "$\\nleqslant$    $\\qquad$ $\\ngeqslant$    $\\qquad$ $\\nsupseteqq$       $\\qquad$\n",
    "\n",
    "$\\lneqq$        $\\qquad$ $\\gneqq$        $\\qquad$ $\\nmid$             $\\qquad$\n",
    "\n",
    "$\\lvertneqq$    $\\qquad$ $\\gvertneqq$    $\\qquad$ $\\nparallel$        $\\qquad$\n",
    "\n",
    "$\\nleqq$        $\\qquad$ $\\ngeqq$        $\\qquad$ $\\nshortmid$        $\\qquad$\n",
    "\n",
    "$\\lnsim$        $\\qquad$ $\\gnsim$        $\\qquad$ $\\nshortparallel$   $\\qquad$\n",
    "\n",
    "$\\lnapprox$     $\\qquad$ $\\gnapprox$     $\\qquad$ $\\nsim$             $\\qquad$\n",
    "\n",
    "$\\nprec$        $\\qquad$ $\\nsucc$        $\\qquad$ $\\ncong$            $\\qquad$\n",
    "\n",
    "$\\npreceq$      $\\qquad$ $\\nsucceq$      $\\qquad$ $\\nvdash$           $\\qquad$\n",
    "\n",
    "$\\precneqq$     $\\qquad$ $\\succneqq$     $\\qquad$ $\\nvDash$           $\\qquad$\n",
    "\n",
    "$\\precnsim$     $\\qquad$ $\\succnsim$     $\\qquad$ $\\nVdash$           $\\qquad$\n",
    "\n",
    "$\\precnapprox$  $\\qquad$ $\\succnapprox$  $\\qquad$ $\\nVDash$           $\\qquad$\n",
    "\n",
    "$\\subsetneq$    $\\qquad$ $\\supsetneq$    $\\qquad$ $\\ntriangleleft$    $\\qquad$\n",
    "\n",
    "$\\varsubsetneq$ $\\qquad$ $\\varsupsetneq$ $\\qquad$ $\\ntriangleright$   $\\qquad$\n",
    "\n",
    "$\\nsubseteq$    $\\qquad$ $\\nsupseteq$    $\\qquad$ $\\ntrianglelefteq$  $\\qquad$\n",
    "\n",
    "$\\subsetneqq$   $\\qquad$ $\\supsetneqq$   $\\qquad$ $\\ntrianglerighteq$ $\\qquad$\n",
    "\n",
    "$\\nleftarrow$   $\\qquad$ $\\nrightarrow$  $\\qquad$ $\\nleftrightarrow$  $\\qquad$\n",
    "\n",
    "$\\nLeftarrow$   $\\qquad$ $\\nRightarrow$  $\\qquad$ $\\nLeftrightarrow$  $\\qquad$"
   ]
  },
  {
   "cell_type": "markdown",
   "metadata": {},
   "source": [
    "## AMS二元运算符"
   ]
  },
  {
   "cell_type": "markdown",
   "metadata": {},
   "source": [
    "$\\dotplus$         $\\qquad$ $\\centerdot$      $\\qquad$ $\\intercal$       $\\qquad$\n",
    "\n",
    "$\\ltimes$          $\\qquad$ $\\rtimes$         $\\qquad$ $\\divideontimes$  $\\qquad$\n",
    "\n",
    "$\\Cup$             $\\qquad$ $\\doublecup$      $\\qquad$ $\\Cap$            $\\qquad$\n",
    "\n",
    "$\\doublecap$       $\\qquad$ $\\smallsetminus$  $\\qquad$ $\\veebar$         $\\qquad$\n",
    "\n",
    "$\\barwedge$        $\\qquad$ $\\doublebarwedge$ $\\qquad$ $\\boxplus$        $\\qquad$\n",
    "\n",
    "$\\boxminus$        $\\qquad$ $\\circleddash$    $\\qquad$ $\\boxtimes$       $\\qquad$\n",
    "\n",
    "$\\boxdot$          $\\qquad$ $\\circledcirc$    $\\qquad$ $\\leftthreetimes$ $\\qquad$\n",
    "\n",
    "$\\rightthreetimes$ $\\qquad$ $\\circledast$     $\\qquad$ $\\curlyvee$       $\\qquad$\n",
    "\n",
    "$\\curlywedge$      $\\qquad$"
   ]
  },
  {
   "cell_type": "markdown",
   "metadata": {},
   "source": [
    "## AMS其它符号"
   ]
  },
  {
   "cell_type": "markdown",
   "metadata": {},
   "source": [
    "$\\hbar$         $\\qquad$ $\\hslash$            $\\qquad$ $\\Bbbk$           $\\qquad$\n",
    "\n",
    "$\\square$       $\\qquad$ $\\blacksquare$       $\\qquad$ $\\circledS$       $\\qquad$\n",
    "\n",
    "$\\vartriangle$  $\\qquad$ $\\blacktriangle$     $\\qquad$ $\\complement$     $\\qquad$\n",
    "\n",
    "$\\triangledown$ $\\qquad$ $\\blacktriangledown$ $\\qquad$ $\\Game$           $\\qquad$\n",
    "\n",
    "$\\lozenge$      $\\qquad$ $\\blacklozenge$      $\\qquad$ $\\bigstar$        $\\qquad$\n",
    "\n",
    "$\\angle$        $\\qquad$ $\\measuredangle$     $\\qquad$ $\\sphericalangle$ $\\qquad$\n",
    "\n",
    "$\\diagup$       $\\qquad$ $\\diagdown$          $\\qquad$ $\\backprime$      $\\qquad$\n",
    "\n",
    "$\\nexists$      $\\qquad$ $\\Finv$              $\\qquad$ $\\varnothing$     $\\qquad$\n",
    "\n",
    "$\\eth$          $\\qquad$ $\\mho$               $\\qquad$"
   ]
  },
  {
   "cell_type": "markdown",
   "metadata": {},
   "source": [
    "## 数学字母"
   ]
  },
  {
   "cell_type": "markdown",
   "metadata": {},
   "source": [
    "$\\mathrm{ABCdef}$\n",
    "\n",
    "$\\mathit{ABCdef}$\n",
    "\n",
    "$\\mathcal{ABC}$\n",
    "\n",
    "$\\mathcal{ABC}$  \n",
    "\n",
    "$\\mathcal{ABC}$\n",
    "\n",
    "$\\mathscr{ABC}$\n",
    "\n",
    "$\\mathfrak{ABCdef}$\n",
    "\n",
    "$\\mathbb{ABC}$\n"
   ]
  }
 ],
 "metadata": {
  "kernelspec": {
   "display_name": "Python 3",
   "language": "python",
   "name": "python3"
  },
  "language_info": {
   "codemirror_mode": {
    "name": "ipython",
    "version": 3
   },
   "file_extension": ".py",
   "mimetype": "text/x-python",
   "name": "python",
   "nbconvert_exporter": "python",
   "pygments_lexer": "ipython3",
   "version": "3.5.2"
  }
 },
 "nbformat": 4,
 "nbformat_minor": 2
}
