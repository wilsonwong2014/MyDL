{
 "cells": [
  {
   "cell_type": "markdown",
   "metadata": {},
   "source": [
    "# numpy基本操作范例\n",
    "* 构造数组\n",
    "* 获取数组属性\n",
    "* 类型判断\n",
    "* 类型转换\n",
    "* 添加/删除/修改\n",
    "* 数组拷贝\n",
    "* arange\n",
    "* 索引与切片\n",
    "* reshape\n",
    "* 布尔索引\n",
    "* np.where条件查询\n",
    "* 数组文件输入输出\n",
    "* 数组合并\n",
    "* 随机数\n",
    "* 打乱顺序和随机抽取\n",
    "* 分布函数\n",
    "* 基本矩阵运算\n",
    "* 矩阵分解"
   ]
  },
  {
   "cell_type": "markdown",
   "metadata": {},
   "source": [
    "## 构造数组"
   ]
  },
  {
   "cell_type": "code",
   "execution_count": 78,
   "metadata": {},
   "outputs": [
    {
     "name": "stdout",
     "output_type": "stream",
     "text": [
      "[]\n",
      "[1. 2. 3.]\n",
      "--------------\n",
      "[[1. 2.]\n",
      " [3. 4.]]\n",
      "--------------\n",
      "[[0. 0. 0.]\n",
      " [0. 0. 0.]]\n",
      "--------------\n",
      "[[1. 1. 1.]\n",
      " [1. 1. 1.]]\n",
      "--------------\n",
      "[['你好a00' 'a01']\n",
      " ['a10' 'a11']]\n",
      "arr5.dtype: <U5\n",
      "[[b'a00' b'a01']\n",
      " [b'a10' b'111']]\n",
      "arr6.dtype: |S3\n"
     ]
    }
   ],
   "source": [
    "#构造数组\n",
    "import numpy as np\n",
    "\n",
    "#空数组\n",
    "arr0=np.zeros((0,3),dtype=np.float)\n",
    "print(arr0)\n",
    "print('--------------')\n",
    "#一维向量\n",
    "arr1=np.array([1,2,3],dtype=np.float)\n",
    "print(arr1)\n",
    "print('--------------')\n",
    "#二维数组\n",
    "arr2=np.array([[1,2],[3,4]],dtype=np.float)\n",
    "print(arr2)\n",
    "print('--------------')\n",
    "#zeros\n",
    "arr3=np.zeros((2,3),dtype=np.float)\n",
    "print(arr3)\n",
    "print('--------------')\n",
    "#ones\n",
    "arr4=np.ones((2,3),dtype=np.float)\n",
    "print(arr4)\n",
    "print('--------------')\n",
    "#字符串数组:unicode\n",
    "arr5=np.array([['你好a00','a01'],['a10','a11']])\n",
    "print(arr5)\n",
    "print('arr5.dtype:',arr5.dtype)\n",
    "#字符串数组:byte\n",
    "arr6=np.array([['a00','a01'],['a10','111']],dtype=np.string_)\n",
    "print(arr6)\n",
    "print('arr6.dtype:',arr6.dtype)"
   ]
  },
  {
   "cell_type": "markdown",
   "metadata": {},
   "source": [
    "## 获取数组属性"
   ]
  },
  {
   "cell_type": "code",
   "execution_count": 59,
   "metadata": {},
   "outputs": [
    {
     "name": "stdout",
     "output_type": "stream",
     "text": [
      "2\n",
      "(2, 2)\n",
      "4\n",
      "int64\n",
      "8\n"
     ]
    }
   ],
   "source": [
    "import numpy as np\n",
    "\n",
    "arr=np.array([1,2])\n",
    "print(a.ndim)      #数组的维数  \n",
    "print(a.shape)     #数组每一维的大小  \n",
    "print(a.size)      #数组的元素数  \n",
    "print(a.dtype)     #元素类型  >\";\n",
    "print(a.itemsize)  #每个元素所占的字节数  "
   ]
  },
  {
   "cell_type": "markdown",
   "metadata": {},
   "source": [
    "## 类型判断"
   ]
  },
  {
   "cell_type": "code",
   "execution_count": 3,
   "metadata": {},
   "outputs": [
    {
     "name": "stdout",
     "output_type": "stream",
     "text": [
      "<class 'int'>\n"
     ]
    },
    {
     "name": "stderr",
     "output_type": "stream",
     "text": [
      "/usr/local/lib/python3.5/dist-packages/ipykernel_launcher.py:5: FutureWarning: Conversion of the second argument of issubdtype from `int` to `np.signedinteger` is deprecated. In future, it will be treated as `np.int64 == np.dtype(int).type`.\n",
      "  \"\"\"\n"
     ]
    },
    {
     "data": {
      "text/plain": [
       "True"
      ]
     },
     "execution_count": 3,
     "metadata": {},
     "output_type": "execute_result"
    }
   ],
   "source": [
    "import numpy as np\n",
    "\n",
    "a1=1\n",
    "print(type(a1))\n",
    "np.issubdtype(type(a1),np.int)"
   ]
  },
  {
   "cell_type": "markdown",
   "metadata": {},
   "source": [
    "## 类型转换"
   ]
  },
  {
   "cell_type": "code",
   "execution_count": 21,
   "metadata": {},
   "outputs": [
    {
     "name": "stdout",
     "output_type": "stream",
     "text": [
      "arr1: [1 2]\n",
      "arr1.dtype: int64\n",
      "arr2: [1. 2.]\n",
      "arr2.dtype: float64\n"
     ]
    }
   ],
   "source": [
    "#类型转换\n",
    "import numpy as np\n",
    "\n",
    "arr1=np.array([1,2],dtype=np.int)\n",
    "arr2=arr1.astype(np.float)       #类型转换\n",
    "\n",
    "print('arr1:',arr1)\n",
    "print('arr1.dtype:',arr1.dtype)\n",
    "print('arr2:',arr2)\n",
    "print('arr2.dtype:',arr2.dtype)"
   ]
  },
  {
   "cell_type": "markdown",
   "metadata": {},
   "source": [
    "## 添加/删除/修改\n",
    "    3.2.9 Adding and removing elements\n",
    "    delete(arr, obj[, axis])\n",
    "    insert(arr, obj, values[, axis])\n",
    "    append(arr, values[, axis])\n",
    "    resize(a, new_shape)\n",
    "    trim_zeros(filt[, trim])\n",
    "    unique(ar[, return_index, return_inverse])"
   ]
  },
  {
   "cell_type": "code",
   "execution_count": 30,
   "metadata": {},
   "outputs": [
    {
     "name": "stdout",
     "output_type": "stream",
     "text": [
      "[[0 0 0]\n",
      " [1 2 3]\n",
      " [4 5 6]\n",
      " [7 8 9]]\n",
      "[[10  2  3]\n",
      " [ 4  5  6]\n",
      " [ 7  8  9]]\n",
      "[[0 0 0]\n",
      " [1 2 3]\n",
      " [4 5 6]\n",
      " [7 8 9]]\n",
      "[[0 0 0]\n",
      " [1 2 3]\n",
      " [4 5 6]\n",
      " [7 8 9]]\n",
      "[[10  2  3]\n",
      " [ 4  5  6]\n",
      " [ 7  8  9]]\n"
     ]
    }
   ],
   "source": [
    "#添加/删除/修改\n",
    "import numpy as np\n",
    "\n",
    "#构造数组\n",
    "arr=np.array([[1,2,3],[4,5,6],[7,8,9]])\n",
    "obj=0\n",
    "axis=0\n",
    "#添加一行/列\n",
    "arr1=np.insert(arr,obj=obj,values=[0,0,0],axis=axis) #在第obj行插入，原数组内容不变,axis=0=>插入行,axis=1=>插入列\n",
    "print(arr1)\n",
    "#删除一行/列\n",
    "arr2=np.insert(arr,obj=obj,values=[0,0,0],axis=axis) #删除第obj行，原数组内容不变,axis=0=>删除行,axis=1=>删除列\n",
    "#修改元素\n",
    "arr[0,0]=10\n",
    "\n",
    "print(arr)\n",
    "print(arr1)\n",
    "print(arr2)\n",
    "print(arr)"
   ]
  },
  {
   "cell_type": "markdown",
   "metadata": {},
   "source": [
    "## 数组拷贝"
   ]
  },
  {
   "cell_type": "code",
   "execution_count": 63,
   "metadata": {},
   "outputs": [
    {
     "name": "stdout",
     "output_type": "stream",
     "text": [
      "True\n",
      "False\n"
     ]
    }
   ],
   "source": [
    "import numpy as np\n",
    "\n",
    "#数组对象自带了浅拷贝和深拷贝的方法，但是一般用深拷贝多一些：\n",
    "a = np.ones((2,2))  \n",
    "b = a         #浅拷贝  \n",
    "print(b is a) \n",
    "#True  \n",
    "c = a.copy()  #深拷贝  \n",
    "print(c is a) \n",
    "#False"
   ]
  },
  {
   "cell_type": "markdown",
   "metadata": {},
   "source": [
    "## arange"
   ]
  },
  {
   "cell_type": "code",
   "execution_count": 32,
   "metadata": {},
   "outputs": [
    {
     "name": "stdout",
     "output_type": "stream",
     "text": [
      "[0 1 2 3 4 5 6 7 8 9]\n"
     ]
    }
   ],
   "source": [
    "import numpy as np\n",
    "\n",
    "arr=np.arange(10)\n",
    "print(arr)"
   ]
  },
  {
   "cell_type": "markdown",
   "metadata": {},
   "source": [
    "## 索引与切片"
   ]
  },
  {
   "cell_type": "code",
   "execution_count": 44,
   "metadata": {},
   "outputs": [
    {
     "name": "stdout",
     "output_type": "stream",
     "text": [
      "--------arr----------\n",
      "[[ 1  2  3  4]\n",
      " [ 5  6  7  8]\n",
      " [ 9 10 11 12]\n",
      " [13 14 15 16]]\n",
      "--------arr1----------\n",
      "1\n",
      "--------arr2----------\n",
      "[[ 1  2  3  4]\n",
      " [ 5  6  7  8]\n",
      " [ 9 10 11 12]\n",
      " [13 14 15 16]]\n",
      "--------arr3----------\n",
      "[[1 2 3 4]\n",
      " [5 6 7 8]]\n",
      "--------arr4----------\n",
      "[[ 1  2]\n",
      " [ 5  6]\n",
      " [ 9 10]\n",
      " [13 14]]\n",
      "--------arr5----------\n",
      "[ 4  8 12 16]\n",
      "--------arr6----------\n",
      "[[ 1  2  3  4]\n",
      " [ 9 10 11 12]]\n",
      "--------arr7----------\n",
      "[ 1  6 11]\n"
     ]
    }
   ],
   "source": [
    "import numpy as np\n",
    "\n",
    "arr=np.array([[1,2,3,4],[5,6,7,8],[9,10,11,12],[13,14,15,16]])\n",
    "arr1=arr[0,0]\n",
    "arr2=arr[:]\n",
    "arr3=arr[0:2,:]\n",
    "arr4=arr[:,0:2]\n",
    "arr5=arr[:,-1]\n",
    "arr6=arr[0:3:2,:]         #start:end:strides => 0->3,strides=2\n",
    "arr7=arr[[0,1,2],[0,1,2]]\n",
    "print('--------arr----------')\n",
    "print(arr)\n",
    "print('--------arr1----------')\n",
    "print(arr1)\n",
    "print('--------arr2----------')\n",
    "print(arr2)\n",
    "print('--------arr3----------')\n",
    "print(arr3)\n",
    "print('--------arr4----------')\n",
    "print(arr4)\n",
    "print('--------arr5----------')\n",
    "print(arr5)\n",
    "print('--------arr6----------')\n",
    "print(arr6)\n",
    "print('--------arr7----------')\n",
    "print(arr7)"
   ]
  },
  {
   "cell_type": "markdown",
   "metadata": {},
   "source": [
    "## reshape"
   ]
  },
  {
   "cell_type": "code",
   "execution_count": 45,
   "metadata": {},
   "outputs": [
    {
     "name": "stdout",
     "output_type": "stream",
     "text": [
      "[[1 2 3]\n",
      " [4 5 6]]\n",
      "[[1 2]\n",
      " [3 4]\n",
      " [5 6]]\n"
     ]
    }
   ],
   "source": [
    "import numpy as np\n",
    "\n",
    "arr=np.array([[1,2,3],[4,5,6]])\n",
    "arr1=arr.reshape(3,2)\n",
    "print(arr)\n",
    "print(arr1)"
   ]
  },
  {
   "cell_type": "markdown",
   "metadata": {},
   "source": [
    "## 布尔索引"
   ]
  },
  {
   "cell_type": "code",
   "execution_count": 55,
   "metadata": {},
   "outputs": [
    {
     "name": "stdout",
     "output_type": "stream",
     "text": [
      "[[1 2 3]\n",
      " [4 5 6]\n",
      " [7 8 9]]\n",
      "[[False False False]\n",
      " [ True  True  True]\n",
      " [ True  True  True]]\n",
      "[4 5 6 7 8 9]\n"
     ]
    }
   ],
   "source": [
    "import numpy as np\n",
    "\n",
    "arr=np.array([[1,2,3],[4,5,6],[7,8,9]])\n",
    "arr1=arr>1          #返回布尔矩阵\n",
    "arr2=arr[arr1]      #结果为一维数组   \n",
    "print(arr)\n",
    "print(arr1)\n",
    "print(arr[arr1])"
   ]
  },
  {
   "cell_type": "markdown",
   "metadata": {},
   "source": [
    "## np.where条件查询"
   ]
  },
  {
   "cell_type": "code",
   "execution_count": 6,
   "metadata": {},
   "outputs": [
    {
     "name": "stdout",
     "output_type": "stream",
     "text": [
      "x:\n",
      "[[0.1528774 ]\n",
      " [0.39498801]\n",
      " [0.1751419 ]\n",
      " [0.08491202]\n",
      " [0.08148153]\n",
      " [0.18896528]\n",
      " [0.70298597]\n",
      " [0.2856241 ]\n",
      " [0.71245097]\n",
      " [0.79321483]]\n",
      "y(1):\n",
      "[[0]\n",
      " [0]\n",
      " [0]\n",
      " [0]\n",
      " [0]\n",
      " [0]\n",
      " [1]\n",
      " [0]\n",
      " [1]\n",
      " [1]]\n",
      "y_index:\n",
      "(array([1]), array([0]))\n",
      "[[0.39498801]]\n"
     ]
    }
   ],
   "source": [
    "import numpy as np\n",
    "#构造随机数据\n",
    "x=np.random.rand(10,1)\n",
    "print('x:')\n",
    "print(x)\n",
    "#大于0.5的设置为0,否则为1\n",
    "y=np.where(x<0.5,0,1)\n",
    "print('y(1):')\n",
    "print(y)\n",
    "#返回大于0.3小于0.7的索引:索引坐标，第一个数组为第一维，第二个数组为第二维，以此类推\n",
    "y_index=np.where((x>0.3)&(x<0.7))\n",
    "print('y_index:')\n",
    "print(y_index)\n",
    "print(x[y_index[0]])"
   ]
  },
  {
   "cell_type": "markdown",
   "metadata": {},
   "source": [
    "## 数组文件输入输出"
   ]
  },
  {
   "cell_type": "code",
   "execution_count": 58,
   "metadata": {},
   "outputs": [
    {
     "name": "stdout",
     "output_type": "stream",
     "text": [
      "[[1 2 3]\n",
      " [4 5 6]]\n",
      "[[1 2 3]\n",
      " [4 5 6]]\n",
      "[[1. 2. 3.]\n",
      " [4. 5. 6.]]\n"
     ]
    }
   ],
   "source": [
    "import os\n",
    "import numpy as np\n",
    "\n",
    "data_file1='%s/work/data/gtest/arr.npy'%os.getenv('HOME')\n",
    "data_file2='%s/work/data/gtest/arr.txt'%os.getenv('HOME')\n",
    "\n",
    "arr=np.array([[1,2,3],[4,5,6]])\n",
    "#保存到文件\n",
    "np.save(data_file1,arr)\n",
    "np.savetxt(data_file2,arr)\n",
    "#从文件加载\n",
    "arr1=np.load(data_file1)\n",
    "arr2=np.loadtxt(data_file2)\n",
    "\n",
    "print(arr)\n",
    "print(arr1)\n",
    "print(arr2)"
   ]
  },
  {
   "cell_type": "markdown",
   "metadata": {},
   "source": [
    "## 数组合并"
   ]
  },
  {
   "cell_type": "code",
   "execution_count": 62,
   "metadata": {},
   "outputs": [
    {
     "name": "stdout",
     "output_type": "stream",
     "text": [
      "[1 2 3]\n",
      "[4 5 6]\n",
      "[[1 2 3]\n",
      " [4 5 6]]\n",
      "[1 2 3 4 5 6]\n"
     ]
    }
   ],
   "source": [
    "import numpy as np\n",
    "\n",
    "arr1=np.array([1,2,3])\n",
    "arr2=np.array([4,5,6])\n",
    "\n",
    "arr3=np.vstack((arr1,arr2)) #垂直方向合并\n",
    "arr4=np.hstack((arr1,arr2)) #水平方向合并\n",
    "\n",
    "print(arr1)\n",
    "print(arr2)\n",
    "print(arr3)\n",
    "print(arr4)"
   ]
  },
  {
   "cell_type": "markdown",
   "metadata": {},
   "source": [
    "## 随机数"
   ]
  },
  {
   "cell_type": "code",
   "execution_count": 72,
   "metadata": {},
   "outputs": [
    {
     "name": "stdout",
     "output_type": "stream",
     "text": [
      "[[2 5 9]\n",
      " [5 6 8]]\n",
      "[[0.57 0.84 0.81]\n",
      " [0.21 0.77 0.19]]\n"
     ]
    }
   ],
   "source": [
    "import numpy as np\n",
    "\n",
    "arr1=np.random.randint(0,10,size=(2,3)) #随机整数\n",
    "arr2=np.random.rand(2,3)                #产生[0,1]均匀分布随机数\n",
    "arr3=np.random.randn(2,3)               #产生正态分布随机数\n",
    "\n",
    "print(arr1)\n",
    "print(arr2)\n",
    "print(arr3)"
   ]
  },
  {
   "cell_type": "markdown",
   "metadata": {},
   "source": [
    "## 打乱顺序和随机抽取"
   ]
  },
  {
   "cell_type": "code",
   "execution_count": 9,
   "metadata": {},
   "outputs": [
    {
     "name": "stdout",
     "output_type": "stream",
     "text": [
      "-------arr-------\n",
      "[0 1 2 3 4 5 6 7 8 9]\n",
      "-------arr1-------\n",
      "[3 7 4 8 1 2 5 9 6 0]\n",
      "-------arr2-------\n",
      "[9 7 0 6 5 2 1 4 3 8]\n",
      "-------arr3-------\n",
      "[3 4 8 1 6 9 7 2 0 5]\n",
      "-------arr4-------\n",
      "[[9 6]\n",
      " [6 4]]\n",
      "-------arr5-------\n",
      "[1 8 7]\n"
     ]
    }
   ],
   "source": [
    "import numpy as np\n",
    "\n",
    "arr=np.arange(10) \n",
    "arr1=np.random.permutation(10) #随机生成一个乱序数组:参数为n，返回[0,n)的乱序\n",
    "arr2=np.random.permutation(arr)#随机生成一个乱序数组:参数为narray，返回随机打乱的数组\n",
    "arr3=arr.copy()                #硬拷贝\n",
    "np.random.shuffle(arr3)        #直接将原数组打乱\n",
    "arr4=np.random.choice(arr,size=(2,2),replace=True)#从样本随机抽取,size为输出数组大小，replace是否可重复抽取\n",
    "arr5=np.random.choice(10,3,replace=True)#从0-10的数中随机抽取,3为输出数组大小，replace是否可重复抽取\n",
    "\n",
    "print('-------arr-------')\n",
    "print(arr)\n",
    "print('-------arr1-------')\n",
    "print(arr1)\n",
    "print('-------arr2-------')\n",
    "print(arr2)\n",
    "print('-------arr3-------')\n",
    "print(arr3)\n",
    "print('-------arr4-------')\n",
    "print(arr4)\n",
    "print('-------arr5-------')\n",
    "print(arr5)"
   ]
  },
  {
   "cell_type": "markdown",
   "metadata": {},
   "source": [
    "## 分布函数"
   ]
  },
  {
   "cell_type": "code",
   "execution_count": 3,
   "metadata": {},
   "outputs": [
    {
     "name": "stdout",
     "output_type": "stream",
     "text": [
      "[[104.79400617 100.28574284  93.17195599 104.36777244]\n",
      " [ 93.51572539  99.307251   100.91353044 119.51079443]\n",
      " [ 89.71499082 102.22749685  99.06256394 103.53725919]]\n",
      "[[1.39708815 4.77200709 1.23430095 6.33495786]\n",
      " [4.72090179 5.71883352 0.67857823 5.46761093]\n",
      " [9.44187031 0.88100464 0.18090888 1.97106212]]\n",
      "[[1 2 1 3]\n",
      " [3 2 2 5]\n",
      " [3 4 2 0]]\n"
     ]
    }
   ],
   "source": [
    "import numpy as np\n",
    "\n",
    "r1 = np.random.normal(100,10,size = (3,4)) #正太分布 #第一个参数是均值，第二个参数是标准差\n",
    "r2 = np.random.uniform(0,10,size = (3,4))  #均匀分布 #前两个参数分别是区间的初始值和终值\n",
    "r3 = np.random.poisson(2.0,size = (3,4))   #泊松分布 #第一个参数为指定的lanbda系数\n",
    "\n",
    "print(r1)\n",
    "print(r2)\n",
    "print(r3)"
   ]
  },
  {
   "cell_type": "markdown",
   "metadata": {},
   "source": [
    "## 基本的矩阵运算"
   ]
  },
  {
   "cell_type": "code",
   "execution_count": 64,
   "metadata": {},
   "outputs": [
    {
     "name": "stdout",
     "output_type": "stream",
     "text": [
      "(array([3., 1.]), array([[ 0.  ,  0.71],\n",
      "       [ 1.  , -0.71]]))\n"
     ]
    }
   ],
   "source": [
    "import numpy as np\n",
    "\n",
    "arr=np.array([[1,2,3],[4,5,6]])\n",
    "arr1=arr.transpose()  #转置\n",
    "\n",
    "#numpy.linalg模块中有很多关于矩阵运算的方法：\n",
    "#特征值、特征向量：\n",
    "a = np.array([[1,0],[2,3]])  \n",
    "print(nplg.eig(a)) \n",
    "#(array([ 3.,  1.]), array([[ 0.        ,  0.70710678],  \n",
    "#       [ 1.        , -0.70710678]]))\n"
   ]
  },
  {
   "cell_type": "markdown",
   "metadata": {},
   "source": [
    "## 矩阵分解"
   ]
  },
  {
   "cell_type": "code",
   "execution_count": null,
   "metadata": {},
   "outputs": [],
   "source": [
    "import numpy as np\n"
   ]
  },
  {
   "cell_type": "code",
   "execution_count": null,
   "metadata": {},
   "outputs": [],
   "source": []
  }
 ],
 "metadata": {
  "kernelspec": {
   "display_name": "Python 3",
   "language": "python",
   "name": "python3"
  },
  "language_info": {
   "codemirror_mode": {
    "name": "ipython",
    "version": 3
   },
   "file_extension": ".py",
   "mimetype": "text/x-python",
   "name": "python",
   "nbconvert_exporter": "python",
   "pygments_lexer": "ipython3",
   "version": "3.5.2"
  }
 },
 "nbformat": 4,
 "nbformat_minor": 2
}
