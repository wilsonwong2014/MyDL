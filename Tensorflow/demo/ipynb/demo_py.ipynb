{
 "cells": [
  {
   "cell_type": "markdown",
   "metadata": {},
   "source": [
    "# python3 常用范例\n",
    "* 检索文件列表\n",
    "* 计算程序运行时间\n",
    "* sleep()"
   ]
  },
  {
   "cell_type": "markdown",
   "metadata": {},
   "source": [
    "## 检索文件列表"
   ]
  },
  {
   "cell_type": "code",
   "execution_count": 1,
   "metadata": {},
   "outputs": [
    {
     "name": "stdout",
     "output_type": "stream",
     "text": [
      "/home/hjw/work/data/gtest/jpg10/9.jpg\n",
      "/home/hjw/work/data/gtest/jpg10/2.jpg\n",
      "/home/hjw/work/data/gtest/jpg10/1.jpg\n",
      "/home/hjw/work/data/gtest/jpg10/0.jpg\n",
      "/home/hjw/work/data/gtest/jpg10/5.jpg\n",
      "/home/hjw/work/data/gtest/jpg10/4.jpg\n",
      "/home/hjw/work/data/gtest/jpg10/8.jpg\n",
      "/home/hjw/work/data/gtest/jpg10/7.jpg\n",
      "/home/hjw/work/data/gtest/jpg10/3.jpg\n",
      "/home/hjw/work/data/gtest/jpg10/6.jpg\n"
     ]
    }
   ],
   "source": [
    "#获取文件列表\n",
    "import os\n",
    "path='%s/work/data/gtest/jpg10'%os.getenv('HOME')\n",
    "\n",
    "items=os.listdir(path)\n",
    "for sfile in items:\n",
    "    temp_path=os.path.join(path,sfile)\n",
    "    if not os.path.isdir(temp_path):\n",
    "        print(temp_path)"
   ]
  },
  {
   "cell_type": "markdown",
   "metadata": {},
   "source": [
    "## 计算程序运行时间\n",
    "* 方法1和方法2都包含了其他程序使用CPU的时间，是程序开始到程序结束的运行时间。\n",
    "* 方法3算只计算了程序运行的CPU时间"
   ]
  },
  {
   "cell_type": "code",
   "execution_count": 3,
   "metadata": {},
   "outputs": [
    {
     "name": "stdout",
     "output_type": "stream",
     "text": [
      "0\n",
      "3.9577484130859375e-05\n",
      "4.199999999998649e-05\n"
     ]
    }
   ],
   "source": [
    "#方法1\n",
    "import datetime\n",
    "import time\n",
    "starttime = datetime.datetime.now()\n",
    "#long running\n",
    "endtime = datetime.datetime.now()\n",
    "print((endtime - starttime).seconds)\n",
    "\n",
    "#方法 2\n",
    "start = time.time()\n",
    "#run_fun()\n",
    "end = time.time()\n",
    "print(end-start)\n",
    "\n",
    "#方法3\n",
    "start = time.clock()\n",
    "#run_fun()\n",
    "end = time.clock()\n",
    "print(end-start)\n"
   ]
  },
  {
   "cell_type": "markdown",
   "metadata": {},
   "source": [
    "## sleep"
   ]
  },
  {
   "cell_type": "code",
   "execution_count": 4,
   "metadata": {},
   "outputs": [
    {
     "name": "stdout",
     "output_type": "stream",
     "text": [
      "0\n",
      "1\n"
     ]
    }
   ],
   "source": [
    "import time\n",
    "for i in range(2):\n",
    "    print(i)\n",
    "    time.sleep(1) #秒"
   ]
  },
  {
   "cell_type": "code",
   "execution_count": null,
   "metadata": {},
   "outputs": [],
   "source": []
  }
 ],
 "metadata": {
  "kernelspec": {
   "display_name": "Python 3",
   "language": "python",
   "name": "python3"
  },
  "language_info": {
   "codemirror_mode": {
    "name": "ipython",
    "version": 3
   },
   "file_extension": ".py",
   "mimetype": "text/x-python",
   "name": "python",
   "nbconvert_exporter": "python",
   "pygments_lexer": "ipython3",
   "version": "3.5.2"
  }
 },
 "nbformat": 4,
 "nbformat_minor": 2
}
