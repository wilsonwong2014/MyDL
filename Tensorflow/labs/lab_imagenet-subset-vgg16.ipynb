{
 "cells": [
  {
   "cell_type": "markdown",
   "metadata": {},
   "source": [
    "# VGG16模型训练ImageNet子集\n",
    "   \n",
    "### 实验内容\n",
    "    通过VGG16模型及其预训练参数提取图像特征，进行图像分类。\n",
    "    \n",
    "### 实验目的\n",
    "    观察VGG16模型及预训练参数对图像分类的性能表现。\n",
    "    \n",
    "### 实验步骤\n",
    "    1.加载 tf.keras.applications.VGG16 及其预训练参数\n",
    "    2.追加3层Dense输出12分类的模型\n",
    "    3.训练模型\n",
    "    4.测试模型\n",
    "    \n",
    "### 实验数据\n",
    "    抽取ImageNet子集12子分类\n",
    "    \n",
    "### 实验结果\n",
    "\n",
    "### 参考资料\n"
   ]
  }
 ],
 "metadata": {
  "kernelspec": {
   "display_name": "Python 3",
   "language": "python",
   "name": "python3"
  },
  "language_info": {
   "codemirror_mode": {
    "name": "ipython",
    "version": 3
   },
   "file_extension": ".py",
   "mimetype": "text/x-python",
   "name": "python",
   "nbconvert_exporter": "python",
   "pygments_lexer": "ipython3",
   "version": "3.5.2"
  }
 },
 "nbformat": 4,
 "nbformat_minor": 2
}
