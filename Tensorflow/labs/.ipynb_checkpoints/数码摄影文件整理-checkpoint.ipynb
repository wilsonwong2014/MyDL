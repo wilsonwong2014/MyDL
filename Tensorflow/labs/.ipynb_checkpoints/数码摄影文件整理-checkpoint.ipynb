{
 "cells": [
  {
   "cell_type": "markdown",
   "metadata": {},
   "source": [
    "整理数码摄影文件：\n",
    "1.根据文件名按年月份归类，如文件\"IMG_20180105_00001.jpg\"归类到 ./demo/2018/01\n",
    "\n"
   ]
  },
  {
   "cell_type": "code",
   "execution_count": 1,
   "metadata": {},
   "outputs": [],
   "source": [
    "#-*- coding: utf-8 -*-\n",
    "import os\n",
    "import sys\n",
    "import shutil\n",
    "import re\n",
    "from mylibs import funs\n",
    "from mylibs.ProcessBar import ShowProcess\n",
    "\n",
    "#  源目录\n",
    "src_path='%s/d/数码摄影_src'%(os.getenv('HOME'))\n",
    "#src_path='%s/data/temp/数码摄影_src'%(os.getenv('HOME'))\n",
    "#归类目录\n",
    "dst_path='%s/d/数码摄影'%(os.getenv('HOME'))\n",
    "#dst_path='%s/data/temp/数码摄影'%(os.getenv('HOME'))\n"
   ]
  },
  {
   "cell_type": "markdown",
   "metadata": {},
   "source": [
    "创建搜索字典:\n",
    "  {匹配关键字:迁移路径}\n",
    "  如:\n",
    "      {'201805':'/home/hjw/temp/pics/2018/05'}\n",
    "  正则匹配表达式:\n",
    "      s=r'_201805[0-9]+_'\n",
    "      或\n",
    "      s=r'_%s[0-9]+_'%(key)"
   ]
  },
  {
   "cell_type": "code",
   "execution_count": 2,
   "metadata": {},
   "outputs": [],
   "source": [
    "dicts={'{:0>4d}{:0>2d}'.format(y,m):'{}/{:0>4d}/{:0>2d}'.format(dst_path,y,m) for y in range(2015,2019) for m in range(1,13)}\n",
    "#for k,v in dicts.items():\n",
    "#    print('{}:{}'.format(k,v))"
   ]
  },
  {
   "cell_type": "markdown",
   "metadata": {},
   "source": [
    "搜集文件列表"
   ]
  },
  {
   "cell_type": "code",
   "execution_count": 3,
   "metadata": {},
   "outputs": [],
   "source": [
    "#files_stat=funs.PathStat(src_path) #=>[目录个数，文件个数，大小{Byte}]\n",
    "#print(files_stat)\n",
    "files=[]\n",
    "funs.GatherFilesEx(src_path,files)\n",
    "files_num=len(files)\n",
    "print('files_num:%s'%(files_num))"
   ]
  },
  {
   "cell_type": "markdown",
   "metadata": {},
   "source": [
    "文件分类迁移"
   ]
  },
  {
   "cell_type": "code",
   "execution_count": 4,
   "metadata": {},
   "outputs": [
    {
     "name": "stdout",
     "output_type": "stream",
     "text": [
      "head[>>>>>>>>>>>>>>>>>>>>>>>>>>>>----------------------]tail\r"
     ]
    },
    {
     "name": "stderr",
     "output_type": "stream",
     "text": [
      "IOPub message rate exceeded.\n",
      "The notebook server will temporarily stop sending output\n",
      "to the client in order to avoid crashing it.\n",
      "To change this limit, set the config variable\n",
      "`--NotebookApp.iopub_msg_rate_limit`.\n",
      "\n",
      "Current values:\n",
      "NotebookApp.iopub_msg_rate_limit=1000.0 (msgs/sec)\n",
      "NotebookApp.rate_limit_window=3.0 (secs)\n",
      "\n"
     ]
    },
    {
     "name": "stdout",
     "output_type": "stream",
     "text": [
      "head[>>>>>>>>>>>>>>>>>>>>>>>>>>>>>>>>>-----------------]tail\r"
     ]
    },
    {
     "name": "stderr",
     "output_type": "stream",
     "text": [
      "IOPub message rate exceeded.\n",
      "The notebook server will temporarily stop sending output\n",
      "to the client in order to avoid crashing it.\n",
      "To change this limit, set the config variable\n",
      "`--NotebookApp.iopub_msg_rate_limit`.\n",
      "\n",
      "Current values:\n",
      "NotebookApp.iopub_msg_rate_limit=1000.0 (msgs/sec)\n",
      "NotebookApp.rate_limit_window=3.0 (secs)\n",
      "\n"
     ]
    },
    {
     "name": "stdout",
     "output_type": "stream",
     "text": [
      "head[>>>>>>>>>>>>>>>>>>>>>>>>>>>>>>>>>>>>>>>>----------]tail\r"
     ]
    },
    {
     "name": "stderr",
     "output_type": "stream",
     "text": [
      "IOPub message rate exceeded.\n",
      "The notebook server will temporarily stop sending output\n",
      "to the client in order to avoid crashing it.\n",
      "To change this limit, set the config variable\n",
      "`--NotebookApp.iopub_msg_rate_limit`.\n",
      "\n",
      "Current values:\n",
      "NotebookApp.iopub_msg_rate_limit=1000.0 (msgs/sec)\n",
      "NotebookApp.rate_limit_window=3.0 (secs)\n",
      "\n"
     ]
    },
    {
     "name": "stdout",
     "output_type": "stream",
     "text": [
      "head[>>>>>>>>>>>>>>>>>>>>>>>>>>>>>>>>>>>>>>>>>>>>>>----]tail\r"
     ]
    },
    {
     "name": "stderr",
     "output_type": "stream",
     "text": [
      "IOPub message rate exceeded.\n",
      "The notebook server will temporarily stop sending output\n",
      "to the client in order to avoid crashing it.\n",
      "To change this limit, set the config variable\n",
      "`--NotebookApp.iopub_msg_rate_limit`.\n",
      "\n",
      "Current values:\n",
      "NotebookApp.iopub_msg_rate_limit=1000.0 (msgs/sec)\n",
      "NotebookApp.rate_limit_window=3.0 (secs)\n",
      "\n"
     ]
    },
    {
     "name": "stdout",
     "output_type": "stream",
     "text": [
      "head[>>>>>>>>>>>>>>>>>>>>>>>>>>>>>>>>>>>>>>>>>>>>>>>>>>]tail\n",
      "OK\n"
     ]
    }
   ],
   "source": [
    "#自动创建分类目录\n",
    "for k,v in dicts.items():\n",
    "    if not os.path.exists(v):\n",
    "        os.makedirs(v)\n",
    "\n",
    "#文件迁移        \n",
    "max_steps = 100\n",
    "pb = ShowProcess(max_steps,'head','tail', 'OK') \n",
    "for i,sfile in enumerate(files):\n",
    "    file_name=os.path.basename(sfile)\n",
    "    for k,v in dicts.items():\n",
    "        #正则表达式判断\n",
    "        if re.search(r'_%s[0-9]+_'%(k),file_name) and os.path.exists(sfile):\n",
    "            shutil.move( sfile, '{}/{}'.format(v,file_name))  #移动文件或重命名\n",
    "            if i%1000==0:\n",
    "                pb.show_process(int(i*100/files_num))\n",
    "            break\n",
    "pb.show_process(100) \n"
   ]
  },
  {
   "cell_type": "code",
   "execution_count": null,
   "metadata": {},
   "outputs": [],
   "source": []
  },
  {
   "cell_type": "code",
   "execution_count": null,
   "metadata": {},
   "outputs": [],
   "source": []
  }
 ],
 "metadata": {
  "kernelspec": {
   "display_name": "Python 3",
   "language": "python",
   "name": "python3"
  },
  "language_info": {
   "codemirror_mode": {
    "name": "ipython",
    "version": 3
   },
   "file_extension": ".py",
   "mimetype": "text/x-python",
   "name": "python",
   "nbconvert_exporter": "python",
   "pygments_lexer": "ipython3",
   "version": "3.5.2"
  }
 },
 "nbformat": 4,
 "nbformat_minor": 2
}
