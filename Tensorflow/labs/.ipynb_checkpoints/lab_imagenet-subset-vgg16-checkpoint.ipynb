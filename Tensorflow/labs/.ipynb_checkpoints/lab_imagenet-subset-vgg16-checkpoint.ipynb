{
 "cells": [
  {
   "cell_type": "markdown",
   "metadata": {},
   "source": [
    "# VGG16模型训练ImageNet子集\n",
    "   \n",
    "### 实验内容\n",
    "    通过VGG16模型及其预训练参数提取图像特征，进行图像分类。\n",
    "    \n",
    "### 实验目的\n",
    "    观察VGG16模型及预训练参数对图像分类的性能表现。\n",
    "    \n",
    "### 实验步骤\n",
    "    1.加载 tf.keras.applications.VGG16 及其预训练参数\n",
    "    2.追加3层Dense输出12分类的模型\n",
    "    3.训练模型\n",
    "    4.测试模型\n",
    "    \n",
    "### 实验数据\n",
    "    抽取ImageNet子集10子分类作为实验数据\n",
    "    \n",
    "    \n",
    "### 实验结果\n",
    "\n",
    "### 参考资料\n"
   ]
  },
  {
   "cell_type": "code",
   "execution_count": 5,
   "metadata": {},
   "outputs": [],
   "source": [
    "import os\n",
    "import numpy as np\n",
    "import cv2\n",
    "import tensorflow as tf\n",
    "import keras\n",
    "import matplotlib.pyplot as plt\n",
    "\n",
    "data_path='%s/work/data/imagenet/subset'%os.getenv('HOME')          #数据目录\n",
    "out_path='%s/work/data/labs_out/lab_imagenet-subset-vgg16'%os.getenv('HOME') #输出目录\n",
    "log_path  ='%s/log_dir'%out_path    #输出日志目录\n",
    "preds_path='%s/predicts'%out_path   #预测结果\n",
    "cp_file='%s/cp_file.h5'%out_path    #训练断点\n",
    "model_file='%s/model.h5'%out_path   #模型文件\n",
    "\n",
    "input_shape=(224,224,3)\n",
    "target_size=(224,224)\n",
    "epochs=3\n",
    "num_class=10\n",
    "batch_size=32\n"
   ]
  },
  {
   "cell_type": "markdown",
   "metadata": {},
   "source": [
    "## 构造数据生成器"
   ]
  },
  {
   "cell_type": "code",
   "execution_count": 6,
   "metadata": {},
   "outputs": [
    {
     "name": "stdout",
     "output_type": "stream",
     "text": [
      "Found 13000 images belonging to 10 classes.\n",
      "Found 500 images belonging to 10 classes.\n",
      "Found 969 images belonging to 10 classes.\n"
     ]
    }
   ],
   "source": [
    "from keras.preprocessing.image import ImageDataGenerator\n",
    "import keras.backend as K\n",
    "\n",
    "#构造图像数据生成器:train\n",
    "gen_train = ImageDataGenerator(\n",
    "        featurewise_center           =True,\n",
    "        samplewise_center            =False,\n",
    "        featurewise_std_normalization=True,\n",
    "        samplewise_std_normalization =False,\n",
    "        zca_whitening                =False,\n",
    "        zca_epsilon                  =1e-6,\n",
    "        rotation_range               =0.1,\n",
    "        width_shift_range            =0.1,\n",
    "        height_shift_range           =0.1,\n",
    "        shear_range                  =0.1,\n",
    "        zoom_range                   =0.1,\n",
    "        channel_shift_range          =0.,\n",
    "        fill_mode                    ='nearest',\n",
    "        cval                         =0.,\n",
    "        horizontal_flip              =True,\n",
    "        vertical_flip                =True,\n",
    "        rescale                      =1./255,\n",
    "        preprocessing_function       =None,\n",
    "        data_format                  =K.image_data_format()\n",
    "       )\n",
    "data_train=gen_train.flow_from_directory(directory='%s/train'%(data_path)\n",
    "                                         ,batch_size=batch_size\n",
    "                                         ,target_size=target_size)\n",
    "#构造图像数据生成器:valid\n",
    "gen_valid = ImageDataGenerator(\n",
    "        featurewise_center           =False,\n",
    "        samplewise_center            =False,\n",
    "        featurewise_std_normalization=False,\n",
    "        samplewise_std_normalization =False,\n",
    "        zca_whitening                =False,\n",
    "        zca_epsilon                  =1e-6,\n",
    "        rotation_range               =0.,\n",
    "        width_shift_range            =0.,\n",
    "        height_shift_range           =0.,\n",
    "        shear_range                  =0.,\n",
    "        zoom_range                   =0.,\n",
    "        channel_shift_range          =0.,\n",
    "        fill_mode                    ='nearest',\n",
    "        cval                         =0.,\n",
    "        horizontal_flip              =False,\n",
    "        vertical_flip                =False,\n",
    "        rescale                      =1./255,\n",
    "        preprocessing_function       =None,\n",
    "        data_format                  =K.image_data_format()\n",
    "       )\n",
    "data_valid=gen_valid.flow_from_directory(directory='%s/valid'%(data_path)\n",
    "                                         ,batch_size=batch_size\n",
    "                                         ,target_size=target_size)\n",
    "\n",
    "#构造图像数据生成器:test\n",
    "gen_test = ImageDataGenerator(\n",
    "        featurewise_center           =False,\n",
    "        samplewise_center            =False,\n",
    "        featurewise_std_normalization=False,\n",
    "        samplewise_std_normalization =False,\n",
    "        zca_whitening                =False,\n",
    "        zca_epsilon                  =1e-6,\n",
    "        rotation_range               =0.,\n",
    "        width_shift_range            =0.,\n",
    "        height_shift_range           =0.,\n",
    "        shear_range                  =0.,\n",
    "        zoom_range                   =0.,\n",
    "        channel_shift_range          =0.,\n",
    "        fill_mode                    ='nearest',\n",
    "        cval                         =0.,\n",
    "        horizontal_flip              =False,\n",
    "        vertical_flip                =False,\n",
    "        rescale                      =1./255,\n",
    "        preprocessing_function       =None,\n",
    "        data_format                  =K.image_data_format()\n",
    "       )\n",
    "data_test=gen_test.flow_from_directory(directory='%s/test'%(data_path)\n",
    "                                       ,batch_size=batch_size\n",
    "                                       ,shuffle=False                                       \n",
    "                                       ,target_size=target_size)"
   ]
  },
  {
   "cell_type": "markdown",
   "metadata": {},
   "source": [
    "## 模型构建"
   ]
  },
  {
   "cell_type": "code",
   "execution_count": 7,
   "metadata": {},
   "outputs": [
    {
     "name": "stdout",
     "output_type": "stream",
     "text": [
      "_________________________________________________________________\n",
      "Layer (type)                 Output Shape              Param #   \n",
      "=================================================================\n",
      "input_2 (InputLayer)         (None, 224, 224, 3)       0         \n",
      "_________________________________________________________________\n",
      "block1_conv1 (Conv2D)        (None, 224, 224, 64)      1792      \n",
      "_________________________________________________________________\n",
      "block1_conv2 (Conv2D)        (None, 224, 224, 64)      36928     \n",
      "_________________________________________________________________\n",
      "block1_pool (MaxPooling2D)   (None, 112, 112, 64)      0         \n",
      "_________________________________________________________________\n",
      "block2_conv1 (Conv2D)        (None, 112, 112, 128)     73856     \n",
      "_________________________________________________________________\n",
      "block2_conv2 (Conv2D)        (None, 112, 112, 128)     147584    \n",
      "_________________________________________________________________\n",
      "block2_pool (MaxPooling2D)   (None, 56, 56, 128)       0         \n",
      "_________________________________________________________________\n",
      "block3_conv1 (Conv2D)        (None, 56, 56, 256)       295168    \n",
      "_________________________________________________________________\n",
      "block3_conv2 (Conv2D)        (None, 56, 56, 256)       590080    \n",
      "_________________________________________________________________\n",
      "block3_conv3 (Conv2D)        (None, 56, 56, 256)       590080    \n",
      "_________________________________________________________________\n",
      "block3_pool (MaxPooling2D)   (None, 28, 28, 256)       0         \n",
      "_________________________________________________________________\n",
      "block4_conv1 (Conv2D)        (None, 28, 28, 512)       1180160   \n",
      "_________________________________________________________________\n",
      "block4_conv2 (Conv2D)        (None, 28, 28, 512)       2359808   \n",
      "_________________________________________________________________\n",
      "block4_conv3 (Conv2D)        (None, 28, 28, 512)       2359808   \n",
      "_________________________________________________________________\n",
      "block4_pool (MaxPooling2D)   (None, 14, 14, 512)       0         \n",
      "_________________________________________________________________\n",
      "block5_conv1 (Conv2D)        (None, 14, 14, 512)       2359808   \n",
      "_________________________________________________________________\n",
      "block5_conv2 (Conv2D)        (None, 14, 14, 512)       2359808   \n",
      "_________________________________________________________________\n",
      "block5_conv3 (Conv2D)        (None, 14, 14, 512)       2359808   \n",
      "_________________________________________________________________\n",
      "block5_pool (MaxPooling2D)   (None, 7, 7, 512)         0         \n",
      "_________________________________________________________________\n",
      "flatten_1 (Flatten)          (None, 25088)             0         \n",
      "_________________________________________________________________\n",
      "dense_1 (Dense)              (None, 4096)              102764544 \n",
      "_________________________________________________________________\n",
      "dense_2 (Dense)              (None, 2048)              8390656   \n",
      "_________________________________________________________________\n",
      "dense_3 (Dense)              (None, 1024)              2098176   \n",
      "_________________________________________________________________\n",
      "dense_o (Dense)              (None, 10)                10250     \n",
      "=================================================================\n",
      "Total params: 127,978,314\n",
      "Trainable params: 127,978,314\n",
      "Non-trainable params: 0\n",
      "_________________________________________________________________\n",
      "0:input_2-False\n",
      "1:block1_conv1-True\n",
      "2:block1_conv2-True\n",
      "3:block1_pool-True\n",
      "4:block2_conv1-True\n",
      "5:block2_conv2-True\n",
      "6:block2_pool-True\n",
      "7:block3_conv1-True\n",
      "8:block3_conv2-True\n",
      "9:block3_conv3-True\n",
      "10:block3_pool-True\n",
      "11:block4_conv1-True\n",
      "12:block4_conv2-True\n",
      "13:block4_conv3-True\n",
      "14:block4_pool-True\n",
      "15:block5_conv1-True\n",
      "16:block5_conv2-True\n",
      "17:block5_conv3-True\n",
      "18:block5_pool-True\n",
      "19:flatten_1-True\n",
      "20:dense_1-True\n",
      "21:dense_2-True\n",
      "22:dense_3-True\n",
      "23:dense_o-True\n"
     ]
    },
    {
     "name": "stderr",
     "output_type": "stream",
     "text": [
      "/usr/local/lib/python3.5/dist-packages/ipykernel_launcher.py:17: UserWarning: Update your `Model` call to the Keras 2 API: `Model(inputs=Tensor(\"in..., outputs=Tensor(\"de...)`\n"
     ]
    }
   ],
   "source": [
    "from keras import models,layers,optimizers\n",
    "from keras.applications.vgg16 import VGG16\n",
    "\n",
    "#创建基础模型\n",
    "base_model = VGG16(weights='imagenet', include_top=False,input_shape=input_shape)\n",
    "\n",
    "# 添加 flatten layer\n",
    "x = base_model.output\n",
    "x = layers.Flatten(name='flatten_1')(x)\n",
    "# 添加 Dense layer\n",
    "x = layers.Dense(4096, activation='relu',name='dense_1')(x)\n",
    "x = layers.Dense(2048, activation='relu',name='dense_2')(x)\n",
    "x = layers.Dense(1024, activation='relu',name='dense_3')(x)\n",
    "predictions = layers.Dense(10, activation='softmax',name='dense_o')(x)\n",
    "\n",
    "# 构建训练模型\n",
    "model = models.Model(input=base_model.input, output=predictions)\n",
    "\n",
    "#打印模型\n",
    "model.summary()\n",
    "for i,layer in enumerate(model.layers):\n",
    "    print('%d:%s-%s'%(i,layer.name,layer.trainable))"
   ]
  },
  {
   "cell_type": "markdown",
   "metadata": {},
   "source": [
    "## 模型训练"
   ]
  },
  {
   "cell_type": "code",
   "execution_count": 8,
   "metadata": {},
   "outputs": [
    {
     "name": "stdout",
     "output_type": "stream",
     "text": [
      "load check point:%s /home/hjw/work/data/labs_out/lab_imagenet-subset-vgg16/cp_file.h5\n",
      "Epoch 1/200\n",
      "  8/407 [..............................] - ETA: 7:49 - loss: 14.6070 - acc: 0.0938"
     ]
    },
    {
     "ename": "KeyboardInterrupt",
     "evalue": "",
     "output_type": "error",
     "traceback": [
      "\u001b[0;31m---------------------------------------------------------------------------\u001b[0m",
      "\u001b[0;31mKeyboardInterrupt\u001b[0m                         Traceback (most recent call last)",
      "\u001b[0;32m<ipython-input-8-aa85f8ef1c60>\u001b[0m in \u001b[0;36m<module>\u001b[0;34m\u001b[0m\n\u001b[1;32m     31\u001b[0m   \u001b[0mvalidation_data\u001b[0m\u001b[0;34m=\u001b[0m\u001b[0mdata_valid\u001b[0m\u001b[0;34m,\u001b[0m\u001b[0;34m\u001b[0m\u001b[0m\n\u001b[1;32m     32\u001b[0m   \u001b[0mvalidation_steps\u001b[0m\u001b[0;34m=\u001b[0m\u001b[0;36m50\u001b[0m\u001b[0;34m,\u001b[0m\u001b[0;34m\u001b[0m\u001b[0m\n\u001b[0;32m---> 33\u001b[0;31m   callbacks=callbacks_list)\n\u001b[0m\u001b[1;32m     34\u001b[0m \u001b[0;34m\u001b[0m\u001b[0m\n\u001b[1;32m     35\u001b[0m \u001b[0;31m#保存模型\u001b[0m\u001b[0;34m\u001b[0m\u001b[0;34m\u001b[0m\u001b[0m\n",
      "\u001b[0;32m/usr/local/lib/python3.5/dist-packages/keras/legacy/interfaces.py\u001b[0m in \u001b[0;36mwrapper\u001b[0;34m(*args, **kwargs)\u001b[0m\n\u001b[1;32m     89\u001b[0m                 warnings.warn('Update your `' + object_name + '` call to the ' +\n\u001b[1;32m     90\u001b[0m                               'Keras 2 API: ' + signature, stacklevel=2)\n\u001b[0;32m---> 91\u001b[0;31m             \u001b[0;32mreturn\u001b[0m \u001b[0mfunc\u001b[0m\u001b[0;34m(\u001b[0m\u001b[0;34m*\u001b[0m\u001b[0margs\u001b[0m\u001b[0;34m,\u001b[0m \u001b[0;34m**\u001b[0m\u001b[0mkwargs\u001b[0m\u001b[0;34m)\u001b[0m\u001b[0;34m\u001b[0m\u001b[0m\n\u001b[0m\u001b[1;32m     92\u001b[0m         \u001b[0mwrapper\u001b[0m\u001b[0;34m.\u001b[0m\u001b[0m_original_function\u001b[0m \u001b[0;34m=\u001b[0m \u001b[0mfunc\u001b[0m\u001b[0;34m\u001b[0m\u001b[0m\n\u001b[1;32m     93\u001b[0m         \u001b[0;32mreturn\u001b[0m \u001b[0mwrapper\u001b[0m\u001b[0;34m\u001b[0m\u001b[0m\n",
      "\u001b[0;32m/usr/local/lib/python3.5/dist-packages/keras/engine/training.py\u001b[0m in \u001b[0;36mfit_generator\u001b[0;34m(self, generator, steps_per_epoch, epochs, verbose, callbacks, validation_data, validation_steps, class_weight, max_queue_size, workers, use_multiprocessing, shuffle, initial_epoch)\u001b[0m\n\u001b[1;32m   1416\u001b[0m             \u001b[0muse_multiprocessing\u001b[0m\u001b[0;34m=\u001b[0m\u001b[0muse_multiprocessing\u001b[0m\u001b[0;34m,\u001b[0m\u001b[0;34m\u001b[0m\u001b[0m\n\u001b[1;32m   1417\u001b[0m             \u001b[0mshuffle\u001b[0m\u001b[0;34m=\u001b[0m\u001b[0mshuffle\u001b[0m\u001b[0;34m,\u001b[0m\u001b[0;34m\u001b[0m\u001b[0m\n\u001b[0;32m-> 1418\u001b[0;31m             initial_epoch=initial_epoch)\n\u001b[0m\u001b[1;32m   1419\u001b[0m \u001b[0;34m\u001b[0m\u001b[0m\n\u001b[1;32m   1420\u001b[0m     \u001b[0;34m@\u001b[0m\u001b[0minterfaces\u001b[0m\u001b[0;34m.\u001b[0m\u001b[0mlegacy_generator_methods_support\u001b[0m\u001b[0;34m\u001b[0m\u001b[0m\n",
      "\u001b[0;32m/usr/local/lib/python3.5/dist-packages/keras/engine/training_generator.py\u001b[0m in \u001b[0;36mfit_generator\u001b[0;34m(model, generator, steps_per_epoch, epochs, verbose, callbacks, validation_data, validation_steps, class_weight, max_queue_size, workers, use_multiprocessing, shuffle, initial_epoch)\u001b[0m\n\u001b[1;32m    179\u001b[0m             \u001b[0mbatch_index\u001b[0m \u001b[0;34m=\u001b[0m \u001b[0;36m0\u001b[0m\u001b[0;34m\u001b[0m\u001b[0m\n\u001b[1;32m    180\u001b[0m             \u001b[0;32mwhile\u001b[0m \u001b[0msteps_done\u001b[0m \u001b[0;34m<\u001b[0m \u001b[0msteps_per_epoch\u001b[0m\u001b[0;34m:\u001b[0m\u001b[0;34m\u001b[0m\u001b[0m\n\u001b[0;32m--> 181\u001b[0;31m                 \u001b[0mgenerator_output\u001b[0m \u001b[0;34m=\u001b[0m \u001b[0mnext\u001b[0m\u001b[0;34m(\u001b[0m\u001b[0moutput_generator\u001b[0m\u001b[0;34m)\u001b[0m\u001b[0;34m\u001b[0m\u001b[0m\n\u001b[0m\u001b[1;32m    182\u001b[0m \u001b[0;34m\u001b[0m\u001b[0m\n\u001b[1;32m    183\u001b[0m                 \u001b[0;32mif\u001b[0m \u001b[0;32mnot\u001b[0m \u001b[0mhasattr\u001b[0m\u001b[0;34m(\u001b[0m\u001b[0mgenerator_output\u001b[0m\u001b[0;34m,\u001b[0m \u001b[0;34m'__len__'\u001b[0m\u001b[0;34m)\u001b[0m\u001b[0;34m:\u001b[0m\u001b[0;34m\u001b[0m\u001b[0m\n",
      "\u001b[0;32m/usr/local/lib/python3.5/dist-packages/keras/utils/data_utils.py\u001b[0m in \u001b[0;36mget\u001b[0;34m(self)\u001b[0m\n\u001b[1;32m    593\u001b[0m         \u001b[0;32mtry\u001b[0m\u001b[0;34m:\u001b[0m\u001b[0;34m\u001b[0m\u001b[0m\n\u001b[1;32m    594\u001b[0m             \u001b[0;32mwhile\u001b[0m \u001b[0mself\u001b[0m\u001b[0;34m.\u001b[0m\u001b[0mis_running\u001b[0m\u001b[0;34m(\u001b[0m\u001b[0;34m)\u001b[0m\u001b[0;34m:\u001b[0m\u001b[0;34m\u001b[0m\u001b[0m\n\u001b[0;32m--> 595\u001b[0;31m                 \u001b[0minputs\u001b[0m \u001b[0;34m=\u001b[0m \u001b[0mself\u001b[0m\u001b[0;34m.\u001b[0m\u001b[0mqueue\u001b[0m\u001b[0;34m.\u001b[0m\u001b[0mget\u001b[0m\u001b[0;34m(\u001b[0m\u001b[0mblock\u001b[0m\u001b[0;34m=\u001b[0m\u001b[0;32mTrue\u001b[0m\u001b[0;34m)\u001b[0m\u001b[0;34m.\u001b[0m\u001b[0mget\u001b[0m\u001b[0;34m(\u001b[0m\u001b[0;34m)\u001b[0m\u001b[0;34m\u001b[0m\u001b[0m\n\u001b[0m\u001b[1;32m    596\u001b[0m                 \u001b[0mself\u001b[0m\u001b[0;34m.\u001b[0m\u001b[0mqueue\u001b[0m\u001b[0;34m.\u001b[0m\u001b[0mtask_done\u001b[0m\u001b[0;34m(\u001b[0m\u001b[0;34m)\u001b[0m\u001b[0;34m\u001b[0m\u001b[0m\n\u001b[1;32m    597\u001b[0m                 \u001b[0;32mif\u001b[0m \u001b[0minputs\u001b[0m \u001b[0;32mis\u001b[0m \u001b[0;32mnot\u001b[0m \u001b[0;32mNone\u001b[0m\u001b[0;34m:\u001b[0m\u001b[0;34m\u001b[0m\u001b[0m\n",
      "\u001b[0;32m/usr/lib/python3.5/multiprocessing/pool.py\u001b[0m in \u001b[0;36mget\u001b[0;34m(self, timeout)\u001b[0m\n\u001b[1;32m    600\u001b[0m \u001b[0;34m\u001b[0m\u001b[0m\n\u001b[1;32m    601\u001b[0m     \u001b[0;32mdef\u001b[0m \u001b[0mget\u001b[0m\u001b[0;34m(\u001b[0m\u001b[0mself\u001b[0m\u001b[0;34m,\u001b[0m \u001b[0mtimeout\u001b[0m\u001b[0;34m=\u001b[0m\u001b[0;32mNone\u001b[0m\u001b[0;34m)\u001b[0m\u001b[0;34m:\u001b[0m\u001b[0;34m\u001b[0m\u001b[0m\n\u001b[0;32m--> 602\u001b[0;31m         \u001b[0mself\u001b[0m\u001b[0;34m.\u001b[0m\u001b[0mwait\u001b[0m\u001b[0;34m(\u001b[0m\u001b[0mtimeout\u001b[0m\u001b[0;34m)\u001b[0m\u001b[0;34m\u001b[0m\u001b[0m\n\u001b[0m\u001b[1;32m    603\u001b[0m         \u001b[0;32mif\u001b[0m \u001b[0;32mnot\u001b[0m \u001b[0mself\u001b[0m\u001b[0;34m.\u001b[0m\u001b[0mready\u001b[0m\u001b[0;34m(\u001b[0m\u001b[0;34m)\u001b[0m\u001b[0;34m:\u001b[0m\u001b[0;34m\u001b[0m\u001b[0m\n\u001b[1;32m    604\u001b[0m             \u001b[0;32mraise\u001b[0m \u001b[0mTimeoutError\u001b[0m\u001b[0;34m\u001b[0m\u001b[0m\n",
      "\u001b[0;32m/usr/lib/python3.5/multiprocessing/pool.py\u001b[0m in \u001b[0;36mwait\u001b[0;34m(self, timeout)\u001b[0m\n\u001b[1;32m    597\u001b[0m \u001b[0;34m\u001b[0m\u001b[0m\n\u001b[1;32m    598\u001b[0m     \u001b[0;32mdef\u001b[0m \u001b[0mwait\u001b[0m\u001b[0;34m(\u001b[0m\u001b[0mself\u001b[0m\u001b[0;34m,\u001b[0m \u001b[0mtimeout\u001b[0m\u001b[0;34m=\u001b[0m\u001b[0;32mNone\u001b[0m\u001b[0;34m)\u001b[0m\u001b[0;34m:\u001b[0m\u001b[0;34m\u001b[0m\u001b[0m\n\u001b[0;32m--> 599\u001b[0;31m         \u001b[0mself\u001b[0m\u001b[0;34m.\u001b[0m\u001b[0m_event\u001b[0m\u001b[0;34m.\u001b[0m\u001b[0mwait\u001b[0m\u001b[0;34m(\u001b[0m\u001b[0mtimeout\u001b[0m\u001b[0;34m)\u001b[0m\u001b[0;34m\u001b[0m\u001b[0m\n\u001b[0m\u001b[1;32m    600\u001b[0m \u001b[0;34m\u001b[0m\u001b[0m\n\u001b[1;32m    601\u001b[0m     \u001b[0;32mdef\u001b[0m \u001b[0mget\u001b[0m\u001b[0;34m(\u001b[0m\u001b[0mself\u001b[0m\u001b[0;34m,\u001b[0m \u001b[0mtimeout\u001b[0m\u001b[0;34m=\u001b[0m\u001b[0;32mNone\u001b[0m\u001b[0;34m)\u001b[0m\u001b[0;34m:\u001b[0m\u001b[0;34m\u001b[0m\u001b[0m\n",
      "\u001b[0;32m/usr/lib/python3.5/threading.py\u001b[0m in \u001b[0;36mwait\u001b[0;34m(self, timeout)\u001b[0m\n\u001b[1;32m    547\u001b[0m             \u001b[0msignaled\u001b[0m \u001b[0;34m=\u001b[0m \u001b[0mself\u001b[0m\u001b[0;34m.\u001b[0m\u001b[0m_flag\u001b[0m\u001b[0;34m\u001b[0m\u001b[0m\n\u001b[1;32m    548\u001b[0m             \u001b[0;32mif\u001b[0m \u001b[0;32mnot\u001b[0m \u001b[0msignaled\u001b[0m\u001b[0;34m:\u001b[0m\u001b[0;34m\u001b[0m\u001b[0m\n\u001b[0;32m--> 549\u001b[0;31m                 \u001b[0msignaled\u001b[0m \u001b[0;34m=\u001b[0m \u001b[0mself\u001b[0m\u001b[0;34m.\u001b[0m\u001b[0m_cond\u001b[0m\u001b[0;34m.\u001b[0m\u001b[0mwait\u001b[0m\u001b[0;34m(\u001b[0m\u001b[0mtimeout\u001b[0m\u001b[0;34m)\u001b[0m\u001b[0;34m\u001b[0m\u001b[0m\n\u001b[0m\u001b[1;32m    550\u001b[0m             \u001b[0;32mreturn\u001b[0m \u001b[0msignaled\u001b[0m\u001b[0;34m\u001b[0m\u001b[0m\n\u001b[1;32m    551\u001b[0m \u001b[0;34m\u001b[0m\u001b[0m\n",
      "\u001b[0;32m/usr/lib/python3.5/threading.py\u001b[0m in \u001b[0;36mwait\u001b[0;34m(self, timeout)\u001b[0m\n\u001b[1;32m    291\u001b[0m         \u001b[0;32mtry\u001b[0m\u001b[0;34m:\u001b[0m    \u001b[0;31m# restore state no matter what (e.g., KeyboardInterrupt)\u001b[0m\u001b[0;34m\u001b[0m\u001b[0m\n\u001b[1;32m    292\u001b[0m             \u001b[0;32mif\u001b[0m \u001b[0mtimeout\u001b[0m \u001b[0;32mis\u001b[0m \u001b[0;32mNone\u001b[0m\u001b[0;34m:\u001b[0m\u001b[0;34m\u001b[0m\u001b[0m\n\u001b[0;32m--> 293\u001b[0;31m                 \u001b[0mwaiter\u001b[0m\u001b[0;34m.\u001b[0m\u001b[0macquire\u001b[0m\u001b[0;34m(\u001b[0m\u001b[0;34m)\u001b[0m\u001b[0;34m\u001b[0m\u001b[0m\n\u001b[0m\u001b[1;32m    294\u001b[0m                 \u001b[0mgotit\u001b[0m \u001b[0;34m=\u001b[0m \u001b[0;32mTrue\u001b[0m\u001b[0;34m\u001b[0m\u001b[0m\n\u001b[1;32m    295\u001b[0m             \u001b[0;32melse\u001b[0m\u001b[0;34m:\u001b[0m\u001b[0;34m\u001b[0m\u001b[0m\n",
      "\u001b[0;31mKeyboardInterrupt\u001b[0m: "
     ]
    }
   ],
   "source": [
    "#断点训练:monitor监控参数可以通过score = model.evaluate(x_test, y_test, verbose=0)的score查询\n",
    "checkpoint_cb = keras.callbacks.ModelCheckpoint(cp_file, monitor='val_acc', verbose=1, save_best_only=True, mode='auto',period=1)\n",
    "#EarlyStopping\n",
    "earlyStopping_cb=keras.callbacks.EarlyStopping(monitor='acc', patience=100, verbose=0, mode='max')\n",
    "#TensorBoard\n",
    "tensorBoard_cb=keras.callbacks.TensorBoard(log_dir=log_path)\n",
    "#回调函数序列\n",
    "callbacks_list = [checkpoint_cb,earlyStopping_cb,tensorBoard_cb]\n",
    "\n",
    "# 解冻基础模型\n",
    "for layer in base_model.layers:\n",
    "    layer.trainable = True\n",
    "    \n",
    "#断点加载\n",
    "if os.path.exists(cp_file):\n",
    "    print('load check point:%s',cp_file)\n",
    "    model.load_weights(cp_file,by_name=True)\n",
    "    \n",
    "# 冻结基础模型\n",
    "#for layer in base_model.layers:\n",
    "#    layer.trainable = False\n",
    "\n",
    "# 编译模型\n",
    "model.compile(optimizer='rmsprop', loss='categorical_crossentropy',metrics=['acc'])\n",
    "   \n",
    "# 训练少量数据，以适应新数据集\n",
    "history = model.fit_generator(\n",
    "  data_train,\n",
    "  steps_per_epoch=np.ceil(data_train.samples/batch_size),\n",
    "  epochs=200,\n",
    "  validation_data=data_valid,\n",
    "  validation_steps=50,\n",
    "  callbacks=callbacks_list)\n",
    "\n",
    "#保存模型\n",
    "print('savel model:',model_file)\n",
    "model.save(model_file)"
   ]
  },
  {
   "cell_type": "code",
   "execution_count": 6,
   "metadata": {},
   "outputs": [
    {
     "name": "stdout",
     "output_type": "stream",
     "text": [
      "Epoch 1/3\n",
      "407/407 [==============================] - 121s 296ms/step - loss: 14.5055 - val_loss: 14.5001\n",
      "Epoch 2/3\n"
     ]
    },
    {
     "name": "stderr",
     "output_type": "stream",
     "text": [
      "/usr/local/lib/python3.5/dist-packages/keras/callbacks.py:569: RuntimeWarning: Early stopping conditioned on metric `acc` which is not available. Available metrics are: loss,val_loss\n",
      "  (self.monitor, ','.join(list(logs.keys()))), RuntimeWarning\n"
     ]
    },
    {
     "name": "stdout",
     "output_type": "stream",
     "text": [
      "407/407 [==============================] - 119s 293ms/step - loss: 14.5018 - val_loss: 14.4898\n",
      "Epoch 3/3\n"
     ]
    },
    {
     "name": "stderr",
     "output_type": "stream",
     "text": [
      "/usr/local/lib/python3.5/dist-packages/keras/callbacks.py:434: RuntimeWarning: Can save best model only with val_acc available, skipping.\n",
      "  'skipping.' % (self.monitor), RuntimeWarning)\n"
     ]
    },
    {
     "name": "stdout",
     "output_type": "stream",
     "text": [
      "407/407 [==============================] - 119s 293ms/step - loss: 14.5092 - val_loss: 14.5207\n",
      "history: {'loss': [14.506285656855656, 14.506285662137545, 14.506285646878757], 'val_loss': [14.500102199252, 14.489796584829346, 14.520713586636516]}\n"
     ]
    }
   ],
   "source": [
    "if False:\n",
    "    # 重新设置可训练的层\n",
    "    train_start=0\n",
    "    for layer in model.layers[:train_start]:\n",
    "       layer.trainable = False\n",
    "    for layer in model.layers[train_start:]:\n",
    "       layer.trainable = True\n",
    "\n",
    "    #重新编译模型，并且调低学习率\n",
    "    from keras.optimizers import SGD\n",
    "    model.compile(optimizer=SGD(lr=0.0001, momentum=0.9), loss='categorical_crossentropy',metrics=['acc'])\n",
    "\n",
    "    #断点加载\n",
    "    if os.path.exists(cp_file):\n",
    "        model.load_weights(cp_file,by_name=True)\n",
    "\n",
    "    #模型训练\n",
    "    history = model.fit_generator(\n",
    "      data_train,\n",
    "      steps_per_epoch=np.ceil(data_train.samples/batch_size),\n",
    "      epochs=epochs,\n",
    "      validation_data=data_valid,\n",
    "      validation_steps=50,\n",
    "      callbacks=callbacks_list)\n",
    "    print('history:',history.history)\n",
    "\n",
    "    #保存模型\n",
    "    model.save(model_file)"
   ]
  },
  {
   "cell_type": "markdown",
   "metadata": {},
   "source": [
    "## 模型测试"
   ]
  },
  {
   "cell_type": "code",
   "execution_count": 8,
   "metadata": {},
   "outputs": [
    {
     "name": "stdout",
     "output_type": "stream",
     "text": [
      "predicting beginning ......\n",
      "31/31 [==============================] - 26s 845ms/step\n",
      "samples: 969\n",
      "classes[:2]:\n",
      "[0 0]\n",
      "y_pred.shape: (969, 10)\n",
      "y_pred[:2]:\n",
      "[[0. 0. 0. 0. 0. 0. 1. 0. 0. 0.]\n",
      " [0. 0. 0. 0. 0. 0. 1. 0. 0. 0.]]\n",
      "准确率: 0.10526315789473684\n"
     ]
    }
   ],
   "source": [
    "from mylibs.predicts_to_symlink import predicts_to_symlink\n",
    "#计算精度\n",
    "def compute_acc(y_pred,y_true):\n",
    "    acc=(y_pred-y_true)==0\n",
    "    return acc.sum()/acc.size\n",
    "\n",
    "#加载模型\n",
    "model.load_weights(model_file)\n",
    "\n",
    "#模型测试\n",
    "print('predicting beginning ......')\n",
    "#type(y_pred)=> <class 'numpy.ndarray'>\n",
    "y_pred=model.predict_generator(\n",
    "    data_test, \n",
    "    steps=None, #预测轮数\n",
    "    max_queue_size=32, \n",
    "    workers=1, \n",
    "    use_multiprocessing=False, \n",
    "    verbose=1)\n",
    "\n",
    "#输出软链接目录\n",
    "predicts_to_symlink(y_pred,'%s/test'%data_path,preds_path,data_test)\n",
    "\n",
    "#准确率计算\n",
    "acc=compute_acc(np.argmax(y_pred,axis=1),data_test.classes)\n",
    "print('samples:',data_test.samples)\n",
    "print('classes[:2]:')\n",
    "print(data_test.classes[:2])\n",
    "print('y_pred.shape:',y_pred.shape)\n",
    "print('y_pred[:2]:')\n",
    "print(y_pred[:2])\n",
    "print('准确率:',acc)"
   ]
  },
  {
   "cell_type": "code",
   "execution_count": null,
   "metadata": {},
   "outputs": [],
   "source": []
  }
 ],
 "metadata": {
  "kernelspec": {
   "display_name": "Python 3",
   "language": "python",
   "name": "python3"
  },
  "language_info": {
   "codemirror_mode": {
    "name": "ipython",
    "version": 3
   },
   "file_extension": ".py",
   "mimetype": "text/x-python",
   "name": "python",
   "nbconvert_exporter": "python",
   "pygments_lexer": "ipython3",
   "version": "3.5.2"
  }
 },
 "nbformat": 4,
 "nbformat_minor": 2
}
