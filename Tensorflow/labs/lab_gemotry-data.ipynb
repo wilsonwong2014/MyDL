{
 "cells": [
  {
   "cell_type": "markdown",
   "metadata": {},
   "source": [
    "# 构造几何训练样本\n",
    "* 图像大小:224x224\n",
    "* 单类样本大小:3000,train-1000,valid-1000,test-1000\n",
    "* 样本类别：直线，多边形，圆，椭圆"
   ]
  },
  {
   "cell_type": "code",
   "execution_count": 1,
   "metadata": {},
   "outputs": [],
   "source": [
    "import os\n",
    "import shutil\n",
    "import numpy as np\n",
    "import cv2\n",
    "import matplotlib.pyplot as plt\n",
    "from mylibs.data.gen_gemotry import *\n",
    "#输出目录\n",
    "to_path='%s/work/data/gemotry'%os.getenv('HOME')\n",
    "#删除原来目录\n",
    "if os.path.exists(to_path):\n",
    "    shutil.rmtree(to_path)\n",
    "if os.path.exists(to_path):\n",
    "    print('%s already exists! please del first!'%(to_path))\n",
    "else:\n",
    "    #图像大小\n",
    "    imgsize=(224,224,3)\n",
    "    #是否填充\n",
    "    fill=False\n",
    "    #样本大小\n",
    "    samples={'train':2000,'valid':1000,'test':1000}\n",
    "    #构造样本\n",
    "    for k,v in samples.items():\n",
    "        #构造直线样本\n",
    "        tmp_path='%s/%s/line'%(to_path,k)\n",
    "        os.makedirs(tmp_path) if not os.path.exists(tmp_path) else ''\n",
    "        for i in range(v):\n",
    "            sfile='%s/%d.jpg'%(tmp_path,i)\n",
    "            img=gen_line(imgsize)\n",
    "            cv2.imwrite(sfile,img)\n",
    "        #构造圆形样本\n",
    "        tmp_path='%s/%s/circle'%(to_path,k)\n",
    "        os.makedirs(tmp_path) if not os.path.exists(tmp_path) else ''\n",
    "        for i in range(v):\n",
    "            sfile='%s/%d.jpg'%(tmp_path,i)\n",
    "            img=gen_circle(imgsize)\n",
    "            cv2.imwrite(sfile,img)    \n",
    "        #构造椭圆样本\n",
    "        tmp_path='%s/%s/ellipse'%(to_path,k)\n",
    "        os.makedirs(tmp_path) if not os.path.exists(tmp_path) else ''\n",
    "        for i in range(v):\n",
    "            sfile='%s/%d.jpg'%(tmp_path,i)\n",
    "            img=gen_ellipse(imgsize)\n",
    "            cv2.imwrite(sfile,img)            \n",
    "        #构造多边形样本\n",
    "        for n in range(3,10):\n",
    "            tmp_path='%s/%s/poly%d'%(to_path,k,n)\n",
    "            os.makedirs(tmp_path) if not os.path.exists(tmp_path) else ''\n",
    "            for i in range(v):\n",
    "                sfile='%s/%d.jpg'%(tmp_path,i)\n",
    "                img=gen_poly(imgsize,n)\n",
    "                cv2.imwrite(sfile,img)            \n"
   ]
  },
  {
   "cell_type": "code",
   "execution_count": null,
   "metadata": {},
   "outputs": [],
   "source": []
  }
 ],
 "metadata": {
  "kernelspec": {
   "display_name": "Python 3",
   "language": "python",
   "name": "python3"
  },
  "language_info": {
   "codemirror_mode": {
    "name": "ipython",
    "version": 3
   },
   "file_extension": ".py",
   "mimetype": "text/x-python",
   "name": "python",
   "nbconvert_exporter": "python",
   "pygments_lexer": "ipython3",
   "version": "3.5.2"
  }
 },
 "nbformat": 4,
 "nbformat_minor": 2
}
