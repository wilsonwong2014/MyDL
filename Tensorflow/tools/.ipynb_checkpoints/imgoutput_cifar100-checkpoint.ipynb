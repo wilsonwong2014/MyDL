{
 "cells": [
  {
   "cell_type": "markdown",
   "metadata": {},
   "source": [
    "# CIFAR100 小图片分类数据库\n",
    "解析load_data()的图像数据并转换为独立jpg文件输出"
   ]
  },
  {
   "cell_type": "code",
   "execution_count": 24,
   "metadata": {},
   "outputs": [],
   "source": [
    "import os\n",
    "import cv2\n",
    "from keras.datasets import cifar100\n"
   ]
  },
  {
   "cell_type": "code",
   "execution_count": 25,
   "metadata": {},
   "outputs": [],
   "source": [
    "#说明文件\n",
    "def write_readme(to_path):\n",
    "    with open('%s/ReadMe.txt'%(to_path),'w') as f:\n",
    "        f.write('CIFAR100数据集输出\\n')\n",
    "        f.write('  数据源由以下程序生成:\\n')\n",
    "        f.write('  from keras.datasets import cifar100\\n')\n",
    "        f.write('  (X_train,y_train),(X_test,y_test)=cifar100.load_data()')\n",
    "        f.write('执行脚本: ~/MyDL/Tensorflow/tools/imgoutput_cifar100.ipynb')\n",
    "        \n",
    "#输出图像集\n",
    "def img_out(to_path,x,y):\n",
    "    for i in range(y.shape[0]):\n",
    "        sub_path='%s/%d'%(to_path,y[i])\n",
    "        if not os.path.exists(sub_path):\n",
    "            os.makedirs(sub_path)\n",
    "        sfile='%s/%d.jpg'%(sub_path,i)\n",
    "        cv2.imwrite(sfile,x[i])        "
   ]
  },
  {
   "cell_type": "code",
   "execution_count": 26,
   "metadata": {},
   "outputs": [
    {
     "name": "stdout",
     "output_type": "stream",
     "text": [
      "(50000, 32, 32, 3)\n",
      "(50000, 1)\n"
     ]
    }
   ],
   "source": [
    "#输出目录\n",
    "to_path='%s/data/datasets/cifar100'%(os.getenv('HOME'))\n",
    "if not os.path.exists(to_path):\n",
    "    os.makedirs(to_path)\n",
    "    \n",
    "#数据加载\n",
    "(X_train, y_train), (X_test, y_test) = cifar100.load_data()\n",
    "print(X_train.shape)\n",
    "print(y_train.shape)\n",
    "\n",
    "#说明文件\n",
    "write_readme(to_path)"
   ]
  },
  {
   "cell_type": "code",
   "execution_count": 27,
   "metadata": {},
   "outputs": [],
   "source": [
    "#训练数据集        \n",
    "img_out('%s/train'%(to_path),X_train,y_train)\n",
    "#测试数据集\n",
    "img_out('%s/test'%(to_path),X_test,y_test)"
   ]
  },
  {
   "cell_type": "code",
   "execution_count": null,
   "metadata": {},
   "outputs": [],
   "source": []
  }
 ],
 "metadata": {
  "kernelspec": {
   "display_name": "Python 3",
   "language": "python",
   "name": "python3"
  },
  "language_info": {
   "codemirror_mode": {
    "name": "ipython",
    "version": 3
   },
   "file_extension": ".py",
   "mimetype": "text/x-python",
   "name": "python",
   "nbconvert_exporter": "python",
   "pygments_lexer": "ipython3",
   "version": "3.5.2"
  }
 },
 "nbformat": 4,
 "nbformat_minor": 2
}
